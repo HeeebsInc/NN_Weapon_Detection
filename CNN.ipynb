{
 "cells": [
  {
   "cell_type": "markdown",
   "metadata": {},
   "source": [
    "## CNN "
   ]
  },
  {
   "cell_type": "code",
   "execution_count": 1,
   "metadata": {},
   "outputs": [
    {
     "name": "stderr",
     "output_type": "stream",
     "text": [
      "Using plaidml.keras.backend backend.\n"
     ]
    }
   ],
   "source": [
    "import numpy as np \n",
    "np.random.seed(10)\n",
    "from keras.models import Sequential\n",
    "from keras.layers import Dense, Dropout, Flatten \n",
    "from keras.layers import Conv2D, MaxPooling2D, BatchNormalization, AveragePooling2D\n",
    "from keras.optimizers import Adam\n",
    "from keras import regularizers\n",
    "from sklearn.preprocessing import LabelEncoder, OneHotEncoder\n",
    "import pandas as pd \n",
    "import matplotlib.pyplot as plt\n",
    "from sklearn.model_selection import train_test_split\n",
    "import os\n",
    "import pickle\n",
    "from sklearn.metrics import confusion_matrix, accuracy_score, recall_score, precision_score, f1_score\n",
    "import Functions as func\n",
    "import var\n",
    "import Viz\n"
   ]
  },
  {
   "cell_type": "code",
   "execution_count": 2,
   "metadata": {},
   "outputs": [],
   "source": [
    "### best is model weights 2"
   ]
  },
  {
   "cell_type": "code",
   "execution_count": 3,
   "metadata": {},
   "outputs": [],
   "source": [
    "def get_conv_model_normal(dim):\n",
    "    inp_shape = dim\n",
    "    act = 'relu'\n",
    "    drop = .25\n",
    "    kernal_reg = regularizers.l1(.001)\n",
    "    dil_rate = 2\n",
    "    optimizer = Adam(lr = .001)\n",
    "    \n",
    "    model = Sequential() \n",
    "    \n",
    "    model.add(Conv2D(64, kernel_size=(3,3),activation=act, input_shape = inp_shape, \n",
    "                     kernel_regularizer = kernal_reg,\n",
    "                     kernel_initializer = 'he_uniform',  padding = 'same', name = 'Input_Layer'))\n",
    "#     model.add(Dense(64, activation = 'relu'))\n",
    "    model.add(MaxPooling2D(pool_size=(2, 2),  strides = (3,3)))\n",
    "    \n",
    "    \n",
    "    model.add(Conv2D(64, (3, 3), activation=act, kernel_regularizer = kernal_reg, \n",
    "                     kernel_initializer = 'he_uniform',padding = 'same'))\n",
    "#     model.add(Dense(64, activation = 'relu'))\n",
    "    model.add(MaxPooling2D(pool_size=(2, 2), strides = (3,3)))\n",
    "    \n",
    "\n",
    "    \n",
    "    model.add(Conv2D(128, (3, 3), activation=act, kernel_regularizer = kernal_reg, \n",
    "                     kernel_initializer = 'he_uniform',padding = 'same'))\n",
    "    model.add(Conv2D(128, (3, 3), activation=act, kernel_regularizer = kernal_reg, \n",
    "                     kernel_initializer = 'he_uniform',padding = 'same'))\n",
    "    model.add(MaxPooling2D(pool_size=(2, 2), strides = (3,3)))\n",
    "\n",
    "    \n",
    "    model.add(Flatten())\n",
    "\n",
    "    \n",
    "    model.add(Dense(128, activation='relu'))\n",
    "    model.add(Dense(64, activation='relu'))\n",
    "    model.add(Dense(32, activation='relu'))\n",
    "\n",
    "    model.add(Dropout(drop))\n",
    "\n",
    "    model.add(Dense(3, activation='softmax', name = 'Output_Layer'))\n",
    "    \n",
    "    model.compile(loss = 'categorical_crossentropy', optimizer = optimizer, metrics = ['accuracy'])\n",
    "    return model \n"
   ]
  },
  {
   "cell_type": "code",
   "execution_count": 4,
   "metadata": {},
   "outputs": [],
   "source": [
    "x_train, x_test, y_train, y_test = func.get_samples('normal', edge = False)\n"
   ]
  },
  {
   "cell_type": "code",
   "execution_count": 5,
   "metadata": {},
   "outputs": [
    {
     "name": "stdout",
     "output_type": "stream",
     "text": [
      "(6512, 150, 150, 3) (724, 150, 150, 3)\n",
      "(6512, 3) (724, 3)\n"
     ]
    }
   ],
   "source": [
    "print(x_train.shape, x_test.shape)\n",
    "print(y_train.shape, y_test.shape)"
   ]
  },
  {
   "cell_type": "code",
   "execution_count": 6,
   "metadata": {},
   "outputs": [
    {
     "name": "stderr",
     "output_type": "stream",
     "text": [
      "INFO:plaidml:Opening device \"opencl_amd_ellesmere.0\"\n"
     ]
    },
    {
     "name": "stdout",
     "output_type": "stream",
     "text": [
      "Epoch 1/100\n",
      "204/204 [==============================] - 58s 286ms/step - loss: 4.0782 - acc: 0.6365 - val_loss: 1.6571 - val_acc: 0.7238\n",
      "\n",
      "Epoch 00001: val_loss improved from inf to 1.65714, saving model to ../models/CNNOriginal-ModelCheckpointWeights.h5\n",
      "Epoch 2/100\n",
      "204/204 [==============================] - 34s 164ms/step - loss: 1.4183 - acc: 0.7174 - val_loss: 1.1911 - val_acc: 0.7362\n",
      "\n",
      "Epoch 00002: val_loss improved from 1.65714 to 1.19110, saving model to ../models/CNNOriginal-ModelCheckpointWeights.h5\n",
      "Epoch 3/100\n",
      "204/204 [==============================] - 34s 164ms/step - loss: 1.1697 - acc: 0.7200 - val_loss: 1.0422 - val_acc: 0.7445\n",
      "\n",
      "Epoch 00003: val_loss improved from 1.19110 to 1.04216, saving model to ../models/CNNOriginal-ModelCheckpointWeights.h5\n",
      "Epoch 4/100\n",
      "204/204 [==============================] - 34s 166ms/step - loss: 1.0615 - acc: 0.7249 - val_loss: 0.9789 - val_acc: 0.7555\n",
      "\n",
      "Epoch 00004: val_loss improved from 1.04216 to 0.97890, saving model to ../models/CNNOriginal-ModelCheckpointWeights.h5\n",
      "Epoch 5/100\n",
      "204/204 [==============================] - 34s 164ms/step - loss: 0.9803 - acc: 0.7388 - val_loss: 0.9501 - val_acc: 0.7169\n",
      "\n",
      "Epoch 00005: val_loss improved from 0.97890 to 0.95010, saving model to ../models/CNNOriginal-ModelCheckpointWeights.h5\n",
      "Epoch 6/100\n",
      "204/204 [==============================] - 34s 165ms/step - loss: 0.9287 - acc: 0.7373 - val_loss: 0.8834 - val_acc: 0.7431\n",
      "\n",
      "Epoch 00006: val_loss improved from 0.95010 to 0.88335, saving model to ../models/CNNOriginal-ModelCheckpointWeights.h5\n",
      "Epoch 7/100\n",
      "204/204 [==============================] - 34s 164ms/step - loss: 0.8947 - acc: 0.7419 - val_loss: 0.8696 - val_acc: 0.7403\n",
      "\n",
      "Epoch 00007: val_loss improved from 0.88335 to 0.86957, saving model to ../models/CNNOriginal-ModelCheckpointWeights.h5\n",
      "Epoch 8/100\n",
      "204/204 [==============================] - 34s 165ms/step - loss: 0.8708 - acc: 0.7408 - val_loss: 0.9023 - val_acc: 0.6727\n",
      "\n",
      "Epoch 00008: val_loss did not improve from 0.86957\n",
      "Epoch 9/100\n",
      "204/204 [==============================] - 34s 165ms/step - loss: 0.8536 - acc: 0.7393 - val_loss: 0.8269 - val_acc: 0.7293\n",
      "\n",
      "Epoch 00009: val_loss improved from 0.86957 to 0.82687, saving model to ../models/CNNOriginal-ModelCheckpointWeights.h5\n",
      "Epoch 10/100\n",
      "204/204 [==============================] - 34s 165ms/step - loss: 0.8382 - acc: 0.7364 - val_loss: 0.7986 - val_acc: 0.7666\n",
      "\n",
      "Epoch 00010: val_loss improved from 0.82687 to 0.79856, saving model to ../models/CNNOriginal-ModelCheckpointWeights.h5\n",
      "Epoch 11/100\n",
      "204/204 [==============================] - 34s 165ms/step - loss: 0.8143 - acc: 0.7443 - val_loss: 0.8031 - val_acc: 0.7472\n",
      "\n",
      "Epoch 00011: val_loss did not improve from 0.79856\n",
      "Epoch 12/100\n",
      "204/204 [==============================] - 34s 165ms/step - loss: 0.8016 - acc: 0.7485 - val_loss: 0.7634 - val_acc: 0.7610\n",
      "\n",
      "Epoch 00012: val_loss improved from 0.79856 to 0.76337, saving model to ../models/CNNOriginal-ModelCheckpointWeights.h5\n",
      "Epoch 13/100\n",
      "204/204 [==============================] - 34s 165ms/step - loss: 0.7807 - acc: 0.7546 - val_loss: 0.7545 - val_acc: 0.7472\n",
      "\n",
      "Epoch 00013: val_loss improved from 0.76337 to 0.75451, saving model to ../models/CNNOriginal-ModelCheckpointWeights.h5\n",
      "Epoch 14/100\n",
      "204/204 [==============================] - 34s 165ms/step - loss: 0.7656 - acc: 0.7512 - val_loss: 0.7381 - val_acc: 0.7431\n",
      "\n",
      "Epoch 00014: val_loss improved from 0.75451 to 0.73809, saving model to ../models/CNNOriginal-ModelCheckpointWeights.h5\n",
      "Epoch 15/100\n",
      "204/204 [==============================] - 34s 167ms/step - loss: 0.7574 - acc: 0.7517 - val_loss: 0.7631 - val_acc: 0.7072\n",
      "\n",
      "Epoch 00015: val_loss did not improve from 0.73809\n",
      "Epoch 16/100\n",
      "204/204 [==============================] - 34s 165ms/step - loss: 0.7531 - acc: 0.7515 - val_loss: 0.7293 - val_acc: 0.7569\n",
      "\n",
      "Epoch 00016: val_loss improved from 0.73809 to 0.72925, saving model to ../models/CNNOriginal-ModelCheckpointWeights.h5\n",
      "Epoch 17/100\n",
      "204/204 [==============================] - 34s 164ms/step - loss: 0.7367 - acc: 0.7630 - val_loss: 0.7274 - val_acc: 0.7307\n",
      "\n",
      "Epoch 00017: val_loss improved from 0.72925 to 0.72742, saving model to ../models/CNNOriginal-ModelCheckpointWeights.h5\n",
      "Epoch 18/100\n",
      "204/204 [==============================] - 34s 165ms/step - loss: 0.7350 - acc: 0.7572 - val_loss: 0.6991 - val_acc: 0.7597\n",
      "\n",
      "Epoch 00018: val_loss improved from 0.72742 to 0.69913, saving model to ../models/CNNOriginal-ModelCheckpointWeights.h5\n",
      "Epoch 19/100\n",
      "204/204 [==============================] - 34s 165ms/step - loss: 0.7219 - acc: 0.7566 - val_loss: 0.7052 - val_acc: 0.7431\n",
      "\n",
      "Epoch 00019: val_loss did not improve from 0.69913\n",
      "Epoch 20/100\n",
      "204/204 [==============================] - 34s 165ms/step - loss: 0.7192 - acc: 0.7503 - val_loss: 0.6566 - val_acc: 0.7804\n",
      "\n",
      "Epoch 00020: val_loss improved from 0.69913 to 0.65660, saving model to ../models/CNNOriginal-ModelCheckpointWeights.h5\n",
      "Epoch 21/100\n",
      "204/204 [==============================] - 34s 165ms/step - loss: 0.7027 - acc: 0.7595 - val_loss: 0.6487 - val_acc: 0.7583\n",
      "\n",
      "Epoch 00021: val_loss improved from 0.65660 to 0.64868, saving model to ../models/CNNOriginal-ModelCheckpointWeights.h5\n",
      "Epoch 22/100\n",
      "204/204 [==============================] - 34s 165ms/step - loss: 0.7009 - acc: 0.7601 - val_loss: 0.6363 - val_acc: 0.7845\n",
      "\n",
      "Epoch 00022: val_loss improved from 0.64868 to 0.63634, saving model to ../models/CNNOriginal-ModelCheckpointWeights.h5\n",
      "Epoch 23/100\n",
      "204/204 [==============================] - 34s 165ms/step - loss: 0.6934 - acc: 0.7603 - val_loss: 0.6314 - val_acc: 0.7721\n",
      "\n",
      "Epoch 00023: val_loss improved from 0.63634 to 0.63141, saving model to ../models/CNNOriginal-ModelCheckpointWeights.h5\n",
      "Epoch 24/100\n",
      "204/204 [==============================] - 34s 165ms/step - loss: 0.6847 - acc: 0.7584 - val_loss: 0.6476 - val_acc: 0.7804\n",
      "\n",
      "Epoch 00024: val_loss did not improve from 0.63141\n",
      "Epoch 25/100\n",
      "204/204 [==============================] - 34s 165ms/step - loss: 0.6853 - acc: 0.7578 - val_loss: 0.6989 - val_acc: 0.7224\n",
      "\n",
      "Epoch 00025: val_loss did not improve from 0.63141\n",
      "Epoch 26/100\n",
      "204/204 [==============================] - 34s 164ms/step - loss: 0.6727 - acc: 0.7645 - val_loss: 0.6252 - val_acc: 0.7845\n",
      "\n",
      "Epoch 00026: val_loss improved from 0.63141 to 0.62520, saving model to ../models/CNNOriginal-ModelCheckpointWeights.h5\n",
      "Epoch 27/100\n",
      "204/204 [==============================] - 34s 164ms/step - loss: 0.6710 - acc: 0.7604 - val_loss: 0.6424 - val_acc: 0.7693\n",
      "\n",
      "Epoch 00027: val_loss did not improve from 0.62520\n",
      "Epoch 28/100\n",
      "204/204 [==============================] - 34s 164ms/step - loss: 0.6697 - acc: 0.7592 - val_loss: 0.6039 - val_acc: 0.7873\n",
      "\n",
      "Epoch 00028: val_loss improved from 0.62520 to 0.60388, saving model to ../models/CNNOriginal-ModelCheckpointWeights.h5\n",
      "Epoch 29/100\n",
      "204/204 [==============================] - 34s 167ms/step - loss: 0.6567 - acc: 0.7623 - val_loss: 0.5971 - val_acc: 0.7721\n",
      "\n",
      "Epoch 00029: val_loss improved from 0.60388 to 0.59706, saving model to ../models/CNNOriginal-ModelCheckpointWeights.h5\n",
      "Epoch 30/100\n",
      "204/204 [==============================] - 34s 166ms/step - loss: 0.6514 - acc: 0.7658 - val_loss: 0.5987 - val_acc: 0.7638\n",
      "\n",
      "Epoch 00030: val_loss did not improve from 0.59706\n",
      "Epoch 31/100\n",
      "204/204 [==============================] - 34s 166ms/step - loss: 0.6562 - acc: 0.7644 - val_loss: 0.6081 - val_acc: 0.7624\n",
      "\n",
      "Epoch 00031: val_loss did not improve from 0.59706\n",
      "Epoch 32/100\n",
      "204/204 [==============================] - 34s 166ms/step - loss: 0.6490 - acc: 0.7656 - val_loss: 0.5971 - val_acc: 0.7776\n",
      "\n",
      "Epoch 00032: val_loss improved from 0.59706 to 0.59706, saving model to ../models/CNNOriginal-ModelCheckpointWeights.h5\n",
      "Epoch 33/100\n",
      "204/204 [==============================] - 34s 165ms/step - loss: 0.6008 - acc: 0.7698 - val_loss: 0.5732 - val_acc: 0.7666\n",
      "\n",
      "Epoch 00033: val_loss improved from 0.59706 to 0.57319, saving model to ../models/CNNOriginal-ModelCheckpointWeights.h5\n",
      "Epoch 34/100\n",
      "204/204 [==============================] - 34s 165ms/step - loss: 0.5943 - acc: 0.7799 - val_loss: 0.5626 - val_acc: 0.7721\n",
      "\n",
      "Epoch 00034: val_loss improved from 0.57319 to 0.56260, saving model to ../models/CNNOriginal-ModelCheckpointWeights.h5\n",
      "Epoch 35/100\n"
     ]
    },
    {
     "name": "stdout",
     "output_type": "stream",
     "text": [
      "204/204 [==============================] - 33s 164ms/step - loss: 0.5947 - acc: 0.7768 - val_loss: 0.5953 - val_acc: 0.7459\n",
      "\n",
      "Epoch 00035: val_loss did not improve from 0.56260\n",
      "Epoch 36/100\n",
      "204/204 [==============================] - 33s 164ms/step - loss: 0.5936 - acc: 0.7785 - val_loss: 0.5752 - val_acc: 0.7707\n",
      "\n",
      "Epoch 00036: val_loss did not improve from 0.56260\n",
      "Epoch 37/100\n",
      "204/204 [==============================] - 33s 163ms/step - loss: 0.5890 - acc: 0.7765 - val_loss: 0.5513 - val_acc: 0.7735\n",
      "\n",
      "Epoch 00037: val_loss improved from 0.56260 to 0.55133, saving model to ../models/CNNOriginal-ModelCheckpointWeights.h5\n",
      "Epoch 38/100\n",
      "204/204 [==============================] - 33s 164ms/step - loss: 0.5910 - acc: 0.7794 - val_loss: 0.5730 - val_acc: 0.7610\n",
      "\n",
      "Epoch 00038: val_loss did not improve from 0.55133\n",
      "Epoch 39/100\n",
      "204/204 [==============================] - 34s 165ms/step - loss: 0.5923 - acc: 0.7754 - val_loss: 0.5526 - val_acc: 0.7680\n",
      "\n",
      "Epoch 00039: val_loss did not improve from 0.55133\n",
      "Epoch 40/100\n",
      "204/204 [==============================] - 34s 165ms/step - loss: 0.5953 - acc: 0.7777 - val_loss: 0.5541 - val_acc: 0.7721\n",
      "\n",
      "Epoch 00040: val_loss did not improve from 0.55133\n",
      "Epoch 41/100\n",
      "204/204 [==============================] - 34s 166ms/step - loss: 0.5826 - acc: 0.7753 - val_loss: 0.5545 - val_acc: 0.7652\n",
      "\n",
      "Epoch 00041: val_loss did not improve from 0.55133\n",
      "Epoch 42/100\n",
      "204/204 [==============================] - 33s 164ms/step - loss: 0.5812 - acc: 0.7767 - val_loss: 0.5539 - val_acc: 0.7666\n",
      "\n",
      "Epoch 00042: val_loss did not improve from 0.55133\n",
      "Epoch 43/100\n",
      "204/204 [==============================] - 34s 165ms/step - loss: 0.5853 - acc: 0.7779 - val_loss: 0.5568 - val_acc: 0.7610\n",
      "\n",
      "Epoch 00043: val_loss did not improve from 0.55133\n",
      "Epoch 44/100\n",
      "204/204 [==============================] - 34s 166ms/step - loss: 0.5842 - acc: 0.7730 - val_loss: 0.5556 - val_acc: 0.7624\n",
      "\n",
      "Epoch 00044: val_loss did not improve from 0.55133\n",
      "Epoch 45/100\n",
      "204/204 [==============================] - 33s 164ms/step - loss: 0.5838 - acc: 0.7757 - val_loss: 0.5554 - val_acc: 0.7638\n",
      "\n",
      "Epoch 00045: val_loss did not improve from 0.55133\n",
      "Epoch 46/100\n",
      "204/204 [==============================] - 34s 165ms/step - loss: 0.5819 - acc: 0.7797 - val_loss: 0.5548 - val_acc: 0.7652\n",
      "\n",
      "Epoch 00046: val_loss did not improve from 0.55133\n",
      "Epoch 47/100\n",
      "204/204 [==============================] - 34s 164ms/step - loss: 0.5826 - acc: 0.7757 - val_loss: 0.5547 - val_acc: 0.7652\n",
      "\n",
      "Epoch 00047: val_loss did not improve from 0.55133\n",
      "Epoch 48/100\n",
      "204/204 [==============================] - 33s 164ms/step - loss: 0.5843 - acc: 0.7779 - val_loss: 0.5547 - val_acc: 0.7652\n",
      "\n",
      "Epoch 00048: val_loss did not improve from 0.55133\n",
      "Epoch 49/100\n",
      "204/204 [==============================] - 34s 165ms/step - loss: 0.5848 - acc: 0.7736 - val_loss: 0.5547 - val_acc: 0.7652\n",
      "\n",
      "Epoch 00049: val_loss did not improve from 0.55133\n",
      "Epoch 50/100\n",
      "204/204 [==============================] - 34s 165ms/step - loss: 0.5805 - acc: 0.7834 - val_loss: 0.5547 - val_acc: 0.7652\n",
      "\n",
      "Epoch 00050: val_loss did not improve from 0.55133\n",
      "Epoch 51/100\n",
      "204/204 [==============================] - 34s 165ms/step - loss: 0.5864 - acc: 0.7786 - val_loss: 0.5547 - val_acc: 0.7652\n",
      "\n",
      "Epoch 00051: val_loss did not improve from 0.55133\n",
      "Epoch 52/100\n",
      "204/204 [==============================] - 34s 166ms/step - loss: 0.5869 - acc: 0.7800 - val_loss: 0.5547 - val_acc: 0.7652\n",
      "\n",
      "Epoch 00052: val_loss did not improve from 0.55133\n",
      "Epoch 53/100\n",
      "204/204 [==============================] - 34s 166ms/step - loss: 0.5865 - acc: 0.7817 - val_loss: 0.5547 - val_acc: 0.7652\n",
      "\n",
      "Epoch 00053: val_loss did not improve from 0.55133\n",
      "Epoch 54/100\n",
      "204/204 [==============================] - 34s 165ms/step - loss: 0.5830 - acc: 0.7803 - val_loss: 0.5547 - val_acc: 0.7652\n",
      "\n",
      "Epoch 00054: val_loss did not improve from 0.55133\n",
      "Epoch 55/100\n",
      "204/204 [==============================] - 34s 165ms/step - loss: 0.5838 - acc: 0.7753 - val_loss: 0.5547 - val_acc: 0.7652\n",
      "\n",
      "Epoch 00055: val_loss did not improve from 0.55133\n",
      "Epoch 56/100\n",
      "204/204 [==============================] - 34s 166ms/step - loss: 0.5835 - acc: 0.7780 - val_loss: 0.5547 - val_acc: 0.7652\n",
      "\n",
      "Epoch 00056: val_loss did not improve from 0.55133\n",
      "Epoch 57/100\n",
      "204/204 [==============================] - 34s 165ms/step - loss: 0.5883 - acc: 0.7751 - val_loss: 0.5547 - val_acc: 0.7652\n",
      "\n",
      "Epoch 00057: val_loss did not improve from 0.55133\n",
      "Epoch 00057: early stopping\n"
     ]
    }
   ],
   "source": [
    "from keras.callbacks import ModelCheckpoint, EarlyStopping, ReduceLROnPlateau\n",
    "from keras.preprocessing.image import ImageDataGenerator\n",
    "\n",
    "\n",
    "augment = True \n",
    "\n",
    "\n",
    "early_stopping = EarlyStopping(monitor='val_loss', verbose = 1, patience=10, min_delta = .00075)\n",
    "model_checkpoint = ModelCheckpoint('../models/CNNOriginal-ModelCheckpointWeights.h5', verbose = 1, save_best_only=True,\n",
    "                                  monitor = 'val_loss')\n",
    "lr_plat = ReduceLROnPlateau(patience = 3, mode = 'min')\n",
    "epochs = 100\n",
    "batch_size = 32\n",
    "if var.img_type == 'grey': \n",
    "    dim = (x_train.shape[1], x_train.shape[2], 1)\n",
    "else: \n",
    "    dim = (x_train.shape[1], x_train.shape[2], 3)\n",
    "    \n",
    "normal_model = get_conv_model_normal(dim =dim)\n",
    "\n",
    "if augment: \n",
    "    augmentation =ImageDataGenerator(rotation_range = 20, width_shift_range = .2, height_shift_range = .2, \n",
    "                                                           horizontal_flip = True, shear_range = .15, \n",
    "                                     fill_mode = 'nearest', zoom_range = .15)\n",
    "    augmentation.fit(x_train)\n",
    "    normal_history = normal_model.fit_generator(augmentation.flow(x_train, y_train, batch_size = batch_size),\n",
    "                epochs = epochs, \n",
    "         callbacks = [early_stopping, model_checkpoint, lr_plat], validation_data = (x_test, y_test), verbose= 1)\n",
    "else: \n",
    "    \n",
    "    normal_history = normal_model.fit(x_train, y_train, batch_size = batch_size,\n",
    "                epochs = epochs, \n",
    "         callbacks = [early_stopping, model_checkpoint, lr_plat], validation_data = (x_test, y_test), verbose= 1)\n"
   ]
  },
  {
   "cell_type": "code",
   "execution_count": 7,
   "metadata": {
    "scrolled": true
   },
   "outputs": [
    {
     "name": "stdout",
     "output_type": "stream",
     "text": [
      "_________________________________________________________________\n",
      "Layer (type)                 Output Shape              Param #   \n",
      "=================================================================\n",
      "Input_Layer (Conv2D)         (None, 150, 150, 64)      1792      \n",
      "_________________________________________________________________\n",
      "max_pooling2d_1 (MaxPooling2 (None, 50, 50, 64)        0         \n",
      "_________________________________________________________________\n",
      "conv2d_1 (Conv2D)            (None, 50, 50, 64)        36928     \n",
      "_________________________________________________________________\n",
      "max_pooling2d_2 (MaxPooling2 (None, 17, 17, 64)        0         \n",
      "_________________________________________________________________\n",
      "conv2d_2 (Conv2D)            (None, 17, 17, 128)       73856     \n",
      "_________________________________________________________________\n",
      "conv2d_3 (Conv2D)            (None, 17, 17, 128)       147584    \n",
      "_________________________________________________________________\n",
      "max_pooling2d_3 (MaxPooling2 (None, 6, 6, 128)         0         \n",
      "_________________________________________________________________\n",
      "flatten_1 (Flatten)          (None, 4608)              0         \n",
      "_________________________________________________________________\n",
      "dense_1 (Dense)              (None, 128)               589952    \n",
      "_________________________________________________________________\n",
      "dense_2 (Dense)              (None, 64)                8256      \n",
      "_________________________________________________________________\n",
      "dense_3 (Dense)              (None, 32)                2080      \n",
      "_________________________________________________________________\n",
      "dropout_1 (Dropout)          (None, 32)                0         \n",
      "_________________________________________________________________\n",
      "Output_Layer (Dense)         (None, 3)                 99        \n",
      "=================================================================\n",
      "Total params: 860,547\n",
      "Trainable params: 860,547\n",
      "Non-trainable params: 0\n",
      "_________________________________________________________________\n",
      "None\n"
     ]
    }
   ],
   "source": [
    "print(normal_model.summary())"
   ]
  },
  {
   "cell_type": "markdown",
   "metadata": {},
   "source": [
    "### Loss & Accuracy"
   ]
  },
  {
   "cell_type": "code",
   "execution_count": 8,
   "metadata": {},
   "outputs": [
    {
     "data": {
      "image/png": "[encoded data removed]",
      "text/plain": [
       "<Figure size 1080x360 with 2 Axes>"
      ]
     },
     "metadata": {
      "needs_background": "light"
     },
     "output_type": "display_data"
    }
   ],
   "source": [
    "Viz.plot_loss_accuracy(normal_history)"
   ]
  },
  {
   "cell_type": "markdown",
   "metadata": {},
   "source": [
    "### AUC and ROC Curves"
   ]
  },
  {
   "cell_type": "code",
   "execution_count": 9,
   "metadata": {},
   "outputs": [
    {
     "data": {
      "image/png": "[encoded data removed]",
      "text/plain": [
       "<Figure size 936x576 with 1 Axes>"
      ]
     },
     "metadata": {
      "needs_background": "light"
     },
     "output_type": "display_data"
    },
    {
     "name": "stdout",
     "output_type": "stream",
     "text": [
      "F1 Scores Test\n",
      "~~~~~~~~~~~~~~~~~~~~~~\n",
      "No Weapon: 0.9010600706713779\n",
      "HandGun: 0.7378640776699029\n",
      "Rifle: 0.5833333333333334\n"
     ]
    }
   ],
   "source": [
    "if var.img_type == 'grey': \n",
    "    dim = (var.norm_dimension[0], var.norm_dimension[1], 1)\n",
    "else: \n",
    "    dim = (var.norm_dimension[0], var.norm_dimension[1], 3)\n",
    "    \n",
    "normal_model = get_conv_model_normal(dim)\n",
    "normal_model.load_weights('../models/CNNOriginal-ModelCheckpointWeights.h5') #load the best weights before overfitting\n",
    " \n",
    "\n",
    "\n",
    "    \n",
    "Viz.plot_roc_auc(normal_model, x_test, y_test)"
   ]
  },
  {
   "cell_type": "markdown",
   "metadata": {},
   "source": [
    "### Confusion Matrix"
   ]
  },
  {
   "cell_type": "code",
   "execution_count": 10,
   "metadata": {},
   "outputs": [
    {
     "data": {
      "image/png": "[encoded data removed]",
      "text/plain": [
       "<Figure size 720x576 with 2 Axes>"
      ]
     },
     "metadata": {
      "needs_background": "light"
     },
     "output_type": "display_data"
    }
   ],
   "source": [
    "if var.img_type == 'grey': \n",
    "    dim = (var.norm_dimension[0], var.norm_dimension[1], 1)\n",
    "else: \n",
    "    dim = (var.norm_dimension[0], var.norm_dimension[1], 3)\n",
    "        \n",
    "normal_model = get_conv_model_normal(dim)\n",
    "normal_model.load_weights('../models/CNNOriginal-ModelCheckpointWeights.h5') #load the best weights before overfitting\n",
    "\n",
    "\n",
    "\n",
    "\n",
    "\n",
    "y_test_prob = [np.argmax(i) for i in normal_model.predict(x_test)]\n",
    "y_test_labels = [np.argmax(\n",
    "    i) for i in y_test]\n",
    "test_cnf = confusion_matrix(y_test_labels, y_test_prob)\n",
    "\n",
    "y_train_prob = [np.argmax(i) for i in normal_model.predict(x_train)]\n",
    "y_train_labels = [np.argmax(i) for i in y_train]\n",
    "train_cnf = confusion_matrix(y_train_labels, y_train_prob)\n",
    "\n",
    "Viz.plot_model_cm(test_cnf, train_cnf, classes = ['No Weapon', 'Handgun', 'Rifle'])\n"
   ]
  },
  {
   "cell_type": "code",
   "execution_count": null,
   "metadata": {},
   "outputs": [],
   "source": [
    "assert False"
   ]
  },
  {
   "cell_type": "markdown",
   "metadata": {},
   "source": [
    "#### Test on Google Data\n"
   ]
  },
  {
   "cell_type": "code",
   "execution_count": 11,
   "metadata": {},
   "outputs": [],
   "source": [
    "import cv2\n",
    "from lime import lime_image\n",
    "from skimage.segmentation import mark_boundaries"
   ]
  },
  {
   "cell_type": "code",
   "execution_count": 13,
   "metadata": {},
   "outputs": [
    {
     "name": "stdout",
     "output_type": "stream",
     "text": [
      "AR.jpg\t\t2\t\t0.7018832564353943\t\t[0.00571655 0.2924001  0.70188326]\n",
      "NonGun.jpeg\t\t2\t\t0.7189356088638306\t\t[0.00707595 0.27398843 0.7189356 ]\n",
      "NonGun2.jpg\t\t1\t\t0.5378767848014832\t\t[0.04762768 0.5378768  0.41449556]\n",
      "Pistol.jpg\t\t1\t\t0.9378839135169983\t\t[5.6344306e-05 9.3788391e-01 6.2059749e-02]\n",
      "Pistol2.jpg\t\t2\t\t0.9628041982650757\t\t[6.6259131e-06 3.7189104e-02 9.6280420e-01]\n",
      "Pistol3.jpg\t\t1\t\t0.607141375541687\t\t[0.00332554 0.6071414  0.389533  ]\n",
      "Pistol4.jpg\t\t1\t\t0.6039082407951355\t\t[0.01144452 0.60390824 0.38464728]\n",
      "Pistol4.png\t\t2\t\t0.5639929175376892\t\t[0.03841764 0.39758942 0.5639929 ]\n"
     ]
    }
   ],
   "source": [
    "base_path = '../Tests/Photos'\n",
    "\n",
    "if var.img_type == 'grey': \n",
    "    dim = (var.norm_dimension[0], var.norm_dimension[1], 1)\n",
    "else: \n",
    "    dim = (var.norm_dimension[0], var.norm_dimension[1], 3)\n",
    "normal_model = get_conv_model_normal(dim)\n",
    "normal_model.load_weights('../models/CNNOriginal-ModelCheckpointWeights.h5')\n",
    "\n",
    "\n",
    "for file in os.listdir(base_path): \n",
    "    if file == '.ipynb_checkpoints':\n",
    "        continue\n",
    "    full_path = f'{base_path}/{file}'\n",
    "    img = func.get_image_value(full_path, var.norm_dimension)    \n",
    "    img = img.reshape(1, img.shape[0], img.shape[1], img.shape[2])\n",
    "    pred = normal_model.predict(img)[0]\n",
    "    print(f'{file}\\t\\t{np.argmax(pred)}\\t\\t{pred.max()}\\t\\t{pred}')"
   ]
  },
  {
   "cell_type": "code",
   "execution_count": 14,
   "metadata": {
    "scrolled": true
   },
   "outputs": [
    {
     "data": {
      "application/vnd.jupyter.widget-view+json": {
       "model_id": "40bd14f10fa94354b3b5454824a5162a",
       "version_major": 2,
       "version_minor": 0
      },
      "text/plain": [
       "HBox(children=(IntProgress(value=0, max=2000), HTML(value='')))"
      ]
     },
     "metadata": {},
     "output_type": "display_data"
    },
    {
     "name": "stdout",
     "output_type": "stream",
     "text": [
      "\n"
     ]
    },
    {
     "data": {
      "text/plain": [
       "<matplotlib.image.AxesImage at 0x23a52c76b88>"
      ]
     },
     "execution_count": 14,
     "metadata": {},
     "output_type": "execute_result"
    },
    {
     "data": {
      "image/png": "[encoded data removed]",
      "text/plain": [
       "<Figure size 432x288 with 1 Axes>"
      ]
     },
     "metadata": {
      "needs_background": "light"
     },
     "output_type": "display_data"
    }
   ],
   "source": [
    "#model 3\n",
    "\n",
    "img = func.get_image_value('../Tests/Photos/AR.jpg', var.norm_dimension, var.img_type)\n",
    "\n",
    "explainer = lime_image.LimeImageExplainer()\n",
    "\n",
    "explanation = explainer.explain_instance(img, normal_model.predict, top_labels = 5, hide_color = 0, \n",
    "                                         num_samples = 2000)\n",
    "\n",
    "temp, mask = explanation.get_image_and_mask(explanation.top_labels[0], positive_only = False,\n",
    "                                           num_features = 10, hide_rest = False)\n",
    "plt.imshow(mark_boundaries(temp/2 + .5, mask))"
   ]
  },
  {
   "cell_type": "code",
   "execution_count": 19,
   "metadata": {},
   "outputs": [
    {
     "name": "stdout",
     "output_type": "stream",
     "text": [
      "../Tests/Photos/Pistol4.jpg\t\t1||Handgun\t\t0.6039082407951355\t\t[0.01144452 0.60390824 0.38464728]\n"
     ]
    }
   ],
   "source": [
    "img = func.get_img_prediction_bounding_box('../Tests/Photos/Pistol4.jpg', normal_model, var.norm_dimension)"
   ]
  },
  {
   "cell_type": "code",
   "execution_count": null,
   "metadata": {},
   "outputs": [],
   "source": []
  },
  {
   "cell_type": "code",
   "execution_count": null,
   "metadata": {},
   "outputs": [],
   "source": []
  },
  {
   "cell_type": "code",
   "execution_count": null,
   "metadata": {},
   "outputs": [],
   "source": []
  },
  {
   "cell_type": "code",
   "execution_count": null,
   "metadata": {},
   "outputs": [],
   "source": [
    "def get_img_prediction_bounding_box(path, model, dim):\n",
    "    np.random.seed(10)\n",
    "    img = func.get_image_value(path, dim, var.img_type)\n",
    "    img = img.reshape(1, img.shape[0], img.shape[1], img.shape[2])\n",
    "    pred = model.predict(img)[0]\n",
    "    \n",
    "    category_dict = {0: 'No Weapon', 1: 'Handgun', 2: 'Rifle'}\n",
    "    cat_index = np.argmax(pred)\n",
    "    cat = category_dict[cat_index]\n",
    "    \n",
    "    print(f'{path}\\t\\t{cat_index}||{cat}\\t\\t{pred.max()}\\t\\t{pred}')\n",
    "    \n",
    "    \n",
    "    img = cv2.imread(path)\n",
    "    ss = cv2.ximgproc.segmentation.createSelectiveSearchSegmentation()\n",
    "    ss.setBaseImage(img)\n",
    "    ss.switchToSelectiveSearchFast()\n",
    "#     ss.switchToSelectiveSearchQuality()\n",
    "\n",
    "    rects = ss.process() \n",
    "\n",
    "    windows = []\n",
    "    locations = []\n",
    "    for x, y, w,h in rects[:2000]: \n",
    "        startx = x \n",
    "        starty = y \n",
    "        endx = x+w \n",
    "        endy = y+h \n",
    "        roi = img[starty:endy, startx:endx]\n",
    "        roi = cv2.resize(roi, dsize =dim, interpolation = cv2.INTER_CUBIC)\n",
    "        windows.append(roi)\n",
    "        locations.append((startx, starty, endx, endy))\n",
    "\n",
    "    windows = np.array(windows)\n",
    "\n",
    "    predictions = model.predict(windows)\n",
    "    clone = img.copy()\n",
    "    clone2 = img.copy()\n",
    "    cat_predictions = predictions[:,cat_index]\n",
    "    pred_max_idx = np.argmax(cat_predictions)\n",
    "    pred_max = cat_predictions[pred_max_idx]\n",
    "    \n",
    "    pred_max_window = locations[pred_max_idx]\n",
    "    startx, starty, endx, endy = pred_max_window\n",
    "    cv2.rectangle(clone, (startx, starty), (endx, endy),  (0,0,255),2)\n",
    "\n",
    "    text = f'{cat}'\n",
    "    cv2.putText(clone, text, (startx, starty), cv2.FONT_HERSHEY_SIMPLEX, .45, (0,0,255),2)\n",
    "   \n",
    "\n",
    "    cv2.imshow(f'{cat}', np.hstack([clone, clone2]))\n",
    "    cv2.waitKey(0)\n",
    "    ss.clear()\n",
    "    return clone"
   ]
  },
  {
   "cell_type": "code",
   "execution_count": null,
   "metadata": {},
   "outputs": [],
   "source": [
    "if var.img_type == 'grey': \n",
    "    dim = (var.norm_dimension[0], var.norm_dimension[1], 1)\n",
    "else: \n",
    "    dim = (var.norm_dimension[0], var.norm_dimension[1], 3)\n",
    "normal_model = get_conv_model_normal(dim)\n",
    "normal_model.load_weights('../models/CNN-ModelCheckpointWeights1.h5')\n",
    "\n",
    "pred2 = get_img_prediction_bounding_box('../Tests/Photos/AR.jpg', normal_model, var.norm_dimension)"
   ]
  },
  {
   "cell_type": "code",
   "execution_count": null,
   "metadata": {},
   "outputs": [],
   "source": []
  },
  {
   "cell_type": "code",
   "execution_count": null,
   "metadata": {},
   "outputs": [],
   "source": []
  },
  {
   "cell_type": "code",
   "execution_count": null,
   "metadata": {},
   "outputs": [],
   "source": [
    "assert False"
   ]
  },
  {
   "cell_type": "code",
   "execution_count": null,
   "metadata": {},
   "outputs": [],
   "source": [
    "from tqdm import tqdm\n",
    "def get_vid_prediction_bounding_box(path, model, dim): \n",
    "    vid = cv2.VideoCapture(path)\n",
    "    total_frames = int(vid.get(cv2.CAP_PROP_FRAME_COUNT))\n",
    "    pbar = tqdm(total = total_frames, desc = f'Splitting Video Into {total_frames} Frames')\n",
    "    images = [] \n",
    "    sucess =1 \n",
    "    while True: \n",
    "        try:\n",
    "            success, img = vid.read() \n",
    "            img = cv2.resize(img, dim, interpolation = cv2.INTER_CUBIC)\n",
    "            images.append(img)\n",
    "            pbar.update(1)\n",
    "        except: \n",
    "            break\n",
    "        \n",
    "\n",
    "    pbar.close()\n",
    "    print(total_frames)\n",
    "    print(np.array(images).shape)\n",
    "    return np.array(images)\n",
    "   \n",
    "\n",
    "\n",
    "\n",
    "images = get_vid_prediction_bounding_box('../Tests/Videos/Pistol2.mp4', normal_model, var.norm_dimension)\n",
    "predictions = normal_model.predict(images)"
   ]
  },
  {
   "cell_type": "code",
   "execution_count": null,
   "metadata": {},
   "outputs": [],
   "source": [
    "def window_prob_func(pred, img, model, dim):\n",
    "    category_dict = {0: 'No Weapon', 1: 'Handgun', 2: 'Rifle'}\n",
    "    cat_index = np.argmax(pred)\n",
    "    cat = category_dict[cat_index]\n",
    "    \n",
    "    ss = cv2.ximgproc.segmentation.createSelectiveSearchSegmentation()\n",
    "    ss.setBaseImage(img)\n",
    "    ss.switchToSelectiveSearchFast()\n",
    "    rects = ss.process() \n",
    "\n",
    "    windows = []\n",
    "    locations = []\n",
    "    for x, y, w,h in rects: \n",
    "        startx = x \n",
    "        starty = y \n",
    "        endx = x+w \n",
    "        endy = y+h \n",
    "        roi = img[starty:endy, startx:endx]\n",
    "        roi = cv2.resize(roi, dsize =dim, interpolation = cv2.INTER_CUBIC)\n",
    "        windows.append(roi)\n",
    "        locations.append((startx, starty, endx, endy))\n",
    "\n",
    "    windows = np.array(windows)\n",
    "\n",
    "    predictions = model.predict(windows)\n",
    "\n",
    "    clone = img.copy()\n",
    "    cat_predictions = predictions[:,cat_index]\n",
    "    pred_max_idx = np.argmax(cat_predictions)\n",
    "    pred_max = cat_predictions[pred_max_idx]\n",
    "    \n",
    "    pred_max_window = locations[pred_max_idx]\n",
    "    startx, starty, endx, endy = pred_max_window\n",
    "    \n",
    "    \n",
    "    return (cat, pred_max, (startx, starty, endx, endy))\n",
    "\n",
    "pbar = tqdm(list(zip(predictions, images)), desc= 'Getting Base Prediction and Extracting Sliding Window... Sit Back, This Will Take A While')\n",
    "windows_prob = [window_prob_func(pred, img, normal_model, var.norm_dimension) for (pred, img) in pbar]"
   ]
  },
  {
   "cell_type": "code",
   "execution_count": null,
   "metadata": {},
   "outputs": [],
   "source": [
    "import pickle \n",
    "pickle.dump(windows_prob, open('../Pickles/WindowsPropPistol_CNN.p', 'wb'))\n",
    "\n",
    "for i in windows_prob: \n",
    "    if i[0] != 'No Weapon': \n",
    "        print(i)"
   ]
  },
  {
   "cell_type": "code",
   "execution_count": null,
   "metadata": {},
   "outputs": [],
   "source": []
  },
  {
   "cell_type": "code",
   "execution_count": null,
   "metadata": {},
   "outputs": [],
   "source": [
    "vid_dim = (224,224)\n",
    "vid_dim = var.norm_dimension\n",
    "fourcc = cv2.VideoWriter_fourcc(*'XVID')\n",
    "out = cv2.VideoWriter('../Tests/VideoTests/TestCNN.mp4',fourcc, 10, vid_dim)\n",
    "\n",
    "\n",
    "for (cat, (startx, starty, endx, endy)), img in zip(windows_prob, images): \n",
    "    clone = img.copy()\n",
    "    if cat == 'No Weapon':\n",
    "#         clone = cv2.resize(clone, dsize =vid_dim, interpolation = cv2.INTER_CUBIC)      \n",
    "        out.write(clone)\n",
    "    else: \n",
    "        cv2.rectangle(clone, (startx, starty), (endx, endy),  (0,0,255),2)\n",
    "#         clone = cv2.resize(clone, dsize =vid_dim, interpolation = cv2.INTER_CUBIC)     \n",
    "        out.write(clone)\n",
    "out.release()\n",
    "cv2.destroyAllWindows()"
   ]
  },
  {
   "cell_type": "code",
   "execution_count": null,
   "metadata": {},
   "outputs": [],
   "source": [
    "assert False"
   ]
  },
  {
   "cell_type": "code",
   "execution_count": null,
   "metadata": {},
   "outputs": [],
   "source": [
    "if var.img_type == 'grey': \n",
    "    dim = (var.norm_dimension[0], var.norm_dimension[1], 1)\n",
    "else: \n",
    "    dim = (var.norm_dimension[0], var.norm_dimension[1], 3)\n",
    "        \n",
    "normal_model = get_conv_model_normal(dim)\n",
    "normal_model.load_weights('../models/CNN-ModelCheckpointWeights2.h5')\n",
    "\n",
    "img = cv2.imread('../TestImages/AR.jpg')\n",
    "ss = cv2.ximgproc.segmentation.createSelectiveSearchSegmentation()\n",
    "ss.setBaseImage(img)\n",
    "ss.switchToSelectiveSearchFast()\n",
    "rects = ss.process() \n",
    "\n",
    "windows = []\n",
    "locations = []\n",
    "for x, y, w,h in rects: \n",
    "    startx = x \n",
    "    starty = y \n",
    "    endx = x+w \n",
    "    endy = y+h \n",
    "    roi = img[starty:endy, startx:endx]\n",
    "    roi = cv2.resize(roi, dsize =var.norm_dimension, interpolation = cv2.INTER_CUBIC)\n",
    "    windows.append(roi)\n",
    "    locations.append((startx, starty, endx, endy))\n",
    "    \n"
   ]
  },
  {
   "cell_type": "code",
   "execution_count": null,
   "metadata": {},
   "outputs": [],
   "source": [
    "windows = np.array(windows[:2000])\n",
    "\n",
    "predictions = normal_model.predict(windows)"
   ]
  },
  {
   "cell_type": "code",
   "execution_count": null,
   "metadata": {},
   "outputs": [],
   "source": [
    "# for i in predictions:\n",
    "#     print(i)"
   ]
  },
  {
   "cell_type": "code",
   "execution_count": null,
   "metadata": {},
   "outputs": [],
   "source": [
    "clone = img.copy()\n",
    "new_loc = [] \n",
    "new_prob = [] \n",
    "no_gun = predictions[:, 0].sum()\n",
    "handgun = predictions[:,1].sum()\n",
    "rifle = predictions[:,2].sum()\n",
    "sum_array = np.array([no_gun, handgun, rifle])\n",
    "index_unit = np.argmax(sum_array)\n",
    "cat_types = ['No Gun', 'Handgun', 'Rifle']\n",
    "print(index_unit)\n",
    "print(no_gun, handgun, rifle)\n",
    "new_locations = []\n",
    "for idx, i in enumerate(predictions):\n",
    "    category = i[index_unit]\n",
    "    if category > .5:\n",
    "        startx, starty, endx, endy = locations[idx]\n",
    "        new_locations.append([startx, starty, endx, endy])\n",
    "        new_loc.append(locations[idx])\n",
    "        new_prob.append(category)\n",
    "\n",
    "new_locations = np.array(new_locations)\n",
    "\n",
    "startx = int(new_locations[:,0].mean())\n",
    "starty =int( new_locations[:,1].mean())\n",
    "endx = int(new_locations[:,2].mean())\n",
    "endy = int(new_locations[:,3].mean())\n",
    "\n",
    "\n",
    "# startx = int(np.median (new_locations[:,0]))\n",
    "# starty =int( np.median (new_locations[:,1]))\n",
    "# endx = int(np.median (new_locations[:,2]))\n",
    "# endy = int(np.median(new_locations[:,3]))\n",
    "\n",
    "prob_avg = np.array(new_prob).mean()\n",
    "\n",
    "\n",
    "cv2.rectangle(clone, (startx, starty), (endx, endy),  (0,255,0),2)\n",
    "\n",
    "text = f'{cat_types[index_unit]}: {int(prob_avg*100)}'\n",
    "cv2.putText(clone, text, (startx, starty), cv2.FONT_HERSHEY_SIMPLEX, .45, (0,255,0),2)\n",
    "   \n",
    "    \n",
    "cv2.imshow('test', clone)\n",
    "cv2.waitKey(0)"
   ]
  },
  {
   "cell_type": "code",
   "execution_count": null,
   "metadata": {},
   "outputs": [],
   "source": [
    "assert False"
   ]
  },
  {
   "cell_type": "code",
   "execution_count": null,
   "metadata": {},
   "outputs": [],
   "source": []
  }
 ],
 "metadata": {
  "kernelspec": {
   "display_name": "Python 3",
   "language": "python",
   "name": "python3"
  },
  "language_info": {
   "codemirror_mode": {
    "name": "ipython",
    "version": 3
   },
   "file_extension": ".py",
   "mimetype": "text/x-python",
   "name": "python",
   "nbconvert_exporter": "python",
   "pygments_lexer": "ipython3",
   "version": "3.7.4"
  }
 },
 "nbformat": 4,
 "nbformat_minor": 4
}
