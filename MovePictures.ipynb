{
 "cells": [
  {
   "cell_type": "code",
   "execution_count": 2,
   "metadata": {},
   "outputs": [],
   "source": [
    "import os \n",
    "import shutil \n",
    "import hashlib\n",
    "from hashlib import md5\n",
    "from tqdm import tqdm\n",
    "import numpy as np"
   ]
  },
  {
   "cell_type": "code",
   "execution_count": null,
   "metadata": {},
   "outputs": [],
   "source": [
    "folder = '5000_1/StockImages/AR'\n",
    "for i in os.listdir('Images/Assault_Rifle/StockImages'):\n",
    "    try:\n",
    "        shutil.move(f'Images/Assault_Rifle/StockImages/{i}', f'{folder}/{i}')\n",
    "    except: \n",
    "        continue"
   ]
  },
  {
   "cell_type": "code",
   "execution_count": null,
   "metadata": {},
   "outputs": [],
   "source": [
    "folder = '5000_1/StockImages/P'\n",
    "for i in os.listdir('Images/Pistol/StockImages'): \n",
    "    shutil.move(f'Images/Pistol/StockImages/{i}', f'{folder}/{i}')"
   ]
  },
  {
   "cell_type": "code",
   "execution_count": 3,
   "metadata": {},
   "outputs": [
    {
     "name": "stderr",
     "output_type": "stream",
     "text": [
      "Length: 5001:  95%|█████████▍| 4750/5001 [04:50<00:14, 16.88it/s]"
     ]
    }
   ],
   "source": [
    "folder = '5000_1/MovieVideo'\n",
    "pbar = tqdm(total = 5001 - len(os.listdir('5000_1/MovieVideo')))\n",
    "stock_p = len(os.listdir('5000_1/StockImages/P'))\n",
    "stock_ar = len(os.listdir('5000_1/StockImages/AR'))\n",
    "while stock_p + stock_ar + len(os.listdir('5000_1/MovieVideo')) != 5001:\n",
    "    mv = os.listdir('Images/Pistol/MovieVideo')\n",
    "    mv_len = len(mv)\n",
    "    rand_idx = np.random.randint(0, mv_len)\n",
    "    rand_img = mv[rand_idx]\n",
    "    shutil.move(f'Images/Pistol/MovieVideo/{rand_img}', f'{folder}/{rand_img}')\n",
    "    \n",
    "    pbar.update(1)\n",
    "    new_len = stock_p + stock_ar + len(os.listdir('5000_1/MovieVideo'))\n",
    "    pbar.set_description(f'Length: {new_len}')"
   ]
  },
  {
   "cell_type": "code",
   "execution_count": 7,
   "metadata": {},
   "outputs": [
    {
     "name": "stdout",
     "output_type": "stream",
     "text": [
      "3092\n"
     ]
    }
   ],
   "source": [
    "folder = '5000_1/MovieVideo'\n",
    "stock_p = len(os.listdir('5000_1/StockImages/P'))\n",
    "stock_ar = len(os.listdir('5000_1/StockImages/AR'))\n",
    "movie_len = len(os.listdir('5000_1/MovieVideo'))\n",
    "\n",
    "print(stock_p+stock_ar+movie_len)"
   ]
  },
  {
   "cell_type": "code",
   "execution_count": 6,
   "metadata": {},
   "outputs": [],
   "source": [
    "#remove duplicates from stock images for the labeled dataset\n",
    "from collections import defaultdict\n",
    "duplicates = [] \n",
    "hash_keys = defaultdict(int)\n",
    "direct = '5000_1/StockImages/P'\n",
    "for idx, file in enumerate(os.listdir(direct)): \n",
    "    with open(f'{direct}/{file}', 'rb') as f: \n",
    "        filehash = hashlib.md5(f.read()).hexdigest()\n",
    "    if hash_keys[filehash] == 1: \n",
    "        os.remove(f'{direct}/{file}')\n",
    "    else: \n",
    "        hash_keys[filehash] +=1 "
   ]
  },
  {
   "cell_type": "code",
   "execution_count": null,
   "metadata": {},
   "outputs": [],
   "source": []
  },
  {
   "cell_type": "code",
   "execution_count": null,
   "metadata": {},
   "outputs": [],
   "source": []
  },
  {
   "cell_type": "code",
   "execution_count": null,
   "metadata": {},
   "outputs": [],
   "source": []
  },
  {
   "cell_type": "code",
   "execution_count": null,
   "metadata": {},
   "outputs": [],
   "source": []
  },
  {
   "cell_type": "code",
   "execution_count": null,
   "metadata": {},
   "outputs": [],
   "source": [
    "#reset movie video\n",
    "for idx, i in enumerate(os.listdir('5000_1/MovieVideo')): \n",
    "    shutil.move(f'5000_1/MovieVideo/{i}', f'Images/Pistol/MovieVideo/{i}')"
   ]
  },
  {
   "cell_type": "code",
   "execution_count": null,
   "metadata": {},
   "outputs": [],
   "source": []
  },
  {
   "cell_type": "code",
   "execution_count": null,
   "metadata": {},
   "outputs": [],
   "source": [
    "folder = '5000_1/MovieVideo'\n",
    "for idx, i in enumerate(os.listdir('Images/Pistol/MovieVideo')): \n",
    "    shutil.move(f'Images/Pistol/MovieVideo/{i}', f'{folder}/{i}')\n",
    "    if idx == 5001: \n",
    "        break \n",
    "    "
   ]
  },
  {
   "cell_type": "code",
   "execution_count": null,
   "metadata": {},
   "outputs": [],
   "source": [
    "from collections import defaultdict\n",
    "duplicates = [] \n",
    "hash_keys = defaultdict(int)\n",
    "\n",
    "for idx, file in enumerate(os.listdir('test')): \n",
    "    with open(f'test/{file}', 'rb') as f: \n",
    "        filehash = hashlib.md5(f.read()).hexdigest()\n",
    "    if hash_keys[filehash] == 1: \n",
    "        os.remove(f'test/{file}')\n",
    "    else: \n",
    "        hash_keys[filehash] +=1 "
   ]
  },
  {
   "cell_type": "code",
   "execution_count": null,
   "metadata": {},
   "outputs": [],
   "source": [
    "#cleaning duplicates in pistol movie folder \n",
    "\n",
    "hash_keys = defaultdict(int)\n",
    "movie_video_dir = os.listdir('Images/Pistol/MovieVideo')\n",
    "print(len(movie_video_dir))\n",
    "\n",
    "for file in tqdm(movie_video_dir): \n",
    "    with open(f'Images/Pistol/MovieVideo/{file}', 'rb') as f: \n",
    "        filehash = hashlib.md5(f.read()).hexdigest()\n",
    "    if hash_keys[filehash] == 1: \n",
    "        os.remove(f'Images/Pistol/MovieVideo/{file}')\n",
    "    else: \n",
    "        hash_keys[filehash] +=1\n",
    "        \n",
    "movie_video_dir = os.listdir('Images/Pistol/MovieVideo')\n",
    "print(len(movie_video_dir))"
   ]
  },
  {
   "cell_type": "code",
   "execution_count": null,
   "metadata": {},
   "outputs": [],
   "source": [
    "hash_keys = defaultdict(int)\n",
    "movie_video_dir = os.listdir('Images/Pistol/StockImages')\n",
    "print(len(movie_video_dir))\n",
    "\n",
    "for file in tqdm(movie_video_dir): \n",
    "    with open(f'Images/Pistol/StockImages/{file}', 'rb') as f: \n",
    "        filehash = hashlib.md5(f.read()).hexdigest()\n",
    "    if hash_keys[filehash] == 1: \n",
    "        os.remove(f'Images/Pistol/StockImages/{file}')\n",
    "    else: \n",
    "        hash_keys[filehash] +=1\n",
    "        \n",
    "movie_video_dir = os.listdir('Images/Pistol/StockImages')\n",
    "print(len(movie_video_dir))"
   ]
  },
  {
   "cell_type": "code",
   "execution_count": null,
   "metadata": {},
   "outputs": [],
   "source": [
    "hash_keys = defaultdict(int)\n",
    "movie_video_dir = os.listdir('Images/Assault_Rifle/StockImages')\n",
    "print(len(movie_video_dir))\n",
    "\n",
    "for file in tqdm(movie_video_dir): \n",
    "    with open(f'Images/Assault_Rifle/StockImages/{file}', 'rb') as f: \n",
    "        filehash = hashlib.md5(f.read()).hexdigest()\n",
    "    if hash_keys[filehash] == 1: \n",
    "        os.remove(f'Images/Assault_Rifle/StockImages/{file}')\n",
    "    else: \n",
    "        hash_keys[filehash] +=1\n",
    "        \n",
    "movie_video_dir = os.listdir('Images/Assault_Rifle/StockImages')\n",
    "print(len(movie_video_dir))"
   ]
  },
  {
   "cell_type": "code",
   "execution_count": null,
   "metadata": {},
   "outputs": [],
   "source": []
  }
 ],
 "metadata": {
  "kernelspec": {
   "display_name": "Python 3",
   "language": "python",
   "name": "python3"
  },
  "language_info": {
   "codemirror_mode": {
    "name": "ipython",
    "version": 3
   },
   "file_extension": ".py",
   "mimetype": "text/x-python",
   "name": "python",
   "nbconvert_exporter": "python",
   "pygments_lexer": "ipython3",
   "version": "3.7.6"
  }
 },
 "nbformat": 4,
 "nbformat_minor": 4
}
