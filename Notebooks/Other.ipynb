{
 "cells": [
  {
   "cell_type": "code",
   "execution_count": 2,
   "metadata": {},
   "outputs": [],
   "source": [
    "import pandas as pd\n",
    "import matplotlib.pyplot as plt\n",
    "import cv2\n",
    "import numpy as np\n",
    "import os"
   ]
  },
  {
   "cell_type": "code",
   "execution_count": 9,
   "metadata": {},
   "outputs": [],
   "source": [
    "dim = (800,600)\n",
    "\n",
    "img1 = cv2.imread('../Figures/MV2LossAcc_NoEdge_NoAugment.png')\n",
    "img2 = cv2.imread('../Figures/MV2ROC_NoEdge_NoAugment.png')\n",
    "img3 = cv2.imread('../Figures/MV2CM_NoEdge_NoAugment.png')\n",
    "images = [img1, img2, img3]\n",
    "new_images = [cv2.resize(i, dim, interpolation = cv2.INTER_CUBIC) for i in images]\n",
    "cv2.imwrite('../Figures/MV2All_NoEdge_NoAugment.png', np.hstack(new_images))    \n",
    "cv2.imshow('Test', np.hstack(new_images))\n",
    "cv2.waitKey(0)\n",
    "cv2.destroyAllWindows()"
   ]
  },
  {
   "cell_type": "code",
   "execution_count": 12,
   "metadata": {},
   "outputs": [],
   "source": [
    "dim = (400,400)\n",
    "test_folder = '../Figures/ModelComparisons/Normal'\n",
    "images = []\n",
    "for i in os.listdir(test_folder):\n",
    "    if i == 'ipynb_checkpoints': \n",
    "        continue\n",
    "    img_path = f'{test_folder}/{i}'\n",
    "    img = cv2.imread(img_path)\n",
    "    img = cv2.resize(img, dim, interpolation = cv2.INTER_CUBIC)\n",
    "    images.append(img)\n",
    "    \n",
    "cv2.imwrite('../Figures/Normal.png', np.hstack(images))    \n",
    "cv2.imshow('Test', np.hstack(images))\n",
    "cv2.waitKey(0)\n",
    "cv2.destroyAllWindows()"
   ]
  },
  {
   "cell_type": "code",
   "execution_count": 9,
   "metadata": {},
   "outputs": [],
   "source": [
    "dim = (224,224)\n",
    "test_folder = '../Tests/Photos'\n",
    "images = []\n",
    "for i in os.listdir(test_folder):\n",
    "    if i == 'ipynb_checkpoints': \n",
    "        continue\n",
    "    img_path = f'{test_folder}/{i}'\n",
    "    img = cv2.imread(img_path)\n",
    "    img = cv2.resize(img, dim, interpolation = cv2.INTER_CUBIC)\n",
    "    images.append(img)\n",
    "cv2.imshow('Test', np.hstack(images))\n",
    "cv2.waitKey(0)\n",
    "cv2.destroyAllWindows()"
   ]
  },
  {
   "cell_type": "code",
   "execution_count": 6,
   "metadata": {},
   "outputs": [],
   "source": []
  },
  {
   "cell_type": "code",
   "execution_count": 8,
   "metadata": {},
   "outputs": [
    {
     "name": "stdout",
     "output_type": "stream",
     "text": [
      "(150, 150) (150, 150)\n"
     ]
    }
   ],
   "source": [
    "def get_image_value(path, dim, edge = False, img_type = 'normal'): \n",
    "    if edge: \n",
    "        img = cv2.imread(path)\n",
    "        clone = img.copy() \n",
    "        clone = cv2.resize(clone, dim, interpolation = cv2.INTER_CUBIC)\n",
    "        clone = cv2.cvtColor(clone, cv2.COLOR_BGR2GRAY)\n",
    "\n",
    "        blurred = cv2.GaussianBlur(img, (3,3), 0)\n",
    "        wide = cv2.Canny(blurred, 10,200)\n",
    "        tight = cv2.Canny(blurred, 225, 250)\n",
    "        wide = cv2.resize(wide, dim, interpolation = cv2.INTER_CUBIC)\n",
    "        tight = cv2.resize(tight, dim, interpolation = cv2.INTER_CUBIC)\n",
    "        print(clone.shape, wide.shape)\n",
    "        return np.hstack([clone, tight, wide])\n",
    "    else: \n",
    "        img = image.load_img(path, target_size = dim)\n",
    "        img = image.img_to_array(img)\n",
    "        \n",
    "        if img_type =='grey':\n",
    "            img = cv2.cvtColor(img, cv2.COLOR_BGR2GRAY)\n",
    "            img = img.reshape(img.shape[0], img.shape[1], 1)\n",
    "            return img\n",
    "        else: \n",
    "            return img/255\n",
    "\n",
    "test = get_image_value('../Separated/FinalImages/Pistol/7.png', var.norm_dimension, img_type = 'mobilenet', edge = True)\n",
    "cv2.imshow('test', test)\n",
    "cv2.waitKey(0)\n",
    "cv2.destroyAllWindows()"
   ]
  },
  {
   "cell_type": "code",
   "execution_count": 2,
   "metadata": {},
   "outputs": [
    {
     "name": "stdout",
     "output_type": "stream",
     "text": [
      "(96, 96, 3) (96, 96, 3)\n"
     ]
    },
    {
     "ename": "AttributeError",
     "evalue": "module 'cv2.cv2' has no attribute 'destoryAllWindows'",
     "output_type": "error",
     "traceback": [
      "\u001b[1;31m---------------------------------------------------------------------------\u001b[0m",
      "\u001b[1;31mAttributeError\u001b[0m                            Traceback (most recent call last)",
      "\u001b[1;32m<ipython-input-2-4f7eb697ff4b>\u001b[0m in \u001b[0;36m<module>\u001b[1;34m\u001b[0m\n\u001b[0;32m      7\u001b[0m \u001b[0mcv2\u001b[0m\u001b[1;33m.\u001b[0m\u001b[0mimshow\u001b[0m\u001b[1;33m(\u001b[0m\u001b[1;34m'Test'\u001b[0m\u001b[1;33m,\u001b[0m \u001b[0mnp\u001b[0m\u001b[1;33m.\u001b[0m\u001b[0mhstack\u001b[0m\u001b[1;33m(\u001b[0m\u001b[1;33m[\u001b[0m\u001b[0mimg1\u001b[0m\u001b[1;33m,\u001b[0m \u001b[0mimg2\u001b[0m\u001b[1;33m]\u001b[0m\u001b[1;33m)\u001b[0m\u001b[1;33m)\u001b[0m\u001b[1;33m\u001b[0m\u001b[1;33m\u001b[0m\u001b[0m\n\u001b[0;32m      8\u001b[0m \u001b[0mcv2\u001b[0m\u001b[1;33m.\u001b[0m\u001b[0mwaitKey\u001b[0m\u001b[1;33m(\u001b[0m\u001b[1;36m0\u001b[0m\u001b[1;33m)\u001b[0m\u001b[1;33m\u001b[0m\u001b[1;33m\u001b[0m\u001b[0m\n\u001b[1;32m----> 9\u001b[1;33m \u001b[0mcv2\u001b[0m\u001b[1;33m.\u001b[0m\u001b[0mdestoryAllWindows\u001b[0m\u001b[1;33m(\u001b[0m\u001b[1;33m)\u001b[0m\u001b[1;33m\u001b[0m\u001b[1;33m\u001b[0m\u001b[0m\n\u001b[0m",
      "\u001b[1;31mAttributeError\u001b[0m: module 'cv2.cv2' has no attribute 'destoryAllWindows'"
     ]
    }
   ],
   "source": [
    "img1 = cv2.imread('../Separated/Pistol/armas (2933).jpg')\n",
    "img2 =cv2.imread('../Separated/FinalImages/Pistol/7.png') \n",
    "img1 = cv2.resize(img1, (96,96), interpolation = cv2.INTER_CUBIC)\n",
    "#     wide = cv2.resize(wide, dim, interpolation = cv2.INTER_CUBIC)\n",
    "\n",
    "print(img1.shape, img2.shape)\n",
    "cv2.imshow('Test', np.hstack([img1, img2]))\n",
    "cv2.waitKey(0)\n",
    "cv2.destoryAllWindows()"
   ]
  },
  {
   "cell_type": "code",
   "execution_count": 7,
   "metadata": {},
   "outputs": [
    {
     "data": {
      "text/html": [
       "<div>\n",
       "<style scoped>\n",
       "    .dataframe tbody tr th:only-of-type {\n",
       "        vertical-align: middle;\n",
       "    }\n",
       "\n",
       "    .dataframe tbody tr th {\n",
       "        vertical-align: top;\n",
       "    }\n",
       "\n",
       "    .dataframe thead th {\n",
       "        text-align: right;\n",
       "    }\n",
       "</style>\n",
       "<table border=\"1\" class=\"dataframe\">\n",
       "  <thead>\n",
       "    <tr style=\"text-align: right;\">\n",
       "      <th></th>\n",
       "      <th>country</th>\n",
       "      <th>deathRate</th>\n",
       "      <th>pop2020</th>\n",
       "    </tr>\n",
       "  </thead>\n",
       "  <tbody>\n",
       "    <tr>\n",
       "      <th>0</th>\n",
       "      <td>norway</td>\n",
       "      <td>1.888</td>\n",
       "      <td>5421.241</td>\n",
       "    </tr>\n",
       "    <tr>\n",
       "      <th>1</th>\n",
       "      <td>serbia</td>\n",
       "      <td>0.381</td>\n",
       "      <td>8737.371</td>\n",
       "    </tr>\n",
       "    <tr>\n",
       "      <th>2</th>\n",
       "      <td>france</td>\n",
       "      <td>0.347</td>\n",
       "      <td>65273.511</td>\n",
       "    </tr>\n",
       "    <tr>\n",
       "      <th>3</th>\n",
       "      <td>macedonia</td>\n",
       "      <td>0.337</td>\n",
       "      <td>2083.374</td>\n",
       "    </tr>\n",
       "    <tr>\n",
       "      <th>4</th>\n",
       "      <td>albania</td>\n",
       "      <td>0.206</td>\n",
       "      <td>2877.797</td>\n",
       "    </tr>\n",
       "    <tr>\n",
       "      <th>5</th>\n",
       "      <td>slovakia</td>\n",
       "      <td>0.185</td>\n",
       "      <td>5459.642</td>\n",
       "    </tr>\n",
       "    <tr>\n",
       "      <th>6</th>\n",
       "      <td>switzerland</td>\n",
       "      <td>0.142</td>\n",
       "      <td>8654.622</td>\n",
       "    </tr>\n",
       "    <tr>\n",
       "      <th>7</th>\n",
       "      <td>finland</td>\n",
       "      <td>0.132</td>\n",
       "      <td>5540.720</td>\n",
       "    </tr>\n",
       "    <tr>\n",
       "      <th>8</th>\n",
       "      <td>belgium</td>\n",
       "      <td>0.128</td>\n",
       "      <td>11589.623</td>\n",
       "    </tr>\n",
       "    <tr>\n",
       "      <th>9</th>\n",
       "      <td>czech republic</td>\n",
       "      <td>0.123</td>\n",
       "      <td>10708.981</td>\n",
       "    </tr>\n",
       "    <tr>\n",
       "      <th>10</th>\n",
       "      <td>united states</td>\n",
       "      <td>0.089</td>\n",
       "      <td>331002.651</td>\n",
       "    </tr>\n",
       "    <tr>\n",
       "      <th>11</th>\n",
       "      <td>austria</td>\n",
       "      <td>0.068</td>\n",
       "      <td>9006.398</td>\n",
       "    </tr>\n",
       "    <tr>\n",
       "      <th>12</th>\n",
       "      <td>netherlands</td>\n",
       "      <td>0.051</td>\n",
       "      <td>17134.872</td>\n",
       "    </tr>\n",
       "    <tr>\n",
       "      <th>13</th>\n",
       "      <td>canada</td>\n",
       "      <td>0.032</td>\n",
       "      <td>37742.154</td>\n",
       "    </tr>\n",
       "    <tr>\n",
       "      <th>14</th>\n",
       "      <td>United Kingdom</td>\n",
       "      <td>0.027</td>\n",
       "      <td>67886.011</td>\n",
       "    </tr>\n",
       "    <tr>\n",
       "      <th>15</th>\n",
       "      <td>germany</td>\n",
       "      <td>0.023</td>\n",
       "      <td>83783.942</td>\n",
       "    </tr>\n",
       "    <tr>\n",
       "      <th>16</th>\n",
       "      <td>russia</td>\n",
       "      <td>0.012</td>\n",
       "      <td>145934.462</td>\n",
       "    </tr>\n",
       "    <tr>\n",
       "      <th>17</th>\n",
       "      <td>italy</td>\n",
       "      <td>0.009</td>\n",
       "      <td>60461.826</td>\n",
       "    </tr>\n",
       "  </tbody>\n",
       "</table>\n",
       "</div>"
      ],
      "text/plain": [
       "           country  deathRate     pop2020\n",
       "0           norway      1.888    5421.241\n",
       "1           serbia      0.381    8737.371\n",
       "2           france      0.347   65273.511\n",
       "3        macedonia      0.337    2083.374\n",
       "4          albania      0.206    2877.797\n",
       "5         slovakia      0.185    5459.642\n",
       "6      switzerland      0.142    8654.622\n",
       "7          finland      0.132    5540.720\n",
       "8          belgium      0.128   11589.623\n",
       "9   czech republic      0.123   10708.981\n",
       "10   united states      0.089  331002.651\n",
       "11         austria      0.068    9006.398\n",
       "12     netherlands      0.051   17134.872\n",
       "13          canada      0.032   37742.154\n",
       "14  United Kingdom      0.027   67886.011\n",
       "15         germany      0.023   83783.942\n",
       "16          russia      0.012  145934.462\n",
       "17           italy      0.009   60461.826"
      ]
     },
     "execution_count": 7,
     "metadata": {},
     "output_type": "execute_result"
    }
   ],
   "source": [
    "#graph of each countries death rate per 100,000 people\n",
    "df = pd.read_csv('../MassShootings.csv')\n",
    "df = df.sort_values(by = 'deathRate', ascending  = False)\n",
    "df = df.head(20)\n",
    "df\n",
    "# plt.style.use('dark_background')\n",
    "# fig, ax = plt.subplots(figsize = (10,5))\n",
    "# ax.set_title('Firearm Death Rate per 1mil ')\n",
    "# rects = ax.barh(df.country, df.totalNumber)\n",
    "# ax.set_xlabel('Death Rate Per 1mil')\n",
    "# plt.tight_layout()\n",
    "# plt.savefig('figures/MassShootings.png')"
   ]
  },
  {
   "cell_type": "code",
   "execution_count": 25,
   "metadata": {},
   "outputs": [
    {
     "data": {
      "image/png": "[encoded data removed]",
      "text/plain": [
       "<Figure size 720x360 with 1 Axes>"
      ]
     },
     "metadata": {},
     "output_type": "display_data"
    }
   ],
   "source": [
    "#graph of each countries death rate per 100,000 people\n",
    "df = pd.read_csv('../Firearmdeaths.csv')\n",
    "df = df.sort_values(by = 'totalNumber', ascending  = False)\n",
    "df = df.head(20)\n",
    "\n",
    "plt.style.use('dark_background')\n",
    "fig, ax = plt.subplots(figsize = (10,5))\n",
    "ax.set_title('Total Firearm Deaths per country (2020) ')\n",
    "rects = ax.barh(df.country, df.totalNumber)\n",
    "ax.set_xlabel('Total Deaths')\n",
    "plt.tight_layout()\n",
    "plt.savefig('figures/FirearmDeaths.png')"
   ]
  },
  {
   "cell_type": "code",
   "execution_count": 5,
   "metadata": {
    "scrolled": true
   },
   "outputs": [
    {
     "data": {
      "image/png": "[encoded data removed]",
      "text/plain": [
       "<Figure size 1080x360 with 1 Axes>"
      ]
     },
     "metadata": {},
     "output_type": "display_data"
    }
   ],
   "source": [
    "plt.style.use('dark_background')\n",
    "\n",
    "def autolabel(rects, ax):\n",
    "    \"\"\"Attach a text label above each bar in *rects*, displaying its height.\"\"\"\n",
    "    for rect in rects:\n",
    "        height = rect.get_height()\n",
    "        ax.annotate('{}'.format(height),\n",
    "                    xy=(rect.get_x() + rect.get_width() / 2, height),\n",
    "                    xytext=(0, 3),  # 3 points vertical offset\n",
    "                    textcoords=\"offset points\",\n",
    "                    ha='center', va='bottom')\n",
    "        \n",
    "fig, ax = plt.subplots(1,figsize = (15, 5))\n",
    "rects1 = ax.bar(['No Weapon', 'Handgun', 'Rifle'], [1520, 1520, 1370])\n",
    "ax.set_title('Class Frequency') \n",
    "ax.set_ylim(top = 1750)\n",
    "\n",
    "# rects2 = ax[1].bar(['No Weapon', 'Handgun', 'Rifle'], [243, 294, 137])\n",
    "# ax[1].set_title('Test Set')\n",
    "\n",
    "autolabel(rects1, ax)\n",
    "# autolabel(rects2, ax[1])\n",
    "\n",
    "plt.savefig('../Figures/ClassFreq.png')"
   ]
  },
  {
   "cell_type": "code",
   "execution_count": null,
   "metadata": {},
   "outputs": [],
   "source": []
  },
  {
   "cell_type": "code",
   "execution_count": null,
   "metadata": {},
   "outputs": [],
   "source": [
    "\n",
    "##SLIDING WINDOW VIZ \n",
    "import time\n",
    "def sliding_window(image, step_size, windowsize): \n",
    "    for y in range(0, image.shape[0], step_size):\n",
    "        for x in range(0, image.shape[1], step_size):\n",
    "#             cv2.rectangle(image, (x, y), (x + windowsize[0], y + windowsize[1]), (255,0,0), 2)\n",
    "#     cv2.imshow('test', image)\n",
    "#     cv2.waitKey(0)\n",
    "    \n",
    "            yield (x,y,image[y:y + windowsize[1], x:x + windowsize[0]])\n",
    "\n",
    "    \n",
    "    \n",
    "    \n",
    "df = pd.read_csv('../Separated/PATHS.csv')\n",
    "img = cv2.imread('Pistol_1097_18.jpg')\n",
    "df = df[df.filename == 'Pistol_1097_18.jpg']\n",
    "origstartx = df.xmin.values[0]\n",
    "origstarty = df.ymin.values[0] \n",
    "origendx = df.xmax.values[0] \n",
    "origendy  = df.ymax.values[0]\n",
    "\n",
    "cv2.rectangle(img, (origstartx, origstarty), (origendx, origendy), (0,0,255), 2) \n",
    "# sliding_window(img, step_size = 30, windowsize = (30,30))\n",
    "\n",
    "# windowsize = (80,80)\n",
    "# for x, y, window in sliding_window(img, step_size = 30, windowsize = windowsize): \n",
    "#     clone = img.copy()\n",
    "#     cv2.rectangle(clone, (x,y), (x+ windowsize[0], y + windowsize[1]), (255, 0, 0), 2)\n",
    "#     cv2.imshow('Window', clone)\n",
    "#     cv2.waitKey(0)\n",
    "#     time.sleep(.025)\n",
    "# cv2.destroyAllWindows()   \n"
   ]
  }
 ],
 "metadata": {
  "kernelspec": {
   "display_name": "Python 3",
   "language": "python",
   "name": "python3"
  },
  "language_info": {
   "codemirror_mode": {
    "name": "ipython",
    "version": 3
   },
   "file_extension": ".py",
   "mimetype": "text/x-python",
   "name": "python",
   "nbconvert_exporter": "python",
   "pygments_lexer": "ipython3",
   "version": "3.7.4"
  }
 },
 "nbformat": 4,
 "nbformat_minor": 2
}
