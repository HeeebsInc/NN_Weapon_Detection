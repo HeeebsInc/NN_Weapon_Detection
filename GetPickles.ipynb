{
 "cells": [
  {
   "cell_type": "code",
   "execution_count": 1,
   "metadata": {},
   "outputs": [
    {
     "name": "stderr",
     "output_type": "stream",
     "text": [
      "Using plaidml.keras.backend backend.\n"
     ]
    }
   ],
   "source": [
    "import pickle \n",
    "import pandas as pd \n",
    "import os\n",
    "import numpy as np \n",
    "import cv2\n",
    "from keras.preprocessing import image \n",
    "from sklearn.model_selection import train_test_split\n",
    "import matplotlib.pyplot as plt\n",
    "import Functions as func\n",
    "import var\n",
    "from keras.utils import to_categorical\n",
    "\n",
    "\n",
    "\n",
    "def get_img_array(img_paths, dim, img_type): \n",
    "    from tqdm import tqdm\n",
    "    final_array = []\n",
    "    for path in tqdm(img_paths): \n",
    "        img = func.get_image_value(path, dim, img_type)\n",
    "        final_array.append(img)\n",
    "    if img_type == 'grey':\n",
    "        final_array = np.array(final_array)\n",
    "        return final_array.reshape(final_array.shape[0], var.dimension[0],var.dimension[0],1)\n",
    "    else: \n",
    "        return np.array(final_array)\n",
    "\n",
    "def get_pickles(nn_type):\n",
    "    pistol_paths = [f'../Separated/Pistol/{i}' for i in os.listdir('../Separated/Pistol')] + \\\n",
    "    [f'../Separated/Stock_Pistol/{i}' for i in os.listdir('../Separated/Stock_Pistol')]\n",
    "    \n",
    "    pistol_labels = [1 for i in range(len(pistol_paths))]\n",
    "    \n",
    "    rifle_paths = [f'../Separated/AR/{i}' for i in os.listdir('../Separated/AR')] + \\\n",
    "    [f'../Separated/Stock_AR/{i}' for i in os.listdir('../Separated/Stock_AR')]\n",
    "    rifle_labels = [2 for i in range(len(rifle_paths))]\n",
    "    \n",
    "\n",
    "    negative = [f'../hand_dataset/Combined/{i}' for i in os.listdir('../hand_dataset/Combined')][:len(pistol_paths)]\n",
    "    neg_labels = [0 for i in range(len(negative))]\n",
    "\n",
    "    paths = pistol_paths + rifle_paths + negative\n",
    "    labels = pistol_labels + rifle_labels + neg_labels\n",
    "\n",
    "\n",
    "    x_train, x_test, y_train, y_test = train_test_split(paths, labels, stratify = labels, train_size = .90)\n",
    "\n",
    "    if nn_type == 'normal': \n",
    "        DIM =  var.norm_dimension \n",
    "    elif nn_type == 'mobilenet': \n",
    "        DIM = var.mobilenet_dimension\n",
    "    \n",
    "    elif nn_type == 'inceptionnet': \n",
    "        DIM = var.inception_dimension\n",
    "        \n",
    "    elif nn_type == 'vgg16': \n",
    "        DIM = var.vgg_dimension\n",
    "        \n",
    "    new_x_train = get_img_array(x_train, DIM, img_type = var.img_type)\n",
    "    new_x_test = get_img_array(x_test, DIM, img_type = var.img_type)\n",
    "    \n",
    "    print(pd.Series(y_train + y_test).value_counts())\n",
    "    y_train = np.array(y_train)\n",
    "    y_test = np.array(y_test)\n",
    "    \n",
    "    \n",
    "    \n",
    "    pickle.dump(new_x_train, open(f'../Pickles/{nn_type}_x_train.p', 'wb'), protocol=4)\n",
    "    pickle.dump(y_train, open(f'../Pickles/{nn_type}_y_train.p', 'wb'), protocol=4)\n",
    "    pickle.dump(new_x_test, open(f'../Pickles/{nn_type}_x_test.p', 'wb'), protocol=4)\n",
    "    pickle.dump(y_test, open(f'../Pickles/{nn_type}_y_test.p', 'wb'), protocol=4)\n",
    "    \n",
    "    \n",
    "    \n",
    "def get_samples(nn_type): \n",
    "    x_train = pickle.load(open(f'../Pickles/{nn_type}_x_train.p', 'rb'))\n",
    "    x_test = pickle.load(open(f'../Pickles/{nn_type}_x_test.p', 'rb'))\n",
    "    y_train = pickle.load(open(f'../Pickles/{nn_type}_y_train.p', 'rb'))\n",
    "    y_test = pickle.load(open(f'../Pickles/{nn_type}_y_test.p', 'rb'))\n",
    "    \n",
    "    y_test = to_categorical(y_test)\n",
    "    y_train = to_categorical(y_train)\n",
    "\n",
    "    return x_train, x_test, y_train, y_test"
   ]
  },
  {
   "cell_type": "code",
   "execution_count": 2,
   "metadata": {},
   "outputs": [
    {
     "name": "stderr",
     "output_type": "stream",
     "text": [
      "100%|████████████████████████████████████████████████████████████████████████████████████████████████████████████████████████████████████████████████| 6036/6036 [00:26<00:00, 228.13it/s]\n",
      "100%|██████████████████████████████████████████████████████████████████████████████████████████████████████████████████████████████████████████████████| 671/671 [00:02<00:00, 231.06it/s]\n"
     ]
    },
    {
     "name": "stdout",
     "output_type": "stream",
     "text": [
      "1    2750\n",
      "0    2750\n",
      "2    1207\n",
      "dtype: int64\n"
     ]
    }
   ],
   "source": [
    "get_pickles('normal')"
   ]
  },
  {
   "cell_type": "code",
   "execution_count": null,
   "metadata": {},
   "outputs": [],
   "source": [
    "assert False"
   ]
  },
  {
   "cell_type": "code",
   "execution_count": null,
   "metadata": {},
   "outputs": [],
   "source": [
    "#normal \n",
    "\n",
    "get_pickles('normal')"
   ]
  },
  {
   "cell_type": "code",
   "execution_count": null,
   "metadata": {},
   "outputs": [],
   "source": [
    "get_pickles('mobilenet')"
   ]
  },
  {
   "cell_type": "code",
   "execution_count": null,
   "metadata": {},
   "outputs": [],
   "source": [
    "get_pickles('inceptionnet')"
   ]
  },
  {
   "cell_type": "code",
   "execution_count": null,
   "metadata": {},
   "outputs": [],
   "source": [
    "get_pickles('vgg16')"
   ]
  },
  {
   "cell_type": "code",
   "execution_count": null,
   "metadata": {},
   "outputs": [],
   "source": []
  }
 ],
 "metadata": {
  "kernelspec": {
   "display_name": "Python 3",
   "language": "python",
   "name": "python3"
  },
  "language_info": {
   "codemirror_mode": {
    "name": "ipython",
    "version": 3
   },
   "file_extension": ".py",
   "mimetype": "text/x-python",
   "name": "python",
   "nbconvert_exporter": "python",
   "pygments_lexer": "ipython3",
   "version": "3.7.4"
  }
 },
 "nbformat": 4,
 "nbformat_minor": 2
}
