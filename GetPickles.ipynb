{
 "cells": [
  {
   "cell_type": "code",
   "execution_count": 3,
   "metadata": {},
   "outputs": [],
   "source": [
    "import pickle \n",
    "import pandas as pd \n",
    "import os\n",
    "import numpy as np \n",
    "import cv2\n",
    "from keras.preprocessing import image \n",
    "from sklearn.model_selection import train_test_split\n",
    "import matplotlib.pyplot as plt\n",
    "from keras.utils import to_categorical\n",
    "from PyFunctions import var\n",
    "import random\n",
    "\n",
    "\n",
    "\n",
    "def get_edged(img, dim): \n",
    "    '''This function will convert an image into an edged version using Gaussian filtering''' \n",
    "    blurred = cv2.GaussianBlur(img, (3,3), 0)\n",
    "    wide = cv2.Canny(blurred, 10,200)\n",
    "    wide = cv2.resize(wide, dim, interpolation = cv2.INTER_CUBIC)\n",
    "    return wide\n",
    "\n",
    "\n",
    "def get_image_value(path, dim, edge = False): \n",
    "    '''This function will read an image and convert to a specified version and resize depending on which algorithm is being used.  If edge is specified as true, it will pass the img array to get_edged which returns a filtered version of the img'''\n",
    "    if edge == True: \n",
    "        img = cv2.imread(path)\n",
    "        edged = get_edged(img, dim)\n",
    "        return edged\n",
    "    else: \n",
    "        img = image.load_img(path, target_size = dim)\n",
    "        img = image.img_to_array(img)\n",
    "        return img/255\n",
    "\n",
    "def get_img_array(img_paths, dim, edge): \n",
    "    '''This fucntion takes a list of image paths and returns the np array corresponding to each image.  It also takes the dim and whether edge is specified in order to pass it to another function to apply these parameters.  This function uses get_image_value to perform these operations'''\n",
    "    from tqdm import tqdm\n",
    "    final_array = []\n",
    "    for path in tqdm(img_paths): \n",
    "        img = get_image_value(path, dim, edge)\n",
    "        final_array.append(img)\n",
    "    final_array = np.array(final_array)\n",
    "    if edge:\n",
    "        return final_array.reshape(final_array.shape[0], final_array.shape[1], final_array.shape[2], 1)\n",
    "    else: \n",
    "        return final_array\n",
    "        \n",
    "def get_pickles(nn_type, edge = False, balance = False):\n",
    "    '''This function will creates a pickled file given the type of neural network architecture.  \n",
    "    Using the Var.py file, the function will determine the specified dimension of the algorithm and create pickles given the NN type.  For this function to work, you must create a folder outside the repo called Pickles'''\n",
    "    if nn_type == 'normal': \n",
    "        DIM =  var.norm_dimension \n",
    "    elif nn_type == 'mobilenet': \n",
    "        DIM = var.mobilenet_dimension\n",
    "    \n",
    "    elif nn_type == 'inceptionnet': \n",
    "        DIM = var.inception_dimension\n",
    "        \n",
    "    elif nn_type == 'vgg16': \n",
    "        DIM = var.vgg_dimension\n",
    "    elif nn_type == 'alexnet': \n",
    "        DIM = var.alex_dimension\n",
    "\n",
    "#Using Seperated ROI ang hand data \n",
    "    pistol_paths = [f'../Separated/FinalImages/Pistol/{i}' for i in os.listdir('../Separated/FinalImages/Pistol')] \n",
    "\n",
    "    rifle_paths = [f'../Separated/FinalImages/Rifle/{i}' for i in os.listdir('../Separated/FinalImages/Rifle')] \n",
    "    \n",
    "    neg_paths = [f'../Separated/FinalImages/NoWeapon/{i}' for i in os.listdir('../Separated/FinalImages/NoWeapon')]\n",
    "    random.shuffle(neg_paths)\n",
    "    neg_paths = neg_paths[:len(pistol_paths)]\n",
    "    \n",
    "    if balance == True: \n",
    "        random.shuffle(pistol_paths)\n",
    "        pistol_paths = pistol_paths[:len(rifle_paths)+150]\n",
    "        neg_paths = neg_paths[:len(rifle_paths)+150]\n",
    "        \n",
    "        \n",
    "    pistol_labels = [1 for i in range(len(pistol_paths))]\n",
    "    rifle_labels = [2 for i in range(len(rifle_paths))]    \n",
    "    neg_labels = [0 for i in range(len(neg_paths))]\n",
    "    \n",
    "    print(len(pistol_paths), len(rifle_paths), len(neg_paths))\n",
    "\n",
    "    paths = pistol_paths + rifle_paths + neg_paths\n",
    "    labels = pistol_labels + rifle_labels + neg_labels\n",
    "    \n",
    "    x_train, x_test, y_train, y_test = train_test_split(paths, labels, stratify = labels, train_size = .90, random_state = 10)\n",
    "\n",
    "    if edge == True:      \n",
    "        new_x_train = get_img_array(x_train, DIM, edge = True)\n",
    "        new_x_test = get_img_array(x_test, DIM, edge = True)\n",
    "    else: \n",
    "        new_x_train = get_img_array(x_train, DIM, edge = False)\n",
    "        new_x_test = get_img_array(x_test, DIM, edge = False)\n",
    "    \n",
    "    print('Train Value Counts')\n",
    "    print(pd.Series(y_train).value_counts())\n",
    "    print('~~~~~~~~~~~~~~~~~~~~~~~~~~~~~~~~')\n",
    "    print('Test Value Counts')\n",
    "    print(pd.Series(y_test).value_counts())\n",
    "    print('~~~~~~~~~~~~~~~~~~~~~~~~~~~~~~~~')\n",
    "    print('X Train Shape')\n",
    "    print(new_x_train.shape)\n",
    "    print('~~~~~~~~~~~~~~~~~~~~~~~~~~~~~~~~')\n",
    "    print('X Test Shape')\n",
    "    print(new_x_test.shape)\n",
    "    print('~~~~~~~~~~~~~~~~~~~~~~~~~~~~~~~~')\n",
    "\n",
    "    y_train = np.array(y_train)\n",
    "    y_test = np.array(y_test)\n",
    "    \n",
    "    tts = (new_x_train, new_x_test, y_train, y_test)\n",
    "    if edge == True:\n",
    "        pickle.dump(tts, open(f'../Pickles/edge_{nn_type}_tts.p', 'wb'), protocol=4)\n",
    "    else:\n",
    "        pickle.dump(tts, open(f'../Pickles/{nn_type}_tts.p', 'wb'), protocol=4)\n",
    "    \n",
    "    return tts\n",
    "        \n",
    "        \n",
    "def get_samples(nn_type, edge = False): \n",
    "    '''After performing the get_pickles function above, this function can be used to retrieve the pickled files given a specific NN type.  '''\n",
    "    if edge == True: \n",
    "        x_train, x_test, y_train, y_test = pickle.load(open(f'../Pickles/edge_{nn_type}_tts.p', 'rb'))\n",
    "    \n",
    "    else: \n",
    "        x_train, x_test, y_train, y_test = pickle.load(open(f'../Pickles/{nn_type}_tts.p', 'rb'))\n",
    "    \n",
    "    y_test = to_categorical(y_test)\n",
    "    y_train = to_categorical(y_train)\n",
    "\n",
    "    return x_train, x_test, y_train, y_test"
   ]
  },
  {
   "cell_type": "code",
   "execution_count": 5,
   "metadata": {},
   "outputs": [
    {
     "name": "stdout",
     "output_type": "stream",
     "text": [
      "1520 1370 1520\n"
     ]
    },
    {
     "name": "stderr",
     "output_type": "stream",
     "text": [
      "100%|████████████████████████████████████████████████████████████████████████████████████████████████████████████████████████████████████████████████| 3969/3969 [00:13<00:00, 289.38it/s]\n",
      "100%|███████████████████████████████████████████████████████████████████████████████████████████████████████████████████████████████████████████████████| 441/441 [00:04<00:00, 99.61it/s]\n"
     ]
    },
    {
     "name": "stdout",
     "output_type": "stream",
     "text": [
      "Train Value Counts\n",
      "1    1368\n",
      "0    1368\n",
      "2    1233\n",
      "dtype: int64\n",
      "~~~~~~~~~~~~~~~~~~~~~~~~~~~~~~~~\n",
      "Test Value Counts\n",
      "1    152\n",
      "0    152\n",
      "2    137\n",
      "dtype: int64\n",
      "~~~~~~~~~~~~~~~~~~~~~~~~~~~~~~~~\n",
      "X Train Shape\n",
      "(3969, 150, 150, 3)\n",
      "~~~~~~~~~~~~~~~~~~~~~~~~~~~~~~~~\n",
      "X Test Shape\n",
      "(441, 150, 150, 3)\n",
      "~~~~~~~~~~~~~~~~~~~~~~~~~~~~~~~~\n"
     ]
    }
   ],
   "source": [
    "x_train, x_test, y_train, y_test = get_pickles('normal', edge = False, balance = True)"
   ]
  },
  {
   "cell_type": "code",
   "execution_count": null,
   "metadata": {},
   "outputs": [],
   "source": [
    "from PyFunctions.Functions import *\n",
    "import cv2"
   ]
  },
  {
   "cell_type": "markdown",
   "metadata": {},
   "source": [
    "- This notebook involves creating pickled train_test_splits that correspond to a specific dimension and image type.\n",
    "- Passing `edge = True` creates a pickled file that contains edged photos rather than the originals \n",
    "- this notebook was created separately in order to test how it works and not interupt the flow of the CNN notebook\n",
    "- To change the dimensions of the models, alter the variables found in Var.py within the PyFunctions folder"
   ]
  },
  {
   "cell_type": "code",
   "execution_count": null,
   "metadata": {},
   "outputs": [],
   "source": [
    "x_train, x_test, y_train, y_test = get_pickles('normal', edge = True)"
   ]
  },
  {
   "cell_type": "code",
   "execution_count": null,
   "metadata": {},
   "outputs": [],
   "source": [
    "#See if the edging worked\n",
    "cv2.imshow('test', x_train[0])\n",
    "cv2.waitKey(0)\n",
    "cv2.destroyAllWindows()"
   ]
  },
  {
   "cell_type": "code",
   "execution_count": null,
   "metadata": {},
   "outputs": [],
   "source": [
    "# get_pickles('mobilenet')"
   ]
  },
  {
   "cell_type": "code",
   "execution_count": null,
   "metadata": {},
   "outputs": [],
   "source": [
    "# get_pickles('vgg16')"
   ]
  }
 ],
 "metadata": {
  "kernelspec": {
   "display_name": "Python 3",
   "language": "python",
   "name": "python3"
  },
  "language_info": {
   "codemirror_mode": {
    "name": "ipython",
    "version": 3
   },
   "file_extension": ".py",
   "mimetype": "text/x-python",
   "name": "python",
   "nbconvert_exporter": "python",
   "pygments_lexer": "ipython3",
   "version": "3.7.4"
  }
 },
 "nbformat": 4,
 "nbformat_minor": 2
}
