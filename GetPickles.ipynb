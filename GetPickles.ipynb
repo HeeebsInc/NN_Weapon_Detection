{
 "cells": [
  {
   "cell_type": "code",
   "execution_count": 1,
   "metadata": {},
   "outputs": [
    {
     "name": "stderr",
     "output_type": "stream",
     "text": [
      "Using plaidml.keras.backend backend.\n"
     ]
    }
   ],
   "source": [
    "from Functions import *"
   ]
  },
  {
   "cell_type": "code",
   "execution_count": 3,
   "metadata": {},
   "outputs": [
    {
     "name": "stderr",
     "output_type": "stream",
     "text": [
      "100%|█████████████████████████████████████████████████████████████████████████████████████████████████████████████████████████████████████████████████| 6512/6512 [01:10<00:00, 91.75it/s]\n",
      "100%|██████████████████████████████████████████████████████████████████████████████████████████████████████████████████████████████████████████████████| 724/724 [00:06<00:00, 104.08it/s]\n"
     ]
    },
    {
     "name": "stdout",
     "output_type": "stream",
     "text": [
      "1    2933\n",
      "0    2933\n",
      "2    1370\n",
      "dtype: int64\n"
     ]
    }
   ],
   "source": [
    "get_pickles('alexnet')"
   ]
  },
  {
   "cell_type": "code",
   "execution_count": null,
   "metadata": {},
   "outputs": [],
   "source": [
    "assert False"
   ]
  },
  {
   "cell_type": "code",
   "execution_count": 2,
   "metadata": {},
   "outputs": [
    {
     "name": "stderr",
     "output_type": "stream",
     "text": [
      "100%|████████████████████████████████████████████████████████████████████████████████████████████████████████████████████████████████████████████████| 6512/6512 [01:04<00:00, 100.27it/s]\n",
      "100%|██████████████████████████████████████████████████████████████████████████████████████████████████████████████████████████████████████████████████| 724/724 [00:05<00:00, 123.76it/s]\n"
     ]
    },
    {
     "name": "stdout",
     "output_type": "stream",
     "text": [
      "1    2933\n",
      "0    2933\n",
      "2    1370\n",
      "dtype: int64\n"
     ]
    }
   ],
   "source": [
    "get_pickles('normal')"
   ]
  },
  {
   "cell_type": "code",
   "execution_count": 17,
   "metadata": {},
   "outputs": [
    {
     "name": "stderr",
     "output_type": "stream",
     "text": [
      "100%|███████████████████████████████████████████████████████████████████████████████████████████████████████████████████████████████████████████████| 6512/6512 [00:05<00:00, 1162.60it/s]\n",
      "100%|███████████████████████████████████████████████████████████████████████████████████████████████████████████████████████████████████████████████████| 724/724 [00:08<00:00, 90.05it/s]\n"
     ]
    },
    {
     "name": "stdout",
     "output_type": "stream",
     "text": [
      "1    2933\n",
      "0    2933\n",
      "2    1370\n",
      "dtype: int64\n"
     ]
    }
   ],
   "source": [
    "get_pickles('mobilenet')"
   ]
  },
  {
   "cell_type": "code",
   "execution_count": 18,
   "metadata": {},
   "outputs": [
    {
     "name": "stdout",
     "output_type": "stream",
     "text": [
      "(6512, 224, 224, 3) (724, 224, 224, 3)\n",
      "(6512, 3) (724, 3)\n"
     ]
    }
   ],
   "source": [
    "x_train, x_test, y_train, y_test = get_samples('mobilenet')\n",
    "print(x_train.shape, x_test.shape) \n",
    "print(y_train.shape, y_test.shape)"
   ]
  },
  {
   "cell_type": "code",
   "execution_count": null,
   "metadata": {},
   "outputs": [],
   "source": [
    "# get_pickles('inceptionnet')"
   ]
  },
  {
   "cell_type": "code",
   "execution_count": 2,
   "metadata": {},
   "outputs": [
    {
     "name": "stderr",
     "output_type": "stream",
     "text": [
      "100%|█████████████████████████████████████████████████████████████████████████████████████████████████████████████████████████████████████████████████| 6512/6512 [01:05<00:00, 98.95it/s]\n",
      "100%|██████████████████████████████████████████████████████████████████████████████████████████████████████████████████████████████████████████████████| 724/724 [00:06<00:00, 106.56it/s]\n"
     ]
    },
    {
     "name": "stdout",
     "output_type": "stream",
     "text": [
      "1    2933\n",
      "0    2933\n",
      "2    1370\n",
      "dtype: int64\n"
     ]
    }
   ],
   "source": [
    "get_pickles('vgg16')"
   ]
  },
  {
   "cell_type": "code",
   "execution_count": null,
   "metadata": {},
   "outputs": [],
   "source": [
    "def get_image_value(path, dim, edge = False, img_type = 'normal'): \n",
    "    if edge: \n",
    "        img = cv2.imread('../TestImages/AR.jpg')\n",
    "        blurred = cv2.GaussianBlur(img, (3,3), 0)\n",
    "        wide = cv2.Canny(blurred, 10,200)\n",
    "        tight = cv2.Canny(blurred, 225, 250)\n",
    "        auto = auto_canny(blurred)\n",
    "        wide = cv2.resize(wide, dim, interpolation = cv2.INTER_CUBIC)\n",
    "        tight = cv2.resize(tight, dim, interpolation = cv2.INTER_CUBIC)\n",
    "        auto = cv2.resize(auto, dim, interpolation = cv2.INTER_CUBIC)\n",
    "        return tight\n",
    "    else: \n",
    "        img = image.load_img(path, target_size = dim)\n",
    "        img = image.img_to_array(img)\n",
    "        \n",
    "        if img_type =='grey':\n",
    "            img = cv2.cvtColor(img, cv2.COLOR_BGR2GRAY)\n",
    "            img = img.reshape(img.shape[0], img.shape[1], 1)\n",
    "            return img\n",
    "        else: \n",
    "            return img/255\n",
    "\n",
    "test = get_image_value('../TestImages/AR.jpg', var.mobilenet_dimension, img_type = 'mobilenet')\n",
    "test.shape"
   ]
  },
  {
   "cell_type": "code",
   "execution_count": null,
   "metadata": {},
   "outputs": [],
   "source": []
  }
 ],
 "metadata": {
  "kernelspec": {
   "display_name": "Python 3",
   "language": "python",
   "name": "python3"
  },
  "language_info": {
   "codemirror_mode": {
    "name": "ipython",
    "version": 3
   },
   "file_extension": ".py",
   "mimetype": "text/x-python",
   "name": "python",
   "nbconvert_exporter": "python",
   "pygments_lexer": "ipython3",
   "version": "3.7.4"
  }
 },
 "nbformat": 4,
 "nbformat_minor": 2
}
