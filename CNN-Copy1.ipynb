{
 "cells": [
  {
   "cell_type": "markdown",
   "metadata": {},
   "source": [
    "## CNN "
   ]
  },
  {
   "cell_type": "code",
   "execution_count": 4,
   "metadata": {},
   "outputs": [],
   "source": [
    "import numpy as np \n",
    "from keras.models import Sequential\n",
    "from keras.layers import Dense, Dropout, Flatten \n",
    "from keras.layers import Conv2D, MaxPooling2D, BatchNormalization, AveragePooling2D\n",
    "from keras.optimizers import Adam\n",
    "from keras import regularizers\n",
    "from sklearn.preprocessing import LabelEncoder, OneHotEncoder\n",
    "import pandas as pd \n",
    "import matplotlib.pyplot as plt\n",
    "from sklearn.model_selection import train_test_split\n",
    "import os\n",
    "import pickle\n",
    "from sklearn.metrics import confusion_matrix, accuracy_score, recall_score, precision_score, f1_score\n",
    "import Functions as func\n",
    "import var\n",
    "import Viz\n"
   ]
  },
  {
   "cell_type": "code",
   "execution_count": 5,
   "metadata": {},
   "outputs": [],
   "source": [
    "### best is model weights 2"
   ]
  },
  {
   "cell_type": "code",
   "execution_count": 6,
   "metadata": {},
   "outputs": [],
   "source": [
    "def get_conv_model_normal(dim):\n",
    "    inp_shape = dim\n",
    "    act = 'relu'\n",
    "    drop = .25\n",
    "    kernal_reg = regularizers.l1(.001)\n",
    "    optimizer = Adam(lr = .0001)\n",
    "    \n",
    "    model = Sequential() \n",
    "    \n",
    "    model.add(Conv2D(64, kernel_size=(3,3),activation=act, input_shape = inp_shape, \n",
    "                     kernel_regularizer = kernal_reg,\n",
    "                     kernel_initializer = 'he_uniform',  padding = 'same', name = 'Input_Layer'))\n",
    "#     model.add(Dense(64, activation = 'relu'))\n",
    "    model.add(MaxPooling2D(pool_size=(2, 2),  strides = (3,3)))\n",
    "    \n",
    "    \n",
    "    model.add(Conv2D(64, (3, 3), activation=act, kernel_regularizer = kernal_reg, \n",
    "                     kernel_initializer = 'he_uniform',padding = 'same'))\n",
    "#     model.add(Dense(64, activation = 'relu'))\n",
    "    model.add(MaxPooling2D(pool_size=(2, 2), strides = (3,3)))\n",
    "    \n",
    "\n",
    "    \n",
    "    model.add(Conv2D(128, (3, 3), activation=act, kernel_regularizer = kernal_reg, \n",
    "                     kernel_initializer = 'he_uniform',padding = 'same'))\n",
    "    model.add(Conv2D(128, (3, 3), activation=act, kernel_regularizer = kernal_reg, \n",
    "                     kernel_initializer = 'he_uniform',padding = 'same'))\n",
    "    model.add(MaxPooling2D(pool_size=(2, 2), strides = (3,3)))\n",
    "\n",
    "    \n",
    "    model.add(Flatten())\n",
    "\n",
    "    \n",
    "    model.add(Dense(128, activation='relu'))\n",
    "    model.add(Dense(64, activation='relu'))\n",
    "    model.add(Dense(32, activation='relu'))\n",
    "\n",
    "    model.add(Dropout(drop))\n",
    "\n",
    "    model.add(Dense(3, activation='softmax', name = 'Output_Layer'))\n",
    "    \n",
    "    model.compile(loss = 'categorical_crossentropy', optimizer = optimizer, metrics = ['accuracy'])\n",
    "    return model \n"
   ]
  },
  {
   "cell_type": "code",
   "execution_count": 7,
   "metadata": {},
   "outputs": [],
   "source": [
    "edge = True\n",
    "x_train, x_test, y_train, y_test = func.get_samples('normal', edge = edge)\n"
   ]
  },
  {
   "cell_type": "code",
   "execution_count": 8,
   "metadata": {},
   "outputs": [
    {
     "name": "stdout",
     "output_type": "stream",
     "text": [
      "(6062, 150, 150, 1) (674, 150, 150, 1)\n",
      "(6062, 3) (674, 3)\n"
     ]
    }
   ],
   "source": [
    "print(x_train.shape, x_test.shape)\n",
    "print(y_train.shape, y_test.shape)"
   ]
  },
  {
   "cell_type": "code",
   "execution_count": 9,
   "metadata": {},
   "outputs": [],
   "source": [
    "import cv2 \n",
    "\n",
    "cv2.imshow('test', x_train[1000])\n",
    "cv2.waitKey(0)\n",
    "cv2.destroyAllWindows()"
   ]
  },
  {
   "cell_type": "code",
   "execution_count": null,
   "metadata": {},
   "outputs": [
    {
     "name": "stderr",
     "output_type": "stream",
     "text": [
      "INFO:plaidml:Opening device \"opencl_amd_ellesmere.0\"\n"
     ]
    },
    {
     "name": "stdout",
     "output_type": "stream",
     "text": [
      "Train on 6062 samples, validate on 674 samples\n",
      "Epoch 1/100\n",
      "6062/6062 [==============================] - 43s 7ms/step - loss: 21.4443 - acc: 0.6048 - val_loss: 12.6146 - val_acc: 0.7700\n",
      "\n",
      "Epoch 00001: val_loss improved from inf to 12.61457, saving model to ../models/CNN-ModelCheckpointWeights4.h5\n",
      "Epoch 2/100\n",
      "6062/6062 [==============================] - 18s 3ms/step - loss: 12.8724 - acc: 0.7311 - val_loss: 12.1014 - val_acc: 0.7997\n",
      "\n",
      "Epoch 00002: val_loss improved from 12.61457 to 12.10138, saving model to ../models/CNN-ModelCheckpointWeights4.h5\n",
      "Epoch 3/100\n",
      "6062/6062 [==============================] - 18s 3ms/step - loss: 12.0845 - acc: 0.7629 - val_loss: 11.7777 - val_acc: 0.7685\n",
      "\n",
      "Epoch 00003: val_loss improved from 12.10138 to 11.77774, saving model to ../models/CNN-ModelCheckpointWeights4.h5\n",
      "Epoch 4/100\n",
      "6062/6062 [==============================] - 18s 3ms/step - loss: 11.6908 - acc: 0.7837 - val_loss: 11.5951 - val_acc: 0.7656\n",
      "\n",
      "Epoch 00004: val_loss improved from 11.77774 to 11.59506, saving model to ../models/CNN-ModelCheckpointWeights4.h5\n",
      "Epoch 5/100\n",
      "6062/6062 [==============================] - 18s 3ms/step - loss: 11.4978 - acc: 0.7931 - val_loss: 11.4525 - val_acc: 0.7760\n",
      "\n",
      "Epoch 00005: val_loss improved from 11.59506 to 11.45255, saving model to ../models/CNN-ModelCheckpointWeights4.h5\n",
      "Epoch 6/100\n",
      "6062/6062 [==============================] - 18s 3ms/step - loss: 11.3583 - acc: 0.8123 - val_loss: 11.3878 - val_acc: 0.7700\n",
      "\n",
      "Epoch 00006: val_loss improved from 11.45255 to 11.38777, saving model to ../models/CNN-ModelCheckpointWeights4.h5\n",
      "Epoch 7/100\n",
      "6062/6062 [==============================] - 18s 3ms/step - loss: 11.2602 - acc: 0.8263 - val_loss: 11.3229 - val_acc: 0.7671\n",
      "\n",
      "Epoch 00007: val_loss improved from 11.38777 to 11.32289, saving model to ../models/CNN-ModelCheckpointWeights4.h5\n",
      "Epoch 8/100\n",
      "6062/6062 [==============================] - 18s 3ms/step - loss: 11.1577 - acc: 0.8377 - val_loss: 11.2489 - val_acc: 0.7864\n",
      "\n",
      "Epoch 00008: val_loss improved from 11.32289 to 11.24893, saving model to ../models/CNN-ModelCheckpointWeights4.h5\n",
      "Epoch 9/100\n",
      "6062/6062 [==============================] - 19s 3ms/step - loss: 11.0580 - acc: 0.8472 - val_loss: 11.1886 - val_acc: 0.7967\n",
      "\n",
      "Epoch 00009: val_loss improved from 11.24893 to 11.18863, saving model to ../models/CNN-ModelCheckpointWeights4.h5\n",
      "Epoch 10/100\n",
      "6062/6062 [==============================] - 18s 3ms/step - loss: 10.9439 - acc: 0.8598 - val_loss: 11.0801 - val_acc: 0.7938\n",
      "\n",
      "Epoch 00010: val_loss improved from 11.18863 to 11.08010, saving model to ../models/CNN-ModelCheckpointWeights4.h5\n",
      "Epoch 11/100\n",
      "6062/6062 [==============================] - 18s 3ms/step - loss: 10.8364 - acc: 0.8670 - val_loss: 10.9752 - val_acc: 0.7982\n",
      "\n",
      "Epoch 00011: val_loss improved from 11.08010 to 10.97524, saving model to ../models/CNN-ModelCheckpointWeights4.h5\n",
      "Epoch 12/100\n",
      "6062/6062 [==============================] - 18s 3ms/step - loss: 10.7180 - acc: 0.8756 - val_loss: 10.9557 - val_acc: 0.7789\n",
      "\n",
      "Epoch 00012: val_loss improved from 10.97524 to 10.95566, saving model to ../models/CNN-ModelCheckpointWeights4.h5\n",
      "Epoch 13/100\n",
      "6062/6062 [==============================] - 18s 3ms/step - loss: 10.6012 - acc: 0.8801 - val_loss: 10.8367 - val_acc: 0.7908\n",
      "\n",
      "Epoch 00013: val_loss improved from 10.95566 to 10.83672, saving model to ../models/CNN-ModelCheckpointWeights4.h5\n",
      "Epoch 14/100\n",
      "6062/6062 [==============================] - 18s 3ms/step - loss: 10.4606 - acc: 0.8946 - val_loss: 10.6799 - val_acc: 0.8071\n",
      "\n",
      "Epoch 00014: val_loss improved from 10.83672 to 10.67992, saving model to ../models/CNN-ModelCheckpointWeights4.h5\n",
      "Epoch 15/100\n",
      "6062/6062 [==============================] - 18s 3ms/step - loss: 10.3279 - acc: 0.8992 - val_loss: 10.5520 - val_acc: 0.8160\n",
      "\n",
      "Epoch 00015: val_loss improved from 10.67992 to 10.55205, saving model to ../models/CNN-ModelCheckpointWeights4.h5\n",
      "Epoch 16/100\n",
      "6062/6062 [==============================] - 18s 3ms/step - loss: 10.2023 - acc: 0.8987 - val_loss: 10.4222 - val_acc: 0.8160\n",
      "\n",
      "Epoch 00016: val_loss improved from 10.55205 to 10.42222, saving model to ../models/CNN-ModelCheckpointWeights4.h5\n",
      "Epoch 17/100\n",
      "6062/6062 [==============================] - 18s 3ms/step - loss: 10.0482 - acc: 0.9083 - val_loss: 10.2762 - val_acc: 0.8116\n",
      "\n",
      "Epoch 00017: val_loss improved from 10.42222 to 10.27622, saving model to ../models/CNN-ModelCheckpointWeights4.h5\n",
      "Epoch 18/100\n",
      "6062/6062 [==============================] - 19s 3ms/step - loss: 9.8723 - acc: 0.9236 - val_loss: 10.1350 - val_acc: 0.8205\n",
      "\n",
      "Epoch 00018: val_loss improved from 10.27622 to 10.13504, saving model to ../models/CNN-ModelCheckpointWeights4.h5\n",
      "Epoch 19/100\n",
      "6062/6062 [==============================] - 18s 3ms/step - loss: 9.7015 - acc: 0.9253 - val_loss: 9.9807 - val_acc: 0.8175\n",
      "\n",
      "Epoch 00019: val_loss improved from 10.13504 to 9.98074, saving model to ../models/CNN-ModelCheckpointWeights4.h5\n",
      "Epoch 20/100\n",
      "6062/6062 [==============================] - 18s 3ms/step - loss: 9.5361 - acc: 0.9312 - val_loss: 9.8142 - val_acc: 0.8220\n",
      "\n",
      "Epoch 00020: val_loss improved from 9.98074 to 9.81424, saving model to ../models/CNN-ModelCheckpointWeights4.h5\n",
      "Epoch 21/100\n",
      "6062/6062 [==============================] - 19s 3ms/step - loss: 9.3525 - acc: 0.9365 - val_loss: 9.6262 - val_acc: 0.8383\n",
      "\n",
      "Epoch 00021: val_loss improved from 9.81424 to 9.62624, saving model to ../models/CNN-ModelCheckpointWeights4.h5\n",
      "Epoch 22/100\n",
      "6062/6062 [==============================] - 19s 3ms/step - loss: 9.1765 - acc: 0.9398 - val_loss: 9.4811 - val_acc: 0.8309\n",
      "\n",
      "Epoch 00022: val_loss improved from 9.62624 to 9.48114, saving model to ../models/CNN-ModelCheckpointWeights4.h5\n",
      "Epoch 23/100\n",
      "6062/6062 [==============================] - 17s 3ms/step - loss: 8.9825 - acc: 0.9482 - val_loss: 9.3345 - val_acc: 0.8309\n",
      "\n",
      "Epoch 00023: val_loss improved from 9.48114 to 9.33450, saving model to ../models/CNN-ModelCheckpointWeights4.h5\n",
      "Epoch 24/100\n",
      "6062/6062 [==============================] - 19s 3ms/step - loss: 8.8045 - acc: 0.9459 - val_loss: 9.1612 - val_acc: 0.7982\n",
      "\n",
      "Epoch 00024: val_loss improved from 9.33450 to 9.16122, saving model to ../models/CNN-ModelCheckpointWeights4.h5\n",
      "Epoch 25/100\n",
      "6062/6062 [==============================] - 19s 3ms/step - loss: 8.6223 - acc: 0.9451 - val_loss: 9.0009 - val_acc: 0.8234\n",
      "\n",
      "Epoch 00025: val_loss improved from 9.16122 to 9.00092, saving model to ../models/CNN-ModelCheckpointWeights4.h5\n",
      "Epoch 26/100\n",
      "6062/6062 [==============================] - 19s 3ms/step - loss: 8.4135 - acc: 0.9528 - val_loss: 8.7621 - val_acc: 0.8323\n",
      "\n",
      "Epoch 00026: val_loss improved from 9.00092 to 8.76208, saving model to ../models/CNN-ModelCheckpointWeights4.h5\n",
      "Epoch 27/100\n",
      "6062/6062 [==============================] - 19s 3ms/step - loss: 8.1881 - acc: 0.9619 - val_loss: 8.7566 - val_acc: 0.8353\n",
      "\n",
      "Epoch 00027: val_loss improved from 8.76208 to 8.75661, saving model to ../models/CNN-ModelCheckpointWeights4.h5\n",
      "Epoch 28/100\n",
      "6062/6062 [==============================] - 18s 3ms/step - loss: 8.0305 - acc: 0.9507 - val_loss: 8.4475 - val_acc: 0.8205\n",
      "\n",
      "Epoch 00028: val_loss improved from 8.75661 to 8.44753, saving model to ../models/CNN-ModelCheckpointWeights4.h5\n",
      "Epoch 29/100\n",
      "6062/6062 [==============================] - 19s 3ms/step - loss: 7.7988 - acc: 0.9645 - val_loss: 8.2851 - val_acc: 0.8323\n",
      "\n",
      "Epoch 00029: val_loss improved from 8.44753 to 8.28507, saving model to ../models/CNN-ModelCheckpointWeights4.h5\n",
      "Epoch 30/100\n",
      "6062/6062 [==============================] - 19s 3ms/step - loss: 7.5646 - acc: 0.9782 - val_loss: 8.0805 - val_acc: 0.7938\n",
      "\n",
      "Epoch 00030: val_loss improved from 8.28507 to 8.08049, saving model to ../models/CNN-ModelCheckpointWeights4.h5\n",
      "Epoch 31/100\n",
      "6062/6062 [==============================] - 19s 3ms/step - loss: 7.3694 - acc: 0.9726 - val_loss: 7.9213 - val_acc: 0.8220\n",
      "\n",
      "Epoch 00031: val_loss improved from 8.08049 to 7.92129, saving model to ../models/CNN-ModelCheckpointWeights4.h5\n",
      "Epoch 32/100\n",
      "6062/6062 [==============================] - 19s 3ms/step - loss: 7.1614 - acc: 0.9779 - val_loss: 7.7426 - val_acc: 0.7953\n",
      "\n",
      "Epoch 00032: val_loss improved from 7.92129 to 7.74263, saving model to ../models/CNN-ModelCheckpointWeights4.h5\n",
      "Epoch 33/100\n"
     ]
    },
    {
     "name": "stdout",
     "output_type": "stream",
     "text": [
      "6062/6062 [==============================] - 19s 3ms/step - loss: 6.9626 - acc: 0.9749 - val_loss: 7.3699 - val_acc: 0.8086\n",
      "\n",
      "Epoch 00033: val_loss improved from 7.74263 to 7.36985, saving model to ../models/CNN-ModelCheckpointWeights4.h5\n",
      "Epoch 34/100\n",
      "6062/6062 [==============================] - 19s 3ms/step - loss: 6.7536 - acc: 0.9774 - val_loss: 7.2845 - val_acc: 0.8309\n",
      "\n",
      "Epoch 00034: val_loss improved from 7.36985 to 7.28448, saving model to ../models/CNN-ModelCheckpointWeights4.h5\n",
      "Epoch 35/100\n",
      "6062/6062 [==============================] - 19s 3ms/step - loss: 6.5369 - acc: 0.9825 - val_loss: 7.0341 - val_acc: 0.8116\n",
      "\n",
      "Epoch 00035: val_loss improved from 7.28448 to 7.03411, saving model to ../models/CNN-ModelCheckpointWeights4.h5\n",
      "Epoch 36/100\n",
      "6062/6062 [==============================] - 18s 3ms/step - loss: 6.3117 - acc: 0.9881 - val_loss: 6.9396 - val_acc: 0.8249\n",
      "\n",
      "Epoch 00036: val_loss improved from 7.03411 to 6.93963, saving model to ../models/CNN-ModelCheckpointWeights4.h5\n",
      "Epoch 37/100\n",
      "6062/6062 [==============================] - 19s 3ms/step - loss: 6.1120 - acc: 0.9871 - val_loss: 6.8472 - val_acc: 0.8323\n",
      "\n",
      "Epoch 00037: val_loss improved from 6.93963 to 6.84717, saving model to ../models/CNN-ModelCheckpointWeights4.h5\n",
      "Epoch 38/100\n",
      "6062/6062 [==============================] - 18s 3ms/step - loss: 5.9524 - acc: 0.9734 - val_loss: 6.4548 - val_acc: 0.8056\n",
      "\n",
      "Epoch 00038: val_loss improved from 6.84717 to 6.45478, saving model to ../models/CNN-ModelCheckpointWeights4.h5\n",
      "Epoch 39/100\n",
      "6062/6062 [==============================] - 18s 3ms/step - loss: 5.7932 - acc: 0.9683 - val_loss: 6.2050 - val_acc: 0.8412\n",
      "\n",
      "Epoch 00039: val_loss improved from 6.45478 to 6.20501, saving model to ../models/CNN-ModelCheckpointWeights4.h5\n",
      "Epoch 40/100\n",
      "6062/6062 [==============================] - 18s 3ms/step - loss: 5.5585 - acc: 0.9848 - val_loss: 6.0706 - val_acc: 0.8294\n",
      "\n",
      "Epoch 00040: val_loss improved from 6.20501 to 6.07061, saving model to ../models/CNN-ModelCheckpointWeights4.h5\n",
      "Epoch 41/100\n",
      "6062/6062 [==============================] - 18s 3ms/step - loss: 5.3478 - acc: 0.9899 - val_loss: 6.2909 - val_acc: 0.8442\n",
      "\n",
      "Epoch 00041: val_loss did not improve from 6.07061\n",
      "Epoch 42/100\n",
      "6062/6062 [==============================] - 18s 3ms/step - loss: 5.2154 - acc: 0.9794 - val_loss: 5.7147 - val_acc: 0.8234\n",
      "\n",
      "Epoch 00042: val_loss improved from 6.07061 to 5.71466, saving model to ../models/CNN-ModelCheckpointWeights4.h5\n",
      "Epoch 43/100\n",
      "6062/6062 [==============================] - 18s 3ms/step - loss: 5.0102 - acc: 0.9903 - val_loss: 5.6375 - val_acc: 0.8309\n",
      "\n",
      "Epoch 00043: val_loss improved from 5.71466 to 5.63747, saving model to ../models/CNN-ModelCheckpointWeights4.h5\n",
      "Epoch 44/100\n",
      "6062/6062 [==============================] - 18s 3ms/step - loss: 4.8891 - acc: 0.9800 - val_loss: 5.5899 - val_acc: 0.8398\n",
      "\n",
      "Epoch 00044: val_loss improved from 5.63747 to 5.58993, saving model to ../models/CNN-ModelCheckpointWeights4.h5\n",
      "Epoch 45/100\n",
      "6062/6062 [==============================] - 18s 3ms/step - loss: 4.6893 - acc: 0.9885 - val_loss: 5.2270 - val_acc: 0.8398\n",
      "\n",
      "Epoch 00045: val_loss improved from 5.58993 to 5.22702, saving model to ../models/CNN-ModelCheckpointWeights4.h5\n",
      "Epoch 46/100\n",
      "6062/6062 [==============================] - 18s 3ms/step - loss: 4.5053 - acc: 0.9937 - val_loss: 5.2407 - val_acc: 0.8220\n",
      "\n",
      "Epoch 00046: val_loss did not improve from 5.22702\n",
      "Epoch 47/100\n",
      "6062/6062 [==============================] - 18s 3ms/step - loss: 4.3855 - acc: 0.9858 - val_loss: 4.9427 - val_acc: 0.8427\n",
      "\n",
      "Epoch 00047: val_loss improved from 5.22702 to 4.94273, saving model to ../models/CNN-ModelCheckpointWeights4.h5\n",
      "Epoch 48/100\n",
      "6062/6062 [==============================] - 18s 3ms/step - loss: 4.2419 - acc: 0.9878 - val_loss: 4.8814 - val_acc: 0.8501\n",
      "\n",
      "Epoch 00048: val_loss improved from 4.94273 to 4.88143, saving model to ../models/CNN-ModelCheckpointWeights4.h5\n",
      "Epoch 49/100\n",
      "6062/6062 [==============================] - 18s 3ms/step - loss: 4.0852 - acc: 0.9885 - val_loss: 4.6106 - val_acc: 0.8368\n",
      "\n",
      "Epoch 00049: val_loss improved from 4.88143 to 4.61063, saving model to ../models/CNN-ModelCheckpointWeights4.h5\n",
      "Epoch 50/100\n",
      "6062/6062 [==============================] - 18s 3ms/step - loss: 3.9149 - acc: 0.9931 - val_loss: 4.6286 - val_acc: 0.8383\n",
      "\n",
      "Epoch 00050: val_loss did not improve from 4.61063\n",
      "Epoch 51/100\n",
      "6062/6062 [==============================] - 18s 3ms/step - loss: 3.8055 - acc: 0.9878 - val_loss: 4.4432 - val_acc: 0.8487\n",
      "\n",
      "Epoch 00051: val_loss improved from 4.61063 to 4.44315, saving model to ../models/CNN-ModelCheckpointWeights4.h5\n",
      "Epoch 52/100\n",
      "6062/6062 [==============================] - 18s 3ms/step - loss: 3.6866 - acc: 0.9853 - val_loss: 4.8715 - val_acc: 0.8220\n",
      "\n",
      "Epoch 00052: val_loss did not improve from 4.44315\n",
      "Epoch 53/100\n",
      "6062/6062 [==============================] - 18s 3ms/step - loss: 3.5605 - acc: 0.9888 - val_loss: 4.1000 - val_acc: 0.8398\n",
      "\n",
      "Epoch 00053: val_loss improved from 4.44315 to 4.09997, saving model to ../models/CNN-ModelCheckpointWeights4.h5\n",
      "Epoch 54/100\n",
      "6062/6062 [==============================] - 18s 3ms/step - loss: 3.3997 - acc: 0.9942 - val_loss: 4.0384 - val_acc: 0.8427\n",
      "\n",
      "Epoch 00054: val_loss improved from 4.09997 to 4.03839, saving model to ../models/CNN-ModelCheckpointWeights4.h5\n",
      "Epoch 55/100\n",
      "6062/6062 [==============================] - 18s 3ms/step - loss: 3.2769 - acc: 0.9903 - val_loss: 3.8511 - val_acc: 0.8190\n",
      "\n",
      "Epoch 00055: val_loss improved from 4.03839 to 3.85107, saving model to ../models/CNN-ModelCheckpointWeights4.h5\n",
      "Epoch 56/100\n",
      "6062/6062 [==============================] - 18s 3ms/step - loss: 3.1952 - acc: 0.9861 - val_loss: 3.7169 - val_acc: 0.8294\n",
      "\n",
      "Epoch 00056: val_loss improved from 3.85107 to 3.71691, saving model to ../models/CNN-ModelCheckpointWeights4.h5\n",
      "Epoch 57/100\n",
      "6062/6062 [==============================] - 18s 3ms/step - loss: 3.0991 - acc: 0.9866 - val_loss: 3.6641 - val_acc: 0.8234\n",
      "\n",
      "Epoch 00057: val_loss improved from 3.71691 to 3.66412, saving model to ../models/CNN-ModelCheckpointWeights4.h5\n",
      "Epoch 58/100\n",
      "5568/6062 [==========================>...] - ETA: 1s - loss: 2.9551 - acc: 0.9939"
     ]
    }
   ],
   "source": [
    "from keras.callbacks import ModelCheckpoint, EarlyStopping, ReduceLROnPlateau\n",
    "from keras.preprocessing.image import ImageDataGenerator\n",
    "\n",
    "\n",
    "augment = False \n",
    "early_stopping = EarlyStopping(monitor='val_loss', verbose = 1, patience=10, min_delta = .00075)\n",
    "model_checkpoint = ModelCheckpoint('../models/CNN-ModelCheckpointWeights4.h5', verbose = 1, save_best_only=True,\n",
    "                                  monitor = 'val_loss')\n",
    "lr_plat = ReduceLROnPlateau(patience = 3, mode = 'min')\n",
    "epochs = 100\n",
    "batch_size = 32\n",
    "\n",
    "if edge == True: \n",
    "    dim = (x_train.shape[1], x_train.shape[2], 1)\n",
    "else: \n",
    "    dim = (x_train.shape[1], x_train.shape[2], 3)\n",
    "    \n",
    "normal_model = get_conv_model_normal(dim =dim)\n",
    "\n",
    "if augment: \n",
    "    augmentation =ImageDataGenerator(rotation_range = 20, width_shift_range = .2, height_shift_range = .2, \n",
    "                                                           horizontal_flip = True, shear_range = .15, \n",
    "                                     fill_mode = 'nearest', zoom_range = .15)\n",
    "    augmentation.fit(x_train)\n",
    "    normal_history = normal_model.fit_generator(augmentation.flow(x_train, y_train, batch_size = batch_size),\n",
    "                epochs = epochs, \n",
    "         callbacks = [early_stopping, model_checkpoint, lr_plat], validation_data = (x_test, y_test), verbose= 1)\n",
    "else: \n",
    "    \n",
    "    normal_history = normal_model.fit(x_train, y_train, batch_size = batch_size,\n",
    "                epochs = epochs, \n",
    "         callbacks = [early_stopping, model_checkpoint, lr_plat], validation_data = (x_test, y_test), verbose= 1)\n"
   ]
  },
  {
   "cell_type": "code",
   "execution_count": null,
   "metadata": {
    "scrolled": true
   },
   "outputs": [],
   "source": [
    "# print(normal_model.summary())"
   ]
  },
  {
   "cell_type": "markdown",
   "metadata": {},
   "source": [
    "### Loss & Accuracy"
   ]
  },
  {
   "cell_type": "code",
   "execution_count": null,
   "metadata": {},
   "outputs": [],
   "source": [
    "Viz.plot_loss_accuracy(normal_history)"
   ]
  },
  {
   "cell_type": "code",
   "execution_count": 8,
   "metadata": {},
   "outputs": [
    {
     "data": {
      "image/png": "[encoded data removed]",
      "text/plain": [
       "<Figure size 1080x360 with 2 Axes>"
      ]
     },
     "metadata": {
      "needs_background": "light"
     },
     "output_type": "display_data"
    }
   ],
   "source": [
    "Viz.plot_loss_accuracy(normal_history)"
   ]
  },
  {
   "cell_type": "code",
   "execution_count": 9,
   "metadata": {},
   "outputs": [
    {
     "data": {
      "image/png": "[encoded data removed]",
      "text/plain": [
       "<Figure size 1080x360 with 2 Axes>"
      ]
     },
     "metadata": {
      "needs_background": "light"
     },
     "output_type": "display_data"
    }
   ],
   "source": [
    "Viz.plot_loss_accuracy(normal_history)"
   ]
  },
  {
   "cell_type": "markdown",
   "metadata": {},
   "source": [
    "### AUC and ROC Curves"
   ]
  },
  {
   "cell_type": "code",
   "execution_count": null,
   "metadata": {},
   "outputs": [],
   "source": [
    "if edge == True: \n",
    "    dim = (x_train.shape[1], x_train.shape[2], 1)\n",
    "else: \n",
    "    dim = (x_train.shape[1], x_train.shape[2], 3)\n",
    "    \n",
    "normal_model = get_conv_model_normal(dim)\n",
    "normal_model.load_weights('../models/CNN-ModelCheckpointWeights4.h5') #load the best weights before overfitting\n",
    " \n",
    "\n",
    "\n",
    "    \n",
    "Viz.plot_roc_auc(normal_model, x_test, y_test)"
   ]
  },
  {
   "cell_type": "code",
   "execution_count": 9,
   "metadata": {},
   "outputs": [
    {
     "data": {
      "image/png": "[encoded data removed]",
      "text/plain": [
       "<Figure size 936x576 with 1 Axes>"
      ]
     },
     "metadata": {
      "needs_background": "light"
     },
     "output_type": "display_data"
    },
    {
     "name": "stdout",
     "output_type": "stream",
     "text": [
      "F1 Scores Test\n",
      "~~~~~~~~~~~~~~~~~~~~~~\n",
      "No Weapon: 0.997946611909651\n",
      "HandGun: 0.8270181219110379\n",
      "Rifle: 0.5826771653543307\n"
     ]
    }
   ],
   "source": [
    "if edge == True: \n",
    "    dim = (x_train.shape[1], x_train.shape[2], 1)\n",
    "else: \n",
    "    dim = (x_train.shape[1], x_train.shape[2], 3)\n",
    "    \n",
    "normal_model = get_conv_model_normal(dim)\n",
    "normal_model.load_weights('../models/CNN-ModelCheckpointWeights2.h5') #load the best weights before overfitting\n",
    " \n",
    "\n",
    "\n",
    "    \n",
    "Viz.plot_roc_auc(normal_model, x_test, y_test)"
   ]
  },
  {
   "cell_type": "code",
   "execution_count": 10,
   "metadata": {},
   "outputs": [
    {
     "data": {
      "image/png": "[encoded data removed]",
      "text/plain": [
       "<Figure size 936x576 with 1 Axes>"
      ]
     },
     "metadata": {
      "needs_background": "light"
     },
     "output_type": "display_data"
    },
    {
     "name": "stdout",
     "output_type": "stream",
     "text": [
      "F1 Scores Test\n",
      "~~~~~~~~~~~~~~~~~~~~~~\n",
      "No Weapon: 0.9650924024640657\n",
      "HandGun: 0.8682432432432433\n",
      "Rifle: 0.7360594795539033\n"
     ]
    }
   ],
   "source": [
    "if edge == True: \n",
    "    dim = (x_train.shape[1], x_train.shape[2], 1)\n",
    "else: \n",
    "    dim = (x_train.shape[1], x_train.shape[2], 3)\n",
    "    \n",
    "normal_model = get_conv_model_normal(dim)\n",
    "normal_model.load_weights('../models/CNN-ModelCheckpointWeights1.h5') #load the best weights before overfitting\n",
    " \n",
    "\n",
    "\n",
    "    \n",
    "Viz.plot_roc_auc(normal_model, x_test, y_test)"
   ]
  },
  {
   "cell_type": "markdown",
   "metadata": {},
   "source": [
    "### Confusion Matrix"
   ]
  },
  {
   "cell_type": "code",
   "execution_count": null,
   "metadata": {},
   "outputs": [],
   "source": [
    "if edge == True: \n",
    "    dim = (x_train.shape[1], x_train.shape[2], 1)\n",
    "else: \n",
    "    dim = (x_train.shape[1], x_train.shape[2], 3)\n",
    "        \n",
    "normal_model = get_conv_model_normal(dim)\n",
    "normal_model.load_weights('../models/CNN-ModelCheckpointWeights4.h5') #load the best weights before overfitting\n",
    "\n",
    "\n",
    "\n",
    "\n",
    "\n",
    "y_test_prob = [np.argmax(i) for i in normal_model.predict(x_test)]\n",
    "y_test_labels = [np.argmax(\n",
    "    i) for i in y_test]\n",
    "test_cnf = confusion_matrix(y_test_labels, y_test_prob)\n",
    "\n",
    "y_train_prob = [np.argmax(i) for i in normal_model.predict(x_train)]\n",
    "y_train_labels = [np.argmax(i) for i in y_train]\n",
    "train_cnf = confusion_matrix(y_train_labels, y_train_prob)\n",
    "\n",
    "Viz.plot_model_cm(test_cnf, train_cnf, classes = ['No Weapon', 'Handgun', 'Rifle'])\n"
   ]
  },
  {
   "cell_type": "code",
   "execution_count": 10,
   "metadata": {},
   "outputs": [
    {
     "data": {
      "image/png": "[encoded data removed]",
      "text/plain": [
       "<Figure size 720x576 with 2 Axes>"
      ]
     },
     "metadata": {
      "needs_background": "light"
     },
     "output_type": "display_data"
    }
   ],
   "source": [
    "if edge == True: \n",
    "    dim = (x_train.shape[1], x_train.shape[2], 1)\n",
    "else: \n",
    "    dim = (x_train.shape[1], x_train.shape[2], 3)\n",
    "        \n",
    "normal_model = get_conv_model_normal(dim)\n",
    "normal_model.load_weights('../models/CNN-ModelCheckpointWeights2.h5') #load the best weights before overfitting\n",
    "\n",
    "\n",
    "\n",
    "\n",
    "\n",
    "y_test_prob = [np.argmax(i) for i in normal_model.predict(x_test)]\n",
    "y_test_labels = [np.argmax(\n",
    "    i) for i in y_test]\n",
    "test_cnf = confusion_matrix(y_test_labels, y_test_prob)\n",
    "\n",
    "y_train_prob = [np.argmax(i) for i in normal_model.predict(x_train)]\n",
    "y_train_labels = [np.argmax(i) for i in y_train]\n",
    "train_cnf = confusion_matrix(y_train_labels, y_train_prob)\n",
    "\n",
    "Viz.plot_model_cm(test_cnf, train_cnf, classes = ['No Weapon', 'Handgun', 'Rifle'])\n"
   ]
  },
  {
   "cell_type": "code",
   "execution_count": 19,
   "metadata": {},
   "outputs": [
    {
     "data": {
      "image/png": "[encoded data removed]",
      "text/plain": [
       "<Figure size 720x576 with 2 Axes>"
      ]
     },
     "metadata": {
      "needs_background": "light"
     },
     "output_type": "display_data"
    }
   ],
   "source": [
    "if edge == True: \n",
    "    dim = (x_train.shape[1], x_train.shape[2], 1)\n",
    "else: \n",
    "    dim = (x_train.shape[1], x_train.shape[2], 3)\n",
    "        \n",
    "normal_model = get_conv_model_normal(dim)\n",
    "normal_model.load_weights('../models/CNN-ModelCheckpointWeights1.h5') #load the best weights before overfitting\n",
    "\n",
    "\n",
    "\n",
    "\n",
    "\n",
    "y_test_prob = [np.argmax(i) for i in normal_model.predict(x_test)]\n",
    "y_test_labels = [np.argmax(\n",
    "    i) for i in y_test]\n",
    "test_cnf = confusion_matrix(y_test_labels, y_test_prob)\n",
    "\n",
    "y_train_prob = [np.argmax(i) for i in normal_model.predict(x_train)]\n",
    "y_train_labels = [np.argmax(i) for i in y_train]\n",
    "train_cnf = confusion_matrix(y_train_labels, y_train_prob)\n",
    "\n",
    "Viz.plot_model_cm(test_cnf, train_cnf, classes = ['No Weapon', 'Handgun', 'Rifle'])\n"
   ]
  },
  {
   "cell_type": "code",
   "execution_count": null,
   "metadata": {},
   "outputs": [],
   "source": [
    "assert False"
   ]
  },
  {
   "cell_type": "markdown",
   "metadata": {},
   "source": [
    "#### Test on Google Data\n"
   ]
  },
  {
   "cell_type": "code",
   "execution_count": 5,
   "metadata": {},
   "outputs": [],
   "source": [
    "import cv2\n",
    "from skimage.segmentation import mark_boundaries"
   ]
  },
  {
   "cell_type": "code",
   "execution_count": 30,
   "metadata": {},
   "outputs": [
    {
     "name": "stdout",
     "output_type": "stream",
     "text": [
      "../Tests/Photos/AR.jpg\t\t0||No Weapon\t\t1.0\t\t[1.000000e+00 9.124267e-27 6.584892e-22]\n",
      "(622, 150, 150)\n",
      "[56, 531, 380, 349, 534, 208]\n",
      "../Tests/Photos/NonGun.jpeg\t\t0||No Weapon\t\t1.0\t\t[1.0000000e+00 2.2783471e-17 1.3233782e-14]\n",
      "(3544, 150, 150)\n",
      "[3543, 3208, 2663, 3160, 222, 2388, 2387, 3254, 1710, 1821, 1354, 3109, 105, 822, 1736]\n",
      "../Tests/Photos/NonGun2.jpg\t\t0||No Weapon\t\t0.9999990463256836\t\t[9.9999905e-01 4.6709619e-08 9.2401808e-07]\n",
      "(288, 150, 150)\n",
      "[287, 112]\n",
      "../Tests/Photos/Pistol.jpg\t\t0||No Weapon\t\t0.999998927116394\t\t[9.9999893e-01 1.8402537e-07 7.7603426e-07]\n",
      "(3497, 150, 150)\n",
      "[3496, 1401, 2475, 2730, 3114, 239, 131, 2832, 2409, 485, 3307, 1901, 2396, 446, 2133, 1758, 407, 853]\n",
      "../Tests/Photos/Pistol2.jpg\t\t0||No Weapon\t\t1.0\t\t[1.0000000e+00 0.0000000e+00 3.0975404e-35]\n",
      "(10295, 150, 150)\n",
      "[10294, 8646, 10252, 7522, 2857, 6578, 5505, 5433, 7220, 5510, 4262]\n",
      "../Tests/Photos/Pistol3.jpg\t\t0||No Weapon\t\t1.0\t\t[1.0000000e+00 1.5070576e-09 3.3520937e-09]\n",
      "(239, 150, 150)\n",
      "[238]\n",
      "../Tests/Photos/Pistol4.jpg\t\t0||No Weapon\t\t1.0\t\t[1.0000000e+00 5.2768627e-19 2.5143476e-15]\n",
      "(398, 150, 150)\n",
      "[268, 378, 111, 141]\n"
     ]
    }
   ],
   "source": [
    "#WITH MAX SUPPRESION\n",
    "\n",
    "\n",
    "#     clone = img.copy() \n",
    "#     clone2 = img.copy()\n",
    "#     for idx, pred in enumerate(predictions): \n",
    "#         if pred[1] == 1 or pred[2] == 1: \n",
    "#             startx, starty, endx, endy = locations[idx]\n",
    "#             cv2.rectangle(clone, (startx, starty), (endx, endy), (0,0,255), 2)\n",
    "            \n",
    "#     no_sum = predictions[:,0].sum()\n",
    "#     pistol_sum = predictions[:,1].sum()\n",
    "#     rifle_sum = predictions[:,2].sum() \n",
    "#     sum_array = np.array([no_sum, pistol_sum, rifle_sum])\n",
    "#     print(sum_array)\n",
    "#     clone = img.copy()\n",
    "#     clone2 = img.copy()\n",
    "#     print(np.argmax(sum_array))\n",
    "#     cat_predictions = predictions[:,np.argmax(sum_array)]\n",
    "#     pred_max_idx = np.argmax(cat_predictions)\n",
    "#     pred_max = cat_predictions[pred_max_idx]\n",
    "    \n",
    "#     pred_max_window = locations[pred_max_idx]\n",
    "#     startx, starty, endx, endy = pred_max_window\n",
    "\n",
    "\n",
    "#     cv2.rectangle(clone, (startx, starty), (endx, endy),  (0,0,255),2)\n",
    "#     cat = category_dict[np.argmax(sum_array)]\n",
    "#     text = f'{cat}'\n",
    "#     cv2.putText(clone, text, (startx, starty), cv2.FONT_HERSHEY_SIMPLEX, .45, (0,0,255),2)\n",
    "\n",
    "def auto_canny(image, sigma=0.33):\n",
    "    # compute the median of the single channel pixel intensities\n",
    "    v = np.median(image)\n",
    "    # apply automatic Canny edge detection using the computed median\n",
    "    lower = int(max(0, (1.0 - sigma) * v))\n",
    "    upper = int(min(255, (1.0 + sigma) * v))\n",
    "    edged = cv2.Canny(image, lower, upper)\n",
    "    return edged\n",
    "\n",
    "def get_edged(img, dim): \n",
    "    blurred = cv2.GaussianBlur(img, (3,3), 0)\n",
    "    wide = cv2.Canny(blurred, 10,200)\n",
    "    tight = cv2.Canny(blurred, 225, 250)\n",
    "    auto = auto_canny(blurred)\n",
    "    wide = cv2.resize(wide, dim, interpolation = cv2.INTER_CUBIC)\n",
    "    tight = cv2.resize(tight, dim, interpolation = cv2.INTER_CUBIC)\n",
    "    auto = cv2.resize(auto, dim, interpolation = cv2.INTER_CUBIC)\n",
    "    return wide\n",
    "\n",
    "\n",
    "def get_img_prediction_bounding_box(path, model, dim, edge = False):\n",
    "    img = func.get_image_value(path, dim, edge = edge)\n",
    "\n",
    "    if edge == True:\n",
    "        img = img.reshape(1, img.shape[0], img.shape[1], 1)\n",
    "    else: \n",
    "        img = img.reshape(1, img.shape[0], img.shape[1], 3)\n",
    "    pred = model.predict(img)[0]\n",
    "    \n",
    "    category_dict = {0: 'No Weapon', 1: 'Handgun', 2: 'Rifle'}\n",
    "    cat_index = np.argmax(pred)\n",
    "    cat = category_dict[cat_index]\n",
    "    \n",
    "    print(f'{path}\\t\\t{cat_index}||{cat}\\t\\t{pred.max()}\\t\\t{pred}')\n",
    "    \n",
    "    img = cv2.imread(path)\n",
    "    ss = cv2.ximgproc.segmentation.createSelectiveSearchSegmentation()\n",
    "    ss.setBaseImage(img)\n",
    "    ss.switchToSelectiveSearchFast()\n",
    "    rects = ss.process() \n",
    "\n",
    "    windows = []\n",
    "    locations = []\n",
    "    for x, y, w,h in rects: \n",
    "        startx = x \n",
    "        starty = y \n",
    "        endx = x+w \n",
    "        endy = y+h \n",
    "        roi = img[starty:endy, startx:endx]\n",
    "        if edge == True:\n",
    "            roi = get_edged(roi, dim = dim)\n",
    "        roi = cv2.resize(roi, dsize =dim, interpolation = cv2.INTER_CUBIC)\n",
    "        windows.append(roi)\n",
    "        locations.append((startx, starty, endx, endy))\n",
    "\n",
    "    windows = np.array(windows)\n",
    "    print(windows.shape)\n",
    "    if edge == True:\n",
    "        windows = windows.reshape(windows.shape[0], windows.shape[1], windows.shape[2], 1)\n",
    "    else: \n",
    "        windows = windows.reshape(windows.shape[0], windows.shape[1], windows.shape[2], 3)\n",
    "    windows = np.array(windows)\n",
    "    locations = np.array(locations)\n",
    "    predictions = model.predict(windows)\n",
    "    \n",
    "    pick = non_max_suppression(locations, probs = None)\n",
    "    print(pick)\n",
    "    clone = img.copy() \n",
    "    clone2 = img.copy()\n",
    "    for idx in pick: \n",
    "        startx, startx, endx, endy = locations[idx]\n",
    "        cv2.rectangle(clone, (startx, starty), (endx, endy), (0,0,255), 2)\n",
    "        \n",
    "    \n",
    "#GOES HERE \n",
    "    cv2.imshow(f'Test', np.hstack([clone, clone2]))\n",
    "    cv2.waitKey(0)\n",
    "    ss.clear()\n",
    "\n",
    "\n",
    "    return predictions\n",
    "\n",
    "\n",
    "\n",
    "def non_max_suppression(boxes, probs, overlapThresh=0.3):\n",
    "    # if there are no boxes, return an empty list\n",
    "    if len(boxes) == 0:\n",
    "        return []\n",
    "\n",
    "    # if the bounding boxes are integers, convert them to floats -- this\n",
    "    # is important since we'll be doing a bunch of divisions\n",
    "    if boxes.dtype.kind == \"i\":\n",
    "        boxes = boxes.astype(\"float\")\n",
    "\n",
    "    # initialize the list of picked indexes\n",
    "    pick = []\n",
    "\n",
    "    # grab the coordinates of the bounding boxes\n",
    "    x1 = boxes[:, 0]\n",
    "    y1 = boxes[:, 1]\n",
    "    x2 = boxes[:, 2]\n",
    "    y2 = boxes[:, 3]\n",
    "\n",
    "    # compute the area of the bounding boxes and grab the indexes to sort\n",
    "    # (in the case that no probabilities are provided, simply sort on the\n",
    "    # bottom-left y-coordinate)\n",
    "    area = (x2 - x1 + 1) * (y2 - y1 + 1)\n",
    "    idxs = y2\n",
    "\n",
    "    # if probabilities are provided, sort on them instead\n",
    "    if probs is not None:\n",
    "        idxs = probs\n",
    "\n",
    "    # sort the indexes\n",
    "    idxs = np.argsort(idxs)\n",
    "    # keep looping while some indexes still remain in the indexes list\n",
    "    while len(idxs) > 0:\n",
    "        # grab the last index in the indexes list and add the index value\n",
    "        # to the list of picked indexes\n",
    "        last = len(idxs) - 1\n",
    "        i = idxs[last]\n",
    "        pick.append(i)\n",
    "\n",
    "        # find the largest (x, y) coordinates for the start of the bounding\n",
    "        # box and the smallest (x, y) coordinates for the end of the bounding\n",
    "        # box\n",
    "        xx1 = np.maximum(x1[i], x1[idxs[:last]])\n",
    "        yy1 = np.maximum(y1[i], y1[idxs[:last]])\n",
    "        xx2 = np.minimum(x2[i], x2[idxs[:last]])\n",
    "        yy2 = np.minimum(y2[i], y2[idxs[:last]])\n",
    "\n",
    "        # compute the width and height of the bounding box\n",
    "        w = np.maximum(0, xx2 - xx1 + 1)\n",
    "        h = np.maximum(0, yy2 - yy1 + 1)\n",
    "\n",
    "        # compute the ratio of overlap\n",
    "        overlap = (w * h) / area[idxs[:last]]\n",
    "\n",
    "        # delete all indexes from the index list that have overlap greater\n",
    "        # than the provided overlap threshold\n",
    "        idxs = np.delete(idxs, np.concatenate(([last],\n",
    "            np.where(overlap > overlapThresh)[0])))\n",
    "\n",
    "    # return the indexes of only the bounding boxes to keep\n",
    "    return pick\n",
    "\n",
    "\n",
    "base_path = '../Tests/Photos'\n",
    "edge = True\n",
    "if edge == True: \n",
    "    dim = (x_train.shape[1], x_train.shape[2], 1)\n",
    "else: \n",
    "    dim = (x_train.shape[1], x_train.shape[2], 3)\n",
    "    \n",
    "normal_model = get_conv_model_normal(dim)\n",
    "normal_model.load_weights('../models/CNN-ModelCheckpointWeights2.h5')\n",
    "\n",
    "for file in os.listdir(base_path):\n",
    "    img = get_img_prediction_bounding_box(f'{base_path}/{file}', normal_model, var.norm_dimension, edge = edge)\n",
    "    \n",
    "    "
   ]
  },
  {
   "cell_type": "code",
   "execution_count": null,
   "metadata": {},
   "outputs": [],
   "source": []
  },
  {
   "cell_type": "code",
   "execution_count": null,
   "metadata": {},
   "outputs": [],
   "source": []
  },
  {
   "cell_type": "code",
   "execution_count": 32,
   "metadata": {},
   "outputs": [
    {
     "name": "stdout",
     "output_type": "stream",
     "text": [
      "../Tests/Photos/AR.jpg\t\t0||No Weapon\t\t1.0\t\t[1.000000e+00 9.124267e-27 6.584892e-22]\n",
      "(622, 150, 150)\n",
      "[129.78917 287.90137 204.3095 ]\n",
      "../Tests/Photos/NonGun.jpeg\t\t0||No Weapon\t\t1.0\t\t[1.0000000e+00 2.2783471e-17 1.3233782e-14]\n",
      "(3544, 150, 150)\n",
      "[ 551.0674 2173.7197  819.213 ]\n",
      "../Tests/Photos/NonGun2.jpg\t\t0||No Weapon\t\t0.9999990463256836\t\t[9.9999905e-01 4.6709619e-08 9.2401808e-07]\n",
      "(288, 150, 150)\n",
      "[ 30.272858 147.12474  110.6024  ]\n",
      "../Tests/Photos/Pistol.jpg\t\t0||No Weapon\t\t0.999998927116394\t\t[9.9999893e-01 1.8402537e-07 7.7603426e-07]\n",
      "(3497, 150, 150)\n",
      "[ 483.3201  2416.0374   597.64246]\n",
      "../Tests/Photos/Pistol2.jpg\t\t0||No Weapon\t\t1.0\t\t[1.0000000e+00 0.0000000e+00 3.0975404e-35]\n",
      "(10295, 150, 150)\n",
      "[2650.1099 2994.2395 4650.6504]\n",
      "../Tests/Photos/Pistol3.jpg\t\t0||No Weapon\t\t1.0\t\t[1.0000000e+00 1.5070576e-09 3.3520937e-09]\n",
      "(239, 150, 150)\n",
      "[  2.3271766 178.2691     58.403717 ]\n",
      "../Tests/Photos/Pistol4.jpg\t\t0||No Weapon\t\t1.0\t\t[1.0000000e+00 5.2768627e-19 2.5143476e-15]\n",
      "(398, 150, 150)\n",
      "[ 64.25247  266.53915   67.208374]\n"
     ]
    }
   ],
   "source": [
    "#WITHOUT MAX SUPPRESION\n",
    "def auto_canny(image, sigma=0.33):\n",
    "    # compute the median of the single channel pixel intensities\n",
    "    v = np.median(image)\n",
    "    # apply automatic Canny edge detection using the computed median\n",
    "    lower = int(max(0, (1.0 - sigma) * v))\n",
    "    upper = int(min(255, (1.0 + sigma) * v))\n",
    "    edged = cv2.Canny(image, lower, upper)\n",
    "    return edged\n",
    "\n",
    "def get_edged(img, dim): \n",
    "    blurred = cv2.GaussianBlur(img, (3,3), 0)\n",
    "    wide = cv2.Canny(blurred, 10,200)\n",
    "    tight = cv2.Canny(blurred, 225, 250)\n",
    "    auto = auto_canny(blurred)\n",
    "    wide = cv2.resize(wide, dim, interpolation = cv2.INTER_CUBIC)\n",
    "    tight = cv2.resize(tight, dim, interpolation = cv2.INTER_CUBIC)\n",
    "    auto = cv2.resize(auto, dim, interpolation = cv2.INTER_CUBIC)\n",
    "    return wide\n",
    "\n",
    "\n",
    "\n",
    "def get_img_prediction_bounding_box(path, model, dim, edge = False):\n",
    "    img = func.get_image_value(path, dim, edge = edge)\n",
    "\n",
    "    if edge == True:\n",
    "        img = img.reshape(1, img.shape[0], img.shape[1], 1)\n",
    "    else: \n",
    "        img = img.reshape(1, img.shape[0], img.shape[1], 3)\n",
    "    pred = model.predict(img)[0]\n",
    "    \n",
    "    category_dict = {0: 'No Weapon', 1: 'Handgun', 2: 'Rifle'}\n",
    "    cat_index = np.argmax(pred)\n",
    "    cat = category_dict[cat_index]\n",
    "    \n",
    "    print(f'{path}\\t\\t{cat_index}||{cat}\\t\\t{pred.max()}\\t\\t{pred}')\n",
    "    \n",
    "    \n",
    "    img = cv2.imread(path)\n",
    "    ss = cv2.ximgproc.segmentation.createSelectiveSearchSegmentation()\n",
    "    ss.setBaseImage(img)\n",
    "    ss.switchToSelectiveSearchFast()\n",
    "    rects = ss.process() \n",
    "\n",
    "    windows = []\n",
    "    locations = []\n",
    "    for x, y, w,h in rects: \n",
    "        startx = x \n",
    "        starty = y \n",
    "        endx = x+w \n",
    "        endy = y+h \n",
    "        roi = img[starty:endy, startx:endx]\n",
    "        if edge == True:\n",
    "            roi = get_edged(roi, dim = dim)\n",
    "        roi = cv2.resize(roi, dsize =dim, interpolation = cv2.INTER_CUBIC)\n",
    "        windows.append(roi)\n",
    "        locations.append((startx, starty, endx, endy))\n",
    "\n",
    "    windows = np.array(windows)\n",
    "    print(windows.shape)\n",
    "    if edge == True:\n",
    "        windows = windows.reshape(windows.shape[0], windows.shape[1], windows.shape[2], 1)\n",
    "    else: \n",
    "        windows = windows.reshape(windows.shape[0], windows.shape[1], windows.shape[2], 3)\n",
    "    predictions = model.predict(windows)\n",
    "    \n",
    "    clone = img.copy() \n",
    "    clone2 = img.copy()\n",
    "    for idx, pred in enumerate(predictions): \n",
    "        if pred[1] == 1 or pred[2] == 1: \n",
    "            startx, starty, endx, endy = locations[idx]\n",
    "            cv2.rectangle(clone, (startx, starty), (endx, endy), (0,0,255), 2)\n",
    "            break\n",
    "            \n",
    "    no_sum = predictions[:,0].sum()\n",
    "    pistol_sum = predictions[:,1].sum()\n",
    "    rifle_sum = predictions[:,2].sum() \n",
    "    sum_array = np.array([no_sum, pistol_sum, rifle_sum])\n",
    "    print(sum_array)\n",
    "#     clone = img.copy()\n",
    "#     clone2 = img.copy()\n",
    "#     print(np.argmax(sum_array))\n",
    "#     cat_predictions = predictions[:,np.argmax(sum_array)]\n",
    "#     pred_max_idx = np.argmax(cat_predictions)\n",
    "#     pred_max = cat_predictions[pred_max_idx]\n",
    "    \n",
    "#     pred_max_window = locations[pred_max_idx]\n",
    "#     startx, starty, endx, endy = pred_max_window\n",
    "\n",
    "\n",
    "#     cv2.rectangle(clone, (startx, starty), (endx, endy),  (0,0,255),2)\n",
    "#     cat = category_dict[np.argmax(sum_array)]\n",
    "#     text = f'{cat}'\n",
    "#     cv2.putText(clone, text, (startx, starty), cv2.FONT_HERSHEY_SIMPLEX, .45, (0,0,255),2)\n",
    "   \n",
    "\n",
    "    cv2.imshow(f'Test', np.hstack([clone, clone2]))\n",
    "    cv2.waitKey(0)\n",
    "    ss.clear()\n",
    "\n",
    "\n",
    "    return predictions\n",
    "base_path = '../Tests/Photos'\n",
    "edge = True\n",
    "if edge == True: \n",
    "    dim = (x_train.shape[1], x_train.shape[2], 1)\n",
    "else: \n",
    "    dim = (x_train.shape[1], x_train.shape[2], 3)\n",
    "    \n",
    "normal_model = get_conv_model_normal(dim)\n",
    "normal_model.load_weights('../models/CNN-ModelCheckpointWeights2.h5')\n",
    "\n",
    "for file in os.listdir(base_path): \n",
    "    img = get_img_prediction_bounding_box(f'{base_path}/{file}', normal_model, var.norm_dimension, edge = edge)\n",
    "    \n",
    "    "
   ]
  },
  {
   "cell_type": "code",
   "execution_count": 15,
   "metadata": {},
   "outputs": [
    {
     "data": {
      "text/plain": [
       "[array([2, 1, 0], dtype=int64), 0, 1, 2]"
      ]
     },
     "execution_count": 15,
     "metadata": {},
     "output_type": "execute_result"
    }
   ],
   "source": [
    "img"
   ]
  },
  {
   "cell_type": "code",
   "execution_count": 36,
   "metadata": {},
   "outputs": [
    {
     "name": "stdout",
     "output_type": "stream",
     "text": [
      "AR.jpg\t\t0\t\t1.0\t\t[1.000000e+00 9.124267e-27 6.584892e-22]\n",
      "NonGun.jpeg\t\t0\t\t1.0\t\t[1.0000000e+00 2.2783471e-17 1.3233782e-14]\n",
      "NonGun2.jpg\t\t0\t\t0.9999990463256836\t\t[9.9999905e-01 4.6709619e-08 9.2401808e-07]\n",
      "Pistol.jpg\t\t0\t\t0.999998927116394\t\t[9.9999893e-01 1.8402537e-07 7.7603426e-07]\n",
      "Pistol2.jpg\t\t0\t\t1.0\t\t[1.0000000e+00 0.0000000e+00 3.0975404e-35]\n",
      "Pistol3.jpg\t\t0\t\t1.0\t\t[1.0000000e+00 1.5070576e-09 3.3520937e-09]\n",
      "Pistol4.jpg\t\t0\t\t1.0\t\t[1.0000000e+00 5.2768627e-19 2.5143476e-15]\n",
      "Pistol4.png\t\t0\t\t1.0\t\t[1.0000000e+00 4.5055257e-23 8.4563755e-19]\n"
     ]
    }
   ],
   "source": [
    "base_path = '../Tests/Photos'\n",
    "edge = True\n",
    "if edge == True: \n",
    "    dim = (x_train.shape[1], x_train.shape[2], 1)\n",
    "else: \n",
    "    dim = (x_train.shape[1], x_train.shape[2], 3)\n",
    "    \n",
    "normal_model = get_conv_model_normal(dim)\n",
    "normal_model.load_weights('../models/CNN-ModelCheckpointWeights2.h5')\n",
    "\n",
    "\n",
    "for file in os.listdir(base_path): \n",
    "    if file == '.ipynb_checkpoints':\n",
    "        continue\n",
    "    full_path = f'{base_path}/{file}'\n",
    "    if edge == True: \n",
    "        img = func.get_image_value(full_path, var.norm_dimension, edge = True)   \n",
    "        img = img.reshape(1, img.shape[0], img.shape[1], 1)\n",
    "    else:\n",
    "        img = func.get_image_value(full_path, var.norm_dimension) \n",
    "        print(img.shape)\n",
    "        img = img.reshape(1, img.shape[0], img.shape[1], 3)\n",
    "    pred = normal_model.predict(img)[0]\n",
    "    print(f'{file}\\t\\t{np.argmax(pred)}\\t\\t{pred.max()}\\t\\t{pred}')"
   ]
  },
  {
   "cell_type": "code",
   "execution_count": 30,
   "metadata": {},
   "outputs": [
    {
     "name": "stdout",
     "output_type": "stream",
     "text": [
      "(150, 150, 3)\n",
      "AR.jpg\t\t0\t\t0.9999990463256836\t\t[9.9999905e-01 4.6785953e-09 9.1989705e-07]\n",
      "(150, 150, 3)\n",
      "NonGun.jpeg\t\t0\t\t0.9999905824661255\t\t[9.999906e-01 8.386117e-07 8.615097e-06]\n",
      "(150, 150, 3)\n",
      "NonGun2.jpg\t\t0\t\t0.9608524441719055\t\t[0.96085244 0.03173483 0.00741272]\n",
      "(150, 150, 3)\n",
      "Pistol.jpg\t\t0\t\t0.9972877502441406\t\t[9.9728775e-01 6.2340341e-04 2.0888839e-03]\n",
      "(150, 150, 3)\n",
      "Pistol2.jpg\t\t0\t\t1.0\t\t[1.0000000e+00 1.7643463e-27 1.7752359e-29]\n",
      "(150, 150, 3)\n",
      "Pistol3.jpg\t\t2\t\t0.48051291704177856\t\t[0.35831457 0.16117254 0.48051292]\n",
      "(150, 150, 3)\n",
      "Pistol4.jpg\t\t0\t\t0.992789089679718\t\t[9.9278909e-01 7.7711506e-04 6.4337975e-03]\n",
      "(150, 150, 3)\n",
      "Pistol4.png\t\t0\t\t0.9941229224205017\t\t[9.9412292e-01 8.8297087e-04 4.9940483e-03]\n"
     ]
    }
   ],
   "source": [
    "base_path = '../Tests/Photos'\n",
    "edge = False\n",
    "if edge == True: \n",
    "    dim = (x_train.shape[1], x_train.shape[2], 1)\n",
    "else: \n",
    "    dim = (x_train.shape[1], x_train.shape[2], 3)\n",
    "    \n",
    "normal_model = get_conv_model_normal(dim)\n",
    "normal_model.load_weights('../models/CNN-ModelCheckpointWeights1.h5')\n",
    "\n",
    "\n",
    "for file in os.listdir(base_path): \n",
    "    if file == '.ipynb_checkpoints':\n",
    "        continue\n",
    "    full_path = f'{base_path}/{file}'\n",
    "    if edge == True: \n",
    "        img = func.get_image_value(full_path, var.norm_dimension, edge = True)   \n",
    "        img = img.reshape(1, img.shape[0], img.shape[1], 1)\n",
    "    else:\n",
    "        img = func.get_image_value(full_path, var.norm_dimension) \n",
    "        print(img.shape)\n",
    "        img = img.reshape(1, img.shape[0], img.shape[1], 3)\n",
    "    pred = normal_model.predict(img)[0]\n",
    "    print(f'{file}\\t\\t{np.argmax(pred)}\\t\\t{pred.max()}\\t\\t{pred}')"
   ]
  },
  {
   "cell_type": "code",
   "execution_count": 19,
   "metadata": {},
   "outputs": [
    {
     "name": "stdout",
     "output_type": "stream",
     "text": [
      "../Tests/Photos/Pistol2.jpg\t\t0||No Weapon\t\t1.0\t\t[1.0000000e+00 1.7643463e-27 1.7752359e-29]\n"
     ]
    }
   ],
   "source": [
    "img = get_img_prediction_bounding_box('../Tests/Photos/Pistol.jpg', normal_model, var.norm_dimension)"
   ]
  },
  {
   "cell_type": "code",
   "execution_count": null,
   "metadata": {},
   "outputs": [],
   "source": [
    "\n",
    "\n",
    "\n",
    "\n",
    "   "
   ]
  },
  {
   "cell_type": "code",
   "execution_count": null,
   "metadata": {},
   "outputs": [],
   "source": []
  },
  {
   "cell_type": "code",
   "execution_count": null,
   "metadata": {},
   "outputs": [],
   "source": []
  },
  {
   "cell_type": "code",
   "execution_count": null,
   "metadata": {},
   "outputs": [],
   "source": [
    "assert False"
   ]
  },
  {
   "cell_type": "code",
   "execution_count": null,
   "metadata": {
    "scrolled": true
   },
   "outputs": [],
   "source": [
    "from lime import lime_image\n",
    "\n",
    "model 3\n",
    "\n",
    "if edge == True: \n",
    "    img = func.get_image_value(full_path, var.norm_dimension, edge = True)   \n",
    "    img = np.stack((img,)*3, axis = -1)\n",
    "else:\n",
    "    img = func.get_image_value(full_path, var.norm_dimension)    \n",
    "    img = img.reshape(1, img.shape[0], img.shape[1], img.shape[2])\n",
    "\n",
    "explainer = lime_image.LimeImageExplainer()\n",
    "\n",
    "explanation = explainer.explain_instance(img, normal_model.predict, top_labels = 5, hide_color = 0, \n",
    "                                         num_samples = 2000)\n",
    "\n",
    "temp, mask = explanation.get_image_and_mask(explanation.top_labels[0], positive_only = False,\n",
    "                                           num_features = 10, hide_rest = False)\n",
    "plt.imshow(mark_boundaries(temp/2 + .5, mask))"
   ]
  },
  {
   "cell_type": "code",
   "execution_count": null,
   "metadata": {},
   "outputs": [],
   "source": []
  },
  {
   "cell_type": "code",
   "execution_count": null,
   "metadata": {},
   "outputs": [],
   "source": []
  },
  {
   "cell_type": "code",
   "execution_count": null,
   "metadata": {},
   "outputs": [],
   "source": []
  },
  {
   "cell_type": "code",
   "execution_count": null,
   "metadata": {},
   "outputs": [],
   "source": []
  },
  {
   "cell_type": "code",
   "execution_count": null,
   "metadata": {},
   "outputs": [],
   "source": []
  },
  {
   "cell_type": "code",
   "execution_count": null,
   "metadata": {},
   "outputs": [],
   "source": [
    "assert False"
   ]
  },
  {
   "cell_type": "code",
   "execution_count": 6,
   "metadata": {},
   "outputs": [
    {
     "name": "stderr",
     "output_type": "stream",
     "text": [
      "INFO:plaidml:Opening device \"opencl_amd_ellesmere.0\"\n",
      "Splitting Video Into 720 Frames: 100%|█████████████████████████████████████████████████████████████████████████████████████████████████████████████████| 720/720 [00:02<00:00, 312.60it/s]\n"
     ]
    }
   ],
   "source": [
    "from tqdm import tqdm\n",
    "def auto_canny(image, sigma=0.33):\n",
    "    # compute the median of the single channel pixel intensities\n",
    "    v = np.median(image)\n",
    "    # apply automatic Canny edge detection using the computed median\n",
    "    lower = int(max(0, (1.0 - sigma) * v))\n",
    "    upper = int(min(255, (1.0 + sigma) * v))\n",
    "    edged = cv2.Canny(image, lower, upper)\n",
    "    return edged\n",
    "\n",
    "def get_edged(img, dim): \n",
    "    blurred = cv2.GaussianBlur(img, (3,3), 0)\n",
    "    wide = cv2.Canny(blurred, 10,200)\n",
    "    tight = cv2.Canny(blurred, 225, 250)\n",
    "    auto = auto_canny(blurred)\n",
    "    wide = cv2.resize(wide, dim, interpolation = cv2.INTER_CUBIC)\n",
    "    tight = cv2.resize(tight, dim, interpolation = cv2.INTER_CUBIC)\n",
    "    auto = cv2.resize(auto, dim, interpolation = cv2.INTER_CUBIC)\n",
    "    return wide\n",
    "\n",
    "def get_vid_prediction_bounding_box(path, model, dim, edge = False): \n",
    "    vid = cv2.VideoCapture(path)\n",
    "    total_frames = int(vid.get(cv2.CAP_PROP_FRAME_COUNT))\n",
    "    pbar = tqdm(total = total_frames, desc = f'Splitting Video Into {total_frames} Frames')\n",
    "    images = [] \n",
    "    sucess =1 \n",
    "    while True: \n",
    "        try:\n",
    "            success, img = vid.read() \n",
    "            img = cv2.resize(img, dim, interpolation = cv2.INTER_CUBIC)\n",
    "            images.append(img)\n",
    "            pbar.update(1)\n",
    "        except: \n",
    "            break\n",
    "        \n",
    "\n",
    "    pbar.close()\n",
    "    images = np.array(images)\n",
    "#     if edge == True: \n",
    "#         images = images.reshape(images.shape[0], images.shape[1], images.shape[2], 1)\n",
    "        \n",
    "    \n",
    "    return images\n",
    "   \n",
    "\n",
    "if edge == True: \n",
    "    dim = (x_train.shape[1], x_train.shape[2], 1)\n",
    "else: \n",
    "    dim = (x_train.shape[1], x_train.shape[2], 3)\n",
    "    \n",
    "normal_model = get_conv_model_normal(dim)\n",
    "normal_model.load_weights('../models/CNN-ModelCheckpointWeights2.h5')\n",
    "\n",
    "images = get_vid_prediction_bounding_box('../Tests/Videos/Pistol2.mp4', normal_model, var.norm_dimension, edge = True)\n",
    "# predictions = normal_model.predict(images)"
   ]
  },
  {
   "cell_type": "code",
   "execution_count": 7,
   "metadata": {},
   "outputs": [
    {
     "name": "stderr",
     "output_type": "stream",
     "text": [
      "Getting Base Prediction and Extracting Sliding Window... Sit Back, This Will Take A While:  10%|█████▉                                                   | 75/720 [01:18<02:55,  3.68it/s]"
     ]
    },
    {
     "ename": "KeyboardInterrupt",
     "evalue": "",
     "output_type": "error",
     "traceback": [
      "\u001b[1;31m---------------------------------------------------------------------------\u001b[0m",
      "\u001b[1;31mKeyboardInterrupt\u001b[0m                         Traceback (most recent call last)",
      "\u001b[1;32m<ipython-input-7-7080480ef57c>\u001b[0m in \u001b[0;36m<module>\u001b[1;34m\u001b[0m\n\u001b[0;32m     34\u001b[0m \u001b[1;33m\u001b[0m\u001b[0m\n\u001b[0;32m     35\u001b[0m \u001b[0mpbar\u001b[0m \u001b[1;33m=\u001b[0m \u001b[0mtqdm\u001b[0m\u001b[1;33m(\u001b[0m\u001b[0mimages\u001b[0m\u001b[1;33m,\u001b[0m \u001b[0mdesc\u001b[0m\u001b[1;33m=\u001b[0m \u001b[1;34m'Getting Base Prediction and Extracting Sliding Window... Sit Back, This Will Take A While'\u001b[0m\u001b[1;33m)\u001b[0m\u001b[1;33m\u001b[0m\u001b[1;33m\u001b[0m\u001b[0m\n\u001b[1;32m---> 36\u001b[1;33m \u001b[0mwindows_prob\u001b[0m \u001b[1;33m=\u001b[0m \u001b[1;33m[\u001b[0m\u001b[0mwindow_prob_func\u001b[0m\u001b[1;33m(\u001b[0m\u001b[0mimg\u001b[0m\u001b[1;33m,\u001b[0m \u001b[0mnormal_model\u001b[0m\u001b[1;33m,\u001b[0m \u001b[0mvar\u001b[0m\u001b[1;33m.\u001b[0m\u001b[0mnorm_dimension\u001b[0m\u001b[1;33m,\u001b[0m \u001b[0medge\u001b[0m \u001b[1;33m=\u001b[0m \u001b[1;32mTrue\u001b[0m\u001b[1;33m)\u001b[0m \u001b[1;32mfor\u001b[0m \u001b[0mimg\u001b[0m \u001b[1;32min\u001b[0m \u001b[0mpbar\u001b[0m\u001b[1;33m]\u001b[0m\u001b[1;33m\u001b[0m\u001b[1;33m\u001b[0m\u001b[0m\n\u001b[0m",
      "\u001b[1;32m<ipython-input-7-7080480ef57c>\u001b[0m in \u001b[0;36m<listcomp>\u001b[1;34m(.0)\u001b[0m\n\u001b[0;32m     34\u001b[0m \u001b[1;33m\u001b[0m\u001b[0m\n\u001b[0;32m     35\u001b[0m \u001b[0mpbar\u001b[0m \u001b[1;33m=\u001b[0m \u001b[0mtqdm\u001b[0m\u001b[1;33m(\u001b[0m\u001b[0mimages\u001b[0m\u001b[1;33m,\u001b[0m \u001b[0mdesc\u001b[0m\u001b[1;33m=\u001b[0m \u001b[1;34m'Getting Base Prediction and Extracting Sliding Window... Sit Back, This Will Take A While'\u001b[0m\u001b[1;33m)\u001b[0m\u001b[1;33m\u001b[0m\u001b[1;33m\u001b[0m\u001b[0m\n\u001b[1;32m---> 36\u001b[1;33m \u001b[0mwindows_prob\u001b[0m \u001b[1;33m=\u001b[0m \u001b[1;33m[\u001b[0m\u001b[0mwindow_prob_func\u001b[0m\u001b[1;33m(\u001b[0m\u001b[0mimg\u001b[0m\u001b[1;33m,\u001b[0m \u001b[0mnormal_model\u001b[0m\u001b[1;33m,\u001b[0m \u001b[0mvar\u001b[0m\u001b[1;33m.\u001b[0m\u001b[0mnorm_dimension\u001b[0m\u001b[1;33m,\u001b[0m \u001b[0medge\u001b[0m \u001b[1;33m=\u001b[0m \u001b[1;32mTrue\u001b[0m\u001b[1;33m)\u001b[0m \u001b[1;32mfor\u001b[0m \u001b[0mimg\u001b[0m \u001b[1;32min\u001b[0m \u001b[0mpbar\u001b[0m\u001b[1;33m]\u001b[0m\u001b[1;33m\u001b[0m\u001b[1;33m\u001b[0m\u001b[0m\n\u001b[0m",
      "\u001b[1;32m<ipython-input-7-7080480ef57c>\u001b[0m in \u001b[0;36mwindow_prob_func\u001b[1;34m(img, model, dim, edge)\u001b[0m\n\u001b[0;32m     26\u001b[0m     \u001b[1;32melse\u001b[0m\u001b[1;33m:\u001b[0m\u001b[1;33m\u001b[0m\u001b[1;33m\u001b[0m\u001b[0m\n\u001b[0;32m     27\u001b[0m         \u001b[0mwindows\u001b[0m \u001b[1;33m=\u001b[0m \u001b[0mwindows\u001b[0m\u001b[1;33m.\u001b[0m\u001b[0mreshape\u001b[0m\u001b[1;33m(\u001b[0m\u001b[0mwindows\u001b[0m\u001b[1;33m.\u001b[0m\u001b[0mshape\u001b[0m\u001b[1;33m[\u001b[0m\u001b[1;36m0\u001b[0m\u001b[1;33m]\u001b[0m\u001b[1;33m,\u001b[0m \u001b[0mwindows\u001b[0m\u001b[1;33m.\u001b[0m\u001b[0mshape\u001b[0m\u001b[1;33m[\u001b[0m\u001b[1;36m1\u001b[0m\u001b[1;33m]\u001b[0m\u001b[1;33m,\u001b[0m \u001b[0mwindows\u001b[0m\u001b[1;33m.\u001b[0m\u001b[0mshape\u001b[0m\u001b[1;33m[\u001b[0m\u001b[1;36m2\u001b[0m\u001b[1;33m]\u001b[0m\u001b[1;33m,\u001b[0m \u001b[1;36m3\u001b[0m\u001b[1;33m)\u001b[0m\u001b[1;33m\u001b[0m\u001b[1;33m\u001b[0m\u001b[0m\n\u001b[1;32m---> 28\u001b[1;33m     \u001b[0mpredictions\u001b[0m \u001b[1;33m=\u001b[0m \u001b[0mmodel\u001b[0m\u001b[1;33m.\u001b[0m\u001b[0mpredict\u001b[0m\u001b[1;33m(\u001b[0m\u001b[0mwindows\u001b[0m\u001b[1;33m)\u001b[0m\u001b[1;33m\u001b[0m\u001b[1;33m\u001b[0m\u001b[0m\n\u001b[0m\u001b[0;32m     29\u001b[0m \u001b[1;33m\u001b[0m\u001b[0m\n\u001b[0;32m     30\u001b[0m     \u001b[1;32mfor\u001b[0m \u001b[0midx\u001b[0m\u001b[1;33m,\u001b[0m \u001b[0mpred\u001b[0m \u001b[1;32min\u001b[0m \u001b[0menumerate\u001b[0m\u001b[1;33m(\u001b[0m\u001b[0mpredictions\u001b[0m\u001b[1;33m)\u001b[0m\u001b[1;33m:\u001b[0m\u001b[1;33m\u001b[0m\u001b[1;33m\u001b[0m\u001b[0m\n",
      "\u001b[1;32m~\\Anaconda3\\lib\\site-packages\\keras\\engine\\training.py\u001b[0m in \u001b[0;36mpredict\u001b[1;34m(self, x, batch_size, verbose, steps)\u001b[0m\n\u001b[0;32m   1167\u001b[0m                                             \u001b[0mbatch_size\u001b[0m\u001b[1;33m=\u001b[0m\u001b[0mbatch_size\u001b[0m\u001b[1;33m,\u001b[0m\u001b[1;33m\u001b[0m\u001b[1;33m\u001b[0m\u001b[0m\n\u001b[0;32m   1168\u001b[0m                                             \u001b[0mverbose\u001b[0m\u001b[1;33m=\u001b[0m\u001b[0mverbose\u001b[0m\u001b[1;33m,\u001b[0m\u001b[1;33m\u001b[0m\u001b[1;33m\u001b[0m\u001b[0m\n\u001b[1;32m-> 1169\u001b[1;33m                                             steps=steps)\n\u001b[0m\u001b[0;32m   1170\u001b[0m \u001b[1;33m\u001b[0m\u001b[0m\n\u001b[0;32m   1171\u001b[0m     def train_on_batch(self, x, y,\n",
      "\u001b[1;32m~\\Anaconda3\\lib\\site-packages\\keras\\engine\\training_arrays.py\u001b[0m in \u001b[0;36mpredict_loop\u001b[1;34m(model, f, ins, batch_size, verbose, steps)\u001b[0m\n\u001b[0;32m    292\u001b[0m                 \u001b[0mins_batch\u001b[0m\u001b[1;33m[\u001b[0m\u001b[0mi\u001b[0m\u001b[1;33m]\u001b[0m \u001b[1;33m=\u001b[0m \u001b[0mins_batch\u001b[0m\u001b[1;33m[\u001b[0m\u001b[0mi\u001b[0m\u001b[1;33m]\u001b[0m\u001b[1;33m.\u001b[0m\u001b[0mtoarray\u001b[0m\u001b[1;33m(\u001b[0m\u001b[1;33m)\u001b[0m\u001b[1;33m\u001b[0m\u001b[1;33m\u001b[0m\u001b[0m\n\u001b[0;32m    293\u001b[0m \u001b[1;33m\u001b[0m\u001b[0m\n\u001b[1;32m--> 294\u001b[1;33m             \u001b[0mbatch_outs\u001b[0m \u001b[1;33m=\u001b[0m \u001b[0mf\u001b[0m\u001b[1;33m(\u001b[0m\u001b[0mins_batch\u001b[0m\u001b[1;33m)\u001b[0m\u001b[1;33m\u001b[0m\u001b[1;33m\u001b[0m\u001b[0m\n\u001b[0m\u001b[0;32m    295\u001b[0m             \u001b[0mbatch_outs\u001b[0m \u001b[1;33m=\u001b[0m \u001b[0mto_list\u001b[0m\u001b[1;33m(\u001b[0m\u001b[0mbatch_outs\u001b[0m\u001b[1;33m)\u001b[0m\u001b[1;33m\u001b[0m\u001b[1;33m\u001b[0m\u001b[0m\n\u001b[0;32m    296\u001b[0m             \u001b[1;32mif\u001b[0m \u001b[0mbatch_index\u001b[0m \u001b[1;33m==\u001b[0m \u001b[1;36m0\u001b[0m\u001b[1;33m:\u001b[0m\u001b[1;33m\u001b[0m\u001b[1;33m\u001b[0m\u001b[0m\n",
      "\u001b[1;32m~\\Anaconda3\\lib\\site-packages\\plaidml\\keras\\backend.py\u001b[0m in \u001b[0;36m__call__\u001b[1;34m(self, inputs)\u001b[0m\n\u001b[0;32m    187\u001b[0m             \u001b[0mself\u001b[0m\u001b[1;33m.\u001b[0m\u001b[0m_invoker\u001b[0m\u001b[1;33m.\u001b[0m\u001b[0mset_output\u001b[0m\u001b[1;33m(\u001b[0m\u001b[0mname\u001b[0m\u001b[1;33m,\u001b[0m \u001b[0mt\u001b[0m\u001b[1;33m)\u001b[0m\u001b[1;33m\u001b[0m\u001b[1;33m\u001b[0m\u001b[0m\n\u001b[0;32m    188\u001b[0m \u001b[1;33m\u001b[0m\u001b[0m\n\u001b[1;32m--> 189\u001b[1;33m         \u001b[0mself\u001b[0m\u001b[1;33m.\u001b[0m\u001b[0m_invoker\u001b[0m\u001b[1;33m.\u001b[0m\u001b[0minvoke\u001b[0m\u001b[1;33m(\u001b[0m\u001b[1;33m)\u001b[0m\u001b[1;33m\u001b[0m\u001b[1;33m\u001b[0m\u001b[0m\n\u001b[0m\u001b[0;32m    190\u001b[0m \u001b[1;33m\u001b[0m\u001b[0m\n\u001b[0;32m    191\u001b[0m         \u001b[1;32mreturn\u001b[0m \u001b[1;33m[\u001b[0m\u001b[0mt\u001b[0m\u001b[1;33m.\u001b[0m\u001b[0mas_ndarray\u001b[0m\u001b[1;33m(\u001b[0m\u001b[0m_ctx\u001b[0m\u001b[1;33m)\u001b[0m \u001b[1;32mfor\u001b[0m \u001b[0mt\u001b[0m \u001b[1;32min\u001b[0m \u001b[0mtensors\u001b[0m\u001b[1;33m]\u001b[0m\u001b[1;33m\u001b[0m\u001b[1;33m\u001b[0m\u001b[0m\n",
      "\u001b[1;32m~\\Anaconda3\\lib\\site-packages\\plaidml\\__init__.py\u001b[0m in \u001b[0;36minvoke\u001b[1;34m(self)\u001b[0m\n\u001b[0;32m   1473\u001b[0m \u001b[1;33m\u001b[0m\u001b[0m\n\u001b[0;32m   1474\u001b[0m     \u001b[1;32mdef\u001b[0m \u001b[0minvoke\u001b[0m\u001b[1;33m(\u001b[0m\u001b[0mself\u001b[0m\u001b[1;33m)\u001b[0m\u001b[1;33m:\u001b[0m\u001b[1;33m\u001b[0m\u001b[1;33m\u001b[0m\u001b[0m\n\u001b[1;32m-> 1475\u001b[1;33m         \u001b[1;32mreturn\u001b[0m \u001b[0mInvocation\u001b[0m\u001b[1;33m(\u001b[0m\u001b[0mself\u001b[0m\u001b[1;33m.\u001b[0m\u001b[0m_ctx\u001b[0m\u001b[1;33m,\u001b[0m \u001b[0mself\u001b[0m\u001b[1;33m)\u001b[0m\u001b[1;33m\u001b[0m\u001b[1;33m\u001b[0m\u001b[0m\n\u001b[0m\u001b[0;32m   1476\u001b[0m \u001b[1;33m\u001b[0m\u001b[0m\n\u001b[0;32m   1477\u001b[0m     \u001b[1;32mdef\u001b[0m \u001b[0msave\u001b[0m\u001b[1;33m(\u001b[0m\u001b[0mself\u001b[0m\u001b[1;33m,\u001b[0m \u001b[0mfilename\u001b[0m\u001b[1;33m)\u001b[0m\u001b[1;33m:\u001b[0m\u001b[1;33m\u001b[0m\u001b[1;33m\u001b[0m\u001b[0m\n",
      "\u001b[1;32m~\\Anaconda3\\lib\\site-packages\\plaidml\\__init__.py\u001b[0m in \u001b[0;36m__init__\u001b[1;34m(self, ctx, invoker)\u001b[0m\n\u001b[0;32m   1482\u001b[0m \u001b[1;33m\u001b[0m\u001b[0m\n\u001b[0;32m   1483\u001b[0m     \u001b[1;32mdef\u001b[0m \u001b[0m__init__\u001b[0m\u001b[1;33m(\u001b[0m\u001b[0mself\u001b[0m\u001b[1;33m,\u001b[0m \u001b[0mctx\u001b[0m\u001b[1;33m,\u001b[0m \u001b[0minvoker\u001b[0m\u001b[1;33m)\u001b[0m\u001b[1;33m:\u001b[0m\u001b[1;33m\u001b[0m\u001b[1;33m\u001b[0m\u001b[0m\n\u001b[1;32m-> 1484\u001b[1;33m         \u001b[0mself\u001b[0m\u001b[1;33m.\u001b[0m\u001b[0m_as_parameter_\u001b[0m \u001b[1;33m=\u001b[0m \u001b[0m_lib\u001b[0m\u001b[1;33m(\u001b[0m\u001b[1;33m)\u001b[0m\u001b[1;33m.\u001b[0m\u001b[0mplaidml_schedule_invocation\u001b[0m\u001b[1;33m(\u001b[0m\u001b[0mctx\u001b[0m\u001b[1;33m,\u001b[0m \u001b[0minvoker\u001b[0m\u001b[1;33m)\u001b[0m\u001b[1;33m\u001b[0m\u001b[1;33m\u001b[0m\u001b[0m\n\u001b[0m\u001b[0;32m   1485\u001b[0m         \u001b[0mself\u001b[0m\u001b[1;33m.\u001b[0m\u001b[0m_free\u001b[0m \u001b[1;33m=\u001b[0m \u001b[0m_lib\u001b[0m\u001b[1;33m(\u001b[0m\u001b[1;33m)\u001b[0m\u001b[1;33m.\u001b[0m\u001b[0mplaidml_free_invocation\u001b[0m\u001b[1;33m\u001b[0m\u001b[1;33m\u001b[0m\u001b[0m\n\u001b[0;32m   1486\u001b[0m \u001b[1;33m\u001b[0m\u001b[0m\n",
      "\u001b[1;32m~\\Anaconda3\\lib\\site-packages\\plaidml\\__init__.py\u001b[0m in \u001b[0;36m_check_err\u001b[1;34m(self, result, func, args)\u001b[0m\n\u001b[0;32m    768\u001b[0m         \u001b[0mself\u001b[0m\u001b[1;33m.\u001b[0m\u001b[0mplaidml_compute_grad_wrt\u001b[0m\u001b[1;33m.\u001b[0m\u001b[0merrcheck\u001b[0m \u001b[1;33m=\u001b[0m \u001b[0mself\u001b[0m\u001b[1;33m.\u001b[0m\u001b[0m_check_err\u001b[0m\u001b[1;33m\u001b[0m\u001b[1;33m\u001b[0m\u001b[0m\n\u001b[0;32m    769\u001b[0m \u001b[1;33m\u001b[0m\u001b[0m\n\u001b[1;32m--> 770\u001b[1;33m     \u001b[1;32mdef\u001b[0m \u001b[0m_check_err\u001b[0m\u001b[1;33m(\u001b[0m\u001b[0mself\u001b[0m\u001b[1;33m,\u001b[0m \u001b[0mresult\u001b[0m\u001b[1;33m,\u001b[0m \u001b[0mfunc\u001b[0m\u001b[1;33m,\u001b[0m \u001b[0margs\u001b[0m\u001b[1;33m)\u001b[0m\u001b[1;33m:\u001b[0m\u001b[1;33m\u001b[0m\u001b[1;33m\u001b[0m\u001b[0m\n\u001b[0m\u001b[0;32m    771\u001b[0m         \u001b[1;32mif\u001b[0m \u001b[0mresult\u001b[0m\u001b[1;33m:\u001b[0m\u001b[1;33m\u001b[0m\u001b[1;33m\u001b[0m\u001b[0m\n\u001b[0;32m    772\u001b[0m             \u001b[1;32mreturn\u001b[0m \u001b[0mresult\u001b[0m\u001b[1;33m\u001b[0m\u001b[1;33m\u001b[0m\u001b[0m\n",
      "\u001b[1;31mKeyboardInterrupt\u001b[0m: "
     ]
    }
   ],
   "source": [
    "def window_prob_func(img, model, dim, edge):\n",
    "\n",
    "    \n",
    "    ss = cv2.ximgproc.segmentation.createSelectiveSearchSegmentation()\n",
    "    ss.setBaseImage(img)\n",
    "    ss.switchToSelectiveSearchFast()\n",
    "    rects = ss.process() \n",
    "\n",
    "    windows = []\n",
    "    locations = []\n",
    "    for x, y, w,h in rects: \n",
    "        startx = x \n",
    "        starty = y \n",
    "        endx = x+w \n",
    "        endy = y+h \n",
    "        roi = img[starty:endy, startx:endx]\n",
    "        if edge == True:\n",
    "            roi = get_edged(roi, dim = dim)\n",
    "        roi = cv2.resize(roi, dsize =dim, interpolation = cv2.INTER_CUBIC)\n",
    "        windows.append(roi)\n",
    "        locations.append((startx, starty, endx, endy))\n",
    "\n",
    "    windows = np.array(windows)\n",
    "    if edge == True:\n",
    "        windows = windows.reshape(windows.shape[0], windows.shape[1], windows.shape[2], 1)\n",
    "    else: \n",
    "        windows = windows.reshape(windows.shape[0], windows.shape[1], windows.shape[2], 3)\n",
    "    predictions = model.predict(windows)\n",
    "\n",
    "    for idx, pred in enumerate(predictions): \n",
    "        if pred[1] == 1 or pred[2] == 1: \n",
    "            startx, starty, endx, endy = locations[idx]\n",
    "            return (1, (startx, starty, endx, endy))\n",
    "\n",
    "pbar = tqdm(images, desc= 'Getting Base Prediction and Extracting Sliding Window... Sit Back, This Will Take A While')\n",
    "windows_prob = [window_prob_func(img, normal_model, var.norm_dimension, edge = True) for img in pbar]"
   ]
  },
  {
   "cell_type": "code",
   "execution_count": null,
   "metadata": {},
   "outputs": [],
   "source": [
    "import pickle \n",
    "pickle.dump(windows_prob, open('../Pickles/WindowsPropPistol_CNNTester.p', 'wb'))"
   ]
  },
  {
   "cell_type": "code",
   "execution_count": null,
   "metadata": {},
   "outputs": [],
   "source": []
  },
  {
   "cell_type": "code",
   "execution_count": null,
   "metadata": {},
   "outputs": [],
   "source": [
    "vid_dim = (224,224)\n",
    "vid_dim = var.norm_dimension\n",
    "fourcc = cv2.VideoWriter_fourcc(*'XVID')\n",
    "out = cv2.VideoWriter('../Tests/VideoTests/TestCNN.mp4',fourcc, 10, vid_dim)\n",
    "\n",
    "\n",
    "for (prob, (startx, starty, endx, endy)), img in zip(windows_prob, images): \n",
    "    clone = img.copy()\n",
    "    if cat == 'No Weapon':\n",
    "#         clone = cv2.resize(clone, dsize =vid_dim, interpolation = cv2.INTER_CUBIC)      \n",
    "        out.write(clone)\n",
    "    else: \n",
    "        cv2.rectangle(clone, (startx, starty), (endx, endy),  (0,0,255),2)\n",
    "#         clone = cv2.resize(clone, dsize =vid_dim, interpolation = cv2.INTER_CUBIC)     \n",
    "        out.write(clone)\n",
    "out.release()\n",
    "cv2.destroyAllWindows()"
   ]
  },
  {
   "cell_type": "code",
   "execution_count": null,
   "metadata": {},
   "outputs": [],
   "source": [
    "assert False"
   ]
  },
  {
   "cell_type": "code",
   "execution_count": null,
   "metadata": {},
   "outputs": [],
   "source": [
    "if var.img_type == 'grey': \n",
    "    dim = (var.norm_dimension[0], var.norm_dimension[1], 1)\n",
    "else: \n",
    "    dim = (var.norm_dimension[0], var.norm_dimension[1], 3)\n",
    "        \n",
    "normal_model = get_conv_model_normal(dim)\n",
    "normal_model.load_weights('../models/CNN-ModelCheckpointWeights2.h5')\n",
    "\n",
    "img = cv2.imread('../TestImages/AR.jpg')\n",
    "ss = cv2.ximgproc.segmentation.createSelectiveSearchSegmentation()\n",
    "ss.setBaseImage(img)\n",
    "ss.switchToSelectiveSearchFast()\n",
    "rects = ss.process() \n",
    "\n",
    "windows = []\n",
    "locations = []\n",
    "for x, y, w,h in rects: \n",
    "    startx = x \n",
    "    starty = y \n",
    "    endx = x+w \n",
    "    endy = y+h \n",
    "    roi = img[starty:endy, startx:endx]\n",
    "    roi = cv2.resize(roi, dsize =var.norm_dimension, interpolation = cv2.INTER_CUBIC)\n",
    "    windows.append(roi)\n",
    "    locations.append((startx, starty, endx, endy))\n",
    "    \n"
   ]
  },
  {
   "cell_type": "code",
   "execution_count": null,
   "metadata": {},
   "outputs": [],
   "source": [
    "windows = np.array(windows[:2000])\n",
    "\n",
    "predictions = normal_model.predict(windows)"
   ]
  },
  {
   "cell_type": "code",
   "execution_count": null,
   "metadata": {},
   "outputs": [],
   "source": [
    "# for i in predictions:\n",
    "#     print(i)"
   ]
  },
  {
   "cell_type": "code",
   "execution_count": null,
   "metadata": {},
   "outputs": [],
   "source": [
    "clone = img.copy()\n",
    "new_loc = [] \n",
    "new_prob = [] \n",
    "no_gun = predictions[:, 0].sum()\n",
    "handgun = predictions[:,1].sum()\n",
    "rifle = predictions[:,2].sum()\n",
    "sum_array = np.array([no_gun, handgun, rifle])\n",
    "index_unit = np.argmax(sum_array)\n",
    "cat_types = ['No Gun', 'Handgun', 'Rifle']\n",
    "print(index_unit)\n",
    "print(no_gun, handgun, rifle)\n",
    "new_locations = []\n",
    "for idx, i in enumerate(predictions):\n",
    "    category = i[index_unit]\n",
    "    if category > .5:\n",
    "        startx, starty, endx, endy = locations[idx]\n",
    "        new_locations.append([startx, starty, endx, endy])\n",
    "        new_loc.append(locations[idx])\n",
    "        new_prob.append(category)\n",
    "\n",
    "new_locations = np.array(new_locations)\n",
    "\n",
    "startx = int(new_locations[:,0].mean())\n",
    "starty =int( new_locations[:,1].mean())\n",
    "endx = int(new_locations[:,2].mean())\n",
    "endy = int(new_locations[:,3].mean())\n",
    "\n",
    "\n",
    "# startx = int(np.median (new_locations[:,0]))\n",
    "# starty =int( np.median (new_locations[:,1]))\n",
    "# endx = int(np.median (new_locations[:,2]))\n",
    "# endy = int(np.median(new_locations[:,3]))\n",
    "\n",
    "prob_avg = np.array(new_prob).mean()\n",
    "\n",
    "\n",
    "cv2.rectangle(clone, (startx, starty), (endx, endy),  (0,255,0),2)\n",
    "\n",
    "text = f'{cat_types[index_unit]}: {int(prob_avg*100)}'\n",
    "cv2.putText(clone, text, (startx, starty), cv2.FONT_HERSHEY_SIMPLEX, .45, (0,255,0),2)\n",
    "   \n",
    "    \n",
    "cv2.imshow('test', clone)\n",
    "cv2.waitKey(0)"
   ]
  },
  {
   "cell_type": "code",
   "execution_count": null,
   "metadata": {},
   "outputs": [],
   "source": [
    "assert False"
   ]
  },
  {
   "cell_type": "code",
   "execution_count": null,
   "metadata": {},
   "outputs": [],
   "source": [
    "clone = img.copy()\n",
    "  \n",
    "startx, starty, endx, endy = new_loc[boxid]\n",
    "cv2.rectangle(clone, (startx, starty), (endx, endy),  (0,255,0),2)\n",
    "text = f'Weapon: {i*100}'\n",
    "cv2.putText(clone, text, (startx, y), cv2.FONT_HERSHEY_SIMPLEX, .45, (0,255,0),2)\n",
    "cv2.imshow('test', clone)\n",
    "cv2.waitKey(0)"
   ]
  },
  {
   "cell_type": "code",
   "execution_count": null,
   "metadata": {},
   "outputs": [],
   "source": []
  },
  {
   "cell_type": "code",
   "execution_count": null,
   "metadata": {},
   "outputs": [],
   "source": []
  },
  {
   "cell_type": "code",
   "execution_count": null,
   "metadata": {},
   "outputs": [],
   "source": []
  },
  {
   "cell_type": "code",
   "execution_count": null,
   "metadata": {},
   "outputs": [],
   "source": [
    "clone = img.copy()\n",
    "roi = clone[starty:endy, startx:endx]\n",
    "roi = cv2.resize(roi, dsize =var.dimension, interpolation = cv2.INTER_CUBIC)\n",
    "# cv2.imshow('test', roi)\n",
    "# cv2.waitKey(0)\n",
    "explainer = lime_image.LimeImageExplainer()\n",
    "\n",
    "explanation = explainer.explain_instance(roi, normal_model.predict, top_labels = 5, hide_color = 0, \n",
    "                                         num_samples = 1000)\n",
    "\n",
    "\n",
    "temp, mask = explanation.get_image_and_mask(explanation.top_labels[0], positive_only = False,\n",
    "                                           num_features = 10, hide_rest = False)\n",
    "plt.imshow(mark_boundaries(temp/2 + .5, mask))"
   ]
  },
  {
   "cell_type": "code",
   "execution_count": null,
   "metadata": {},
   "outputs": [],
   "source": []
  }
 ],
 "metadata": {
  "kernelspec": {
   "display_name": "Python 3",
   "language": "python",
   "name": "python3"
  },
  "language_info": {
   "codemirror_mode": {
    "name": "ipython",
    "version": 3
   },
   "file_extension": ".py",
   "mimetype": "text/x-python",
   "name": "python",
   "nbconvert_exporter": "python",
   "pygments_lexer": "ipython3",
   "version": "3.7.4"
  }
 },
 "nbformat": 4,
 "nbformat_minor": 4
}
