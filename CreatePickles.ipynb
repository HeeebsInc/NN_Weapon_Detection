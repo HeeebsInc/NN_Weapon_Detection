{
 "cells": [
  {
   "cell_type": "code",
   "execution_count": 20,
   "metadata": {},
   "outputs": [],
   "source": [
    "import pickle \n",
    "import pandas as pd \n",
    "import os\n",
    "import numpy as np \n",
    "import cv2\n",
    "from keras.preprocessing import image \n",
    "from sklearn.model_selection import train_test_split\n",
    "import matplotlib.pyplot as plt\n",
    "from tqdm import tqdm"
   ]
  },
  {
   "cell_type": "code",
   "execution_count": 3,
   "metadata": {},
   "outputs": [],
   "source": [
    "def get_image_value(path): \n",
    "    img = image.load_img(path, target_size = (48,48,3))\n",
    "    img = image.img_to_array(img)\n",
    "    return img/255"
   ]
  },
  {
   "cell_type": "code",
   "execution_count": 35,
   "metadata": {},
   "outputs": [],
   "source": [
    "#negatives \n",
    "\n",
    "negative = [f'../FinalImages/Negative/{i}' for i in os.listdir('../FinalImages/Negative')]\n",
    "neg_labels = [0 for i in range(len(negative))]\n",
    "positive = [f'../FinalImages/Positive/{i}' for i in os.listdir('../FinalImages/Positive')]\n",
    "pos_labels = [1 for i in range(len(positive))]\n",
    "concat_path = negative + positive\n",
    "concat_labels = np.array(neg_labels + pos_labels)"
   ]
  },
  {
   "cell_type": "code",
   "execution_count": 36,
   "metadata": {},
   "outputs": [],
   "source": [
    "x_train, x_test, y_train, y_test = train_test_split(concat_path, concat_labels, train_size = .8)"
   ]
  },
  {
   "cell_type": "code",
   "execution_count": 37,
   "metadata": {},
   "outputs": [
    {
     "name": "stderr",
     "output_type": "stream",
     "text": [
      "100%|████████████████████████████████████████████████████████████████████████████████████████████████████████████████████████████████████████████████| 1497/1497 [00:01<00:00, 887.27it/s]\n",
      "100%|██████████████████████████████████████████████████████████████████████████████████████████████████████████████████████████████████████████████████| 375/375 [00:00<00:00, 890.14it/s]\n"
     ]
    }
   ],
   "source": [
    "def get_img_array(img_paths): \n",
    "    final_array = []\n",
    "    for path in tqdm(img_paths): \n",
    "        img = get_image_value(path)\n",
    "        final_array.append(img)\n",
    "    return np.array(final_array)\n",
    "new_x_train = get_img_array(x_train)\n",
    "new_x_test = get_img_array(x_test)"
   ]
  },
  {
   "cell_type": "code",
   "execution_count": 38,
   "metadata": {},
   "outputs": [
    {
     "data": {
      "text/plain": [
       "numpy.ndarray"
      ]
     },
     "execution_count": 38,
     "metadata": {},
     "output_type": "execute_result"
    }
   ],
   "source": [
    "type(y_test)"
   ]
  },
  {
   "cell_type": "code",
   "execution_count": 39,
   "metadata": {},
   "outputs": [],
   "source": [
    "#save pickles\n",
    "\n",
    "pickle.dump(new_x_train, open('../Pickles/x_train.p', 'wb'))\n",
    "pickle.dump(y_train, open('../Pickles/y_train.p', 'wb'))\n",
    "pickle.dump(new_x_test, open('../Pickles/x_test.p', 'wb'))\n",
    "pickle.dump(y_test, open('../Pickles/y_test.p', 'wb'))"
   ]
  },
  {
   "cell_type": "code",
   "execution_count": 23,
   "metadata": {},
   "outputs": [],
   "source": []
  },
  {
   "cell_type": "code",
   "execution_count": null,
   "metadata": {},
   "outputs": [],
   "source": []
  },
  {
   "cell_type": "code",
   "execution_count": null,
   "metadata": {},
   "outputs": [],
   "source": []
  }
 ],
 "metadata": {
  "kernelspec": {
   "display_name": "Python 3",
   "language": "python",
   "name": "python3"
  },
  "language_info": {
   "codemirror_mode": {
    "name": "ipython",
    "version": 3
   },
   "file_extension": ".py",
   "mimetype": "text/x-python",
   "name": "python",
   "nbconvert_exporter": "python",
   "pygments_lexer": "ipython3",
   "version": "3.7.4"
  }
 },
 "nbformat": 4,
 "nbformat_minor": 4
}
