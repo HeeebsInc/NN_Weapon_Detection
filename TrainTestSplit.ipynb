{
 "cells": [
  {
   "cell_type": "code",
   "execution_count": 2,
   "metadata": {},
   "outputs": [],
   "source": [
    "import pickle \n",
    "import numpy as np \n",
    "import pickle\n",
    "from sklearn.model_selection import train_test_split"
   ]
  },
  {
   "cell_type": "code",
   "execution_count": 3,
   "metadata": {},
   "outputs": [],
   "source": [
    "X = np.array([1,2,3,4,5,6,7,8])\n",
    "y = np.array([1,1,1,1,1,0,0,0])\n",
    "\n",
    "tts_tup = train_test_split(X,y, stratify = y, train_size = .8)"
   ]
  },
  {
   "cell_type": "code",
   "execution_count": 6,
   "metadata": {},
   "outputs": [],
   "source": [
    "pickle.dump(tts_tup, open(f'TrainTestSplit.p', 'wb'), protocol = 4)"
   ]
  },
  {
   "cell_type": "code",
   "execution_count": 7,
   "metadata": {},
   "outputs": [],
   "source": [
    "x_train, x_test, y_train, y_test = pickle.load(open(f'TrainTestSplit.p', 'rb'))"
   ]
  },
  {
   "cell_type": "code",
   "execution_count": 8,
   "metadata": {},
   "outputs": [
    {
     "data": {
      "text/plain": [
       "array([5, 1, 6, 2, 7, 4])"
      ]
     },
     "execution_count": 8,
     "metadata": {},
     "output_type": "execute_result"
    }
   ],
   "source": [
    "x_train"
   ]
  },
  {
   "cell_type": "code",
   "execution_count": 1,
   "metadata": {},
   "outputs": [
    {
     "name": "stdout",
     "output_type": "stream",
     "text": [
      "Requirement already satisfied: Flask in f:\\programfiles\\conda\\envs\\weapondetection\\lib\\site-packages (1.1.2)\n",
      "Requirement already satisfied: click>=5.1 in f:\\programfiles\\conda\\envs\\weapondetection\\lib\\site-packages (from Flask) (7.1.2)\n",
      "Requirement already satisfied: Jinja2>=2.10.1 in f:\\programfiles\\conda\\envs\\weapondetection\\lib\\site-packages (from Flask) (2.11.2)\n",
      "Requirement already satisfied: Werkzeug>=0.15 in f:\\programfiles\\conda\\envs\\weapondetection\\lib\\site-packages (from Flask) (1.0.1)\n",
      "Requirement already satisfied: itsdangerous>=0.24 in f:\\programfiles\\conda\\envs\\weapondetection\\lib\\site-packages (from Flask) (1.1.0)\n",
      "Requirement already satisfied: MarkupSafe>=0.23 in f:\\programfiles\\conda\\envs\\weapondetection\\lib\\site-packages (from Jinja2>=2.10.1->Flask) (1.1.1)\n"
     ]
    }
   ],
   "source": [
    "!pip install Flask"
   ]
  },
  {
   "cell_type": "code",
   "execution_count": null,
   "metadata": {},
   "outputs": [],
   "source": []
  }
 ],
 "metadata": {
  "kernelspec": {
   "display_name": "Python 3",
   "language": "python",
   "name": "python3"
  },
  "language_info": {
   "codemirror_mode": {
    "name": "ipython",
    "version": 3
   },
   "file_extension": ".py",
   "mimetype": "text/x-python",
   "name": "python",
   "nbconvert_exporter": "python",
   "pygments_lexer": "ipython3",
   "version": "3.7.4"
  }
 },
 "nbformat": 4,
 "nbformat_minor": 2
}
