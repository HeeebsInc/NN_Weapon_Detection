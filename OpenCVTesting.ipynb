{
 "cells": [
  {
   "cell_type": "markdown",
   "metadata": {},
   "source": [
    "## CNN "
   ]
  },
  {
   "cell_type": "code",
   "execution_count": 1,
   "metadata": {},
   "outputs": [
    {
     "name": "stderr",
     "output_type": "stream",
     "text": [
      "Using plaidml.keras.backend backend.\n"
     ]
    }
   ],
   "source": [
    "from PyFunctions import Functions as func\n",
    "from PyFunctions import var\n",
    "from PyFunctions import ModelFunc as modelfunc\n",
    "import os\n",
    "from tqdm import tqdm\n",
    "import numpy as np\n",
    "import cv2"
   ]
  },
  {
   "cell_type": "markdown",
   "metadata": {},
   "source": [
    "### Images\n",
    "\n",
    "- Within the folder tests, add whatever image you would like that contains a gun and run the cell below"
   ]
  },
  {
   "cell_type": "code",
   "execution_count": null,
   "metadata": {},
   "outputs": [],
   "source": [
    "#Mobilenet MODEL\n",
    "edge = False\n",
    "dim = (var.mobilenet_dimension[0], var.mobilenet_dimension[1], 3)\n",
    "    \n",
    "mobilenet = modelfunc.get_mobilenet(dim)\n",
    "mobilenet.load_weights('ModelWeights/Mobilenet.h5') \n",
    "\n",
    "test_folder = 'Tests/Photos'\n",
    "\n",
    "for i in os.listdir(test_folder):\n",
    "    if i == 'ipynb_checkpoints': \n",
    "        continue\n",
    "    img_path = f'{test_folder}/{i}'\n",
    "    predictions = get_img_prediction_bounding_box(img_path, mobilenet, dim = var.mobilenet_dimension, edge = edge)\n",
    "    "
   ]
  },
  {
   "cell_type": "code",
   "execution_count": 3,
   "metadata": {},
   "outputs": [
    {
     "name": "stderr",
     "output_type": "stream",
     "text": [
      "INFO:plaidml:Opening device \"opencl_amd_ellesmere.0\"\n"
     ]
    },
    {
     "name": "stdout",
     "output_type": "stream",
     "text": [
      "Tests/Photos/Pistol2.jpg\t\tPrediction: Handgun\t69% Confident\n",
      "Creating Bounding Boxes for Tests/Photos/Pistol2.jpg\n",
      "[3]\n",
      "~~~~~~~~~~~~~~~~~~~~~~~~~~~~~~~~~~~~~~~~~~~~~~~~~~~~~~~~~~~~~~~~~~~~~~~~~~\n",
      "Tests/Photos/Pistol3.jpg\t\tPrediction: Rifle\t81% Confident\n",
      "Creating Bounding Boxes for Tests/Photos/Pistol3.jpg\n",
      "[0, 73, 98, 95, 175, 45]\n",
      "~~~~~~~~~~~~~~~~~~~~~~~~~~~~~~~~~~~~~~~~~~~~~~~~~~~~~~~~~~~~~~~~~~~~~~~~~~\n"
     ]
    }
   ],
   "source": [
    "#NORMAL MODEL\n",
    "edge = False\n",
    "dim = (var.norm_dimension[0], var.norm_dimension[1], 3)\n",
    "    \n",
    "normal_model = modelfunc.get_conv_model(dim)\n",
    "normal_model.load_weights('ModelWeights/V2_NoEdge_NoAugmentation.h5') #path to the model weights\n",
    "\n",
    "test_folder = 'Tests/Photos'\n",
    "predictions = []\n",
    "for idx, i in enumerate([i for i in os.listdir(test_folder) if i != 'ipynb_checkpoints']):\n",
    "    if idx < 4: \n",
    "        continue\n",
    "    img_path = f'{test_folder}/{i}'\n",
    "    pred = get_img_prediction_bounding_box(img_path, normal_model, dim = var.norm_dimension, edge = edge)\n",
    "    predictions.append(pred)\n",
    "    "
   ]
  },
  {
   "cell_type": "code",
   "execution_count": null,
   "metadata": {},
   "outputs": [],
   "source": [
    "edge = True\n",
    "dim = (var.norm_dimension[0], var.norm_dimension[1], 1)\n",
    "    \n",
    "normal_model = modelfunc.get_conv_model(dim)\n",
    "normal_model.load_weights('ModelWeights/V2_Edge_NoAugmentation.h5') #path to the model weights\n",
    "\n",
    "test_folder = 'Tests/Photos'\n",
    "predictions = []\n",
    "for i in os.listdir(test_folder):\n",
    "    if i == 'ipynb_checkpoints': \n",
    "        continue\n",
    "    img_path = f'{test_folder}/{i}'\n",
    "    pred = get_img_prediction_bounding_box(img_path, normal_model, dim = var.norm_dimension, edge = edge)\n",
    "    predictions.append(pred)\n",
    "    "
   ]
  },
  {
   "cell_type": "markdown",
   "metadata": {},
   "source": [
    "### Video \n",
    "- within the folder Tests, add whatever video (.mp4) that contains a gun and run the cell below\n",
    "- **Note**: Stick t video shorter than a minute or this process will take a very long time depending on your computer"
   ]
  },
  {
   "cell_type": "code",
   "execution_count": null,
   "metadata": {},
   "outputs": [],
   "source": [
    "edge= True \n",
    "if edge == True: \n",
    "    dim = (var.norm_dimension[0],var.norm_dimension[1], 1)\n",
    "else: \n",
    "    dim = (var.norm_dimension[0], var.norm_dimension[1], 3)\n",
    "    \n",
    "normal_model = get_conv_model_normal(dim)\n",
    "normal_model.load_weights('ModelWeights/CNN-ModelCheckpointWeightsNoAugment.h5')\n",
    "\n",
    "images = get_vid_frames('../Tests/Videos/Pistol2.mp4', normal_model, var.norm_dimension, edge = True)"
   ]
  },
  {
   "cell_type": "code",
   "execution_count": null,
   "metadata": {},
   "outputs": [],
   "source": [
    "pbar = tqdm(images, desc= 'Getting Base Prediction and Extracting Sliding Window... Sit Back, This Will Take A While')\n",
    "windows_prob = [window_prob_func(img, normal_model, var.norm_dimension, edge = edge) for img in pbar]"
   ]
  },
  {
   "cell_type": "code",
   "execution_count": null,
   "metadata": {},
   "outputs": [],
   "source": [
    "vid_dim = (224,224)\n",
    "vid_dim = var.norm_dimension\n",
    "fourcc = cv2.VideoWriter_fourcc(*'XVID')\n",
    "out = cv2.VideoWriter('Tests/VideoOutput/BoundingBox.mp4',fourcc, 10, vid_dim) #change the filename to whatever you would like\n",
    "\n",
    "\n",
    "for prob, img in zip(windows_prob, images): \n",
    "    clone = img.copy()\n",
    "    if prob == None:\n",
    "        out.write(clone)\n",
    "    else:\n",
    "        (p, (startx, starty, endx, endy)) = prob\n",
    "        cv2.rectangle(clone, (startx, starty), (endx, endy),  (0,0,255),2)\n",
    "        out.write(clone)\n",
    "        \n",
    "out.release()\n",
    "cv2.destroyAllWindows()"
   ]
  }
 ],
 "metadata": {
  "kernelspec": {
   "display_name": "Python 3",
   "language": "python",
   "name": "python3"
  },
  "language_info": {
   "codemirror_mode": {
    "name": "ipython",
    "version": 3
   },
   "file_extension": ".py",
   "mimetype": "text/x-python",
   "name": "python",
   "nbconvert_exporter": "python",
   "pygments_lexer": "ipython3",
   "version": "3.7.4"
  }
 },
 "nbformat": 4,
 "nbformat_minor": 4
}
