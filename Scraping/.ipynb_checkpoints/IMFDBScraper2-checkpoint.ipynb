{
 "cells": [
  {
   "cell_type": "code",
   "execution_count": null,
   "metadata": {},
   "outputs": [],
   "source": [
    "from bs4 import BeautifulSoup\n",
    "import requests\n",
    "import pandas as pd\n",
    "import shutil\n",
    "import numpy as np\n",
    "from tqdm import tqdm"
   ]
  },
  {
   "cell_type": "code",
   "execution_count": null,
   "metadata": {},
   "outputs": [],
   "source": [
    "# links = np.array(pd.read_csv('LinksToMedia.csv')['URL'])\n",
    "# names = np.array(pd.read_csv('LinksToMedia.csv')['Name'])\n",
    "# names_links = list(zip(links, names))\n",
    "df = pd.read_csv('LinksToMedia.csv')\n",
    "base_link = 'http://www.imfdb.org'\n",
    "#names_links"
   ]
  },
  {
   "cell_type": "code",
   "execution_count": null,
   "metadata": {},
   "outputs": [],
   "source": [
    "def download_image(image): \n",
    "    response = requests.get(image[0], stream = True)\n",
    "    row = image[2][0]\n",
    "    table_num = image[2][1]\n",
    "    name = image[1]\n",
    "    file_name = f'{name}_{row}_{table_num}'\n",
    "    file = open(f'Images/{name}/MovieVideo/{file_name}.jpg', 'wb')\n",
    "    response.raw.decode_content = True\n",
    "    shutil.copyfileobj(response.raw, file)\n",
    "    del response\n",
    "#download_image(gun_image_info[0],0)"
   ]
  },
  {
   "cell_type": "code",
   "execution_count": null,
   "metadata": {},
   "outputs": [],
   "source": [
    "for cat in ['Assault_Rifle', 'Pistol']: \n",
    "    new_df = df[df.Name == cat]\n",
    "    for df_pos in tqdm(range(len(new_df)-1), desc = f'Scraping {cat}'): \n",
    "        row = new_df.iloc[df_pos]\n",
    "        url = row['URL']\n",
    "        response = requests.get(url)\n",
    "        soup = BeautifulSoup(response.text, 'html.parser')\n",
    "        gun_image = soup.find_all('img', class_ = 'thumbimage')\n",
    "        for pos,image in enumerate(gun_image):\n",
    "            if pos == 0 or pos == 1: \n",
    "                continue\n",
    "            try: \n",
    "                gun_image = (f\"{base_link}{image['src']}\", cat, (df_pos, pos))\n",
    "                download_image(gun_image)\n",
    "            except: \n",
    "                continue\n",
    "        \n",
    "     \n",
    "        \n",
    "        \n",
    "\n",
    "\n"
   ]
  }
 ],
 "metadata": {
  "kernelspec": {
   "display_name": "Python 3",
   "language": "python",
   "name": "python3"
  },
  "language_info": {
   "codemirror_mode": {
    "name": "ipython",
    "version": 3
   },
   "file_extension": ".py",
   "mimetype": "text/x-python",
   "name": "python",
   "nbconvert_exporter": "python",
   "pygments_lexer": "ipython3",
   "version": "3.7.4"
  }
 },
 "nbformat": 4,
 "nbformat_minor": 4
}
