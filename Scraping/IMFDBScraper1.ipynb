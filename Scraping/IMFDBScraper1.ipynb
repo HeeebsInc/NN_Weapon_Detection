{
 "cells": [
  {
   "cell_type": "code",
   "execution_count": 1,
   "metadata": {},
   "outputs": [],
   "source": [
    "from bs4 import BeautifulSoup\n",
    "import pandas as pd\n",
    "import numpy as np\n",
    "import requests\n",
    "from tqdm import tqdm\n",
    "import shutil"
   ]
  },
  {
   "cell_type": "code",
   "execution_count": 2,
   "metadata": {},
   "outputs": [],
   "source": [
    "response = requests.get('http://www.imfdb.org/wiki/Category:Gun')\n",
    "soup = BeautifulSoup(response.text, 'html.parser')\n",
    "base_link = 'http://www.imfdb.org'"
   ]
  },
  {
   "cell_type": "code",
   "execution_count": 3,
   "metadata": {},
   "outputs": [],
   "source": [
    "category_pages = []\n",
    "tables = soup.find_all('table')\n",
    "category_table = tables[5]\n",
    "category_links = category_table.find_all('a', href = True)\n",
    "for i in category_links: \n",
    "    category_pages.append(f\"{base_link}{i['href']}\")"
   ]
  },
  {
   "cell_type": "code",
   "execution_count": 4,
   "metadata": {},
   "outputs": [
    {
     "name": "stderr",
     "output_type": "stream",
     "text": [
      "Getting Gun Links: 2it [00:00,  2.93it/s]\n"
     ]
    }
   ],
   "source": [
    "gun_links = []\n",
    "category_pages = {'Assault_Rifle':'http://www.imfdb.org/wiki/Category:Assault_Rifle', \n",
    "                   'Pistol': 'http://www.imfdb.org/wiki/Category:Pistol'}\n",
    "#                 'Revolver':'http://www.imfdb.org/wiki/Category:Revolver', \n",
    "#                   'Shotgun': 'http://www.imfdb.org/wiki/Category:Shotgun', \n",
    "#                     'Rifle': 'http://www.imfdb.org/wiki/Category:Rifle'}\n",
    "for pos, categ in tqdm(enumerate(category_pages.keys()), desc = 'Getting Gun Links'): \n",
    "    page = category_pages[categ]\n",
    "    response = requests.get(page)\n",
    "    soup = BeautifulSoup(response.text, 'html.parser')\n",
    "    gun_table = soup.find_all('table')\n",
    "    gun_l= gun_table[-1].find_all('a', href = True)\n",
    "    for i in gun_l:\n",
    "        gun_links.append((f\"{base_link}{i['href']}\", categ))"
   ]
  },
  {
   "cell_type": "code",
   "execution_count": 5,
   "metadata": {},
   "outputs": [],
   "source": [
    "#gun_links"
   ]
  },
  {
   "cell_type": "code",
   "execution_count": 6,
   "metadata": {},
   "outputs": [],
   "source": [
    "def download_image(image): \n",
    "    response = requests.get(image[0], stream = True)\n",
    "    num = image[2]\n",
    "    name = image[1]\n",
    "    file_name = f'{name}_{num}'\n",
    "    file = open(f'Images/{name}/StockImages/{file_name}.jpg', 'wb')\n",
    "    response.raw.decode_content = True\n",
    "    shutil.copyfileobj(response.raw, file)\n",
    "    del response\n",
    "#download_image(gun_image_info[0],0)"
   ]
  },
  {
   "cell_type": "code",
   "execution_count": 7,
   "metadata": {},
   "outputs": [
    {
     "name": "stderr",
     "output_type": "stream",
     "text": [
      "Getting Links to Movies/TV/VideoGames: 100%|██████████| 304/304 [01:51<00:00,  2.72it/s]\n"
     ]
    }
   ],
   "source": [
    "media_links = []\n",
    "media_names = []\n",
    "gun_image_info = []\n",
    "for pos, (gl, name) in enumerate(tqdm(gun_links, desc = 'Getting Links to Movies/TV/VideoGames')): \n",
    "  \n",
    "    response = requests.get(gl)\n",
    "    soup = BeautifulSoup(response.text, 'html.parser')\n",
    "    gun_image = soup.find('img', class_ = 'thumbimage')\n",
    "    try: \n",
    "        gun_image = (f\"{base_link}{gun_image['src']}\", name, pos)\n",
    "        #gun_image_info.append(gun_info)\n",
    "        download_image(gun_image)\n",
    "    except: \n",
    "        continue\n",
    "\n",
    "    #gets links within each table\n",
    "    tables = soup.find_all('table')\n",
    "    if len(tables) == 0: \n",
    "        continue\n",
    "    for table in tables: \n",
    "        col = [i.text.strip() for i in table.find_all('th')]\n",
    "        if len(col) == 0 or len(col) < 2:\n",
    "            continue\n",
    "        if col[1] != 'Actor':\n",
    "            continue\n",
    "        else: \n",
    "            links = table.find_all('a', href = True)\n",
    "            for i in links: \n",
    "                media_links.append(f\"{base_link}{i['href']}\")\n",
    "                media_names.append(name)\n",
    "#     table = tables[0]\n",
    "#     links = table.find_all('a', href = True)\n",
    "#     for i in links: \n",
    "#         media_links.append(f\"{base_link}{i['href']}\")\n",
    "#         media_names.append(name)\n",
    "    \n",
    "    \n",
    "#     for table in tables: \n",
    "#         links = table.find_all('a', href = True)\n",
    "#         for i in links: \n",
    "#             media_links.append(f\"{base_link}{i['href']}\")\n",
    "#             media_names.append(name)\n",
    "    \n",
    "    \n",
    "    "
   ]
  },
  {
   "cell_type": "code",
   "execution_count": 8,
   "metadata": {},
   "outputs": [],
   "source": [
    "pd.DataFrame({'URL': media_links, 'Name': media_names}).to_csv('LinksToMedia.csv', index = False)        "
   ]
  },
  {
   "cell_type": "code",
   "execution_count": 9,
   "metadata": {},
   "outputs": [],
   "source": [
    "# for pic in (gun_image_info): \n",
    "#     download_image(pic)"
   ]
  },
  {
   "cell_type": "code",
   "execution_count": 10,
   "metadata": {},
   "outputs": [],
   "source": [
    "# import pandas as pd\n",
    "# pd.DataFrame({'URL': media_links}).to_csv('LinksToMedia.csv', index = False)"
   ]
  },
  {
   "cell_type": "code",
   "execution_count": null,
   "metadata": {},
   "outputs": [],
   "source": []
  }
 ],
 "metadata": {
  "kernelspec": {
   "display_name": "Python 3",
   "language": "python",
   "name": "python3"
  },
  "language_info": {
   "codemirror_mode": {
    "name": "ipython",
    "version": 3
   },
   "file_extension": ".py",
   "mimetype": "text/x-python",
   "name": "python",
   "nbconvert_exporter": "python",
   "pygments_lexer": "ipython3",
   "version": "3.7.6"
  }
 },
 "nbformat": 4,
 "nbformat_minor": 4
}
