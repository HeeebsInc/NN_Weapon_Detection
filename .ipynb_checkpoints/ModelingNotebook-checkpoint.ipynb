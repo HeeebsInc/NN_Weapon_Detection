{
 "cells": [
  {
   "cell_type": "markdown",
   "metadata": {},
   "source": [
    "## CNN "
   ]
  },
  {
   "cell_type": "code",
   "execution_count": 1,
   "metadata": {},
   "outputs": [
    {
     "name": "stderr",
     "output_type": "stream",
     "text": [
      "Using plaidml.keras.backend backend.\n"
     ]
    }
   ],
   "source": [
    "import numpy as np \n",
    "from keras.models import Sequential\n",
    "from keras.layers import Dense, Dropout, Flatten \n",
    "from keras.layers import Conv2D, MaxPooling2D, BatchNormalization, AveragePooling2D\n",
    "from keras.optimizers import Adam\n",
    "from keras import regularizers\n",
    "from sklearn.preprocessing import LabelEncoder, OneHotEncoder\n",
    "import pandas as pd \n",
    "import matplotlib.pyplot as plt\n",
    "from sklearn.model_selection import train_test_split\n",
    "import os\n",
    "import pickle\n",
    "from sklearn.metrics import confusion_matrix, accuracy_score, recall_score, precision_score, f1_score\n",
    "from PyFunctions import Functions as func\n",
    "from PyFunctions import var\n",
    "from PyFunctions import Viz\n",
    "from keras.callbacks import ModelCheckpoint, EarlyStopping, ReduceLROnPlateau\n",
    "from keras.preprocessing.image import ImageDataGenerator"
   ]
  },
  {
   "cell_type": "markdown",
   "metadata": {},
   "source": [
    "### CNN Model \n",
    "- The function below will compile and return a CNN model given the input dimensions \n",
    "- Categorical Crossentropy was used because the model is used to predict between three classes (0 = No Weapon, 1 = Handgun, 2 = Rifle) \n",
    "- Softmax output was used because this is a ternary classification problem \n",
    "- To ensure that training continued for more than 20 epochs\n",
    "- Dimension for thie model is optimized at (150, 150, 1) \n",
    "- All visualization functions can be found in the Viz.py file within the PyFunctions folder"
   ]
  },
  {
   "cell_type": "code",
   "execution_count": 2,
   "metadata": {},
   "outputs": [
    {
     "name": "stdout",
     "output_type": "stream",
     "text": [
      "(6062, 150, 150, 1) (674, 150, 150, 1)\n",
      "(6062, 3) (674, 3)\n"
     ]
    }
   ],
   "source": [
    "#change edge parameter to false if you are using a non edges train_test_split\n",
    "edge = True\n",
    "x_train, x_test, y_train, y_test = func.get_samples('normal', edge = edge)\n",
    "print(x_train.shape, x_test.shape)\n",
    "print(y_train.shape, y_test.shape)"
   ]
  },
  {
   "cell_type": "markdown",
   "metadata": {},
   "source": [
    "- Running the cell below will show you what the input images look like.  \n",
    "- Creating these images used a gaussian filter that outline the edges within a photo \n",
    "- Using this approach allowed the algorithm to learn distinctive shapes between weapons"
   ]
  },
  {
   "cell_type": "code",
   "execution_count": 3,
   "metadata": {},
   "outputs": [],
   "source": [
    "import cv2 \n",
    "\n",
    "cv2.imshow('test', x_train[1000])\n",
    "cv2.waitKey(0)\n",
    "cv2.destroyAllWindows()"
   ]
  },
  {
   "cell_type": "code",
   "execution_count": 4,
   "metadata": {},
   "outputs": [],
   "source": [
    "def get_conv_model_normal(dim):\n",
    "    '''This function will create and compile a CNN given the input dimension'''\n",
    "    inp_shape = dim\n",
    "    act = 'relu'\n",
    "    drop = .25\n",
    "    kernal_reg = regularizers.l1(.001)\n",
    "    optimizer = Adam(lr = .0001)\n",
    "    \n",
    "    model = Sequential() \n",
    "    \n",
    "    model.add(Conv2D(64, kernel_size=(3,3),activation=act, input_shape = inp_shape, \n",
    "                     kernel_regularizer = kernal_reg,\n",
    "                     kernel_initializer = 'he_uniform',  padding = 'same', name = 'Input_Layer'))\n",
    "    model.add(MaxPooling2D(pool_size=(2, 2),  strides = (3,3)))\n",
    "    \n",
    "    \n",
    "    model.add(Conv2D(64, (3, 3), activation=act, kernel_regularizer = kernal_reg, \n",
    "                     kernel_initializer = 'he_uniform',padding = 'same'))\n",
    "    model.add(MaxPooling2D(pool_size=(2, 2), strides = (3,3)))\n",
    "    \n",
    "\n",
    "    \n",
    "    model.add(Conv2D(128, (3, 3), activation=act, kernel_regularizer = kernal_reg, \n",
    "                     kernel_initializer = 'he_uniform',padding = 'same'))\n",
    "    model.add(Conv2D(128, (3, 3), activation=act, kernel_regularizer = kernal_reg, \n",
    "                     kernel_initializer = 'he_uniform',padding = 'same'))\n",
    "    model.add(MaxPooling2D(pool_size=(2, 2), strides = (3,3)))\n",
    "\n",
    "    \n",
    "    model.add(Flatten())\n",
    "\n",
    "    \n",
    "    model.add(Dense(128, activation='relu'))\n",
    "    model.add(Dense(64, activation='relu'))\n",
    "    model.add(Dense(32, activation='relu'))\n",
    "\n",
    "    model.add(Dropout(drop))\n",
    "\n",
    "    model.add(Dense(3, activation='softmax', name = 'Output_Layer'))\n",
    "    \n",
    "    model.compile(loss = 'categorical_crossentropy', optimizer = optimizer, metrics = ['accuracy'])\n",
    "    return model \n",
    "\n",
    "\n"
   ]
  },
  {
   "cell_type": "markdown",
   "metadata": {},
   "source": [
    "# With Augmentation\n",
    "- First started with augmentation of each image to determine if this would make the accuracy better"
   ]
  },
  {
   "cell_type": "code",
   "execution_count": 5,
   "metadata": {},
   "outputs": [
    {
     "name": "stderr",
     "output_type": "stream",
     "text": [
      "INFO:plaidml:Opening device \"opencl_amd_ellesmere.0\"\n"
     ]
    },
    {
     "name": "stdout",
     "output_type": "stream",
     "text": [
      "Epoch 1/1000\n"
     ]
    },
    {
     "name": "stderr",
     "output_type": "stream",
     "text": [
      "INFO:plaidml:Analyzing Ops: 90 of 422 operations complete\n"
     ]
    },
    {
     "name": "stdout",
     "output_type": "stream",
     "text": [
      " 57/190 [========>.....................] - ETA: 34s - loss: 32.8080 - acc: 0.4178"
     ]
    },
    {
     "name": "stderr",
     "output_type": "stream",
     "text": [
      "INFO:plaidml:Analyzing Ops: 90 of 422 operations complete\n"
     ]
    },
    {
     "name": "stdout",
     "output_type": "stream",
     "text": [
      "190/190 [==============================] - 43s 227ms/step - loss: 19.8253 - acc: 0.4670 - val_loss: 12.1119 - val_acc: 0.5119\n",
      "\n",
      "Epoch 00001: val_loss improved from inf to 12.11189, saving model to ModelWeights/CNN-ModelCheckpointWeightsAugment.h5\n",
      "Epoch 2/1000\n",
      "190/190 [==============================] - 19s 100ms/step - loss: 12.1796 - acc: 0.4688 - val_loss: 11.8818 - val_acc: 0.6825\n",
      "\n",
      "Epoch 00002: val_loss improved from 12.11189 to 11.88182, saving model to ModelWeights/CNN-ModelCheckpointWeightsAugment.h5\n",
      "Epoch 3/1000\n",
      "190/190 [==============================] - 19s 101ms/step - loss: 11.8486 - acc: 0.6551 - val_loss: 11.9929 - val_acc: 0.7404\n",
      "\n",
      "Epoch 00003: val_loss did not improve from 11.88182\n",
      "Epoch 4/1000\n",
      "190/190 [==============================] - 19s 100ms/step - loss: 11.6281 - acc: 0.7383 - val_loss: 11.5231 - val_acc: 0.7864\n",
      "\n",
      "Epoch 00004: val_loss improved from 11.88182 to 11.52310, saving model to ModelWeights/CNN-ModelCheckpointWeightsAugment.h5\n",
      "Epoch 5/1000\n",
      "190/190 [==============================] - 19s 100ms/step - loss: 11.4465 - acc: 0.7677 - val_loss: 11.3205 - val_acc: 0.7953\n",
      "\n",
      "Epoch 00005: val_loss improved from 11.52310 to 11.32047, saving model to ModelWeights/CNN-ModelCheckpointWeightsAugment.h5\n",
      "Epoch 6/1000\n",
      "190/190 [==============================] - 19s 101ms/step - loss: 11.3334 - acc: 0.7770 - val_loss: 11.5950 - val_acc: 0.7582\n",
      "\n",
      "Epoch 00006: val_loss did not improve from 11.32047\n",
      "Epoch 7/1000\n",
      "190/190 [==============================] - 20s 103ms/step - loss: 11.1943 - acc: 0.7780 - val_loss: 11.1859 - val_acc: 0.7864\n",
      "\n",
      "Epoch 00007: val_loss improved from 11.32047 to 11.18594, saving model to ModelWeights/CNN-ModelCheckpointWeightsAugment.h5\n",
      "Epoch 8/1000\n",
      "190/190 [==============================] - 19s 102ms/step - loss: 11.0978 - acc: 0.7772 - val_loss: 10.9582 - val_acc: 0.7923\n",
      "\n",
      "Epoch 00008: val_loss improved from 11.18594 to 10.95817, saving model to ModelWeights/CNN-ModelCheckpointWeightsAugment.h5\n",
      "Epoch 9/1000\n",
      "190/190 [==============================] - 19s 102ms/step - loss: 10.9309 - acc: 0.7852 - val_loss: 10.7696 - val_acc: 0.7938\n",
      "\n",
      "Epoch 00009: val_loss improved from 10.95817 to 10.76964, saving model to ModelWeights/CNN-ModelCheckpointWeightsAugment.h5\n",
      "Epoch 10/1000\n",
      "190/190 [==============================] - 19s 101ms/step - loss: 10.8053 - acc: 0.7875 - val_loss: 10.7274 - val_acc: 0.7908\n",
      "\n",
      "Epoch 00010: val_loss improved from 10.76964 to 10.72741, saving model to ModelWeights/CNN-ModelCheckpointWeightsAugment.h5\n",
      "Epoch 11/1000\n",
      "190/190 [==============================] - 19s 101ms/step - loss: 10.6585 - acc: 0.7844 - val_loss: 10.6171 - val_acc: 0.7893\n",
      "\n",
      "Epoch 00011: val_loss improved from 10.72741 to 10.61710, saving model to ModelWeights/CNN-ModelCheckpointWeightsAugment.h5\n",
      "Epoch 12/1000\n",
      "190/190 [==============================] - 19s 101ms/step - loss: 10.4657 - acc: 0.7915 - val_loss: 10.3068 - val_acc: 0.7967\n",
      "\n",
      "Epoch 00012: val_loss improved from 10.61710 to 10.30677, saving model to ModelWeights/CNN-ModelCheckpointWeightsAugment.h5\n",
      "Epoch 13/1000\n",
      "190/190 [==============================] - 19s 99ms/step - loss: 10.2951 - acc: 0.7902 - val_loss: 10.2118 - val_acc: 0.7923\n",
      "\n",
      "Epoch 00013: val_loss improved from 10.30677 to 10.21175, saving model to ModelWeights/CNN-ModelCheckpointWeightsAugment.h5\n",
      "Epoch 14/1000\n",
      "190/190 [==============================] - 19s 100ms/step - loss: 10.1163 - acc: 0.7909 - val_loss: 13.4805 - val_acc: 0.6721\n",
      "\n",
      "Epoch 00014: val_loss did not improve from 10.21175\n",
      "Epoch 15/1000\n",
      "190/190 [==============================] - 19s 101ms/step - loss: 9.9619 - acc: 0.7853 - val_loss: 9.7608 - val_acc: 0.7967\n",
      "\n",
      "Epoch 00015: val_loss improved from 10.21175 to 9.76085, saving model to ModelWeights/CNN-ModelCheckpointWeightsAugment.h5\n",
      "Epoch 16/1000\n",
      "190/190 [==============================] - 19s 101ms/step - loss: 9.7172 - acc: 0.7914 - val_loss: 9.7008 - val_acc: 0.7878\n",
      "\n",
      "Epoch 00016: val_loss improved from 9.76085 to 9.70079, saving model to ModelWeights/CNN-ModelCheckpointWeightsAugment.h5\n",
      "Epoch 17/1000\n",
      "190/190 [==============================] - 19s 101ms/step - loss: 9.5186 - acc: 0.7920 - val_loss: 9.5700 - val_acc: 0.7819\n",
      "\n",
      "Epoch 00017: val_loss improved from 9.70079 to 9.57001, saving model to ModelWeights/CNN-ModelCheckpointWeightsAugment.h5\n",
      "Epoch 18/1000\n",
      "190/190 [==============================] - 19s 101ms/step - loss: 9.2909 - acc: 0.7902 - val_loss: 10.2135 - val_acc: 0.7478\n",
      "\n",
      "Epoch 00018: val_loss did not improve from 9.57001\n",
      "Epoch 19/1000\n",
      "190/190 [==============================] - 19s 100ms/step - loss: 9.0469 - acc: 0.7927 - val_loss: 10.3729 - val_acc: 0.7270\n",
      "\n",
      "Epoch 00019: val_loss did not improve from 9.57001\n",
      "Epoch 20/1000\n",
      "190/190 [==============================] - 19s 101ms/step - loss: 8.9095 - acc: 0.7946 - val_loss: 9.1110 - val_acc: 0.7834\n",
      "\n",
      "Epoch 00020: val_loss improved from 9.57001 to 9.11096, saving model to ModelWeights/CNN-ModelCheckpointWeightsAugment.h5\n",
      "Epoch 21/1000\n",
      "190/190 [==============================] - 19s 101ms/step - loss: 8.8840 - acc: 0.7943 - val_loss: 9.0048 - val_acc: 0.7834\n",
      "\n",
      "Epoch 00021: val_loss improved from 9.11096 to 9.00482, saving model to ModelWeights/CNN-ModelCheckpointWeightsAugment.h5\n",
      "Epoch 22/1000\n",
      "190/190 [==============================] - 20s 103ms/step - loss: 8.8532 - acc: 0.7941 - val_loss: 8.8569 - val_acc: 0.7908\n",
      "\n",
      "Epoch 00022: val_loss improved from 9.00482 to 8.85694, saving model to ModelWeights/CNN-ModelCheckpointWeightsAugment.h5\n",
      "Epoch 23/1000\n",
      "190/190 [==============================] - 20s 104ms/step - loss: 8.8233 - acc: 0.7952 - val_loss: 8.8137 - val_acc: 0.7908\n",
      "\n",
      "Epoch 00023: val_loss improved from 8.85694 to 8.81373, saving model to ModelWeights/CNN-ModelCheckpointWeightsAugment.h5\n",
      "Epoch 24/1000\n",
      "190/190 [==============================] - 19s 101ms/step - loss: 8.7785 - acc: 0.7948 - val_loss: 9.1272 - val_acc: 0.7804\n",
      "\n",
      "Epoch 00024: val_loss did not improve from 8.81373\n",
      "Epoch 25/1000\n",
      "190/190 [==============================] - 19s 101ms/step - loss: 8.7497 - acc: 0.7943 - val_loss: 8.7776 - val_acc: 0.7908\n",
      "\n",
      "Epoch 00025: val_loss improved from 8.81373 to 8.77758, saving model to ModelWeights/CNN-ModelCheckpointWeightsAugment.h5\n",
      "Epoch 26/1000\n",
      "190/190 [==============================] - 19s 102ms/step - loss: 8.7075 - acc: 0.7943 - val_loss: 8.6829 - val_acc: 0.7908\n",
      "\n",
      "Epoch 00026: val_loss improved from 8.77758 to 8.68292, saving model to ModelWeights/CNN-ModelCheckpointWeightsAugment.h5\n",
      "Epoch 27/1000\n",
      "190/190 [==============================] - 19s 101ms/step - loss: 8.6621 - acc: 0.7943 - val_loss: 9.2023 - val_acc: 0.7730\n",
      "\n",
      "Epoch 00027: val_loss did not improve from 8.68292\n",
      "Epoch 28/1000\n",
      "190/190 [==============================] - 19s 100ms/step - loss: 8.6194 - acc: 0.7940 - val_loss: 8.7170 - val_acc: 0.7864\n",
      "\n",
      "Epoch 00028: val_loss did not improve from 8.68292\n",
      "Epoch 29/1000\n",
      "190/190 [==============================] - 19s 101ms/step - loss: 8.5938 - acc: 0.7941 - val_loss: 8.7103 - val_acc: 0.7864\n",
      "\n",
      "Epoch 00029: val_loss did not improve from 8.68292\n",
      "Epoch 30/1000\n",
      "190/190 [==============================] - 19s 101ms/step - loss: 8.5879 - acc: 0.7947 - val_loss: 8.6812 - val_acc: 0.7878\n",
      "\n",
      "Epoch 00030: val_loss improved from 8.68292 to 8.68123, saving model to ModelWeights/CNN-ModelCheckpointWeightsAugment.h5\n",
      "Epoch 31/1000\n",
      "190/190 [==============================] - 19s 100ms/step - loss: 8.5786 - acc: 0.7942 - val_loss: 8.6307 - val_acc: 0.7908\n",
      "\n",
      "Epoch 00031: val_loss improved from 8.68123 to 8.63072, saving model to ModelWeights/CNN-ModelCheckpointWeightsAugment.h5\n",
      "Epoch 32/1000\n",
      "190/190 [==============================] - 19s 102ms/step - loss: 8.5761 - acc: 0.7953 - val_loss: 8.6497 - val_acc: 0.7893\n",
      "\n",
      "Epoch 00032: val_loss did not improve from 8.63072\n",
      "Epoch 33/1000\n",
      "190/190 [==============================] - 19s 101ms/step - loss: 8.5696 - acc: 0.7944 - val_loss: 8.6242 - val_acc: 0.7908\n",
      "\n",
      "Epoch 00033: val_loss improved from 8.63072 to 8.62418, saving model to ModelWeights/CNN-ModelCheckpointWeightsAugment.h5\n",
      "Epoch 34/1000\n",
      "190/190 [==============================] - 20s 103ms/step - loss: 8.5636 - acc: 0.7942 - val_loss: 8.6333 - val_acc: 0.7893\n",
      "\n",
      "Epoch 00034: val_loss did not improve from 8.62418\n",
      "Epoch 35/1000\n"
     ]
    },
    {
     "name": "stdout",
     "output_type": "stream",
     "text": [
      "190/190 [==============================] - 19s 103ms/step - loss: 8.5522 - acc: 0.7937 - val_loss: 8.6177 - val_acc: 0.7908\n",
      "\n",
      "Epoch 00035: val_loss improved from 8.62418 to 8.61769, saving model to ModelWeights/CNN-ModelCheckpointWeightsAugment.h5\n",
      "Epoch 36/1000\n",
      "190/190 [==============================] - 19s 101ms/step - loss: 8.5543 - acc: 0.7937 - val_loss: 8.6375 - val_acc: 0.7878\n",
      "\n",
      "Epoch 00036: val_loss did not improve from 8.61769\n",
      "Epoch 37/1000\n",
      "190/190 [==============================] - 19s 100ms/step - loss: 8.5409 - acc: 0.7948 - val_loss: 8.6686 - val_acc: 0.7849\n",
      "\n",
      "Epoch 00037: val_loss did not improve from 8.61769\n",
      "Epoch 38/1000\n",
      "190/190 [==============================] - 19s 100ms/step - loss: 8.5368 - acc: 0.7946 - val_loss: 8.6616 - val_acc: 0.7864\n",
      "\n",
      "Epoch 00038: val_loss did not improve from 8.61769\n",
      "Epoch 39/1000\n",
      "190/190 [==============================] - 19s 100ms/step - loss: 8.5318 - acc: 0.7952 - val_loss: 8.6455 - val_acc: 0.7878\n",
      "\n",
      "Epoch 00039: val_loss did not improve from 8.61769\n",
      "Epoch 40/1000\n",
      "190/190 [==============================] - 19s 100ms/step - loss: 8.5326 - acc: 0.7945 - val_loss: 8.6437 - val_acc: 0.7878\n",
      "\n",
      "Epoch 00040: val_loss did not improve from 8.61769\n",
      "Epoch 41/1000\n",
      "190/190 [==============================] - 19s 100ms/step - loss: 8.5377 - acc: 0.7944 - val_loss: 8.6431 - val_acc: 0.7878\n",
      "\n",
      "Epoch 00041: val_loss did not improve from 8.61769\n",
      "Epoch 42/1000\n",
      "190/190 [==============================] - 19s 100ms/step - loss: 8.5349 - acc: 0.7937 - val_loss: 8.6431 - val_acc: 0.7878\n",
      "\n",
      "Epoch 00042: val_loss did not improve from 8.61769\n",
      "Epoch 43/1000\n",
      "190/190 [==============================] - 19s 100ms/step - loss: 8.5431 - acc: 0.7951 - val_loss: 8.6431 - val_acc: 0.7878\n",
      "\n",
      "Epoch 00043: val_loss did not improve from 8.61769\n",
      "Epoch 44/1000\n",
      "190/190 [==============================] - 19s 100ms/step - loss: 8.5361 - acc: 0.7942 - val_loss: 8.6431 - val_acc: 0.7878\n",
      "\n",
      "Epoch 00044: val_loss did not improve from 8.61769\n",
      "Epoch 45/1000\n",
      "190/190 [==============================] - 19s 100ms/step - loss: 8.5423 - acc: 0.7942 - val_loss: 8.6431 - val_acc: 0.7878\n",
      "\n",
      "Epoch 00045: val_loss did not improve from 8.61769\n",
      "Epoch 00045: early stopping\n"
     ]
    }
   ],
   "source": [
    "early_stopping = EarlyStopping(monitor='val_loss', verbose = 1, patience=10, min_delta = .00075)\n",
    "model_checkpoint = ModelCheckpoint('ModelWeights/CNN-ModelCheckpointWeightsAugment.h5', verbose = 1, save_best_only=True,\n",
    "                                  monitor = 'val_loss')\n",
    "lr_plat = ReduceLROnPlateau(patience = 2, mode = 'min')\n",
    "epochs = 1000\n",
    "batch_size = 32\n",
    "\n",
    "if edge == True: \n",
    "    dim = (var.norm_dimension[0], var.norm_dimension[1], 1)\n",
    "else: \n",
    "    dim = (var.norm_dimension[0], var.norm_dimension[1], 3)\n",
    "    \n",
    "normal_model = get_conv_model_normal(dim =dim)\n",
    "\n",
    "\n",
    "augmentation =ImageDataGenerator(rotation_range = 20, width_shift_range = .2, height_shift_range = .2, \n",
    "                                                       horizontal_flip = True, shear_range = .15, \n",
    "                                 fill_mode = 'nearest', zoom_range = .15)\n",
    "augmentation.fit(x_train)\n",
    "normal_history = normal_model.fit_generator(augmentation.flow(x_train, y_train, batch_size = batch_size),\n",
    "            epochs = epochs, \n",
    "     callbacks = [early_stopping, model_checkpoint, lr_plat], validation_data = (x_test, y_test), verbose= 1)\n"
   ]
  },
  {
   "cell_type": "code",
   "execution_count": 6,
   "metadata": {
    "scrolled": true
   },
   "outputs": [
    {
     "name": "stdout",
     "output_type": "stream",
     "text": [
      "_________________________________________________________________\n",
      "Layer (type)                 Output Shape              Param #   \n",
      "=================================================================\n",
      "Input_Layer (Conv2D)         (None, 150, 150, 64)      640       \n",
      "_________________________________________________________________\n",
      "max_pooling2d_1 (MaxPooling2 (None, 50, 50, 64)        0         \n",
      "_________________________________________________________________\n",
      "conv2d_1 (Conv2D)            (None, 50, 50, 64)        36928     \n",
      "_________________________________________________________________\n",
      "max_pooling2d_2 (MaxPooling2 (None, 17, 17, 64)        0         \n",
      "_________________________________________________________________\n",
      "conv2d_2 (Conv2D)            (None, 17, 17, 128)       73856     \n",
      "_________________________________________________________________\n",
      "conv2d_3 (Conv2D)            (None, 17, 17, 128)       147584    \n",
      "_________________________________________________________________\n",
      "max_pooling2d_3 (MaxPooling2 (None, 6, 6, 128)         0         \n",
      "_________________________________________________________________\n",
      "flatten_1 (Flatten)          (None, 4608)              0         \n",
      "_________________________________________________________________\n",
      "dense_1 (Dense)              (None, 128)               589952    \n",
      "_________________________________________________________________\n",
      "dense_2 (Dense)              (None, 64)                8256      \n",
      "_________________________________________________________________\n",
      "dense_3 (Dense)              (None, 32)                2080      \n",
      "_________________________________________________________________\n",
      "dropout_1 (Dropout)          (None, 32)                0         \n",
      "_________________________________________________________________\n",
      "Output_Layer (Dense)         (None, 3)                 99        \n",
      "=================================================================\n",
      "Total params: 859,395\n",
      "Trainable params: 859,395\n",
      "Non-trainable params: 0\n",
      "_________________________________________________________________\n",
      "None\n"
     ]
    }
   ],
   "source": [
    "print(normal_model.summary())"
   ]
  },
  {
   "cell_type": "markdown",
   "metadata": {},
   "source": [
    "### Loss & Accuracy With Augment"
   ]
  },
  {
   "cell_type": "code",
   "execution_count": 7,
   "metadata": {},
   "outputs": [
    {
     "data": {
      "image/png": "[encoded data removed]",
      "text/plain": [
       "<Figure size 1080x360 with 2 Axes>"
      ]
     },
     "metadata": {},
     "output_type": "display_data"
    }
   ],
   "source": [
    "Viz.plot_loss_accuracy(normal_history, 'dark_background', path = 'figures/CNNModelAugment.png')  "
   ]
  },
  {
   "cell_type": "markdown",
   "metadata": {},
   "source": [
    "### AUC and ROC Curves With Augment"
   ]
  },
  {
   "cell_type": "code",
   "execution_count": 8,
   "metadata": {},
   "outputs": [
    {
     "name": "stdout",
     "output_type": "stream",
     "text": [
      "F1 Scores Test\n",
      "~~~~~~~~~~~~~~~~~~~~~~\n",
      "No Weapon: 0.970059880239521\n",
      "HandGun: 0.8169014084507041\n",
      "Rifle: 0.0\n"
     ]
    },
    {
     "data": {
      "image/png": "[encoded data removed]",
      "text/plain": [
       "<Figure size 936x576 with 1 Axes>"
      ]
     },
     "metadata": {},
     "output_type": "display_data"
    }
   ],
   "source": [
    "if edge == True: \n",
    "    dim = (var.norm_dimension[0], var.norm_dimension[1], 1)\n",
    "else: \n",
    "    dim = (var.norm_dimension[0], var.norm_dimension[1], 3)\n",
    "    \n",
    "normal_model = get_conv_model_normal(dim)\n",
    "normal_model.load_weights('ModelWeights/CNN-ModelCheckpointWeightsAugment.h5') #load the best weights before overfitting\n",
    " \n",
    "\n",
    "\n",
    "Viz.plot_roc_auc(normal_model, x_test, y_test, 'dark_background', 'figures/ROCAUCAugment.png')"
   ]
  },
  {
   "cell_type": "markdown",
   "metadata": {},
   "source": [
    "### Confusion Matrix With Augment"
   ]
  },
  {
   "cell_type": "code",
   "execution_count": 9,
   "metadata": {},
   "outputs": [
    {
     "data": {
      "image/png": "[encoded data removed]",
      "text/plain": [
       "<Figure size 720x576 with 2 Axes>"
      ]
     },
     "metadata": {},
     "output_type": "display_data"
    }
   ],
   "source": [
    "if edge == True: \n",
    "    dim = (var.norm_dimension[0], var.norm_dimension[1], 1)\n",
    "else: \n",
    "    dim = (var.norm_dimension[0], var.norm_dimension[1], 3)\n",
    "        \n",
    "normal_model = get_conv_model_normal(dim)\n",
    "normal_model.load_weights('ModelWeights/CNN-ModelCheckpointWeightsAugment.h5') #load the best weights before overfitting\n",
    "\n",
    "\n",
    "\n",
    "\n",
    "\n",
    "y_test_prob = [np.argmax(i) for i in normal_model.predict(x_test)]\n",
    "y_test_labels = [np.argmax(\n",
    "    i) for i in y_test]\n",
    "test_cnf = confusion_matrix(y_test_labels, y_test_prob)\n",
    "\n",
    "y_train_prob = [np.argmax(i) for i in normal_model.predict(x_train)]\n",
    "y_train_labels = [np.argmax(i) for i in y_train]\n",
    "train_cnf = confusion_matrix(y_train_labels, y_train_prob)\n",
    "\n",
    "Viz.plot_model_cm(test_cnf, train_cnf, classes = ['No Weapon', 'Handgun', 'Rifle'], theme = 'dark_background', \n",
    "                  path = 'figures/CMAugment.png')\n"
   ]
  },
  {
   "cell_type": "code",
   "execution_count": 10,
   "metadata": {},
   "outputs": [
    {
     "ename": "AssertionError",
     "evalue": "",
     "output_type": "error",
     "traceback": [
      "\u001b[1;31m---------------------------------------------------------------------------\u001b[0m",
      "\u001b[1;31mAssertionError\u001b[0m                            Traceback (most recent call last)",
      "\u001b[1;32m<ipython-input-10-a871fdc9ebee>\u001b[0m in \u001b[0;36m<module>\u001b[1;34m\u001b[0m\n\u001b[1;32m----> 1\u001b[1;33m \u001b[1;32massert\u001b[0m \u001b[1;32mFalse\u001b[0m\u001b[1;33m\u001b[0m\u001b[1;33m\u001b[0m\u001b[0m\n\u001b[0m",
      "\u001b[1;31mAssertionError\u001b[0m: "
     ]
    }
   ],
   "source": [
    "assert False"
   ]
  },
  {
   "cell_type": "markdown",
   "metadata": {},
   "source": [
    "# No Augmention"
   ]
  },
  {
   "cell_type": "code",
   "execution_count": null,
   "metadata": {},
   "outputs": [
    {
     "name": "stdout",
     "output_type": "stream",
     "text": [
      "Train on 6062 samples, validate on 674 samples\n",
      "Epoch 1/1000\n"
     ]
    },
    {
     "name": "stderr",
     "output_type": "stream",
     "text": [
      "INFO:plaidml:Analyzing Ops: 92 of 422 operations complete\n"
     ]
    },
    {
     "name": "stdout",
     "output_type": "stream",
     "text": [
      "6062/6062 [==============================] - 43s 7ms/step - loss: 20.5382 - acc: 0.5599 - val_loss: 12.2856 - val_acc: 0.7211\n",
      "\n",
      "Epoch 00001: val_loss improved from inf to 12.28558, saving model to ModelWeights/CNN-ModelCheckpointWeightsNoAugment.h5\n",
      "Epoch 2/1000\n",
      "6062/6062 [==============================] - 19s 3ms/step - loss: 12.1792 - acc: 0.7181 - val_loss: 11.7517 - val_acc: 0.7715\n",
      "\n",
      "Epoch 00002: val_loss improved from 12.28558 to 11.75174, saving model to ModelWeights/CNN-ModelCheckpointWeightsNoAugment.h5\n",
      "Epoch 3/1000\n",
      "6062/6062 [==============================] - 19s 3ms/step - loss: 11.6702 - acc: 0.7371 - val_loss: 11.5390 - val_acc: 0.7596\n",
      "\n",
      "Epoch 00003: val_loss improved from 11.75174 to 11.53898, saving model to ModelWeights/CNN-ModelCheckpointWeightsNoAugment.h5\n",
      "Epoch 4/1000\n",
      "6062/6062 [==============================] - 19s 3ms/step - loss: 11.4880 - acc: 0.7636 - val_loss: 11.4359 - val_acc: 0.7804\n",
      "\n",
      "Epoch 00004: val_loss improved from 11.53898 to 11.43591, saving model to ModelWeights/CNN-ModelCheckpointWeightsNoAugment.h5\n",
      "Epoch 5/1000\n",
      "6062/6062 [==============================] - 19s 3ms/step - loss: 11.3537 - acc: 0.7979 - val_loss: 11.3192 - val_acc: 0.7893\n",
      "\n",
      "Epoch 00005: val_loss improved from 11.43591 to 11.31915, saving model to ModelWeights/CNN-ModelCheckpointWeightsNoAugment.h5\n",
      "Epoch 6/1000\n",
      "6062/6062 [==============================] - 19s 3ms/step - loss: 11.2261 - acc: 0.8129 - val_loss: 11.2217 - val_acc: 0.7864\n",
      "\n",
      "Epoch 00006: val_loss improved from 11.31915 to 11.22167, saving model to ModelWeights/CNN-ModelCheckpointWeightsNoAugment.h5\n",
      "Epoch 7/1000\n",
      "6062/6062 [==============================] - 19s 3ms/step - loss: 11.0908 - acc: 0.8200 - val_loss: 11.0927 - val_acc: 0.7967\n",
      "\n",
      "Epoch 00007: val_loss improved from 11.22167 to 11.09273, saving model to ModelWeights/CNN-ModelCheckpointWeightsNoAugment.h5\n",
      "Epoch 8/1000\n",
      "6062/6062 [==============================] - 19s 3ms/step - loss: 10.9412 - acc: 0.8250 - val_loss: 10.9835 - val_acc: 0.7908\n",
      "\n",
      "Epoch 00008: val_loss improved from 11.09273 to 10.98353, saving model to ModelWeights/CNN-ModelCheckpointWeightsNoAugment.h5\n",
      "Epoch 9/1000\n",
      "6062/6062 [==============================] - 19s 3ms/step - loss: 10.7889 - acc: 0.8345 - val_loss: 10.7891 - val_acc: 0.8086\n",
      "\n",
      "Epoch 00009: val_loss improved from 10.98353 to 10.78911, saving model to ModelWeights/CNN-ModelCheckpointWeightsNoAugment.h5\n",
      "Epoch 10/1000\n",
      "6062/6062 [==============================] - 19s 3ms/step - loss: 10.6391 - acc: 0.8362 - val_loss: 10.6661 - val_acc: 0.8145\n",
      "\n",
      "Epoch 00010: val_loss improved from 10.78911 to 10.66609, saving model to ModelWeights/CNN-ModelCheckpointWeightsNoAugment.h5\n",
      "Epoch 11/1000\n",
      "6062/6062 [==============================] - 19s 3ms/step - loss: 10.4670 - acc: 0.8367 - val_loss: 10.4898 - val_acc: 0.8071\n",
      "\n",
      "Epoch 00011: val_loss improved from 10.66609 to 10.48983, saving model to ModelWeights/CNN-ModelCheckpointWeightsNoAugment.h5\n",
      "Epoch 12/1000\n",
      "6062/6062 [==============================] - 19s 3ms/step - loss: 10.2794 - acc: 0.8514 - val_loss: 10.3224 - val_acc: 0.8071\n",
      "\n",
      "Epoch 00012: val_loss improved from 10.48983 to 10.32241, saving model to ModelWeights/CNN-ModelCheckpointWeightsNoAugment.h5\n",
      "Epoch 13/1000\n",
      "6062/6062 [==============================] - 19s 3ms/step - loss: 10.1076 - acc: 0.8520 - val_loss: 10.1755 - val_acc: 0.8056\n",
      "\n",
      "Epoch 00013: val_loss improved from 10.32241 to 10.17549, saving model to ModelWeights/CNN-ModelCheckpointWeightsNoAugment.h5\n",
      "Epoch 14/1000\n",
      "6062/6062 [==============================] - 19s 3ms/step - loss: 9.9089 - acc: 0.8566 - val_loss: 9.9584 - val_acc: 0.8027\n",
      "\n",
      "Epoch 00014: val_loss improved from 10.17549 to 9.95844, saving model to ModelWeights/CNN-ModelCheckpointWeightsNoAugment.h5\n",
      "Epoch 15/1000\n",
      "6062/6062 [==============================] - 19s 3ms/step - loss: 9.7334 - acc: 0.8563 - val_loss: 9.8284 - val_acc: 0.8131\n",
      "\n",
      "Epoch 00015: val_loss improved from 9.95844 to 9.82843, saving model to ModelWeights/CNN-ModelCheckpointWeightsNoAugment.h5\n",
      "Epoch 16/1000\n",
      "6062/6062 [==============================] - 19s 3ms/step - loss: 9.5042 - acc: 0.8726 - val_loss: 9.5988 - val_acc: 0.8323\n",
      "\n",
      "Epoch 00016: val_loss improved from 9.82843 to 9.59881, saving model to ModelWeights/CNN-ModelCheckpointWeightsNoAugment.h5\n",
      "Epoch 17/1000\n",
      "6062/6062 [==============================] - 19s 3ms/step - loss: 9.2815 - acc: 0.8812 - val_loss: 9.3773 - val_acc: 0.8279\n",
      "\n",
      "Epoch 00017: val_loss improved from 9.59881 to 9.37733, saving model to ModelWeights/CNN-ModelCheckpointWeightsNoAugment.h5\n",
      "Epoch 18/1000\n",
      "6062/6062 [==============================] - 19s 3ms/step - loss: 9.0689 - acc: 0.8816 - val_loss: 9.1531 - val_acc: 0.8205\n",
      "\n",
      "Epoch 00018: val_loss improved from 9.37733 to 9.15310, saving model to ModelWeights/CNN-ModelCheckpointWeightsNoAugment.h5\n",
      "Epoch 19/1000\n",
      "6062/6062 [==============================] - 19s 3ms/step - loss: 8.8384 - acc: 0.8943 - val_loss: 8.9504 - val_acc: 0.8012\n",
      "\n",
      "Epoch 00019: val_loss improved from 9.15310 to 8.95042, saving model to ModelWeights/CNN-ModelCheckpointWeightsNoAugment.h5\n",
      "Epoch 20/1000\n",
      "6062/6062 [==============================] - 19s 3ms/step - loss: 8.5929 - acc: 0.9081 - val_loss: 8.8059 - val_acc: 0.8279\n",
      "\n",
      "Epoch 00020: val_loss improved from 8.95042 to 8.80592, saving model to ModelWeights/CNN-ModelCheckpointWeightsNoAugment.h5\n",
      "Epoch 21/1000\n",
      "6062/6062 [==============================] - 19s 3ms/step - loss: 8.3774 - acc: 0.9038 - val_loss: 8.5470 - val_acc: 0.8205\n",
      "\n",
      "Epoch 00021: val_loss improved from 8.80592 to 8.54705, saving model to ModelWeights/CNN-ModelCheckpointWeightsNoAugment.h5\n",
      "Epoch 22/1000\n",
      "6062/6062 [==============================] - 19s 3ms/step - loss: 8.1386 - acc: 0.9182 - val_loss: 8.3008 - val_acc: 0.8234\n",
      "\n",
      "Epoch 00022: val_loss improved from 8.54705 to 8.30077, saving model to ModelWeights/CNN-ModelCheckpointWeightsNoAugment.h5\n",
      "Epoch 23/1000\n",
      "6062/6062 [==============================] - 19s 3ms/step - loss: 7.9257 - acc: 0.9235 - val_loss: 8.0634 - val_acc: 0.8472\n",
      "\n",
      "Epoch 00023: val_loss improved from 8.30077 to 8.06344, saving model to ModelWeights/CNN-ModelCheckpointWeightsNoAugment.h5\n",
      "Epoch 24/1000\n",
      "6062/6062 [==============================] - 19s 3ms/step - loss: 7.6504 - acc: 0.9348 - val_loss: 7.9538 - val_acc: 0.8457\n",
      "\n",
      "Epoch 00024: val_loss improved from 8.06344 to 7.95382, saving model to ModelWeights/CNN-ModelCheckpointWeightsNoAugment.h5\n",
      "Epoch 25/1000\n",
      "6062/6062 [==============================] - 19s 3ms/step - loss: 7.4222 - acc: 0.9353 - val_loss: 7.6194 - val_acc: 0.8294\n",
      "\n",
      "Epoch 00025: val_loss improved from 7.95382 to 7.61935, saving model to ModelWeights/CNN-ModelCheckpointWeightsNoAugment.h5\n",
      "Epoch 26/1000\n",
      "6062/6062 [==============================] - 19s 3ms/step - loss: 7.2213 - acc: 0.9317 - val_loss: 7.6302 - val_acc: 0.8294\n",
      "\n",
      "Epoch 00026: val_loss did not improve from 7.61935\n",
      "Epoch 27/1000\n",
      "6062/6062 [==============================] - 19s 3ms/step - loss: 6.9671 - acc: 0.9482 - val_loss: 7.2482 - val_acc: 0.8234\n",
      "\n",
      "Epoch 00027: val_loss improved from 7.61935 to 7.24815, saving model to ModelWeights/CNN-ModelCheckpointWeightsNoAugment.h5\n",
      "Epoch 28/1000\n",
      "6062/6062 [==============================] - 19s 3ms/step - loss: 6.7195 - acc: 0.9607 - val_loss: 7.0873 - val_acc: 0.8249\n",
      "\n",
      "Epoch 00028: val_loss improved from 7.24815 to 7.08732, saving model to ModelWeights/CNN-ModelCheckpointWeightsNoAugment.h5\n",
      "Epoch 29/1000\n",
      "6062/6062 [==============================] - 19s 3ms/step - loss: 6.5419 - acc: 0.9520 - val_loss: 6.8750 - val_acc: 0.8145\n",
      "\n",
      "Epoch 00029: val_loss improved from 7.08732 to 6.87495, saving model to ModelWeights/CNN-ModelCheckpointWeightsNoAugment.h5\n",
      "Epoch 30/1000\n",
      "1760/6062 [=======>......................] - ETA: 13s - loss: 6.3581 - acc: 0.9653"
     ]
    }
   ],
   "source": [
    "early_stopping = EarlyStopping(monitor='val_loss', verbose = 1, patience=10, min_delta = .00075)\n",
    "model_checkpoint = ModelCheckpoint('ModelWeights/CNN-ModelCheckpointWeightsNoAugment.h5', verbose = 1, save_best_only=True,\n",
    "                                  monitor = 'val_loss')\n",
    "lr_plat = ReduceLROnPlateau(patience = 2, mode = 'min')\n",
    "epochs = 1000\n",
    "batch_size = 32\n",
    "\n",
    "if edge == True: \n",
    "    dim = (var.norm_dimension[0], var.norm_dimension[1], 1)\n",
    "else: \n",
    "    dim = (var.norm_dimension[0], var.norm_dimension[1], 3)\n",
    "    \n",
    "normal_model = get_conv_model_normal(dim =dim)\n",
    "\n",
    "\n",
    "normal_history = normal_model.fit(x_train, y_train, batch_size = batch_size,\n",
    "            epochs = epochs, \n",
    "     callbacks = [early_stopping, model_checkpoint, lr_plat], validation_data = (x_test, y_test), verbose= 1)\n"
   ]
  },
  {
   "cell_type": "markdown",
   "metadata": {},
   "source": [
    "### Loss and Accuracy without Augment"
   ]
  },
  {
   "cell_type": "code",
   "execution_count": null,
   "metadata": {},
   "outputs": [],
   "source": [
    "Viz.plot_loss_accuracy(normal_history, 'dark_background', path = 'figures/CNNModelNoAugment.png')  "
   ]
  },
  {
   "cell_type": "markdown",
   "metadata": {},
   "source": [
    "### ROC and AUC without Augment"
   ]
  },
  {
   "cell_type": "code",
   "execution_count": null,
   "metadata": {},
   "outputs": [],
   "source": [
    "if edge == True: \n",
    "    dim = (var.norm_dimension[0], var.norm_dimension[1], 1)\n",
    "else: \n",
    "    dim = (var.norm_dimension[0], var.norm_dimension[1], 3)\n",
    "    \n",
    "normal_model = get_conv_model_normal(dim)\n",
    "normal_model.load_weights('ModelWeights/CNN-ModelCheckpointWeightsNoAugment.h5') #load the best weights before overfitting\n",
    " \n",
    "\n",
    "\n",
    "Viz.plot_roc_auc(normal_model, x_test, y_test, 'dark_background', 'figures/ROCAUCNoAugment.png')"
   ]
  },
  {
   "cell_type": "markdown",
   "metadata": {},
   "source": [
    "### Confusion Matrix Without Augment"
   ]
  },
  {
   "cell_type": "code",
   "execution_count": null,
   "metadata": {},
   "outputs": [],
   "source": [
    "if edge == True: \n",
    "    dim = (var.norm_dimension[0], var.norm_dimension[1], 1)\n",
    "else: \n",
    "    dim = (var.norm_dimension[0], var.norm_dimension[1], 3)\n",
    "        \n",
    "normal_model = get_conv_model_normal(dim)\n",
    "normal_model.load_weights('ModelWeights/CNN-ModelCheckpointWeightsNoAugment.h5') #load the best weights before overfitting\n",
    "\n",
    "\n",
    "\n",
    "\n",
    "\n",
    "y_test_prob = [np.argmax(i) for i in normal_model.predict(x_test)]\n",
    "y_test_labels = [np.argmax(\n",
    "    i) for i in y_test]\n",
    "test_cnf = confusion_matrix(y_test_labels, y_test_prob)\n",
    "\n",
    "y_train_prob = [np.argmax(i) for i in normal_model.predict(x_train)]\n",
    "y_train_labels = [np.argmax(i) for i in y_train]\n",
    "train_cnf = confusion_matrix(y_train_labels, y_train_prob)\n",
    "\n",
    "Viz.plot_model_cm(test_cnf, train_cnf, classes = ['No Weapon', 'Handgun', 'Rifle'], theme = 'dark_background', \n",
    "                  path = 'figures/CMNpAugment.png')\n"
   ]
  },
  {
   "cell_type": "code",
   "execution_count": null,
   "metadata": {},
   "outputs": [],
   "source": []
  }
 ],
 "metadata": {
  "kernelspec": {
   "display_name": "Python 3",
   "language": "python",
   "name": "python3"
  },
  "language_info": {
   "codemirror_mode": {
    "name": "ipython",
    "version": 3
   },
   "file_extension": ".py",
   "mimetype": "text/x-python",
   "name": "python",
   "nbconvert_exporter": "python",
   "pygments_lexer": "ipython3",
   "version": "3.7.4"
  }
 },
 "nbformat": 4,
 "nbformat_minor": 4
}
