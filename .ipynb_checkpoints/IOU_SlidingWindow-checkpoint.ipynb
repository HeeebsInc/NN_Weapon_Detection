{
 "cells": [
  {
   "cell_type": "code",
   "execution_count": 1,
   "metadata": {},
   "outputs": [
    {
     "name": "stderr",
     "output_type": "stream",
     "text": [
      "Using plaidml.keras.backend backend.\n"
     ]
    }
   ],
   "source": [
    "import os \n",
    "import cv2\n",
    "import pandas as pd\n",
    "import numpy as np \n",
    "from tqdm import tqdm\n",
    "import Functions as func\n",
    "import var"
   ]
  },
  {
   "cell_type": "code",
   "execution_count": null,
   "metadata": {},
   "outputs": [],
   "source": []
  },
  {
   "cell_type": "markdown",
   "metadata": {},
   "source": [
    "The general flow of our algorithm will be:\n",
    "\n",
    "1. **Step #1:** Input an image\n",
    "2. **Step #2:** Construct an image pyramid\n",
    "3. **Step #3:** For each scale of the image pyramid, run a sliding window\n",
    "4. **Step #3a:** For each stop of the sliding window, extract the ROI\n",
    "5. **Step #3b:** Take the ROI and pass it through our CNN originally trained for image classification\n",
    "6. **Step #3c:** Examine the probability of the top class label of the CNN, and if meets a minimum confidence, record (1) the class label and (2) the location of the sliding window\n",
    "7. **Step #4:** Apply class-wise non-maxima suppression to the bounding boxes\n",
    "8. **Step #5:** Return results to calling function"
   ]
  },
  {
   "cell_type": "code",
   "execution_count": 2,
   "metadata": {},
   "outputs": [],
   "source": [
    "def get_iou(box1, box2):\n",
    "    # determine the (x, y)-coordinates of the intersection rectangle\n",
    "    xa = max(box1[0], box2[0])\n",
    "    ya = max(box1[1], box2[1])\n",
    "    xb = min(box1[2], box2[2])\n",
    "    yb = min(box1[3], box2[3])\n",
    "    # compute the area of intersection rectangle\n",
    "    interArea = max(0, xb - xa + 1) * max(0, yb - ya + 1)\n",
    "    \n",
    "    # compute the area of both the prediction and ground-truth\n",
    "    # rectangles\n",
    "    boxAArea = (box1[2] - box1[0] + 1) * (box1[3] - box1[1] + 1)\n",
    "    boxBArea = (box2[2] - box2[0] + 1) * (box2[3] - box2[1] + 1)\n",
    "    \n",
    "    iou = interArea / float(boxAArea + boxBArea - interArea)\n",
    "    # return the intersection over union value\n",
    "    return iou"
   ]
  },
  {
   "cell_type": "code",
   "execution_count": 3,
   "metadata": {},
   "outputs": [
    {
     "name": "stderr",
     "output_type": "stream",
     "text": [
      "100%|███████████████████████████████████████████████████████████████████████████████████████████████████████████████████████████████████████████████| 6202/6202 [2:28:08<00:00,  1.43s/it]\n"
     ]
    }
   ],
   "source": [
    "folder ='Combined'\n",
    "df = pd.read_csv(f'../{folder}/PATHS.csv').drop('Unnamed: 0', axis =1)\n",
    "\n",
    "zipped_paths = df[['filename']]\n",
    "\n",
    "max_prop = 2000\n",
    "max_pos = 5\n",
    "max_neg = 5\n",
    "input_dim = var.norm_dimension\n",
    "total_pos = 0 \n",
    "total_neg = 0\n",
    "error_array = [] \n",
    "for idx in tqdm(range(len(df))): \n",
    "    row = df.iloc[idx]\n",
    "    img_path = row.filename\n",
    "    image = cv2.imread(f'../{folder}/{img_path}')\n",
    "    try:\n",
    "        ss = cv2.ximgproc.segmentation.createSelectiveSearchSegmentation()\n",
    "        ss.setBaseImage(image)\n",
    "        ss.switchToSelectiveSearchFast()\n",
    "        rects = ss.process() \n",
    "        prop_rect = [] \n",
    "\n",
    "        xMin = row.xmin\n",
    "        xMax = row.xmax\n",
    "        yMin = row.ymin\n",
    "        yMax = row.ymax\n",
    "        gt_box = ((xMin, yMin, xMax, yMax))\n",
    "        gt_startx, gt_starty, gt_endx, gt_endy = gt_box\n",
    "        for (x,y,w,h) in rects: \n",
    "            prop_rect.append((x,y,x+w, y+h))\n",
    "        positive = 0 \n",
    "        negative = 0 \n",
    "        for rect in prop_rect[:max_prop]: \n",
    "            startx, starty, endx, endy = rect\n",
    "            iou = get_iou(gt_box, rect)\n",
    "            if iou > .7 and positive < max_pos: \n",
    "                roi = image[starty:endy, startx:endx]\n",
    "                filename = f'{total_pos}.png'\n",
    "                positive += 1\n",
    "                total_pos += 1 \n",
    "                roi = cv2.resize(roi, input_dim, interpolation = cv2.INTER_CUBIC)\n",
    "                cv2.imwrite(f'../FinalImages/Positive/{filename}', roi)\n",
    "                continue\n",
    "\n",
    "            fullOverlap = startx >= gt_startx\n",
    "            fullOverlap = fullOverlap and starty >= gt_starty\n",
    "            fullOverlap = fullOverlap and endx <= gt_endx\n",
    "            fullOverlap = fullOverlap and endy <= gt_endy\n",
    "\n",
    "            if not fullOverlap and iou < .05 and negative <= max_neg: \n",
    "                roi = image[starty:endy, startx: endx]\n",
    "                filename = f'{total_neg}.png'\n",
    "                negative += 1\n",
    "                total_neg += 1\n",
    "                roi = cv2.resize(roi, input_dim, interpolation = cv2.INTER_CUBIC)\n",
    "                cv2.imwrite(f'../FinalImages/Negative/{filename}', roi)\n",
    "                continue \n",
    "    except: \n",
    "        error_array.append((img_path, image))\n",
    "        continue\n",
    "        \n",
    "        \n",
    "    \n",
    "    \n",
    "\n"
   ]
  },
  {
   "cell_type": "code",
   "execution_count": 4,
   "metadata": {},
   "outputs": [
    {
     "name": "stdout",
     "output_type": "stream",
     "text": [
      "[('Pistol_107.jpg', None), ('Pistol_110.jpg', None), ('Pistol_111.jpg', None), ('Pistol_113.jpg', None), ('Pistol_1142_12.jpg', None), ('Pistol_117.jpg', None), ('Pistol_118.jpg', None), ('Pistol_1208_31.jpg', None), ('Pistol_121.jpg', None), ('Pistol_124.jpg', None), ('Pistol_125.jpg', None), ('Pistol_128.jpg', None), ('Pistol_1287_193.jpg', None), ('Pistol_129.jpg', None), ('Pistol_130.jpg', None), ('Pistol_132.jpg', None), ('Pistol_133.jpg', None), ('Pistol_134.jpg', None), ('Pistol_135.jpg', None), ('Pistol_138.jpg', None), ('Pistol_139.jpg', None), ('Pistol_140.jpg', None), ('Pistol_141.jpg', None), ('Pistol_142.jpg', None), ('Pistol_143.jpg', None), ('Pistol_144.jpg', None), ('Pistol_146.jpg', None), ('Pistol_147.jpg', None), ('Pistol_148.jpg', None), ('Pistol_149.jpg', None), ('Pistol_150.jpg', None), ('Pistol_151.jpg', None), ('Pistol_152.jpg', None), ('Pistol_153.jpg', None), ('Pistol_154.jpg', None), ('Pistol_155.jpg', None), ('Pistol_156.jpg', None), ('Pistol_157.jpg', None), ('Pistol_158.jpg', None), ('Pistol_159.jpg', None), ('Pistol_160.jpg', None), ('Pistol_161.jpg', None), ('Pistol_162.jpg', None), ('Pistol_163.jpg', None), ('Pistol_164.jpg', None), ('Pistol_165.jpg', None), ('Pistol_166.jpg', None), ('Pistol_168.jpg', None), ('Pistol_169.jpg', None), ('Pistol_170.jpg', None), ('Pistol_171.jpg', None), ('Pistol_172.jpg', None), ('Pistol_173.jpg', None), ('Pistol_174.jpg', None), ('Pistol_175.jpg', None), ('Pistol_177.jpg', None), ('Pistol_181.jpg', None), ('Pistol_182.jpg', None), ('Pistol_183.jpg', None), ('Pistol_1834_13.jpg', None), ('Pistol_1836_12.jpg', None), ('Pistol_1839_17.jpg', None), ('Pistol_184.jpg', None), ('Pistol_185.jpg', None), ('Pistol_186.jpg', None), ('Pistol_187.jpg', None), ('Pistol_188.jpg', None), ('Pistol_189.jpg', None), ('Pistol_190.jpg', None), ('Pistol_192.jpg', None), ('Pistol_193.jpg', None), ('Pistol_194.jpg', None), ('Pistol_1952_4.jpg', None), ('Pistol_196.jpg', None), ('Pistol_197.jpg', None), ('Pistol_199.jpg', None), ('Pistol_201.jpg', None), ('Pistol_202.jpg', None), ('Pistol_203.jpg', None), ('Pistol_204.jpg', None), ('Pistol_205.jpg', None), ('Pistol_2053_163.jpg', None), ('Pistol_206.jpg', None), ('Pistol_207.jpg', None), ('Pistol_208.jpg', None), ('Pistol_209.jpg', None), ('Pistol_210.jpg', None), ('Pistol_211.jpg', None), ('Pistol_212.jpg', None), ('Pistol_213.jpg', None), ('Pistol_214.jpg', None), ('Pistol_215.jpg', None), ('Pistol_216.jpg', None), ('Pistol_217.jpg', None), ('Pistol_218.jpg', None), ('Pistol_219.jpg', None), ('Pistol_220.jpg', None), ('Pistol_221.jpg', None), ('Pistol_2213_138.jpg', None), ('Pistol_2215_155.jpg', None), ('Pistol_222.jpg', None), ('Pistol_223.jpg', None), ('Pistol_225.jpg', None), ('Pistol_226.jpg', None), ('Pistol_227.jpg', None), ('Pistol_229.jpg', None), ('Pistol_230.jpg', None), ('Pistol_2300_43.jpg', None), ('Pistol_231.jpg', None), ('Pistol_233.jpg', None), ('Pistol_2332_18.jpg', None), ('Pistol_234.jpg', None), ('Pistol_237.jpg', None), ('Pistol_238.jpg', None), ('Pistol_239.jpg', None), ('Pistol_23_101.jpg', None), ('Pistol_23_111.jpg', None), ('Pistol_23_116.jpg', None), ('Pistol_240.jpg', None), ('Pistol_241.jpg', None), ('Pistol_242.jpg', None), ('Pistol_243.jpg', None), ('Pistol_244.jpg', None), ('Pistol_246.jpg', None), ('Pistol_247.jpg', None), ('Pistol_249.jpg', None), ('Pistol_250.jpg', None), ('Pistol_251.jpg', None), ('Pistol_254.jpg', None), ('Pistol_255.jpg', None), ('Pistol_256.jpg', None), ('Pistol_257.jpg', None), ('Pistol_258.jpg', None), ('Pistol_260.jpg', None), ('Pistol_262.jpg', None), ('Pistol_263.jpg', None), ('Pistol_265.jpg', None), ('Pistol_266.jpg', None), ('Pistol_267.jpg', None), ('Pistol_268.jpg', None), ('Pistol_269.jpg', None), ('Pistol_270.jpg', None), ('Pistol_271.jpg', None), ('Pistol_272.jpg', None), ('Pistol_277.jpg', None), ('Pistol_279.jpg', None), ('Pistol_281.jpg', None), ('Pistol_282.jpg', None), ('Pistol_285.jpg', None), ('Pistol_286.jpg', None), ('Pistol_286_39.jpg', None), ('Pistol_286_48.jpg', None), ('Pistol_288.jpg', None), ('Pistol_289.jpg', None), ('Pistol_290.jpg', None), ('Pistol_291.jpg', None), ('Pistol_292.jpg', None), ('Pistol_293.jpg', None), ('Pistol_294.jpg', None), ('Pistol_295.jpg', None), ('Pistol_296.jpg', None), ('Pistol_297.jpg', None), ('Pistol_298.jpg', None), ('Pistol_300.jpg', None), ('Pistol_301.jpg', None), ('Pistol_302.jpg', None), ('Pistol_343_29.jpg', None), ('Pistol_389_31.jpg', None), ('Pistol_477_61.jpg', None), ('Pistol_797_134.jpg', None), ('Pistol_853_39.jpg', None)]\n"
     ]
    }
   ],
   "source": [
    "print(error_array)"
   ]
  },
  {
   "cell_type": "code",
   "execution_count": 5,
   "metadata": {},
   "outputs": [],
   "source": [
    "import pickle \n",
    "\n",
    "pickle.dump(error_array, open('../Pickles/error_array2.p', 'wb'))"
   ]
  },
  {
   "cell_type": "code",
   "execution_count": null,
   "metadata": {},
   "outputs": [],
   "source": []
  },
  {
   "cell_type": "code",
   "execution_count": null,
   "metadata": {},
   "outputs": [],
   "source": []
  }
 ],
 "metadata": {
  "kernelspec": {
   "display_name": "Python 3",
   "language": "python",
   "name": "python3"
  },
  "language_info": {
   "codemirror_mode": {
    "name": "ipython",
    "version": 3
   },
   "file_extension": ".py",
   "mimetype": "text/x-python",
   "name": "python",
   "nbconvert_exporter": "python",
   "pygments_lexer": "ipython3",
   "version": "3.7.4"
  }
 },
 "nbformat": 4,
 "nbformat_minor": 4
}
