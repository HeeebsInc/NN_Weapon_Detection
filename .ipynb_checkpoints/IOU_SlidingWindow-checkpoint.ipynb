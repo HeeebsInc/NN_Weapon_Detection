{
 "cells": [
  {
   "cell_type": "code",
   "execution_count": 5,
   "metadata": {},
   "outputs": [],
   "source": [
    "import os \n",
    "import cv2\n",
    "import pandas as pd\n",
    "import numpy as np \n",
    "from tqdm import tqdm"
   ]
  },
  {
   "cell_type": "code",
   "execution_count": null,
   "metadata": {},
   "outputs": [],
   "source": []
  },
  {
   "cell_type": "markdown",
   "metadata": {},
   "source": [
    "The general flow of our algorithm will be:\n",
    "\n",
    "1. **Step #1:** Input an image\n",
    "2. **Step #2:** Construct an image pyramid\n",
    "3. **Step #3:** For each scale of the image pyramid, run a sliding window\n",
    "4. **Step #3a:** For each stop of the sliding window, extract the ROI\n",
    "5. **Step #3b:** Take the ROI and pass it through our CNN originally trained for image classification\n",
    "6. **Step #3c:** Examine the probability of the top class label of the CNN, and if meets a minimum confidence, record (1) the class label and (2) the location of the sliding window\n",
    "7. **Step #4:** Apply class-wise non-maxima suppression to the bounding boxes\n",
    "8. **Step #5:** Return results to calling function"
   ]
  },
  {
   "cell_type": "code",
   "execution_count": 6,
   "metadata": {},
   "outputs": [],
   "source": [
    "def get_iou(box1, box2):\n",
    "    # determine the (x, y)-coordinates of the intersection rectangle\n",
    "    xa = max(box1[0], box2[0])\n",
    "    ya = max(box1[1], box2[1])\n",
    "    xb = min(box1[2], box2[2])\n",
    "    yb = min(box1[3], box2[3])\n",
    "    # compute the area of intersection rectangle\n",
    "    interArea = max(0, xb - xa + 1) * max(0, yb - ya + 1)\n",
    "    \n",
    "    # compute the area of both the prediction and ground-truth\n",
    "    # rectangles\n",
    "    boxAArea = (box1[2] - box1[0] + 1) * (box1[3] - box1[1] + 1)\n",
    "    boxBArea = (box2[2] - box2[0] + 1) * (box2[3] - box2[1] + 1)\n",
    "    \n",
    "    iou = interArea / float(boxAArea + boxBArea - interArea)\n",
    "    # return the intersection over union value\n",
    "    return iou"
   ]
  },
  {
   "cell_type": "code",
   "execution_count": 7,
   "metadata": {},
   "outputs": [
    {
     "name": "stderr",
     "output_type": "stream",
     "text": [
      "100%|███████████████████████████████████████████████████████████████████████████████████████████████████████████████████████████████████████████████████| 136/136 [04:03<00:00,  1.79s/it]\n"
     ]
    }
   ],
   "source": [
    "df = pd.read_csv('../100_1/PATHS.csv').drop('Unnamed: 0', axis =1)\n",
    "\n",
    "zipped_paths = df[['filename']]\n",
    "\n",
    "max_prop = 2000\n",
    "max_pos = 30\n",
    "max_neg = 5\n",
    "input_dim = (224, 224)\n",
    "total_pos = 0 \n",
    "total_neg = 0\n",
    "for idx in tqdm(range(len(df))): \n",
    "    row = df.iloc[idx]\n",
    "    img_path = row.filename\n",
    "    image = cv2.imread(f'../100_1/{img_path}')\n",
    "    ss = cv2.ximgproc.segmentation.createSelectiveSearchSegmentation()\n",
    "    ss.setBaseImage(image)\n",
    "    ss.switchToSelectiveSearchFast()\n",
    "    rects = ss.process() \n",
    "    prop_rect = [] \n",
    "    \n",
    "    xMin = row.xmin\n",
    "    xMax = row.xmax\n",
    "    yMin = row.ymin\n",
    "    yMax = row.ymax\n",
    "    gt_box = ((xMin, yMin, xMax, yMax))\n",
    "    gt_startx, gt_starty, gt_endx, gt_endy = gt_box\n",
    "    for (x,y,w,h) in rects: \n",
    "        prop_rect.append((x,y,x+w, y+h))\n",
    "    positive = 0 \n",
    "    negative = 0 \n",
    "    for rect in prop_rect[:max_prop]: \n",
    "        startx, starty, endx, endy = rect\n",
    "        iou = get_iou(gt_box, rect)\n",
    "        if iou > .7 and positive == 0: \n",
    "            roi = image[starty:endy, startx:endx]\n",
    "            filename = f'{total_pos}.png'\n",
    "            positive += 1\n",
    "            total_pos += 1 \n",
    "            roi = cv2.resize(roi, input_dim, interpolation = cv2.INTER_CUBIC)\n",
    "            cv2.imwrite(f'../FinalImages/Positive/{filename}', roi)\n",
    "            continue\n",
    "        \n",
    "        fullOverlap = startx >= gt_startx\n",
    "        fullOverlap = fullOverlap and starty >= gt_starty\n",
    "        fullOverlap = fullOverlap and endx <= gt_endx\n",
    "        fullOverlap = fullOverlap and endy <= gt_endy\n",
    "        \n",
    "        if not fullOverlap and iou < .05 and negative <= max_neg: \n",
    "            roi = image[starty:endy, startx: endx]\n",
    "            filename = f'{total_neg}.png'\n",
    "            negative += 1\n",
    "            total_neg += 1\n",
    "            roi = cv2.resize(roi, input_dim, interpolation = cv2.INTER_CUBIC)\n",
    "            cv2.imwrite(f'../FinalImages/Negative/{filename}', roi)\n",
    "            continue \n",
    "        \n",
    "        \n",
    "    \n",
    "    \n",
    "\n"
   ]
  },
  {
   "cell_type": "code",
   "execution_count": null,
   "metadata": {},
   "outputs": [],
   "source": [
    "df.columns"
   ]
  },
  {
   "cell_type": "code",
   "execution_count": null,
   "metadata": {},
   "outputs": [],
   "source": []
  },
  {
   "cell_type": "code",
   "execution_count": null,
   "metadata": {},
   "outputs": [],
   "source": []
  },
  {
   "cell_type": "code",
   "execution_count": null,
   "metadata": {},
   "outputs": [],
   "source": []
  }
 ],
 "metadata": {
  "kernelspec": {
   "display_name": "Python 3",
   "language": "python",
   "name": "python3"
  },
  "language_info": {
   "codemirror_mode": {
    "name": "ipython",
    "version": 3
   },
   "file_extension": ".py",
   "mimetype": "text/x-python",
   "name": "python",
   "nbconvert_exporter": "python",
   "pygments_lexer": "ipython3",
   "version": "3.7.4"
  }
 },
 "nbformat": 4,
 "nbformat_minor": 4
}
