{
 "cells": [
  {
   "cell_type": "code",
   "execution_count": 1,
   "metadata": {},
   "outputs": [
    {
     "name": "stderr",
     "output_type": "stream",
     "text": [
      "Using plaidml.keras.backend backend.\n"
     ]
    }
   ],
   "source": [
    "from keras.preprocessing.image import ImageDataGenerator\n",
    "from keras.applications import MobileNetV2\n",
    "from keras.layers import AveragePooling2D, Dropout, Flatten, Dense, Input\n",
    "from keras.models import Model, Sequential\n",
    "from keras.optimizers import Adam\n",
    "from keras.applications.mobilenet_v2 import preprocess_input\n",
    "from keras.preprocessing.image import img_to_array\n",
    "from keras.preprocessing.image import load_img\n",
    "from keras.utils import to_categorical\n",
    "from sklearn.preprocessing import LabelBinarizer\n",
    "from sklearn.model_selection import train_test_split\n",
    "from sklearn.metrics import classification_report, confusion_matrix\n",
    "import matplotlib.pyplot as plt\n",
    "import numpy as np\n",
    "import pickle\n",
    "import os\n",
    "import pandas as pd\n",
    "import Functions\n",
    "import var\n",
    "import Viz"
   ]
  },
  {
   "cell_type": "code",
   "execution_count": 2,
   "metadata": {},
   "outputs": [],
   "source": [
    "def get_mobile_net(dim):\n",
    "    model = Sequential()\n",
    "    optimizer = Adam(lr = .0005)\n",
    "    baseModel = MobileNetV2(weights=\"imagenet\", include_top=False,\n",
    "        input_tensor=Input(shape=dim))\n",
    "    \n",
    "    model.add(baseModel)\n",
    "    headModel = model.add(AveragePooling2D(pool_size=(7, 7)))\n",
    "    headModel = model.add(Flatten(name=\"flatten\"))\n",
    "    headModel = model.add(Dense(256, activation=\"relu\"))\n",
    "    headModel = model.add(Dropout(0.3))\n",
    "    headModel = model.add(Dense(3, activation=\"softmax\", name = 'Output'))\n",
    "\n",
    "    # place the head FC model on top of the base model (this will become\n",
    "    # the actual model we will train)\n",
    "\n",
    "\n",
    "    # loop over all layers in the base model and freeze them so they will\n",
    "    # *not* be updated during the first training process\n",
    "    for layer in baseModel.layers:\n",
    "        layer.trainable = False\n",
    "    \n",
    "    model.compile(loss = 'categorical_crossentropy', optimizer = optimizer, metrics = ['accuracy'])\n",
    "    return model"
   ]
  },
  {
   "cell_type": "code",
   "execution_count": null,
   "metadata": {},
   "outputs": [],
   "source": [
    "x_train, x_test, y_train, y_test = Functions.get_samples('mobilenet')\n",
    "print(x_train.shape, x_test.shape) \n",
    "print(y_train.shape, y_test.shape)"
   ]
  },
  {
   "cell_type": "code",
   "execution_count": null,
   "metadata": {},
   "outputs": [],
   "source": []
  },
  {
   "cell_type": "code",
   "execution_count": null,
   "metadata": {},
   "outputs": [],
   "source": [
    "from keras.callbacks import ModelCheckpoint, EarlyStopping, ReduceLROnPlateau\n",
    "from keras.preprocessing.image import ImageDataGenerator\n",
    "\n",
    "\n",
    "augment = True \n",
    "\n",
    "early_stopping = EarlyStopping(monitor='val_loss', verbose = 1, patience=50)\n",
    "model_checkpoint = ModelCheckpoint('../models/MobileNet-ModelCheckpointWeights.h5', verbose = 1, save_best_only=True,\n",
    "                                  monitor = 'val_loss')\n",
    "lr_plat = ReduceLROnPlateau(patience = 5, mode = 'min')\n",
    "epochs = 2000\n",
    "batch_size = 16\n",
    "if var.img_type == 'grey': \n",
    "    dim = (var.mobilenet_dimension[0], var.mobilenet_dimension[1], 1)\n",
    "else: \n",
    "    dim = (var.mobilenet_dimension[0], var.mobilenet_dimension[1], 3)\n",
    "    \n",
    "mobile_net = get_mobile_net(dim =dim)\n",
    "\n",
    "if augment: \n",
    "    augmentation =ImageDataGenerator(rotation_range = 15, width_shift_range = .1, height_shift_range = .1, \n",
    "                                                           horizontal_flip = True, fill_mode = 'nearest')\n",
    "    augmentation.fit(x_train)\n",
    "    mobile_net_history = mobile_net.fit_generator(augmentation.flow(x_train, y_train, batch_size = batch_size),\n",
    "                epochs = epochs, steps_per_epoch = 8,\n",
    "         callbacks = [early_stopping, model_checkpoint, lr_plat], validation_data = (x_test, y_test), verbose= 1)\n",
    "else: \n",
    "    \n",
    "    mobile_net_history = mobile_net.fit(x_train, y_train, batch_size = batch_size,\n",
    "                epochs = epochs, \n",
    "         callbacks = [early_stopping, model_checkpoint, lr_plat], validation_data = (x_test, y_test), verbose= 1)\n"
   ]
  },
  {
   "cell_type": "code",
   "execution_count": null,
   "metadata": {},
   "outputs": [],
   "source": [
    "print(mobile_net.summary())"
   ]
  },
  {
   "cell_type": "markdown",
   "metadata": {},
   "source": [
    "### Loss and Accuracy"
   ]
  },
  {
   "cell_type": "code",
   "execution_count": null,
   "metadata": {},
   "outputs": [],
   "source": [
    "Viz.plot_loss_accuracy(mobile_net_history)"
   ]
  },
  {
   "cell_type": "markdown",
   "metadata": {},
   "source": [
    "### ROC and AUC"
   ]
  },
  {
   "cell_type": "code",
   "execution_count": null,
   "metadata": {},
   "outputs": [],
   "source": [
    "if var.img_type == 'grey': \n",
    "    dim = (var.mobilenet_dimension[0], var.mobilenet_dimension[1], 1)\n",
    "else: \n",
    "    dim = (var.mobilenet_dimension[0], var.mobilenet_dimension[1], 3)\n",
    "    \n",
    "    \n",
    "mobilenet = get_mobile_net(dim)\n",
    "mobilenet.load_weights('../models/MobileNet-ModelCheckpointWeights.h5') #load the best weights before overfitting\n",
    "\n",
    "Viz.plot_roc_auc(mobilenet, x_test, y_test)"
   ]
  },
  {
   "cell_type": "markdown",
   "metadata": {},
   "source": [
    "### Confusion Matrix"
   ]
  },
  {
   "cell_type": "code",
   "execution_count": null,
   "metadata": {},
   "outputs": [],
   "source": [
    "if var.img_type == 'grey': \n",
    "    dim = (var.mobilenet_dimension[0], var.mobilenet_dimension[1], 1)\n",
    "else: \n",
    "    dim = (var.mobilenet_dimension[0], var.mobilenet_dimension[1], 3)\n",
    "    \n",
    "    \n",
    "mobilenet = get_mobile_net(dim)\n",
    "mobilenet.load_weights('../models/MobileNet-ModelCheckpointWeights.h5') #load the best weights before overfitting\n",
    "\n",
    "\n",
    "\n",
    "\n",
    "\n",
    "y_test_prob = [np.argmax(i) for i in mobilenet.predict(x_test)]\n",
    "y_test_labels = [np.argmax(\n",
    "    i) for i in y_test]\n",
    "test_cnf = confusion_matrix(y_test_labels, y_test_prob)\n",
    "\n",
    "y_train_prob = [np.argmax(i) for i in mobilenet.predict(x_train)]\n",
    "y_train_labels = [np.argmax(i) for i in y_train]\n",
    "train_cnf = confusion_matrix(y_train_labels, y_train_prob)\n",
    "\n",
    "Viz.plot_model_cm(test_cnf, train_cnf, classes = ['No Weapon', 'Handgun', 'Rifle'])\n"
   ]
  },
  {
   "cell_type": "code",
   "execution_count": null,
   "metadata": {},
   "outputs": [],
   "source": [
    "# assert False"
   ]
  },
  {
   "cell_type": "markdown",
   "metadata": {},
   "source": [
    "### Test on Google"
   ]
  },
  {
   "cell_type": "code",
   "execution_count": 3,
   "metadata": {},
   "outputs": [],
   "source": [
    "import cv2\n",
    "from lime import lime_image\n",
    "from skimage.segmentation import mark_boundaries"
   ]
  },
  {
   "cell_type": "code",
   "execution_count": 4,
   "metadata": {},
   "outputs": [
    {
     "name": "stderr",
     "output_type": "stream",
     "text": [
      "INFO:plaidml:Opening device \"opencl_amd_ellesmere.0\"\n",
      "C:\\Users\\Heeeb\\Anaconda3\\lib\\site-packages\\keras_applications\\mobilenet_v2.py:294: UserWarning: `input_shape` is undefined or non-square, or `rows` is not in [96, 128, 160, 192, 224]. Weights for input shape (224, 224) will be loaded as the default.\n",
      "  warnings.warn('`input_shape` is undefined or non-square, '\n"
     ]
    },
    {
     "name": "stdout",
     "output_type": "stream",
     "text": [
      "AR.jpg\t\t2\t\t0.8876814246177673\t\t[0.0606606  0.05165793 0.8876814 ]\n",
      "NonGun.jpeg\t\t2\t\t0.7327125668525696\t\t[0.16004795 0.10723949 0.73271257]\n",
      "NonGun2.jpg\t\t2\t\t0.5594875812530518\t\t[0.14254948 0.2979629  0.5594876 ]\n",
      "Pistol.jpg\t\t1\t\t0.9563262462615967\t\t[0.02489684 0.95632625 0.01877694]\n",
      "Pistol2.jpg\t\t0\t\t0.8669840097427368\t\t[0.866984   0.10398667 0.02902921]\n",
      "Pistol3.jpg\t\t1\t\t0.7548778057098389\t\t[0.02969078 0.7548778  0.21543148]\n",
      "Pistol4.png\t\t2\t\t0.4758302867412567\t\t[0.31806552 0.20610425 0.4758303 ]\n"
     ]
    }
   ],
   "source": [
    "base_path = '../Tests/Photos'\n",
    "if var.img_type == 'grey': \n",
    "    dim = (var.mobilenet_dimension[0], var.mobilenet_dimension[1], 1)\n",
    "else: \n",
    "    dim = (var.mobilenet_dimension[0], var.mobilenet_dimension[1], 3)\n",
    "    \n",
    "    \n",
    "mobilenet = get_mobile_net(dim)\n",
    "mobilenet.load_weights('../models/MobileNet-ModelCheckpointWeights.h5') #load the best weights before overfitting\n",
    "\n",
    "for file in os.listdir(base_path): \n",
    "    if file == '.ipynb_checkpoints':\n",
    "        continue\n",
    "    full_path = f'{base_path}/{file}'\n",
    "    img = Functions.get_image_value(full_path, var.mobilenet_dimension, var.img_type)\n",
    "    img = img.reshape(1, img.shape[0], img.shape[1], img.shape[2])\n",
    "    pred = mobilenet.predict(img)[0]\n",
    "    print(f'{file}\\t\\t{np.argmax(pred)}\\t\\t{pred.max()}\\t\\t{pred}')"
   ]
  },
  {
   "cell_type": "code",
   "execution_count": null,
   "metadata": {},
   "outputs": [],
   "source": [
    "img = Functions.get_image_value('../Tests/Photos/AR.jpg', var.mobilenet_dimension, var.img_type)\n",
    "\n",
    "explainer = lime_image.LimeImageExplainer()\n",
    "\n",
    "explanation = explainer.explain_instance(img, mobilenet.predict, top_labels = 5, hide_color = 0, \n",
    "                                         num_samples = 1000)\n",
    "\n",
    "temp, mask = explanation.get_image_and_mask(explanation.top_labels[0], positive_only = False,\n",
    "                                           num_features = 10, hide_rest = False)\n",
    "plt.imshow(mark_boundaries(temp/2 + .5, mask))"
   ]
  },
  {
   "cell_type": "code",
   "execution_count": null,
   "metadata": {},
   "outputs": [],
   "source": [
    "Functions.get_img_prediction_bounding_box('../Tests/Photos/NonGun2.jpg', mobilenet, var.mobilenet_dimension)"
   ]
  },
  {
   "cell_type": "code",
   "execution_count": null,
   "metadata": {},
   "outputs": [],
   "source": [
    "assert False"
   ]
  },
  {
   "cell_type": "code",
   "execution_count": 5,
   "metadata": {},
   "outputs": [
    {
     "name": "stderr",
     "output_type": "stream",
     "text": [
      "Splitting Video Into 720 Frames:   0%|                                                                                                                            | 0/720 [00:02<?, ?it/s]\n"
     ]
    },
    {
     "name": "stdout",
     "output_type": "stream",
     "text": [
      "720\n",
      "(720, 224, 224, 3)\n"
     ]
    }
   ],
   "source": [
    "from tqdm import tqdm\n",
    "def get_vid_prediction_bounding_box(path, model, dim): \n",
    "    vid = cv2.VideoCapture(path)\n",
    "    total_frames = int(vid.get(cv2.CAP_PROP_FRAME_COUNT))\n",
    "    pbar = tqdm(total = total_frames, desc = f'Splitting Video Into {total_frames} Frames')\n",
    "    images = [] \n",
    "    sucess =1 \n",
    "    while True: \n",
    "        try:\n",
    "            success, img = vid.read() \n",
    "            img = cv2.resize(img, dim, interpolation = cv2.INTER_CUBIC)\n",
    "            images.append(img)\n",
    "            pbar.update(1)\n",
    "        except: \n",
    "            break\n",
    "        \n",
    "\n",
    "    pbar.close()\n",
    "    print(total_frames)\n",
    "    print(np.array(images).shape)\n",
    "    return np.array(images)\n",
    "   \n",
    "\n",
    "\n",
    "\n",
    "images = get_vid_prediction_bounding_box('../Tests/Videos/Pistol2.mp4', mobilenet, var.mobilenet_dimension)"
   ]
  },
  {
   "cell_type": "code",
   "execution_count": 9,
   "metadata": {},
   "outputs": [],
   "source": [
    "predictions = mobilenet.predict(images)\n"
   ]
  },
  {
   "cell_type": "code",
   "execution_count": 11,
   "metadata": {},
   "outputs": [],
   "source": [
    "# for i in predictions: \n",
    "#     print(i)"
   ]
  },
  {
   "cell_type": "code",
   "execution_count": null,
   "metadata": {},
   "outputs": [],
   "source": [
    "def window_prob_func(pred, img, model):\n",
    "    category_dict = {0: 'No Weapon', 1: 'Handgun', 2: 'Rifle'}\n",
    "    cat_index = np.argmax(pred)\n",
    "    cat = category_dict[cat_index]\n",
    "    \n",
    "    ss = cv2.ximgproc.segmentation.createSelectiveSearchSegmentation()\n",
    "    ss.setBaseImage(img)\n",
    "    ss.switchToSelectiveSearchFast()\n",
    "    rects = ss.process() \n",
    "\n",
    "    windows = []\n",
    "    locations = []\n",
    "    for x, y, w,h in rects: \n",
    "        startx = x \n",
    "        starty = y \n",
    "        endx = x+w \n",
    "        endy = y+h \n",
    "        roi = img[starty:endy, startx:endx]\n",
    "        roi = cv2.resize(roi, dsize =var.mobilenet_dimension, interpolation = cv2.INTER_CUBIC)\n",
    "        windows.append(roi)\n",
    "        locations.append((startx, starty, endx, endy))\n",
    "\n",
    "    windows = np.array(windows)\n",
    "\n",
    "    predictions = model.predict(windows)\n",
    "\n",
    "    clone = img.copy()\n",
    "    cat_predictions = predictions[:,cat_index]\n",
    "    pred_max_idx = np.argmax(cat_predictions)\n",
    "    pred_max = cat_predictions[pred_max_idx]\n",
    "    \n",
    "    pred_max_window = locations[pred_max_idx]\n",
    "    startx, starty, endx, endy = pred_max_window\n",
    "    \n",
    "    \n",
    "    return (cat, (startx, starty, endx, endy))\n",
    "\n",
    "model = mobilenet\n",
    "pbar = tqdm(list(zip(predictions, images)), desc= 'Getting Base Prediction and Extracting Sliding Window... Sit Back, This Will Take A While')\n",
    "windows_prob = [window_prob_func(pred, img, model) for (pred, img) in pbar]"
   ]
  },
  {
   "cell_type": "code",
   "execution_count": null,
   "metadata": {},
   "outputs": [],
   "source": [
    "import pickle \n",
    "pickle.dump(windows_prob, open('../Pickles/WindowsPropPistol_Mobilenet.p', 'wb'))\n",
    "\n",
    "for i in windows_prob: \n",
    "    if i[0] != 'No Weapon': \n",
    "        print(i)"
   ]
  },
  {
   "cell_type": "code",
   "execution_count": 6,
   "metadata": {},
   "outputs": [],
   "source": [
    "windows_prob = pickle.load(open('../Pickles/WindowsPropPistol_Mobilenet.p', 'rb'))"
   ]
  },
  {
   "cell_type": "code",
   "execution_count": 7,
   "metadata": {},
   "outputs": [],
   "source": [
    "fourcc = cv2.VideoWriter_fourcc(*'XVID')\n",
    "out = cv2.VideoWriter('Test.avi',fourcc, .5, (224,224))\n",
    "\n",
    "\n",
    "for (cat, (startx, starty, endx, endy)), img in zip(windows_prob, images): \n",
    "    clone = img.copy()\n",
    "    if cat == 'No Weapon':      \n",
    "        out.write(clone)\n",
    "    else: \n",
    "        cv2.rectangle(clone, (startx, starty), (endx, endy),  (0,0,255),2)\n",
    "        out.write(clone)\n",
    "\n",
    "        \n",
    "        \n",
    "    "
   ]
  },
  {
   "cell_type": "code",
   "execution_count": null,
   "metadata": {},
   "outputs": [],
   "source": []
  },
  {
   "cell_type": "code",
   "execution_count": null,
   "metadata": {},
   "outputs": [],
   "source": []
  },
  {
   "cell_type": "code",
   "execution_count": null,
   "metadata": {},
   "outputs": [],
   "source": [
    "model = mobilenet\n",
    "pbar = tqdm(list(zip(predictions, images)), desc= 'Getting Base Prediction and Extracting Sliding Window... Sit Back, This Will Take A While')\n",
    "windows_prob = []\n",
    "for pred, img in pbar: \n",
    "    category_dict = {0: 'No Weapon', 1: 'Handgun', 2: 'Rifle'}\n",
    "    cat_index = np.argmax(pred)\n",
    "    cat = category_dict[cat_index]\n",
    "    \n",
    "    ss = cv2.ximgproc.segmentation.createSelectiveSearchSegmentation()\n",
    "    ss.setBaseImage(img)\n",
    "    ss.switchToSelectiveSearchFast()\n",
    "    rects = ss.process() \n",
    "\n",
    "    windows = []\n",
    "    locations = []\n",
    "    for x, y, w,h in rects: \n",
    "        startx = x \n",
    "        starty = y \n",
    "        endx = x+w \n",
    "        endy = y+h \n",
    "        roi = img[starty:endy, startx:endx]\n",
    "        roi = cv2.resize(roi, dsize =var.mobilenet_dimension, interpolation = cv2.INTER_CUBIC)\n",
    "        windows.append(roi)\n",
    "        locations.append((startx, starty, endx, endy))\n",
    "\n",
    "    windows = np.array(windows)\n",
    "\n",
    "    predictions = model.predict(windows)\n",
    "\n",
    "    clone = img.copy()\n",
    "    cat_predictions = predictions[:,cat_index]\n",
    "    pred_max_idx = np.argmax(cat_predictions)\n",
    "    pred_max = cat_predictions[pred_max_idx]\n",
    "    \n",
    "    pred_max_window = locations[pred_max_idx]\n",
    "    startx, starty, endx, endy = pred_max_window\n",
    "    \n",
    "    windows_prob.append((cat, (startx, starty, endx, endy)))\n",
    "\n"
   ]
  },
  {
   "cell_type": "code",
   "execution_count": null,
   "metadata": {},
   "outputs": [],
   "source": [
    "import pickle \n",
    "pickle.dump(windows_prob, open('../Pickles/WindowsPropPistol.p', 'wb'))\n",
    "\n",
    "for i in windows_prob: \n",
    "    if i[0] != 'No Weapon': \n",
    "        print(i)"
   ]
  },
  {
   "cell_type": "code",
   "execution_count": null,
   "metadata": {},
   "outputs": [],
   "source": []
  },
  {
   "cell_type": "code",
   "execution_count": null,
   "metadata": {},
   "outputs": [],
   "source": []
  },
  {
   "cell_type": "code",
   "execution_count": null,
   "metadata": {},
   "outputs": [],
   "source": []
  },
  {
   "cell_type": "code",
   "execution_count": null,
   "metadata": {},
   "outputs": [],
   "source": [
    "count = 0 \n",
    "success = 1 \n",
    "images = []\n",
    "while success: \n",
    "    success, img = vid.read()\n",
    "    orig_img = img\n",
    "    orig_img = cv2.resize(img, var.mobilenet_dimension, interpolation = cv2.INTER_CUBIC)\n",
    "    orig_img = orig_img.reshape(1, orig_img.shape[0], orig_img.shape[1], orig_img.shape[2])\n",
    "    pred = mobilenet.predict(orig_img)[0]\n",
    "    category_dict = {0: 'No Weapon', 1: 'Handgun', 2: 'Rifle'}\n",
    "    cat_index = np.argmax(pred)\n",
    "    cat = category_dict[cat_index]\n",
    "\n",
    "    print(f'{cat_index}||{cat}\\t\\t{pred.max()}\\t\\t{pred}')\n",
    "\n",
    "\n",
    "    break\n",
    "#     cv2.imwrite(f'../Tests/VideoFrames/{count}.jpg', image)\n",
    "    count += 1"
   ]
  },
  {
   "cell_type": "code",
   "execution_count": null,
   "metadata": {},
   "outputs": [],
   "source": [
    "img = get_image_value(path, dim, var.img_type)\n",
    "img = img.reshape(1, img.shape[0], img.shape[1], img.shape[2])\n",
    "pred = model.predict(img)[0]\n",
    "\n",
    "category_dict = {0: 'No Weapon', 1: 'Handgun', 2: 'Rifle'}\n",
    "cat_index = np.argmax(pred)\n",
    "cat = category_dict[cat_index]\n",
    "\n",
    "print(f'{path}\\t\\t{cat_index}||{cat}\\t\\t{pred.max()}\\t\\t{pred}')\n",
    "\n",
    "\n",
    "img = cv2.imread(path)\n",
    "ss = cv2.ximgproc.segmentation.createSelectiveSearchSegmentation()\n",
    "ss.setBaseImage(img)\n",
    "ss.switchToSelectiveSearchFast()\n",
    "rects = ss.process() \n",
    "\n",
    "windows = []\n",
    "locations = []\n",
    "for x, y, w,h in rects: \n",
    "    startx = x \n",
    "    starty = y \n",
    "    endx = x+w \n",
    "    endy = y+h \n",
    "    roi = img[starty:endy, startx:endx]\n",
    "    roi = cv2.resize(roi, dsize =var.mobilenet_dimension, interpolation = cv2.INTER_CUBIC)\n",
    "    windows.append(roi)\n",
    "    locations.append((startx, starty, endx, endy))\n",
    "\n",
    "windows = np.array(windows)\n",
    "\n",
    "predictions = model.predict(windows)\n",
    "\n",
    "clone = img.copy()\n",
    "cat_predictions = predictions[:,cat_index]\n",
    "pred_max_idx = np.argmax(cat_predictions)\n",
    "pred_max = cat_predictions[pred_max_idx]\n",
    "\n",
    "pred_max_window = locations[pred_max_idx]\n",
    "startx, starty, endx, endy = pred_max_window\n",
    "cv2.rectangle(clone, (startx, starty), (endx, endy),  (0,255,0),2)\n",
    "\n",
    "text = f'{cat}'\n",
    "cv2.putText(clone, text, (startx, starty), cv2.FONT_HERSHEY_SIMPLEX, .45, (0,255,0),2)\n",
    "\n",
    "\n",
    "cv2.imshow(f'{cat}', clone)\n",
    "cv2.waitKey(0)"
   ]
  },
  {
   "cell_type": "code",
   "execution_count": null,
   "metadata": {},
   "outputs": [],
   "source": []
  }
 ],
 "metadata": {
  "kernelspec": {
   "display_name": "Python 3",
   "language": "python",
   "name": "python3"
  },
  "language_info": {
   "codemirror_mode": {
    "name": "ipython",
    "version": 3
   },
   "file_extension": ".py",
   "mimetype": "text/x-python",
   "name": "python",
   "nbconvert_exporter": "python",
   "pygments_lexer": "ipython3",
   "version": "3.7.4"
  }
 },
 "nbformat": 4,
 "nbformat_minor": 2
}
