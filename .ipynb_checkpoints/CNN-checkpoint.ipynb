{
 "cells": [
  {
   "cell_type": "markdown",
   "metadata": {},
   "source": [
    "## CNN "
   ]
  },
  {
   "cell_type": "code",
   "execution_count": 1,
   "metadata": {},
   "outputs": [
    {
     "name": "stderr",
     "output_type": "stream",
     "text": [
      "Using TensorFlow backend.\n"
     ]
    }
   ],
   "source": [
    "from keras.models import Sequential\n",
    "from keras.layers import Dense, Dropout, Flatten \n",
    "from keras.layers import Conv2D, MaxPooling2D, BatchNormalization\n",
    "from keras import regularizers\n",
    "from sklearn.preprocessing import LabelEncoder, OneHotEncoder\n",
    "from keras.preprocessing import image \n",
    "import numpy as np \n",
    "import pandas as pd \n",
    "import matplotlib.pyplot as plt\n",
    "from sklearn.model_selection import train_test_split\n",
    "import os\n",
    "import pickle\n",
    "from sklearn.metrics import confusion_matrix, accuracy_score, recall_score, precision_score, f1_score\n"
   ]
  },
  {
   "cell_type": "code",
   "execution_count": 2,
   "metadata": {},
   "outputs": [],
   "source": [
    "def get_image_value(path): \n",
    "    img = image.load_img(path, target_size = (224,224,3))\n",
    "    img = image.img_to_array(img)\n",
    "    return img/255"
   ]
  },
  {
   "cell_type": "code",
   "execution_count": 3,
   "metadata": {},
   "outputs": [],
   "source": [
    "def get_conv_model_normal():\n",
    "    \n",
    "    inp_shape = (224,224,3)\n",
    "    act = 'relu'\n",
    "    drop = .5 \n",
    "    kernal_reg = regularizers.l1(.001)\n",
    "    dil_rate = 2\n",
    "    \n",
    "    \n",
    "    model = Sequential() \n",
    "    \n",
    "    model.add(Conv2D(64, kernel_size=(3,3),activation=act, input_shape = inp_shape, \n",
    "                     kernel_regularizer = kernal_reg,\n",
    "                     kernel_initializer = 'he_uniform',  padding = 'same', name = 'Input_Layer'))\n",
    "    model.add(Dense(64, activation = 'relu'))\n",
    "    model.add(MaxPooling2D(pool_size=(2, 2),  strides = (2,2)))\n",
    "    \n",
    "    \n",
    "    model.add(Conv2D(64, (3, 3), activation=act, kernel_regularizer = kernal_reg, dilation_rate = dil_rate, \n",
    "                     kernel_initializer = 'he_uniform',padding = 'same'))\n",
    "    model.add(Dense(64, activation = 'relu'))\n",
    "    model.add(MaxPooling2D(pool_size=(2, 2), strides = (2,2)))\n",
    "    \n",
    "\n",
    "    \n",
    "    model.add(Conv2D(128, (3, 3), activation=act, kernel_regularizer = kernal_reg, dilation_rate = dil_rate, \n",
    "                     kernel_initializer = 'he_uniform',padding = 'same'))\n",
    "    model.add(Conv2D(128, (3, 3), activation=act, kernel_regularizer = kernal_reg, dilation_rate = dil_rate, \n",
    "                     kernel_initializer = 'he_uniform',padding = 'same'))\n",
    "    model.add(MaxPooling2D(pool_size=(2, 2), strides = (2,2)))\n",
    "\n",
    "    \n",
    "    model.add(Flatten())\n",
    "\n",
    "    \n",
    "    model.add(Dense(128, activation='relu'))\n",
    "    model.add(Dense(64, activation='relu'))\n",
    "    model.add(Dense(32, activation='relu'))\n",
    "\n",
    "\n",
    "    model.add(Dropout(drop))\n",
    "\n",
    "    model.add(Dense(1, activation='sigmoid', name = 'Output_Layer'))\n",
    "    \n",
    "    model.compile(loss = 'binary_crossentropy', optimizer = 'adam', metrics = ['accuracy'])\n",
    "    return model \n"
   ]
  },
  {
   "cell_type": "code",
   "execution_count": 4,
   "metadata": {},
   "outputs": [],
   "source": [
    "train_type = 'Normal'\n",
    "\n",
    "def get_samples_norm(): \n",
    "    x_train = pickle.load(open(f'../Pickles/x_train.p', 'rb'))\n",
    "    x_test = pickle.load(open(f'../Pickles/x_test.p', 'rb'))\n",
    "    y_train = pickle.load(open(f'../Pickles/y_train.p', 'rb'))\n",
    "    y_test = pickle.load(open(f'../Pickles/y_test.p', 'rb'))\n",
    "    return x_train, x_test, y_train, y_test\n",
    "x_train, x_test, y_train, y_test = get_samples_norm()\n"
   ]
  },
  {
   "cell_type": "code",
   "execution_count": 5,
   "metadata": {},
   "outputs": [
    {
     "data": {
      "text/plain": [
       "pandas.core.frame.DataFrame"
      ]
     },
     "execution_count": 5,
     "metadata": {},
     "output_type": "execute_result"
    }
   ],
   "source": [
    "type(y_test)"
   ]
  },
  {
   "cell_type": "code",
   "execution_count": 6,
   "metadata": {},
   "outputs": [
    {
     "name": "stderr",
     "output_type": "stream",
     "text": [
      "INFO:plaidml:Opening device \"opencl_amd_ellesmere.0\"\n"
     ]
    },
    {
     "name": "stdout",
     "output_type": "stream",
     "text": [
      "Epoch 1/50\n",
      "11/11 [==============================] - 31s 3s/step - loss: 11.6194 - acc: 0.6532 - val_loss: 10.2057 - val_acc: 0.6364\n",
      "\n",
      "Epoch 00001: val_loss improved from inf to 10.20570, saving model to models/CNN-ModelCheckpointWeights.h5\n",
      "Epoch 2/50\n",
      "11/11 [==============================] - 7s 639ms/step - loss: 9.4701 - acc: 0.6953 - val_loss: 8.5919 - val_acc: 0.7273\n",
      "\n",
      "Epoch 00002: val_loss improved from 10.20570 to 8.59193, saving model to models/CNN-ModelCheckpointWeights.h5\n",
      "Epoch 3/50\n",
      "11/11 [==============================] - 4s 318ms/step - loss: 7.9223 - acc: 0.6554 - val_loss: 7.1400 - val_acc: 0.7273\n",
      "\n",
      "Epoch 00003: val_loss improved from 8.59193 to 7.14000, saving model to models/CNN-ModelCheckpointWeights.h5\n",
      "Epoch 4/50\n",
      "11/11 [==============================] - 4s 319ms/step - loss: 6.6066 - acc: 0.6795 - val_loss: 5.9572 - val_acc: 0.6591\n",
      "\n",
      "Epoch 00004: val_loss improved from 7.14000 to 5.95718, saving model to models/CNN-ModelCheckpointWeights.h5\n",
      "Epoch 5/50\n",
      "11/11 [==============================] - 4s 323ms/step - loss: 5.4936 - acc: 0.6777 - val_loss: 4.9200 - val_acc: 0.8409\n",
      "\n",
      "Epoch 00005: val_loss improved from 5.95718 to 4.91997, saving model to models/CNN-ModelCheckpointWeights.h5\n",
      "Epoch 6/50\n",
      "11/11 [==============================] - 3s 317ms/step - loss: 4.5487 - acc: 0.7045 - val_loss: 4.1641 - val_acc: 0.7727\n",
      "\n",
      "Epoch 00006: val_loss improved from 4.91997 to 4.16414, saving model to models/CNN-ModelCheckpointWeights.h5\n",
      "Epoch 7/50\n",
      "11/11 [==============================] - 4s 324ms/step - loss: 3.9645 - acc: 0.6970 - val_loss: 3.6268 - val_acc: 0.8409\n",
      "\n",
      "Epoch 00007: val_loss improved from 4.16414 to 3.62676, saving model to models/CNN-ModelCheckpointWeights.h5\n",
      "Epoch 8/50\n",
      "11/11 [==============================] - 3s 318ms/step - loss: 3.4296 - acc: 0.7728 - val_loss: 3.0981 - val_acc: 0.8636\n",
      "\n",
      "Epoch 00008: val_loss improved from 3.62676 to 3.09813, saving model to models/CNN-ModelCheckpointWeights.h5\n",
      "Epoch 9/50\n",
      "11/11 [==============================] - 3s 317ms/step - loss: 3.1000 - acc: 0.7574 - val_loss: 3.0362 - val_acc: 0.6591\n",
      "\n",
      "Epoch 00009: val_loss improved from 3.09813 to 3.03620, saving model to models/CNN-ModelCheckpointWeights.h5\n",
      "Epoch 10/50\n",
      "11/11 [==============================] - 4s 319ms/step - loss: 2.9411 - acc: 0.6634 - val_loss: 2.8438 - val_acc: 0.6136\n",
      "\n",
      "Epoch 00010: val_loss improved from 3.03620 to 2.84385, saving model to models/CNN-ModelCheckpointWeights.h5\n",
      "Epoch 11/50\n",
      "11/11 [==============================] - 4s 321ms/step - loss: 2.7449 - acc: 0.6418 - val_loss: 2.6141 - val_acc: 0.6591\n",
      "\n",
      "Epoch 00011: val_loss improved from 2.84385 to 2.61411, saving model to models/CNN-ModelCheckpointWeights.h5\n",
      "Epoch 12/50\n",
      "11/11 [==============================] - 3s 318ms/step - loss: 2.5185 - acc: 0.7079 - val_loss: 2.3348 - val_acc: 0.8409\n",
      "\n",
      "Epoch 00012: val_loss improved from 2.61411 to 2.33479, saving model to models/CNN-ModelCheckpointWeights.h5\n",
      "Epoch 13/50\n",
      "11/11 [==============================] - 4s 319ms/step - loss: 2.3626 - acc: 0.7448 - val_loss: 2.1798 - val_acc: 0.8636\n",
      "\n",
      "Epoch 00013: val_loss improved from 2.33479 to 2.17982, saving model to models/CNN-ModelCheckpointWeights.h5\n",
      "Epoch 14/50\n",
      "11/11 [==============================] - 4s 319ms/step - loss: 2.1534 - acc: 0.8542 - val_loss: 2.0212 - val_acc: 0.7955\n",
      "\n",
      "Epoch 00014: val_loss improved from 2.17982 to 2.02115, saving model to models/CNN-ModelCheckpointWeights.h5\n",
      "Epoch 15/50\n",
      "11/11 [==============================] - 4s 320ms/step - loss: 2.1307 - acc: 0.8257 - val_loss: 2.0007 - val_acc: 0.7727\n",
      "\n",
      "Epoch 00015: val_loss improved from 2.02115 to 2.00070, saving model to models/CNN-ModelCheckpointWeights.h5\n",
      "Epoch 16/50\n",
      "11/11 [==============================] - 3s 318ms/step - loss: 1.9599 - acc: 0.8542 - val_loss: 1.8140 - val_acc: 0.8182\n",
      "\n",
      "Epoch 00016: val_loss improved from 2.00070 to 1.81396, saving model to models/CNN-ModelCheckpointWeights.h5\n",
      "Epoch 17/50\n",
      "11/11 [==============================] - 3s 318ms/step - loss: 1.7995 - acc: 0.8428 - val_loss: 1.6743 - val_acc: 0.8636\n",
      "\n",
      "Epoch 00017: val_loss improved from 1.81396 to 1.67433, saving model to models/CNN-ModelCheckpointWeights.h5\n",
      "Epoch 18/50\n",
      "11/11 [==============================] - 4s 318ms/step - loss: 1.7945 - acc: 0.8292 - val_loss: 1.6597 - val_acc: 0.8864\n",
      "\n",
      "Epoch 00018: val_loss improved from 1.67433 to 1.65969, saving model to models/CNN-ModelCheckpointWeights.h5\n",
      "Epoch 19/50\n",
      "11/11 [==============================] - 3s 318ms/step - loss: 1.6458 - acc: 0.8582 - val_loss: 1.5755 - val_acc: 0.7955\n",
      "\n",
      "Epoch 00019: val_loss improved from 1.65969 to 1.57552, saving model to models/CNN-ModelCheckpointWeights.h5\n",
      "Epoch 20/50\n",
      "11/11 [==============================] - 3s 318ms/step - loss: 1.5382 - acc: 0.8503 - val_loss: 1.5063 - val_acc: 0.7955\n",
      "\n",
      "Epoch 00020: val_loss improved from 1.57552 to 1.50627, saving model to models/CNN-ModelCheckpointWeights.h5\n",
      "Epoch 21/50\n",
      "11/11 [==============================] - 3s 318ms/step - loss: 1.5041 - acc: 0.8332 - val_loss: 1.4270 - val_acc: 0.8864\n",
      "\n",
      "Epoch 00021: val_loss improved from 1.50627 to 1.42700, saving model to models/CNN-ModelCheckpointWeights.h5\n",
      "Epoch 22/50\n",
      "11/11 [==============================] - 3s 318ms/step - loss: 1.4308 - acc: 0.8428 - val_loss: 1.3668 - val_acc: 0.9091\n",
      "\n",
      "Epoch 00022: val_loss improved from 1.42700 to 1.36678, saving model to models/CNN-ModelCheckpointWeights.h5\n",
      "Epoch 23/50\n",
      "11/11 [==============================] - 3s 318ms/step - loss: 1.4796 - acc: 0.8446 - val_loss: 1.4389 - val_acc: 0.8864\n",
      "\n",
      "Epoch 00023: val_loss did not improve from 1.36678\n",
      "Epoch 24/50\n",
      "11/11 [==============================] - 3s 318ms/step - loss: 1.4592 - acc: 0.7995 - val_loss: 1.3378 - val_acc: 0.8864\n",
      "\n",
      "Epoch 00024: val_loss improved from 1.36678 to 1.33778, saving model to models/CNN-ModelCheckpointWeights.h5\n",
      "Epoch 25/50\n",
      "11/11 [==============================] - 4s 318ms/step - loss: 1.3677 - acc: 0.8616 - val_loss: 1.2754 - val_acc: 0.8409\n",
      "\n",
      "Epoch 00025: val_loss improved from 1.33778 to 1.27544, saving model to models/CNN-ModelCheckpointWeights.h5\n",
      "Epoch 26/50\n",
      "11/11 [==============================] - 4s 318ms/step - loss: 1.3230 - acc: 0.8713 - val_loss: 1.2703 - val_acc: 0.8864\n",
      "\n",
      "Epoch 00026: val_loss improved from 1.27544 to 1.27035, saving model to models/CNN-ModelCheckpointWeights.h5\n",
      "Epoch 27/50\n",
      "11/11 [==============================] - 4s 318ms/step - loss: 1.2411 - acc: 0.8599 - val_loss: 1.1958 - val_acc: 0.9091\n",
      "\n",
      "Epoch 00027: val_loss improved from 1.27035 to 1.19579, saving model to models/CNN-ModelCheckpointWeights.h5\n",
      "Epoch 28/50\n",
      "11/11 [==============================] - 3s 317ms/step - loss: 1.2041 - acc: 0.8884 - val_loss: 1.1715 - val_acc: 0.9091\n",
      "\n",
      "Epoch 00028: val_loss improved from 1.19579 to 1.17150, saving model to models/CNN-ModelCheckpointWeights.h5\n",
      "Epoch 29/50\n",
      "11/11 [==============================] - 3s 318ms/step - loss: 1.1575 - acc: 0.8770 - val_loss: 1.1345 - val_acc: 0.8409\n",
      "\n",
      "Epoch 00029: val_loss improved from 1.17150 to 1.13448, saving model to models/CNN-ModelCheckpointWeights.h5\n",
      "Epoch 30/50\n",
      "11/11 [==============================] - 3s 318ms/step - loss: 1.1256 - acc: 0.8787 - val_loss: 1.1585 - val_acc: 0.7727\n",
      "\n",
      "Epoch 00030: val_loss did not improve from 1.13448\n",
      "Epoch 31/50\n",
      "11/11 [==============================] - 3s 317ms/step - loss: 1.1859 - acc: 0.8547 - val_loss: 1.0939 - val_acc: 0.9318\n",
      "\n",
      "Epoch 00031: val_loss improved from 1.13448 to 1.09390, saving model to models/CNN-ModelCheckpointWeights.h5\n",
      "Epoch 32/50\n",
      "11/11 [==============================] - 3s 317ms/step - loss: 1.1028 - acc: 0.8975 - val_loss: 1.1086 - val_acc: 0.8182\n",
      "\n",
      "Epoch 00032: val_loss did not improve from 1.09390\n",
      "Epoch 33/50\n",
      "11/11 [==============================] - 3s 317ms/step - loss: 1.0799 - acc: 0.8673 - val_loss: 1.1273 - val_acc: 0.8864\n",
      "\n",
      "Epoch 00033: val_loss did not improve from 1.09390\n",
      "Epoch 34/50\n",
      "11/11 [==============================] - 3s 317ms/step - loss: 1.0682 - acc: 0.8673 - val_loss: 0.9951 - val_acc: 0.9091\n",
      "\n",
      "Epoch 00034: val_loss improved from 1.09390 to 0.99514, saving model to models/CNN-ModelCheckpointWeights.h5\n",
      "Epoch 35/50\n",
      "11/11 [==============================] - 3s 318ms/step - loss: 1.0444 - acc: 0.9032 - val_loss: 0.9957 - val_acc: 0.8409\n",
      "\n",
      "Epoch 00035: val_loss did not improve from 0.99514\n",
      "Epoch 36/50\n"
     ]
    },
    {
     "name": "stdout",
     "output_type": "stream",
     "text": [
      "11/11 [==============================] - 3s 317ms/step - loss: 1.0264 - acc: 0.8730 - val_loss: 1.0691 - val_acc: 0.8864\n",
      "\n",
      "Epoch 00036: val_loss did not improve from 0.99514\n",
      "Epoch 37/50\n",
      "11/11 [==============================] - 3s 317ms/step - loss: 0.9845 - acc: 0.8827 - val_loss: 0.9428 - val_acc: 0.9091\n",
      "\n",
      "Epoch 00037: val_loss improved from 0.99514 to 0.94277, saving model to models/CNN-ModelCheckpointWeights.h5\n",
      "Epoch 38/50\n",
      "11/11 [==============================] - 3s 318ms/step - loss: 0.9851 - acc: 0.8923 - val_loss: 0.9502 - val_acc: 0.9091\n",
      "\n",
      "Epoch 00038: val_loss did not improve from 0.94277\n",
      "Epoch 39/50\n",
      "11/11 [==============================] - 3s 317ms/step - loss: 0.8971 - acc: 0.9146 - val_loss: 0.9711 - val_acc: 0.8864\n",
      "\n",
      "Epoch 00039: val_loss did not improve from 0.94277\n",
      "Epoch 40/50\n",
      "11/11 [==============================] - 3s 318ms/step - loss: 0.9272 - acc: 0.9203 - val_loss: 0.9450 - val_acc: 0.8864\n",
      "\n",
      "Epoch 00040: val_loss did not improve from 0.94277\n",
      "Epoch 41/50\n",
      "11/11 [==============================] - 3s 317ms/step - loss: 0.8902 - acc: 0.9203 - val_loss: 0.9153 - val_acc: 0.8864\n",
      "\n",
      "Epoch 00041: val_loss improved from 0.94277 to 0.91530, saving model to models/CNN-ModelCheckpointWeights.h5\n",
      "Epoch 42/50\n",
      "11/11 [==============================] - 3s 317ms/step - loss: 0.8722 - acc: 0.9168 - val_loss: 0.8995 - val_acc: 0.8636\n",
      "\n",
      "Epoch 00042: val_loss improved from 0.91530 to 0.89953, saving model to models/CNN-ModelCheckpointWeights.h5\n",
      "Epoch 43/50\n",
      "11/11 [==============================] - 3s 314ms/step - loss: 0.8687 - acc: 0.9072 - val_loss: 0.8981 - val_acc: 0.8636\n",
      "\n",
      "Epoch 00043: val_loss improved from 0.89953 to 0.89813, saving model to models/CNN-ModelCheckpointWeights.h5\n",
      "Epoch 44/50\n",
      "11/11 [==============================] - 3s 318ms/step - loss: 0.8789 - acc: 0.9146 - val_loss: 0.8967 - val_acc: 0.8864\n",
      "\n",
      "Epoch 00044: val_loss improved from 0.89813 to 0.89668, saving model to models/CNN-ModelCheckpointWeights.h5\n",
      "Epoch 45/50\n",
      "11/11 [==============================] - 3s 317ms/step - loss: 0.8624 - acc: 0.9146 - val_loss: 0.9010 - val_acc: 0.8864\n",
      "\n",
      "Epoch 00045: val_loss did not improve from 0.89668\n",
      "Epoch 46/50\n",
      "11/11 [==============================] - 3s 318ms/step - loss: 0.8586 - acc: 0.9146 - val_loss: 0.9089 - val_acc: 0.8636\n",
      "\n",
      "Epoch 00046: val_loss did not improve from 0.89668\n",
      "Epoch 47/50\n",
      "11/11 [==============================] - 4s 322ms/step - loss: 0.8577 - acc: 0.9129 - val_loss: 0.8923 - val_acc: 0.8864\n",
      "\n",
      "Epoch 00047: val_loss improved from 0.89668 to 0.89232, saving model to models/CNN-ModelCheckpointWeights.h5\n",
      "Epoch 48/50\n",
      "11/11 [==============================] - 4s 319ms/step - loss: 0.8633 - acc: 0.9260 - val_loss: 0.9011 - val_acc: 0.8636\n",
      "\n",
      "Epoch 00048: val_loss did not improve from 0.89232\n",
      "Epoch 49/50\n",
      "11/11 [==============================] - 3s 314ms/step - loss: 0.8348 - acc: 0.9317 - val_loss: 0.8796 - val_acc: 0.8864\n",
      "\n",
      "Epoch 00049: val_loss improved from 0.89232 to 0.87959, saving model to models/CNN-ModelCheckpointWeights.h5\n",
      "Epoch 50/50\n",
      "11/11 [==============================] - 4s 319ms/step - loss: 0.8897 - acc: 0.9151 - val_loss: 0.8985 - val_acc: 0.8636\n",
      "\n",
      "Epoch 00050: val_loss did not improve from 0.87959\n"
     ]
    }
   ],
   "source": [
    "from keras.callbacks import ModelCheckpoint, EarlyStopping, ReduceLROnPlateau\n",
    "from keras.preprocessing.image import ImageDataGenerator\n",
    "augmentation =ImageDataGenerator(rotation_range = 15, width_shift_range = .1, height_shift_range = .1, \n",
    "                                                           horizontal_flip = True, fill_mode = 'nearest')\n",
    "augmentation.fit(x_train)\n",
    "\n",
    "\n",
    "early_stopping = EarlyStopping(monitor='val_loss', verbose = 1, patience=10, min_delta = .002)\n",
    "model_checkpoint = ModelCheckpoint('models/CNN-ModelCheckpointWeights.h5', verbose = 1, save_best_only=True,\n",
    "                                  monitor = 'val_loss')\n",
    "lr_plat = ReduceLROnPlateau(patience = 3, mode = 'min')\n",
    "epochs = 50\n",
    "batch_size = 16\n",
    "normal_model = get_conv_model_normal()\n",
    "normal_history = normal_model.fit_generator(augmentation.flow(x_train, y_train, batch_size = batch_size),\n",
    "                epochs = epochs, \n",
    "         callbacks = [early_stopping, model_checkpoint, lr_plat], validation_data = (x_test, y_test), verbose= 1)\n"
   ]
  },
  {
   "cell_type": "code",
   "execution_count": 7,
   "metadata": {
    "scrolled": true
   },
   "outputs": [
    {
     "name": "stdout",
     "output_type": "stream",
     "text": [
      "_________________________________________________________________\n",
      "Layer (type)                 Output Shape              Param #   \n",
      "=================================================================\n",
      "Input_Layer (Conv2D)         (None, 224, 224, 64)      1792      \n",
      "_________________________________________________________________\n",
      "dense_1 (Dense)              (None, 224, 224, 64)      4160      \n",
      "_________________________________________________________________\n",
      "max_pooling2d_1 (MaxPooling2 (None, 112, 112, 64)      0         \n",
      "_________________________________________________________________\n",
      "conv2d_1 (Conv2D)            (None, 112, 112, 64)      36928     \n",
      "_________________________________________________________________\n",
      "dense_2 (Dense)              (None, 112, 112, 64)      4160      \n",
      "_________________________________________________________________\n",
      "max_pooling2d_2 (MaxPooling2 (None, 56, 56, 64)        0         \n",
      "_________________________________________________________________\n",
      "conv2d_2 (Conv2D)            (None, 56, 56, 128)       73856     \n",
      "_________________________________________________________________\n",
      "conv2d_3 (Conv2D)            (None, 56, 56, 128)       147584    \n",
      "_________________________________________________________________\n",
      "max_pooling2d_3 (MaxPooling2 (None, 28, 28, 128)       0         \n",
      "_________________________________________________________________\n",
      "flatten_1 (Flatten)          (None, 100352)            0         \n",
      "_________________________________________________________________\n",
      "dense_3 (Dense)              (None, 128)               12845184  \n",
      "_________________________________________________________________\n",
      "dense_4 (Dense)              (None, 64)                8256      \n",
      "_________________________________________________________________\n",
      "dense_5 (Dense)              (None, 32)                2080      \n",
      "_________________________________________________________________\n",
      "dropout_1 (Dropout)          (None, 32)                0         \n",
      "_________________________________________________________________\n",
      "Output_Layer (Dense)         (None, 1)                 33        \n",
      "=================================================================\n",
      "Total params: 13,124,033\n",
      "Trainable params: 13,124,033\n",
      "Non-trainable params: 0\n",
      "_________________________________________________________________\n",
      "None\n"
     ]
    }
   ],
   "source": [
    "print(normal_model.summary())"
   ]
  },
  {
   "cell_type": "markdown",
   "metadata": {},
   "source": [
    "## Loss & Accuracy"
   ]
  },
  {
   "cell_type": "code",
   "execution_count": 8,
   "metadata": {},
   "outputs": [
    {
     "data": {
      "text/plain": [
       "<matplotlib.legend.Legend at 0x29a4ea63088>"
      ]
     },
     "execution_count": 8,
     "metadata": {},
     "output_type": "execute_result"
    },
    {
     "data": {
      "image/png": "[encoded data removed]",
      "text/plain": [
       "<Figure size 1080x360 with 2 Axes>"
      ]
     },
     "metadata": {
      "needs_background": "light"
     },
     "output_type": "display_data"
    }
   ],
   "source": [
    "train_loss = normal_history.history['loss']\n",
    "train_acc = normal_history.history['acc']\n",
    "test_loss = normal_history.history['val_loss']\n",
    "test_acc = normal_history.history['val_acc']\n",
    "epochs = [i for i in range(1, len(test_acc)+1)]\n",
    "\n",
    "fig, ax = plt.subplots(1,2, figsize = (15,5))\n",
    "ax[0].plot(epochs, train_loss, label = 'Train Loss')\n",
    "ax[0].plot(epochs, test_loss, label = 'Test Loss')\n",
    "ax[0].set_title('Train/Test Loss')\n",
    "ax[0].set_xlabel('Epochs')\n",
    "ax[0].set_ylabel('Loss')\n",
    "ax[0].legend()\n",
    "\n",
    "ax[1].plot(epochs, train_acc, label = 'Train Accuracy')\n",
    "ax[1].plot(epochs, test_acc, label = 'Test Accuracy')\n",
    "ax[1].set_title('Train/Test Accuracy')\n",
    "ax[1].set_xlabel('Epochs')\n",
    "ax[1].set_ylabel('Loss')\n",
    "ax[1].legend()"
   ]
  },
  {
   "cell_type": "code",
   "execution_count": 9,
   "metadata": {},
   "outputs": [
    {
     "data": {
      "text/plain": [
       "(44, 1)"
      ]
     },
     "execution_count": 9,
     "metadata": {},
     "output_type": "execute_result"
    }
   ],
   "source": [
    "y_test.shape"
   ]
  },
  {
   "cell_type": "markdown",
   "metadata": {},
   "source": [
    "### AUC and ROC Curves"
   ]
  },
  {
   "cell_type": "code",
   "execution_count": 10,
   "metadata": {},
   "outputs": [
    {
     "data": {
      "image/png": "[encoded data removed]",
      "text/plain": [
       "<Figure size 1080x432 with 2 Axes>"
      ]
     },
     "metadata": {
      "needs_background": "light"
     },
     "output_type": "display_data"
    },
    {
     "data": {
      "text/html": [
       "<div>\n",
       "<style scoped>\n",
       "    .dataframe tbody tr th:only-of-type {\n",
       "        vertical-align: middle;\n",
       "    }\n",
       "\n",
       "    .dataframe tbody tr th {\n",
       "        vertical-align: top;\n",
       "    }\n",
       "\n",
       "    .dataframe thead th {\n",
       "        text-align: right;\n",
       "    }\n",
       "</style>\n",
       "<table border=\"1\" class=\"dataframe\">\n",
       "  <thead>\n",
       "    <tr style=\"text-align: right;\">\n",
       "      <th></th>\n",
       "      <th>F1 Score</th>\n",
       "      <th>AUC</th>\n",
       "      <th>ROC</th>\n",
       "    </tr>\n",
       "  </thead>\n",
       "  <tbody>\n",
       "    <tr>\n",
       "      <th>0</th>\n",
       "      <td>0.828</td>\n",
       "      <td>0.942</td>\n",
       "      <td>0.961</td>\n",
       "    </tr>\n",
       "  </tbody>\n",
       "</table>\n",
       "</div>"
      ],
      "text/plain": [
       "   F1 Score    AUC    ROC\n",
       "0     0.828  0.942  0.961"
      ]
     },
     "execution_count": 10,
     "metadata": {},
     "output_type": "execute_result"
    }
   ],
   "source": [
    "from sklearn.metrics import roc_curve, roc_auc_score, precision_recall_curve, f1_score, auc\n",
    "normal_model = get_conv_model_normal()\n",
    "normal_model.load_weights('models/CNN-ModelCheckpointWeights.h5') #load the best weights before overfitting\n",
    " \n",
    "\n",
    "fig, ax = plt.subplots(1,2, figsize = (15,6))\n",
    "#AUC CURVE\n",
    "y_test_prob = normal_model.predict(x_test)\n",
    "\n",
    "y_test_precision, y_test_recall, spec = precision_recall_curve(y_test, y_test_prob)\n",
    "y_test_predict = np.where(y_test_prob >= .5, 1, 0).ravel()\n",
    "y_test_f1= f1_score(y_test, y_test_predict)\n",
    "y_test_auc = auc(y_test_recall, y_test_precision)\n",
    "no_skill = len(y_test[y_test==1]) / len(y_test)\n",
    "ax[0].plot(y_test_recall, y_test_precision, marker='.', label='CNN')\n",
    "ax[0].plot([0, 1], [no_skill, no_skill], linestyle='--', label='50/50', color = 'Black')\n",
    "ax[0].set_xlabel('Recall')\n",
    "ax[0].set_ylabel('Precision')\n",
    "ax[0].set_title(f'AUC Curve')\n",
    "ax[0].legend()\n",
    "\n",
    "#ROC CURVE\n",
    "ns_probs = [0 for i in range(len(y_test))]\n",
    "ns_auc = roc_auc_score(y_test, ns_probs)\n",
    "y_test_roc = roc_auc_score(y_test, y_test_prob)\n",
    "\n",
    "ns_fpr, ns_tpr, _ = roc_curve(y_test, ns_probs)\n",
    "y_test_fpr, y_test_tpr, threshold = roc_curve(y_test, y_test_prob)\n",
    "ax[1].plot(ns_fpr, ns_tpr, linestyle='--', label='50/50')\n",
    "ax[1].plot(y_test_fpr, y_test_tpr, marker='.', label='CNN')\n",
    "ax[1].set_xlabel('False Positive Rate')\n",
    "ax[1].set_ylabel('True Positive Rate')\n",
    "ax[1].set_title(f'ROC Curve')\n",
    "ax[1].legend()\n",
    "plt.show()\n",
    "\n",
    "pd.DataFrame({'F1 Score': round(y_test_f1, 3), 'AUC': round(y_test_auc, 3), 'ROC':round(y_test_roc, 3)}, index = [0])"
   ]
  },
  {
   "cell_type": "code",
   "execution_count": 11,
   "metadata": {
    "scrolled": true
   },
   "outputs": [
    {
     "data": {
      "image/png": "[encoded data removed]",
      "text/plain": [
       "<Figure size 432x288 with 1 Axes>"
      ]
     },
     "metadata": {
      "needs_background": "light"
     },
     "output_type": "display_data"
    }
   ],
   "source": [
    "df = pd.DataFrame({'Threshold': threshold, 'FPR': y_test_fpr, 'TPR': y_test_tpr})\n",
    "plt.plot(df.Threshold, df.FPR, label = 'False Positive Rate')\n",
    "plt.plot(df.Threshold, df.TPR, label = 'True Positive Rate')\n",
    "plt.xlabel('Threshold')\n",
    "plt.ylabel('FPR/TPR')\n",
    "plt.title('Change in FPR/TPR with Threshold')\n",
    "plt.xlim(0, 1)\n",
    "plt.legend()\n",
    "plt.show()"
   ]
  },
  {
   "cell_type": "markdown",
   "metadata": {},
   "source": [
    "### Confusion Matrix"
   ]
  },
  {
   "cell_type": "code",
   "execution_count": 12,
   "metadata": {},
   "outputs": [
    {
     "data": {
      "image/png": "[encoded data removed]",
      "text/plain": [
       "<Figure size 720x720 with 6 Axes>"
      ]
     },
     "metadata": {
      "needs_background": "light"
     },
     "output_type": "display_data"
    }
   ],
   "source": [
    "import itertools\n",
    "import seaborn as sns\n",
    "def plot_confusion_matrix(y_test,y_train, y_train_prob, y_test_prob,thresholds, classes,\n",
    "                          cmap=plt.cm.Blues):\n",
    "    fig, ax = plt.subplots(len(thresholds),2, figsize = (10,10))\n",
    "\n",
    "    for idx, thresh in enumerate(thresholds):\n",
    "        y_test_predict = np.where(y_test_prob >= thresh, 1, 0)\n",
    "        y_train_predict = np.where(y_train_prob >= thresh, 1, 0)\n",
    "        train_cm = confusion_matrix(y_train, y_train_predict) \n",
    "        test_cm = confusion_matrix(y_test, y_test_predict)\n",
    "        \n",
    "        #test confusion\n",
    "        ax[idx, 0].imshow(test_cm,  cmap=plt.cm.Blues) \n",
    "\n",
    "        ax[idx, 0].set_title(f'Test: Confusion Matrix | Threshold: {thresh}')\n",
    "        ax[idx, 0].set_ylabel('True label')\n",
    "        ax[idx, 0].set_xlabel('Predicted label')\n",
    "\n",
    "        class_names = classes \n",
    "        tick_marks = np.arange(len(class_names))\n",
    "        ax[idx, 0].set_xticks(tick_marks)\n",
    "        ax[idx,0].set_xticklabels(class_names)\n",
    "        ax[idx, 0].set_yticks(tick_marks)\n",
    "        ax[idx, 0].set_yticklabels(class_names)\n",
    "\n",
    "        th = test_cm.max() / 2. \n",
    "\n",
    "        for i, j in itertools.product(range(test_cm.shape[0]), range(test_cm.shape[1])):\n",
    "                ax[idx, 0].text(j, i, f'{test_cm[i, j]}',# | {int(round(test_cm[i,j]/test_cm.ravel().sum(),5)*100)}%',\n",
    "                         horizontalalignment='center',\n",
    "                         color='white' if test_cm[i, j] > th else 'black')\n",
    "        ax[idx, 0].set_ylim([-.5,1.5])\n",
    "        \n",
    "        #TRAIN CONFUSION\n",
    "        ax[idx, 1].imshow(train_cm,  cmap=plt.cm.Blues) \n",
    "\n",
    "        ax[idx, 1].set_title(f'Train: Confusion Matrix | Threshold: {thresh}')\n",
    "        ax[idx, 1].set_ylabel('True label')\n",
    "        ax[idx, 1].set_xlabel('Predicted label')\n",
    "\n",
    "        class_names = classes \n",
    "        tick_marks = np.arange(len(class_names))\n",
    "        ax[idx, 1].set_xticks(tick_marks)\n",
    "        ax[idx,1].set_xticklabels(class_names)\n",
    "        ax[idx, 1].set_yticks(tick_marks)\n",
    "        ax[idx, 1].set_yticklabels(class_names)\n",
    "\n",
    "\n",
    "        th = train_cm.max() / 2. \n",
    "\n",
    "        for i, j in itertools.product(range(train_cm.shape[0]), range(train_cm.shape[1])):\n",
    "                ax[idx, 1].text(j, i, f'{train_cm[i, j]}',# | {int(round(train_cm[i,j]/train_cm.ravel().sum(),5)*100)}%',\n",
    "                         horizontalalignment='center',\n",
    "                         color='white' if train_cm[i, j] > th else 'black')\n",
    "        ax[idx, 1].set_ylim([-.5,1.5])\n",
    "    plt.tight_layout()\n",
    " \n",
    "    plt.show()\n",
    "    \n",
    "normal_model = get_conv_model_normal()\n",
    "normal_model.load_weights('models/CNN-ModelCheckpointWeights.h5') #load the best weights before overfitting\n",
    "\n",
    "y_test_prob = normal_model.predict(x_test).ravel()\n",
    "\n",
    "y_train_prob = normal_model.predict(x_train).ravel()\n",
    "\n",
    "plot_confusion_matrix(y_train = y_train, y_test = y_test, y_train_prob = y_train_prob,\n",
    "                      y_test_prob = y_test_prob,classes = ['No Weapon', 'Weapon'], thresholds = [.2, .5,.6])"
   ]
  },
  {
   "cell_type": "code",
   "execution_count": null,
   "metadata": {},
   "outputs": [],
   "source": []
  },
  {
   "cell_type": "markdown",
   "metadata": {},
   "source": [
    "#### Test on Google Data\n"
   ]
  },
  {
   "cell_type": "code",
   "execution_count": 9,
   "metadata": {},
   "outputs": [],
   "source": [
    "import cv2\n",
    "from lime import lime_image\n",
    "from skimage.segmentation import mark_boundaries"
   ]
  },
  {
   "cell_type": "code",
   "execution_count": 14,
   "metadata": {},
   "outputs": [
    {
     "data": {
      "application/vnd.jupyter.widget-view+json": {
       "model_id": "38dcd9f3a61d4ce1aaee653bc0bcfb52",
       "version_major": 2,
       "version_minor": 0
      },
      "text/plain": [
       "HBox(children=(FloatProgress(value=0.0, max=1000.0), HTML(value='')))"
      ]
     },
     "metadata": {},
     "output_type": "display_data"
    },
    {
     "name": "stdout",
     "output_type": "stream",
     "text": [
      "\n"
     ]
    },
    {
     "data": {
      "text/plain": [
       "<matplotlib.image.AxesImage at 0x7fa618e40c90>"
      ]
     },
     "execution_count": 14,
     "metadata": {},
     "output_type": "execute_result"
    },
    {
     "data": {
      "image/png": "[encoded data removed]",
      "text/plain": [
       "<Figure size 432x288 with 1 Axes>"
      ]
     },
     "metadata": {
      "needs_background": "light"
     },
     "output_type": "display_data"
    }
   ],
   "source": [
    "normal_model = get_conv_model_normal()\n",
    "normal_model.load_weights('../models/CNN-ModelCheckpointWeights.h5')\n",
    "img = get_image_value('../Assault_Rifle_722_33.jpg')\n",
    "\n",
    "explainer = lime_image.LimeImageExplainer()\n",
    "\n",
    "explanation = explainer.explain_instance(img, normal_model.predict, top_labels = 5, hide_color = 0, \n",
    "                                         num_samples = 1000)\n",
    "\n",
    "temp, mask = explanation.get_image_and_mask(explanation.top_labels[0], positive_only = False,\n",
    "                                           num_features = 10, hide_rest = False)\n",
    "plt.imshow(mark_boundaries(temp/2 + .5, mask))"
   ]
  },
  {
   "cell_type": "code",
   "execution_count": null,
   "metadata": {},
   "outputs": [],
   "source": []
  },
  {
   "cell_type": "code",
   "execution_count": null,
   "metadata": {},
   "outputs": [],
   "source": []
  },
  {
   "cell_type": "code",
   "execution_count": null,
   "metadata": {},
   "outputs": [],
   "source": []
  },
  {
   "cell_type": "code",
   "execution_count": 5,
   "metadata": {},
   "outputs": [],
   "source": [
    "normal_model = get_conv_model_normal()\n",
    "normal_model.load_weights('../models/CNN-ModelCheckpointWeights.h5')\n",
    "img = cv2.imread('../Assault_Rifle_722_33.jpg')\n",
    "ss = cv2.ximgproc.segmentation.createSelectiveSearchSegmentation()\n",
    "ss.setBaseImage(img)\n",
    "ss.switchToSelectiveSearchFast()\n",
    "rects = ss.process() \n",
    "\n",
    "windows = []\n",
    "locations = []\n",
    "for x, y, w,h in rects: \n",
    "    startx = x \n",
    "    starty = y \n",
    "    endx = x+w \n",
    "    endy = y+h \n",
    "    roi = img[starty:endy, startx:endx]\n",
    "    roi = cv2.resize(roi, dsize = (224,224), interpolation = cv2.INTER_CUBIC)\n",
    "    windows.append(roi)\n",
    "    locations.append((startx, starty, endx, endy))\n",
    "    \n"
   ]
  },
  {
   "cell_type": "code",
   "execution_count": 6,
   "metadata": {},
   "outputs": [],
   "source": [
    "windows = np.array(windows)\n",
    "\n",
    "predictions = normal_model.predict(windows)"
   ]
  },
  {
   "cell_type": "code",
   "execution_count": 7,
   "metadata": {},
   "outputs": [],
   "source": [
    "clone = img.copy()\n",
    "new_loc = [] \n",
    "new_prob = [] \n",
    "for idx, i in enumerate(predictions): \n",
    "    if i < .5: \n",
    "        continue\n",
    "    startx, starty, endx, endy = locations[idx]\n",
    "    cv2.rectangle(clone, (startx, starty), (endx, endy),  (0,255,0),2)\n",
    "    text = f'Weapon: {i*100}'\n",
    "    cv2.putText(clone, text, (startx, y), cv2.FONT_HERSHEY_SIMPLEX, .45, (0,255,0),2)\n",
    "    new_loc.append(locations[idx])\n",
    "    new_prob.append(i[0])\n",
    "    \n",
    "    "
   ]
  },
  {
   "cell_type": "code",
   "execution_count": 37,
   "metadata": {},
   "outputs": [
    {
     "data": {
      "text/plain": [
       "-1"
      ]
     },
     "execution_count": 37,
     "metadata": {},
     "output_type": "execute_result"
    }
   ],
   "source": [
    "cv2.imshow('test', clone)\n",
    "cv2.waitKey(0)"
   ]
  },
  {
   "cell_type": "code",
   "execution_count": null,
   "metadata": {},
   "outputs": [],
   "source": []
  },
  {
   "cell_type": "code",
   "execution_count": 8,
   "metadata": {},
   "outputs": [],
   "source": [
    "# import the necessary packages\n",
    "def non_max_suppression(boxes, probs, overlapThresh=0.3):\n",
    "    # if there are no boxes, return an empty list\n",
    "    if len(boxes) == 0:\n",
    "        return []\n",
    "\n",
    "    # if the bounding boxes are integers, convert them to floats -- this\n",
    "    # is important since we'll be doing a bunch of divisions\n",
    "    if boxes.dtype.kind == \"i\":\n",
    "        boxes = boxes.astype(\"float\")\n",
    "\n",
    "    # initialize the list of picked indexes\n",
    "    pick = []\n",
    "\n",
    "    # grab the coordinates of the bounding boxes\n",
    "    x1 = boxes[:, 0]\n",
    "    y1 = boxes[:, 1]\n",
    "    x2 = boxes[:, 2]\n",
    "    y2 = boxes[:, 3]\n",
    "\n",
    "    # compute the area of the bounding boxes and grab the indexes to sort\n",
    "    # (in the case that no probabilities are provided, simply sort on the\n",
    "    # bottom-left y-coordinate)\n",
    "    area = (x2 - x1 + 1) * (y2 - y1 + 1)\n",
    "    idxs = y2\n",
    "\n",
    "    # if probabilities are provided, sort on them instead\n",
    "    if probs is not None:\n",
    "        idxs = probs\n",
    "\n",
    "    # sort the indexes\n",
    "    idxs = np.argsort(idxs)\n",
    "    print(idxs)\n",
    "    # keep looping while some indexes still remain in the indexes list\n",
    "    while len(idxs) > 0:\n",
    "        # grab the last index in the indexes list and add the index value\n",
    "        # to the list of picked indexes\n",
    "        last = len(idxs) - 1\n",
    "        i = idxs[last]\n",
    "        pick.append(i)\n",
    "\n",
    "        # find the largest (x, y) coordinates for the start of the bounding\n",
    "        # box and the smallest (x, y) coordinates for the end of the bounding\n",
    "        # box\n",
    "        xx1 = np.maximum(x1[i], x1[idxs[:last]])\n",
    "        yy1 = np.maximum(y1[i], y1[idxs[:last]])\n",
    "        xx2 = np.minimum(x2[i], x2[idxs[:last]])\n",
    "        yy2 = np.minimum(y2[i], y2[idxs[:last]])\n",
    "\n",
    "        # compute the width and height of the bounding box\n",
    "        w = np.maximum(0, xx2 - xx1 + 1)\n",
    "        h = np.maximum(0, yy2 - yy1 + 1)\n",
    "\n",
    "        # compute the ratio of overlap\n",
    "        overlap = (w * h) / area[idxs[:last]]\n",
    "\n",
    "        # delete all indexes from the index list that have overlap greater\n",
    "        # than the provided overlap threshold\n",
    "        idxs = np.delete(idxs, np.concatenate(([last],\n",
    "            np.where(overlap > overlapThresh)[0])))\n",
    "\n",
    "    # return the indexes of only the bounding boxes to keep\n",
    "    return pick"
   ]
  },
  {
   "cell_type": "code",
   "execution_count": 9,
   "metadata": {},
   "outputs": [
    {
     "data": {
      "text/plain": [
       "[(202, 72, 259, 104),\n",
       " (160, 160, 245, 255),\n",
       " (106, 56, 198, 170),\n",
       " (0, 0, 106, 110),\n",
       " (296, 0, 363, 113),\n",
       " (193, 64, 328, 186),\n",
       " (255, 176, 308, 192),\n",
       " (206, 0, 274, 73),\n",
       " (31, 0, 112, 95),\n",
       " (193, 80, 328, 181),\n",
       " (185, 79, 329, 183),\n",
       " (0, 0, 405, 255),\n",
       " (205, 71, 285, 97),\n",
       " (237, 0, 321, 75),\n",
       " (301, 38, 325, 60),\n",
       " (186, 154, 224, 176),\n",
       " (264, 49, 353, 102),\n",
       " (0, 73, 48, 112),\n",
       " (106, 22, 285, 170),\n",
       " (0, 0, 103, 105),\n",
       " (191, 24, 326, 81),\n",
       " (0, 0, 373, 255),\n",
       " (239, 127, 327, 186),\n",
       " (175, 80, 328, 181),\n",
       " (310, 138, 362, 234),\n",
       " (260, 158, 337, 236),\n",
       " (186, 0, 379, 255),\n",
       " (0, 0, 362, 255),\n",
       " (241, 40, 323, 70),\n",
       " (146, 78, 331, 185),\n",
       " (0, 0, 240, 255),\n",
       " (204, 161, 260, 183),\n",
       " (242, 42, 322, 70),\n",
       " (193, 80, 328, 186),\n",
       " (0, 0, 363, 255),\n",
       " (197, 162, 277, 185),\n",
       " (176, 116, 308, 192),\n",
       " (87, 0, 107, 33),\n",
       " (239, 127, 327, 187),\n",
       " (30, 0, 111, 95),\n",
       " (0, 73, 48, 115),\n",
       " (284, 74, 329, 101),\n",
       " (30, 0, 110, 92),\n",
       " (238, 0, 364, 126),\n",
       " (0, 53, 63, 109),\n",
       " (274, 41, 331, 90),\n",
       " (0, 81, 33, 115),\n",
       " (186, 145, 263, 179),\n",
       " (186, 152, 253, 179),\n",
       " (187, 0, 373, 186),\n",
       " (316, 59, 331, 90),\n",
       " (274, 41, 321, 71),\n",
       " (256, 73, 336, 100),\n",
       " (160, 160, 243, 255),\n",
       " (245, 42, 320, 56),\n",
       " (301, 38, 339, 76),\n",
       " (0, 68, 42, 109),\n",
       " (200, 70, 264, 103),\n",
       " (106, 44, 219, 182),\n",
       " (0, 0, 105, 108),\n",
       " (30, 21, 106, 95),\n",
       " (206, 33, 326, 81),\n",
       " (242, 0, 364, 126),\n",
       " (0, 0, 368, 255),\n",
       " (276, 132, 333, 188),\n",
       " (242, 156, 318, 189),\n",
       " (0, 0, 104, 109),\n",
       " (0, 22, 159, 251),\n",
       " (24, 59, 331, 189),\n",
       " (186, 145, 308, 192),\n",
       " (242, 0, 364, 116),\n",
       " (152, 0, 375, 192),\n",
       " (146, 74, 331, 185),\n",
       " (319, 93, 334, 158),\n",
       " (319, 65, 368, 255),\n",
       " (186, 152, 217, 172),\n",
       " (310, 65, 368, 255),\n",
       " (88, 0, 107, 47),\n",
       " (328, 0, 379, 255),\n",
       " (77, 160, 298, 255),\n",
       " (204, 32, 326, 81),\n",
       " (0, 76, 69, 123),\n",
       " (319, 93, 337, 158),\n",
       " (192, 0, 320, 86),\n",
       " (242, 0, 342, 69),\n",
       " (0, 76, 69, 112),\n",
       " (0, 0, 102, 105),\n",
       " (29, 0, 110, 92),\n",
       " (0, 81, 33, 114),\n",
       " (106, 0, 232, 182),\n",
       " (90, 0, 111, 47),\n",
       " (178, 0, 373, 186),\n",
       " (191, 69, 285, 109),\n",
       " (235, 0, 375, 125),\n",
       " (301, 125, 329, 181),\n",
       " (0, 26, 97, 114),\n",
       " (0, 84, 58, 123),\n",
       " (195, 167, 221, 178),\n",
       " (283, 64, 333, 113),\n",
       " (316, 64, 333, 113),\n",
       " (0, 88, 24, 115),\n",
       " (206, 0, 320, 85),\n",
       " (106, 0, 405, 255),\n",
       " (88, 21, 106, 47),\n",
       " (191, 125, 367, 255),\n",
       " (0, 0, 107, 109),\n",
       " (200, 49, 353, 150),\n",
       " (277, 133, 328, 188),\n",
       " (202, 72, 220, 104),\n",
       " (0, 0, 122, 115),\n",
       " (0, 83, 29, 112),\n",
       " (298, 164, 319, 187),\n",
       " (206, 138, 363, 255),\n",
       " (239, 42, 320, 85),\n",
       " (175, 80, 328, 187),\n",
       " (278, 163, 326, 192),\n",
       " (237, 0, 322, 70),\n",
       " (0, 0, 106, 115),\n",
       " (236, 0, 263, 67),\n",
       " (205, 156, 318, 189),\n",
       " (0, 74, 41, 115),\n",
       " (191, 79, 214, 109),\n",
       " (193, 73, 336, 186),\n",
       " (242, 42, 321, 56),\n",
       " (0, 0, 111, 115),\n",
       " (316, 62, 338, 126),\n",
       " (252, 158, 337, 236),\n",
       " (319, 73, 334, 158),\n",
       " (0, 0, 107, 110),\n",
       " (308, 47, 346, 90),\n",
       " (48, 128, 363, 255),\n",
       " (186, 80, 328, 192),\n",
       " (297, 0, 356, 90),\n",
       " (106, 22, 198, 170),\n",
       " (242, 0, 367, 116),\n",
       " (283, 62, 338, 126),\n",
       " (191, 69, 260, 109),\n",
       " (192, 0, 321, 85),\n",
       " (237, 0, 367, 116),\n",
       " (0, 19, 103, 115),\n",
       " (175, 71, 263, 112),\n",
       " (204, 161, 298, 189),\n",
       " (0, 0, 367, 255),\n",
       " (0, 0, 107, 114),\n",
       " (0, 0, 106, 105),\n",
       " (175, 0, 357, 187),\n",
       " (238, 0, 323, 70),\n",
       " (186, 154, 298, 189),\n",
       " (195, 166, 253, 179),\n",
       " (238, 0, 333, 113),\n",
       " (152, 24, 353, 192),\n",
       " (237, 0, 367, 126),\n",
       " (256, 64, 327, 102),\n",
       " (192, 0, 372, 139),\n",
       " (304, 48, 334, 93),\n",
       " (176, 93, 338, 192),\n",
       " (297, 0, 342, 69),\n",
       " (242, 42, 321, 75),\n",
       " (178, 71, 259, 120),\n",
       " (237, 0, 364, 126),\n",
       " (152, 79, 338, 192),\n",
       " (0, 0, 110, 115),\n",
       " (48, 106, 363, 255),\n",
       " (0, 0, 600, 255),\n",
       " (192, 0, 363, 113),\n",
       " (183, 79, 214, 160),\n",
       " (186, 0, 375, 192),\n",
       " (239, 42, 327, 102),\n",
       " (191, 0, 375, 100),\n",
       " (206, 158, 337, 252),\n",
       " (319, 93, 338, 158),\n",
       " (166, 160, 298, 255),\n",
       " (206, 0, 321, 85),\n",
       " (0, 0, 122, 100),\n",
       " (160, 125, 367, 255),\n",
       " (301, 93, 338, 181),\n",
       " (178, 0, 373, 188),\n",
       " (292, 160, 363, 255),\n",
       " (237, 0, 375, 160),\n",
       " (186, 154, 326, 192),\n",
       " (0, 0, 112, 123),\n",
       " (200, 49, 353, 103),\n",
       " (152, 79, 329, 183),\n",
       " (0, 0, 105, 115),\n",
       " (241, 0, 371, 125),\n",
       " (0, 0, 337, 255),\n",
       " (205, 69, 285, 97),\n",
       " (191, 0, 375, 125),\n",
       " (106, 0, 357, 187),\n",
       " (77, 158, 337, 255),\n",
       " (183, 24, 326, 160),\n",
       " (0, 21, 106, 115),\n",
       " (106, 22, 214, 170),\n",
       " (241, 0, 372, 69),\n",
       " (88, 0, 122, 47),\n",
       " (208, 71, 289, 97),\n",
       " (175, 0, 321, 112),\n",
       " (160, 0, 405, 255),\n",
       " (241, 0, 372, 70),\n",
       " (328, 0, 408, 255),\n",
       " (310, 138, 363, 255),\n",
       " (192, 0, 363, 129),\n",
       " (304, 48, 338, 158),\n",
       " (240, 0, 373, 90),\n",
       " (206, 158, 363, 255),\n",
       " (30, 0, 122, 95),\n",
       " (146, 59, 331, 185),\n",
       " (24, 78, 331, 185),\n",
       " (191, 24, 353, 102),\n",
       " (248, 0, 342, 69),\n",
       " (241, 0, 369, 76),\n",
       " (237, 0, 364, 116),\n",
       " (146, 59, 331, 189),\n",
       " (192, 0, 321, 86),\n",
       " (192, 0, 408, 255),\n",
       " (186, 80, 337, 192),\n",
       " (242, 0, 372, 139),\n",
       " (235, 0, 369, 76),\n",
       " (0, 0, 111, 109),\n",
       " (240, 0, 356, 90),\n",
       " (108, 106, 253, 179),\n",
       " (176, 116, 329, 192),\n",
       " (152, 70, 338, 192),\n",
       " (186, 113, 253, 179),\n",
       " (237, 0, 320, 86),\n",
       " (241, 0, 375, 76),\n",
       " (24, 78, 331, 189),\n",
       " (242, 0, 363, 113),\n",
       " (328, 0, 405, 255),\n",
       " (191, 24, 336, 100),\n",
       " (0, 0, 230, 251),\n",
       " (186, 113, 327, 187),\n",
       " (183, 24, 336, 186),\n",
       " (241, 0, 372, 76),\n",
       " (183, 69, 285, 160),\n",
       " (206, 0, 327, 102),\n",
       " (176, 49, 353, 192),\n",
       " (237, 0, 352, 76),\n",
       " (0, 0, 122, 109),\n",
       " (186, 125, 367, 255),\n",
       " (310, 0, 376, 255),\n",
       " (310, 0, 414, 255),\n",
       " (192, 0, 329, 101),\n",
       " (186, 127, 327, 192),\n",
       " (183, 0, 375, 186),\n",
       " (102, 0, 379, 255),\n",
       " (200, 158, 337, 252),\n",
       " (0, 0, 408, 255),\n",
       " (0, 0, 159, 251),\n",
       " (323, 0, 405, 255),\n",
       " (0, 0, 107, 115),\n",
       " (106, 0, 375, 192),\n",
       " (175, 0, 368, 255),\n",
       " (0, 0, 230, 255),\n",
       " (242, 0, 357, 90),\n",
       " (206, 0, 357, 102),\n",
       " (178, 0, 600, 255),\n",
       " (176, 24, 353, 192),\n",
       " (191, 158, 337, 255),\n",
       " (0, 0, 357, 255),\n",
       " (48, 128, 298, 255),\n",
       " (191, 0, 371, 125),\n",
       " (186, 64, 328, 186),\n",
       " (304, 0, 414, 255),\n",
       " (0, 0, 379, 255),\n",
       " (175, 0, 373, 255),\n",
       " (24, 0, 363, 189),\n",
       " (183, 0, 600, 255),\n",
       " (304, 0, 600, 255)]"
      ]
     },
     "execution_count": 9,
     "metadata": {},
     "output_type": "execute_result"
    }
   ],
   "source": [
    "new_loc"
   ]
  },
  {
   "cell_type": "code",
   "execution_count": 10,
   "metadata": {},
   "outputs": [
    {
     "name": "stdout",
     "output_type": "stream",
     "text": [
      "[ 97 199 268 196 170 198 171 172 173 174 175 176 177 178 179 180 181 182\n",
      " 169 184 185 186 187 188 189 190 191 192 193 194 195 197 183 168 166 137\n",
      " 138 139 140 141 142 143 144 145 146 147 148 149 150 151 152 153 154 155\n",
      " 156 157 158 159 160 161 162 163 164 165 167 200 201 202 237 238 239 240\n",
      " 241 242 243 244 245 246 247 248 249 250 236 251 253 254 255 256 257 258\n",
      " 259 260 261 262 263 264 265 266 252 136 235 233 203 204 205 206 207 208\n",
      " 209 210 211 212 213 214 215 216 234 217 219 220 221 222 223 224 225 226\n",
      " 227 228 229 230 231 232 218 135   0 133  35  36  37  38  39  40  41  42\n",
      "  43  44  45  46  47  48  49  50  51  52  53  54  55  56  57  58  59  60\n",
      "  61  62  63  34  33  32  31   1   2   3   4   5   6   7   8   9  10  11\n",
      "  12  13  14  64  15  17  18  19  20  21  22  23  24  25  26  27  28  29\n",
      "  30  16  65  66  67 103 104 105 106 107 108 109 110 111 112 113 114 115\n",
      " 116 102 117 119 120 121 122 123 124 125 126 127 128 129 130 131 132 118\n",
      " 267 101  99  68  69  70  71  72  73  74  75  76  77  78  79  80  81 100\n",
      "  82  84  85  86  87  88  89  90  91  92  93  94  95  96  98  83 134]\n"
     ]
    },
    {
     "data": {
      "text/plain": [
       "134"
      ]
     },
     "execution_count": 10,
     "metadata": {},
     "output_type": "execute_result"
    }
   ],
   "source": [
    "boxids = non_max_suppression(np.array(new_loc), np.array(new_prob))[0]\n",
    "boxids"
   ]
  },
  {
   "cell_type": "code",
   "execution_count": null,
   "metadata": {},
   "outputs": [],
   "source": [
    "clone = img.copy()\n",
    "  \n",
    "startx, starty, endx, endy = new_loc[268]\n",
    "cv2.rectangle(clone, (startx, starty), (endx, endy),  (0,255,0),2)\n",
    "text = f'Weapon: {i*100}'\n",
    "cv2.putText(clone, text, (startx, y), cv2.FONT_HERSHEY_SIMPLEX, .45, (0,255,0),2)\n",
    "cv2.imshow('test', clone)\n",
    "cv2.waitKey(0)"
   ]
  },
  {
   "cell_type": "code",
   "execution_count": null,
   "metadata": {},
   "outputs": [],
   "source": []
  },
  {
   "cell_type": "code",
   "execution_count": null,
   "metadata": {},
   "outputs": [],
   "source": []
  }
 ],
 "metadata": {
  "kernelspec": {
   "display_name": "Python 3",
   "language": "python",
   "name": "python3"
  },
  "language_info": {
   "codemirror_mode": {
    "name": "ipython",
    "version": 3
   },
   "file_extension": ".py",
   "mimetype": "text/x-python",
   "name": "python",
   "nbconvert_exporter": "python",
   "pygments_lexer": "ipython3",
   "version": "3.7.6"
  }
 },
 "nbformat": 4,
 "nbformat_minor": 4
}
