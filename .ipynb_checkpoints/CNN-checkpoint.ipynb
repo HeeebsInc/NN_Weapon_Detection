{
 "cells": [
  {
   "cell_type": "markdown",
   "metadata": {},
   "source": [
    "## CNN "
   ]
  },
  {
   "cell_type": "code",
   "execution_count": 1,
   "metadata": {},
   "outputs": [
    {
     "name": "stderr",
     "output_type": "stream",
     "text": [
      "Using plaidml.keras.backend backend.\n"
     ]
    }
   ],
   "source": [
    "from keras.models import Sequential\n",
    "from keras.layers import Dense, Dropout, Flatten \n",
    "from keras.layers import Conv2D, MaxPooling2D, BatchNormalization, AveragePooling2D\n",
    "from keras import regularizers\n",
    "from sklearn.preprocessing import LabelEncoder, OneHotEncoder\n",
    "import numpy as np \n",
    "import pandas as pd \n",
    "import matplotlib.pyplot as plt\n",
    "from sklearn.model_selection import train_test_split\n",
    "import os\n",
    "import pickle\n",
    "from sklearn.metrics import confusion_matrix, accuracy_score, recall_score, precision_score, f1_score\n",
    "import Functions as func\n",
    "import GetPickles\n",
    "import var\n",
    "import Viz"
   ]
  },
  {
   "cell_type": "code",
   "execution_count": null,
   "metadata": {},
   "outputs": [],
   "source": [
    "### best is model weights 2"
   ]
  },
  {
   "cell_type": "code",
   "execution_count": 2,
   "metadata": {},
   "outputs": [],
   "source": [
    "def get_conv_model_normal(dim):\n",
    "    \n",
    "    inp_shape = dim\n",
    "    act = 'relu'\n",
    "    drop = .5 \n",
    "    kernal_reg = regularizers.l1(.001)\n",
    "    dil_rate = 2\n",
    "    \n",
    "    \n",
    "    model = Sequential() \n",
    "    \n",
    "    model.add(Conv2D(64, kernel_size=(3,3),activation=act, input_shape = inp_shape, \n",
    "                     kernel_regularizer = kernal_reg,\n",
    "                     kernel_initializer = 'he_uniform',  padding = 'same', name = 'Input_Layer'))\n",
    "    model.add(Dense(64, activation = 'relu'))\n",
    "    model.add(MaxPooling2D(pool_size=(2, 2),  strides = (2,2)))\n",
    "    \n",
    "    \n",
    "    model.add(Conv2D(64, (3, 3), activation=act, kernel_regularizer = kernal_reg, \n",
    "                     kernel_initializer = 'he_uniform',padding = 'same'))\n",
    "    model.add(Dense(64, activation = 'relu'))\n",
    "    model.add(MaxPooling2D(pool_size=(2, 2), strides = (2,2)))\n",
    "    \n",
    "\n",
    "    \n",
    "    model.add(Conv2D(128, (3, 3), activation=act, kernel_regularizer = kernal_reg, \n",
    "                     kernel_initializer = 'he_uniform',padding = 'same'))\n",
    "    model.add(Conv2D(128, (3, 3), activation=act, kernel_regularizer = kernal_reg, \n",
    "                     kernel_initializer = 'he_uniform',padding = 'same'))\n",
    "    model.add(MaxPooling2D(pool_size=(2, 2), strides = (2,2)))\n",
    "\n",
    "    \n",
    "    model.add(Flatten())\n",
    "\n",
    "    \n",
    "#     model.add(Dense(128, activation='relu'))\n",
    "#     model.add(Dense(64, activation='relu'))\n",
    "#     model.add(Dense(32, activation='relu'))\n",
    "\n",
    "\n",
    "    model.add(Dropout(drop))\n",
    "\n",
    "    model.add(Dense(3, activation='softmax', name = 'Output_Layer'))\n",
    "    \n",
    "    model.compile(loss = 'categorical_crossentropy', optimizer = 'adam', metrics = ['accuracy'])\n",
    "    return model \n"
   ]
  },
  {
   "cell_type": "code",
   "execution_count": 3,
   "metadata": {},
   "outputs": [],
   "source": [
    "x_train, x_test, y_train, y_test = GetPickles.get_samples('normal')\n"
   ]
  },
  {
   "cell_type": "code",
   "execution_count": 4,
   "metadata": {},
   "outputs": [
    {
     "name": "stdout",
     "output_type": "stream",
     "text": [
      "(6512, 96, 96, 3) (724, 96, 96, 3)\n",
      "(6512, 3) (724, 3)\n"
     ]
    }
   ],
   "source": [
    "print(x_train.shape, x_test.shape)\n",
    "print(y_train.shape, y_test.shape)"
   ]
  },
  {
   "cell_type": "code",
   "execution_count": 5,
   "metadata": {},
   "outputs": [
    {
     "name": "stderr",
     "output_type": "stream",
     "text": [
      "INFO:plaidml:Opening device \"opencl_amd_ellesmere.0\"\n"
     ]
    },
    {
     "name": "stdout",
     "output_type": "stream",
     "text": [
      "Epoch 1/100\n",
      "204/204 [==============================] - 41s 203ms/step - loss: 5.3476 - acc: 0.6589 - val_loss: 2.6586 - val_acc: 0.7279\n",
      "\n",
      "Epoch 00001: val_loss improved from inf to 2.65858, saving model to ../models/CNN-ModelCheckpointWeights3.h5\n",
      "Epoch 2/100\n",
      "204/204 [==============================] - 19s 91ms/step - loss: 2.0231 - acc: 0.7244 - val_loss: 1.6171 - val_acc: 0.7528\n",
      "\n",
      "Epoch 00002: val_loss improved from 2.65858 to 1.61707, saving model to ../models/CNN-ModelCheckpointWeights3.h5\n",
      "Epoch 3/100\n",
      "204/204 [==============================] - 19s 91ms/step - loss: 1.4914 - acc: 0.7243 - val_loss: 1.5626 - val_acc: 0.6630\n",
      "\n",
      "Epoch 00003: val_loss improved from 1.61707 to 1.56257, saving model to ../models/CNN-ModelCheckpointWeights3.h5\n",
      "Epoch 4/100\n",
      "204/204 [==============================] - 19s 91ms/step - loss: 1.2648 - acc: 0.7420 - val_loss: 1.1300 - val_acc: 0.7583\n",
      "\n",
      "Epoch 00004: val_loss improved from 1.56257 to 1.13000, saving model to ../models/CNN-ModelCheckpointWeights3.h5\n",
      "Epoch 5/100\n",
      "204/204 [==============================] - 19s 91ms/step - loss: 1.1479 - acc: 0.7440 - val_loss: 1.0298 - val_acc: 0.7901\n",
      "\n",
      "Epoch 00005: val_loss improved from 1.13000 to 1.02976, saving model to ../models/CNN-ModelCheckpointWeights3.h5\n",
      "Epoch 6/100\n",
      "204/204 [==============================] - 19s 92ms/step - loss: 1.0690 - acc: 0.7584 - val_loss: 1.0548 - val_acc: 0.7749\n",
      "\n",
      "Epoch 00006: val_loss did not improve from 1.02976\n",
      "Epoch 7/100\n",
      "204/204 [==============================] - 19s 92ms/step - loss: 1.0323 - acc: 0.7509 - val_loss: 0.9464 - val_acc: 0.7859\n",
      "\n",
      "Epoch 00007: val_loss improved from 1.02976 to 0.94637, saving model to ../models/CNN-ModelCheckpointWeights3.h5\n",
      "Epoch 8/100\n",
      "204/204 [==============================] - 19s 92ms/step - loss: 0.9875 - acc: 0.7544 - val_loss: 0.9609 - val_acc: 0.7859\n",
      "\n",
      "Epoch 00008: val_loss did not improve from 0.94637\n",
      "Epoch 9/100\n",
      "204/204 [==============================] - 19s 92ms/step - loss: 0.9561 - acc: 0.7635 - val_loss: 0.9139 - val_acc: 0.7610\n",
      "\n",
      "Epoch 00009: val_loss improved from 0.94637 to 0.91393, saving model to ../models/CNN-ModelCheckpointWeights3.h5\n",
      "Epoch 10/100\n",
      "204/204 [==============================] - 19s 91ms/step - loss: 0.9315 - acc: 0.7603 - val_loss: 1.0129 - val_acc: 0.7445\n",
      "\n",
      "Epoch 00010: val_loss did not improve from 0.91393\n",
      "Epoch 11/100\n",
      "204/204 [==============================] - 18s 91ms/step - loss: 0.9128 - acc: 0.7572 - val_loss: 0.9395 - val_acc: 0.7666\n",
      "\n",
      "Epoch 00011: val_loss did not improve from 0.91393\n",
      "Epoch 12/100\n",
      "204/204 [==============================] - 19s 91ms/step - loss: 0.8946 - acc: 0.7627 - val_loss: 0.8279 - val_acc: 0.7914\n",
      "\n",
      "Epoch 00012: val_loss improved from 0.91393 to 0.82788, saving model to ../models/CNN-ModelCheckpointWeights3.h5\n",
      "Epoch 13/100\n",
      "204/204 [==============================] - 19s 91ms/step - loss: 0.8755 - acc: 0.7626 - val_loss: 0.7997 - val_acc: 0.7901\n",
      "\n",
      "Epoch 00013: val_loss improved from 0.82788 to 0.79973, saving model to ../models/CNN-ModelCheckpointWeights3.h5\n",
      "Epoch 14/100\n",
      "204/204 [==============================] - 19s 91ms/step - loss: 0.8665 - acc: 0.7613 - val_loss: 0.7980 - val_acc: 0.7970\n",
      "\n",
      "Epoch 00014: val_loss improved from 0.79973 to 0.79799, saving model to ../models/CNN-ModelCheckpointWeights3.h5\n",
      "Epoch 15/100\n",
      "204/204 [==============================] - 19s 91ms/step - loss: 0.8424 - acc: 0.7704 - val_loss: 0.7776 - val_acc: 0.7942\n",
      "\n",
      "Epoch 00015: val_loss improved from 0.79799 to 0.77761, saving model to ../models/CNN-ModelCheckpointWeights3.h5\n",
      "Epoch 16/100\n",
      "204/204 [==============================] - 19s 92ms/step - loss: 0.8391 - acc: 0.7676 - val_loss: 0.7712 - val_acc: 0.7901\n",
      "\n",
      "Epoch 00016: val_loss improved from 0.77761 to 0.77121, saving model to ../models/CNN-ModelCheckpointWeights3.h5\n",
      "Epoch 17/100\n",
      "204/204 [==============================] - 19s 91ms/step - loss: 0.8234 - acc: 0.7667 - val_loss: 0.7776 - val_acc: 0.7942\n",
      "\n",
      "Epoch 00017: val_loss did not improve from 0.77121\n",
      "Epoch 18/100\n",
      "204/204 [==============================] - 19s 91ms/step - loss: 0.8173 - acc: 0.7626 - val_loss: 0.7887 - val_acc: 0.8039\n",
      "\n",
      "Epoch 00018: val_loss did not improve from 0.77121\n",
      "Epoch 19/100\n",
      "204/204 [==============================] - 19s 91ms/step - loss: 0.8007 - acc: 0.7718 - val_loss: 0.7628 - val_acc: 0.7859\n",
      "\n",
      "Epoch 00019: val_loss improved from 0.77121 to 0.76276, saving model to ../models/CNN-ModelCheckpointWeights3.h5\n",
      "Epoch 20/100\n",
      "204/204 [==============================] - 19s 91ms/step - loss: 0.7953 - acc: 0.7704 - val_loss: 0.7659 - val_acc: 0.7804\n",
      "\n",
      "Epoch 00020: val_loss did not improve from 0.76276\n",
      "Epoch 21/100\n",
      "204/204 [==============================] - 19s 91ms/step - loss: 0.7799 - acc: 0.7730 - val_loss: 0.7849 - val_acc: 0.7569s - loss: 0.7786 - a\n",
      "\n",
      "Epoch 00021: val_loss did not improve from 0.76276\n",
      "Epoch 22/100\n",
      "204/204 [==============================] - 19s 91ms/step - loss: 0.7653 - acc: 0.7759 - val_loss: 0.7594 - val_acc: 0.8039\n",
      "\n",
      "Epoch 00022: val_loss improved from 0.76276 to 0.75945, saving model to ../models/CNN-ModelCheckpointWeights3.h5\n",
      "Epoch 23/100\n",
      "204/204 [==============================] - 19s 92ms/step - loss: 0.7568 - acc: 0.7802 - val_loss: 0.7272 - val_acc: 0.7928\n",
      "\n",
      "Epoch 00023: val_loss improved from 0.75945 to 0.72724, saving model to ../models/CNN-ModelCheckpointWeights3.h5\n",
      "Epoch 24/100\n",
      "204/204 [==============================] - 19s 93ms/step - loss: 0.7446 - acc: 0.7796 - val_loss: 0.6957 - val_acc: 0.8025\n",
      "\n",
      "Epoch 00024: val_loss improved from 0.72724 to 0.69573, saving model to ../models/CNN-ModelCheckpointWeights3.h5\n",
      "Epoch 25/100\n",
      "204/204 [==============================] - 19s 91ms/step - loss: 0.7357 - acc: 0.7757 - val_loss: 0.6855 - val_acc: 0.8039\n",
      "\n",
      "Epoch 00025: val_loss improved from 0.69573 to 0.68554, saving model to ../models/CNN-ModelCheckpointWeights3.h5\n",
      "Epoch 26/100\n",
      "204/204 [==============================] - 19s 91ms/step - loss: 0.7426 - acc: 0.7751 - val_loss: 0.7257 - val_acc: 0.7762\n",
      "\n",
      "Epoch 00026: val_loss did not improve from 0.68554\n",
      "Epoch 27/100\n",
      "204/204 [==============================] - 19s 92ms/step - loss: 0.7245 - acc: 0.7751 - val_loss: 0.6703 - val_acc: 0.8094\n",
      "\n",
      "Epoch 00027: val_loss improved from 0.68554 to 0.67026, saving model to ../models/CNN-ModelCheckpointWeights3.h5\n",
      "Epoch 28/100\n",
      "204/204 [==============================] - 19s 91ms/step - loss: 0.7220 - acc: 0.7785 - val_loss: 0.7656 - val_acc: 0.7610\n",
      "\n",
      "Epoch 00028: val_loss did not improve from 0.67026\n",
      "Epoch 29/100\n",
      "204/204 [==============================] - 19s 92ms/step - loss: 0.7058 - acc: 0.7820 - val_loss: 0.6428 - val_acc: 0.8218\n",
      "\n",
      "Epoch 00029: val_loss improved from 0.67026 to 0.64285, saving model to ../models/CNN-ModelCheckpointWeights3.h5\n",
      "Epoch 30/100\n",
      "204/204 [==============================] - 19s 92ms/step - loss: 0.7055 - acc: 0.7788 - val_loss: 0.6583 - val_acc: 0.8108\n",
      "\n",
      "Epoch 00030: val_loss did not improve from 0.64285\n",
      "Epoch 31/100\n",
      "204/204 [==============================] - 19s 92ms/step - loss: 0.7002 - acc: 0.7790 - val_loss: 0.6885 - val_acc: 0.8066\n",
      "\n",
      "Epoch 00031: val_loss did not improve from 0.64285\n",
      "Epoch 32/100\n",
      "204/204 [==============================] - 19s 91ms/step - loss: 0.6942 - acc: 0.7765 - val_loss: 0.6501 - val_acc: 0.7956\n",
      "\n",
      "Epoch 00032: val_loss did not improve from 0.64285\n",
      "Epoch 33/100\n",
      "204/204 [==============================] - 19s 92ms/step - loss: 0.6507 - acc: 0.7851 - val_loss: 0.6410 - val_acc: 0.8025\n",
      "\n",
      "Epoch 00033: val_loss improved from 0.64285 to 0.64098, saving model to ../models/CNN-ModelCheckpointWeights3.h5\n",
      "Epoch 34/100\n",
      "204/204 [==============================] - 19s 92ms/step - loss: 0.6482 - acc: 0.7869 - val_loss: 0.6183 - val_acc: 0.8122\n",
      "\n",
      "Epoch 00034: val_loss improved from 0.64098 to 0.61830, saving model to ../models/CNN-ModelCheckpointWeights3.h5\n",
      "Epoch 35/100\n",
      "204/204 [==============================] - 19s 92ms/step - loss: 0.6454 - acc: 0.7892 - val_loss: 0.6203 - val_acc: 0.8108\n",
      "\n",
      "Epoch 00035: val_loss did not improve from 0.61830\n",
      "Epoch 36/100\n",
      "204/204 [==============================] - 19s 92ms/step - loss: 0.6370 - acc: 0.7944 - val_loss: 0.6300 - val_acc: 0.8135\n",
      "\n",
      "Epoch 00036: val_loss did not improve from 0.61830\n",
      "Epoch 37/100\n"
     ]
    },
    {
     "name": "stdout",
     "output_type": "stream",
     "text": [
      "204/204 [==============================] - 19s 91ms/step - loss: 0.6358 - acc: 0.7888 - val_loss: 0.6154 - val_acc: 0.8191\n",
      "\n",
      "Epoch 00037: val_loss improved from 0.61830 to 0.61535, saving model to ../models/CNN-ModelCheckpointWeights3.h5\n",
      "Epoch 38/100\n",
      "204/204 [==============================] - 19s 91ms/step - loss: 0.6324 - acc: 0.7944 - val_loss: 0.6014 - val_acc: 0.8191\n",
      "\n",
      "Epoch 00038: val_loss improved from 0.61535 to 0.60141, saving model to ../models/CNN-ModelCheckpointWeights3.h5\n",
      "Epoch 39/100\n",
      "204/204 [==============================] - 19s 91ms/step - loss: 0.6357 - acc: 0.7875 - val_loss: 0.6058 - val_acc: 0.8204\n",
      "\n",
      "Epoch 00039: val_loss did not improve from 0.60141\n",
      "Epoch 40/100\n",
      "204/204 [==============================] - 19s 91ms/step - loss: 0.6353 - acc: 0.7872 - val_loss: 0.6219 - val_acc: 0.8066\n",
      "\n",
      "Epoch 00040: val_loss did not improve from 0.60141\n",
      "Epoch 41/100\n",
      "204/204 [==============================] - 19s 91ms/step - loss: 0.6325 - acc: 0.7947 - val_loss: 0.6105 - val_acc: 0.8052\n",
      "\n",
      "Epoch 00041: val_loss did not improve from 0.60141\n",
      "Epoch 42/100\n",
      "204/204 [==============================] - 19s 91ms/step - loss: 0.6263 - acc: 0.7888 - val_loss: 0.6155 - val_acc: 0.8066\n",
      "\n",
      "Epoch 00042: val_loss did not improve from 0.60141\n",
      "Epoch 43/100\n",
      "204/204 [==============================] - 19s 91ms/step - loss: 0.6313 - acc: 0.7904 - val_loss: 0.6092 - val_acc: 0.8135\n",
      "\n",
      "Epoch 00043: val_loss did not improve from 0.60141\n",
      "Epoch 44/100\n",
      "204/204 [==============================] - 19s 91ms/step - loss: 0.6284 - acc: 0.7904 - val_loss: 0.6106 - val_acc: 0.8122\n",
      "\n",
      "Epoch 00044: val_loss did not improve from 0.60141\n",
      "Epoch 45/100\n",
      "204/204 [==============================] - 19s 91ms/step - loss: 0.6288 - acc: 0.7921 - val_loss: 0.6108 - val_acc: 0.8122\n",
      "\n",
      "Epoch 00045: val_loss did not improve from 0.60141\n",
      "Epoch 46/100\n",
      "204/204 [==============================] - 19s 91ms/step - loss: 0.6305 - acc: 0.7898 - val_loss: 0.6118 - val_acc: 0.8108\n",
      "\n",
      "Epoch 00046: val_loss did not improve from 0.60141\n",
      "Epoch 47/100\n",
      "204/204 [==============================] - 19s 91ms/step - loss: 0.6235 - acc: 0.7926 - val_loss: 0.6113 - val_acc: 0.8122\n",
      "\n",
      "Epoch 00047: val_loss did not improve from 0.60141\n",
      "Epoch 48/100\n",
      "204/204 [==============================] - 19s 91ms/step - loss: 0.6268 - acc: 0.7901 - val_loss: 0.6113 - val_acc: 0.8122\n",
      "\n",
      "Epoch 00048: val_loss did not improve from 0.60141\n",
      "Epoch 49/100\n",
      "204/204 [==============================] - 19s 91ms/step - loss: 0.6262 - acc: 0.7900 - val_loss: 0.6113 - val_acc: 0.8122\n",
      "\n",
      "Epoch 00049: val_loss did not improve from 0.60141\n",
      "Epoch 50/100\n",
      "204/204 [==============================] - 19s 91ms/step - loss: 0.6243 - acc: 0.7892 - val_loss: 0.6113 - val_acc: 0.8122\n",
      "\n",
      "Epoch 00050: val_loss did not improve from 0.60141\n",
      "Epoch 51/100\n",
      "204/204 [==============================] - 19s 91ms/step - loss: 0.6254 - acc: 0.7907 - val_loss: 0.6113 - val_acc: 0.8122\n",
      "\n",
      "Epoch 00051: val_loss did not improve from 0.60141\n",
      "Epoch 52/100\n",
      "204/204 [==============================] - 19s 91ms/step - loss: 0.6297 - acc: 0.7886 - val_loss: 0.6113 - val_acc: 0.8122\n",
      "\n",
      "Epoch 00052: val_loss did not improve from 0.60141\n",
      "Epoch 00052: early stopping\n"
     ]
    }
   ],
   "source": [
    "from keras.callbacks import ModelCheckpoint, EarlyStopping, ReduceLROnPlateau\n",
    "from keras.preprocessing.image import ImageDataGenerator\n",
    "\n",
    "\n",
    "augment = True \n",
    "early_stopping = EarlyStopping(monitor='val_loss', verbose = 1, patience=14)\n",
    "model_checkpoint = ModelCheckpoint('../models/CNN-ModelCheckpointWeights3.h5', verbose = 1, save_best_only=True,\n",
    "                                  monitor = 'val_loss')\n",
    "lr_plat = ReduceLROnPlateau(patience = 3, mode = 'min')\n",
    "epochs = 100\n",
    "batch_size = 32\n",
    "if var.img_type == 'grey': \n",
    "    dim = (x_train.shape[1], x_train.shape[2], 1)\n",
    "else: \n",
    "    dim = (x_train.shape[1], x_train.shape[2], 3)\n",
    "    \n",
    "normal_model = get_conv_model_normal(dim =dim)\n",
    "\n",
    "if augment: \n",
    "    augmentation =ImageDataGenerator(rotation_range = 20, width_shift_range = .2, height_shift_range = .2, \n",
    "                                                           horizontal_flip = True, shear_range = .15, \n",
    "                                     fill_mode = 'nearest', zoom_range = .15)\n",
    "    augmentation.fit(x_train)\n",
    "    normal_history = normal_model.fit_generator(augmentation.flow(x_train, y_train, batch_size = batch_size),\n",
    "                epochs = epochs, \n",
    "         callbacks = [early_stopping, model_checkpoint, lr_plat], validation_data = (x_test, y_test), verbose= 1)\n",
    "else: \n",
    "    \n",
    "    normal_history = normal_model.fit(x_train, y_train, batch_size = batch_size,\n",
    "                epochs = epochs, \n",
    "         callbacks = [early_stopping, model_checkpoint, lr_plat], validation_data = (x_test, y_test), verbose= 1)\n"
   ]
  },
  {
   "cell_type": "code",
   "execution_count": 6,
   "metadata": {
    "scrolled": true
   },
   "outputs": [
    {
     "name": "stdout",
     "output_type": "stream",
     "text": [
      "_________________________________________________________________\n",
      "Layer (type)                 Output Shape              Param #   \n",
      "=================================================================\n",
      "Input_Layer (Conv2D)         (None, 96, 96, 64)        1792      \n",
      "_________________________________________________________________\n",
      "max_pooling2d_1 (MaxPooling2 (None, 48, 48, 64)        0         \n",
      "_________________________________________________________________\n",
      "conv2d_1 (Conv2D)            (None, 48, 48, 64)        36928     \n",
      "_________________________________________________________________\n",
      "max_pooling2d_2 (MaxPooling2 (None, 24, 24, 64)        0         \n",
      "_________________________________________________________________\n",
      "conv2d_2 (Conv2D)            (None, 24, 24, 128)       73856     \n",
      "_________________________________________________________________\n",
      "conv2d_3 (Conv2D)            (None, 24, 24, 128)       147584    \n",
      "_________________________________________________________________\n",
      "max_pooling2d_3 (MaxPooling2 (None, 12, 12, 128)       0         \n",
      "_________________________________________________________________\n",
      "flatten_1 (Flatten)          (None, 18432)             0         \n",
      "_________________________________________________________________\n",
      "dropout_1 (Dropout)          (None, 18432)             0         \n",
      "_________________________________________________________________\n",
      "Output_Layer (Dense)         (None, 3)                 55299     \n",
      "=================================================================\n",
      "Total params: 315,459\n",
      "Trainable params: 315,459\n",
      "Non-trainable params: 0\n",
      "_________________________________________________________________\n",
      "None\n"
     ]
    }
   ],
   "source": [
    "print(normal_model.summary())"
   ]
  },
  {
   "cell_type": "markdown",
   "metadata": {},
   "source": [
    "### Loss & Accuracy"
   ]
  },
  {
   "cell_type": "code",
   "execution_count": 7,
   "metadata": {},
   "outputs": [
    {
     "data": {
      "image/png": "[encoded data removed]",
      "text/plain": [
       "<Figure size 1080x360 with 2 Axes>"
      ]
     },
     "metadata": {
      "needs_background": "light"
     },
     "output_type": "display_data"
    }
   ],
   "source": [
    "Viz.plot_loss_accuracy(normal_history)"
   ]
  },
  {
   "cell_type": "markdown",
   "metadata": {},
   "source": [
    "### AUC and ROC Curves"
   ]
  },
  {
   "cell_type": "code",
   "execution_count": 5,
   "metadata": {},
   "outputs": [
    {
     "name": "stderr",
     "output_type": "stream",
     "text": [
      "INFO:plaidml:Opening device \"opencl_amd_ellesmere.0\"\n"
     ]
    },
    {
     "data": {
      "image/png": "[encoded data removed]",
      "text/plain": [
       "<Figure size 936x576 with 1 Axes>"
      ]
     },
     "metadata": {
      "needs_background": "light"
     },
     "output_type": "display_data"
    },
    {
     "name": "stdout",
     "output_type": "stream",
     "text": [
      "F1 Scores Test\n",
      "~~~~~~~~~~~~~~~~~~~~~~\n",
      "No Weapon: 0.9185441941074522\n",
      "HandGun: 0.7868852459016394\n",
      "Rifle: 0.6360153256704981\n"
     ]
    }
   ],
   "source": [
    "if var.img_type == 'grey': \n",
    "    dim = (var.norm_dimension[0], var.norm_dimension[1], 1)\n",
    "else: \n",
    "    dim = (var.norm_dimension[0], var.norm_dimension[1], 3)\n",
    "    \n",
    "normal_model = get_conv_model_normal(dim)\n",
    "normal_model.load_weights('../models/CNN-ModelCheckpointWeights2.h5') #load the best weights before overfitting\n",
    " \n",
    "\n",
    "\n",
    "    \n",
    "Viz.plot_roc_auc(normal_model, x_test, y_test)"
   ]
  },
  {
   "cell_type": "markdown",
   "metadata": {},
   "source": [
    "### Confusion Matrix"
   ]
  },
  {
   "cell_type": "code",
   "execution_count": 9,
   "metadata": {},
   "outputs": [
    {
     "data": {
      "image/png": "[encoded data removed]",
      "text/plain": [
       "<Figure size 720x576 with 2 Axes>"
      ]
     },
     "metadata": {
      "needs_background": "light"
     },
     "output_type": "display_data"
    }
   ],
   "source": [
    "if var.img_type == 'grey': \n",
    "    dim = (var.norm_dimension[0], var.norm_dimension[1], 1)\n",
    "else: \n",
    "    dim = (var.norm_dimension[0], var.norm_dimension[1], 3)\n",
    "        \n",
    "normal_model = get_conv_model_normal(dim)\n",
    "normal_model.load_weights('../models/CNN-ModelCheckpointWeights2.h5') #load the best weights before overfitting\n",
    "\n",
    "\n",
    "\n",
    "\n",
    "\n",
    "y_test_prob = [np.argmax(i) for i in normal_model.predict(x_test)]\n",
    "y_test_labels = [np.argmax(\n",
    "    i) for i in y_test]\n",
    "test_cnf = confusion_matrix(y_test_labels, y_test_prob)\n",
    "\n",
    "y_train_prob = [np.argmax(i) for i in normal_model.predict(x_train)]\n",
    "y_train_labels = [np.argmax(i) for i in y_train]\n",
    "train_cnf = confusion_matrix(y_train_labels, y_train_prob)\n",
    "\n",
    "Viz.plot_model_cm(test_cnf, train_cnf, classes = ['No Weapon', 'Handgun', 'Rifle'])\n"
   ]
  },
  {
   "cell_type": "code",
   "execution_count": null,
   "metadata": {},
   "outputs": [],
   "source": [
    "assert False"
   ]
  },
  {
   "cell_type": "markdown",
   "metadata": {},
   "source": [
    "#### Test on Google Data\n"
   ]
  },
  {
   "cell_type": "code",
   "execution_count": 10,
   "metadata": {},
   "outputs": [],
   "source": [
    "import cv2\n",
    "from lime import lime_image\n",
    "from skimage.segmentation import mark_boundaries\n",
    "\n"
   ]
  },
  {
   "cell_type": "code",
   "execution_count": 11,
   "metadata": {},
   "outputs": [
    {
     "name": "stdout",
     "output_type": "stream",
     "text": [
      "AR.jpg\t\t0\t\t0.9849305152893066\t\t[0.9849305  0.00909123 0.00597824]\n",
      "NonGun.jpeg\t\t0\t\t0.8449652194976807\t\t[0.8449652  0.09366439 0.06137041]\n",
      "Pistol.jpg\t\t0\t\t0.5849882960319519\t\t[0.5849883  0.18931518 0.22569647]\n",
      "Pistol2.jpg\t\t0\t\t0.9999939203262329\t\t[9.999939e-01 3.747293e-07 5.689508e-06]\n"
     ]
    }
   ],
   "source": [
    "base_path = '../TestImages'\n",
    "normal_model = get_conv_model_normal(dim)\n",
    "normal_model.load_weights('../models/CNN-ModelCheckpointWeights.h5')\n",
    "\n",
    "for file in os.listdir(base_path): \n",
    "    if file == '.ipynb_checkpoints':\n",
    "        continue\n",
    "    full_path = f'{base_path}/{file}'\n",
    "    img = func.get_image_value(full_path, var.norm_dimension, var.img_type)\n",
    "    img = img.reshape(1, img.shape[0], img.shape[1], img.shape[2])\n",
    "    pred = normal_model.predict(img)[0]\n",
    "    print(f'{file}\\t\\t{np.argmax(pred)}\\t\\t{pred.max()}\\t\\t{pred}')"
   ]
  },
  {
   "cell_type": "code",
   "execution_count": 9,
   "metadata": {},
   "outputs": [
    {
     "name": "stdout",
     "output_type": "stream",
     "text": [
      "AR.jpg\t\t2\t\t0.8100496530532837\t\t[0.00751655 0.18243375 0.81004965]\n",
      "NonGun.jpeg\t\t2\t\t0.8993415236473083\t\t[0.00231877 0.09833971 0.8993415 ]\n",
      "Pistol.jpg\t\t1\t\t0.8810046315193176\t\t[0.00089267 0.88100463 0.11810275]\n",
      "Pistol2.jpg\t\t2\t\t0.9681897759437561\t\t[5.2023225e-04 3.1290054e-02 9.6818978e-01]\n"
     ]
    }
   ],
   "source": [
    "base_path = '../TestImages'\n",
    "\n",
    "normal_model = get_conv_model_normal(dim)\n",
    "normal_model.load_weights('../models/CNN-ModelCheckpointWeights2.h5')\n",
    "for file in os.listdir(base_path): \n",
    "    if file == '.ipynb_checkpoints':\n",
    "        continue\n",
    "    full_path = f'{base_path}/{file}'\n",
    "    img = func.get_image_value(full_path, var.norm_dimension, var.img_type)\n",
    "    img = img.reshape(1, img.shape[0], img.shape[1], img.shape[2])\n",
    "    pred = normal_model.predict(img)[0]\n",
    "    print(f'{file}\\t\\t{np.argmax(pred)}\\t\\t{pred.max()}\\t\\t{pred}')"
   ]
  },
  {
   "cell_type": "code",
   "execution_count": 11,
   "metadata": {},
   "outputs": [
    {
     "name": "stdout",
     "output_type": "stream",
     "text": [
      "AR.jpg\t\t2\t\t0.7108393311500549\t\t[0.01319381 0.27596688 0.71083933]\n",
      "NonGun.jpeg\t\t2\t\t0.8453883528709412\t\t[0.01015689 0.14445473 0.84538835]\n",
      "Pistol.jpg\t\t1\t\t0.6076632738113403\t\t[0.00559139 0.6076633  0.38674533]\n",
      "Pistol2.jpg\t\t2\t\t0.9907850027084351\t\t[5.387185e-05 9.161202e-03 9.907850e-01]\n"
     ]
    }
   ],
   "source": [
    "base_path = '../TestImages'\n",
    "normal_model = get_conv_model_normal(dim)\n",
    "normal_model.load_weights('../models/CNN-ModelCheckpointWeights3.h5')\n",
    "\n",
    "for file in os.listdir(base_path): \n",
    "    if file == '.ipynb_checkpoints':\n",
    "        continue\n",
    "    full_path = f'{base_path}/{file}'\n",
    "    img = func.get_image_value(full_path, var.norm_dimension, var.img_type)\n",
    "    img = img.reshape(1, img.shape[0], img.shape[1], img.shape[2])\n",
    "    pred = normal_model.predict(img)[0]\n",
    "    print(f'{file}\\t\\t{np.argmax(pred)}\\t\\t{pred.max()}\\t\\t{pred}')"
   ]
  },
  {
   "cell_type": "code",
   "execution_count": 12,
   "metadata": {},
   "outputs": [
    {
     "data": {
      "application/vnd.jupyter.widget-view+json": {
       "model_id": "0b4fbd23a45b40699f194b918238d5d9",
       "version_major": 2,
       "version_minor": 0
      },
      "text/plain": [
       "HBox(children=(IntProgress(value=0, max=1000), HTML(value='')))"
      ]
     },
     "metadata": {},
     "output_type": "display_data"
    },
    {
     "name": "stdout",
     "output_type": "stream",
     "text": [
      "\n"
     ]
    },
    {
     "data": {
      "text/plain": [
       "<matplotlib.image.AxesImage at 0x2872993b9c8>"
      ]
     },
     "execution_count": 12,
     "metadata": {},
     "output_type": "execute_result"
    },
    {
     "data": {
      "image/png": "[encoded data removed]",
      "text/plain": [
       "<Figure size 432x288 with 1 Axes>"
      ]
     },
     "metadata": {
      "needs_background": "light"
     },
     "output_type": "display_data"
    }
   ],
   "source": [
    "#model 3\n",
    "if var.img_type == 'grey': \n",
    "    dim = (var.norm_dimension[0], var.norm_dimension[1], 1)\n",
    "else: \n",
    "    dim = (var.norm_dimension[0], var.norm_dimension[1], 3)\n",
    "        \n",
    "\n",
    "img = func.get_image_value('../TestImages/AR.jpg', var.norm_dimension, var.img_type)\n",
    "\n",
    "explainer = lime_image.LimeImageExplainer()\n",
    "\n",
    "explanation = explainer.explain_instance(img, normal_model.predict, top_labels = 5, hide_color = 0, \n",
    "                                         num_samples = 1000)\n",
    "\n",
    "temp, mask = explanation.get_image_and_mask(explanation.top_labels[0], positive_only = False,\n",
    "                                           num_features = 10, hide_rest = False)\n",
    "plt.imshow(mark_boundaries(temp/2 + .5, mask))"
   ]
  },
  {
   "cell_type": "code",
   "execution_count": null,
   "metadata": {},
   "outputs": [],
   "source": []
  },
  {
   "cell_type": "code",
   "execution_count": null,
   "metadata": {},
   "outputs": [],
   "source": [
    "assert False"
   ]
  },
  {
   "cell_type": "code",
   "execution_count": 66,
   "metadata": {},
   "outputs": [],
   "source": [
    "if var.img_type == 'grey': \n",
    "    dim = (var.norm_dimension[0], var.norm_dimension[1], 1)\n",
    "else: \n",
    "    dim = (var.norm_dimension[0], var.norm_dimension[1], 3)\n",
    "        \n",
    "normal_model = get_conv_model_normal(dim)\n",
    "normal_model.load_weights('../models/CNN-ModelCheckpointWeights2.h5')\n",
    "\n",
    "img = cv2.imread('../TestImages/AR.jpg')\n",
    "ss = cv2.ximgproc.segmentation.createSelectiveSearchSegmentation()\n",
    "ss.setBaseImage(img)\n",
    "ss.switchToSelectiveSearchFast()\n",
    "rects = ss.process() \n",
    "\n",
    "windows = []\n",
    "locations = []\n",
    "for x, y, w,h in rects: \n",
    "    startx = x \n",
    "    starty = y \n",
    "    endx = x+w \n",
    "    endy = y+h \n",
    "    roi = img[starty:endy, startx:endx]\n",
    "    roi = cv2.resize(roi, dsize =var.norm_dimension, interpolation = cv2.INTER_CUBIC)\n",
    "    windows.append(roi)\n",
    "    locations.append((startx, starty, endx, endy))\n",
    "    \n"
   ]
  },
  {
   "cell_type": "code",
   "execution_count": 67,
   "metadata": {},
   "outputs": [],
   "source": [
    "windows = np.array(windows[:2000])\n",
    "\n",
    "predictions = normal_model.predict(windows)"
   ]
  },
  {
   "cell_type": "code",
   "execution_count": 68,
   "metadata": {},
   "outputs": [],
   "source": [
    "# for i in predictions:\n",
    "#     print(i)"
   ]
  },
  {
   "cell_type": "code",
   "execution_count": 70,
   "metadata": {},
   "outputs": [
    {
     "name": "stdout",
     "output_type": "stream",
     "text": [
      "2\n",
      "267.50977 58.117844 296.3724\n"
     ]
    },
    {
     "data": {
      "text/plain": [
       "-1"
      ]
     },
     "execution_count": 70,
     "metadata": {},
     "output_type": "execute_result"
    }
   ],
   "source": [
    "clone = img.copy()\n",
    "new_loc = [] \n",
    "new_prob = [] \n",
    "no_gun = predictions[:, 0].sum()\n",
    "handgun = predictions[:,1].sum()\n",
    "rifle = predictions[:,2].sum()\n",
    "sum_array = np.array([no_gun, handgun, rifle])\n",
    "index_unit = np.argmax(sum_array)\n",
    "cat_types = ['No Gun', 'Handgun', 'Rifle']\n",
    "print(index_unit)\n",
    "print(no_gun, handgun, rifle)\n",
    "new_locations = []\n",
    "for idx, i in enumerate(predictions):\n",
    "    category = i[index_unit]\n",
    "    if category > .5:\n",
    "        startx, starty, endx, endy = locations[idx]\n",
    "        new_locations.append([startx, starty, endx, endy])\n",
    "        new_loc.append(locations[idx])\n",
    "        new_prob.append(category)\n",
    "\n",
    "new_locations = np.array(new_locations)\n",
    "\n",
    "startx = int(new_locations[:,0].mean())\n",
    "starty =int( new_locations[:,1].mean())\n",
    "endx = int(new_locations[:,2].mean())\n",
    "endy = int(new_locations[:,3].mean())\n",
    "\n",
    "\n",
    "# startx = int(np.median (new_locations[:,0]))\n",
    "# starty =int( np.median (new_locations[:,1]))\n",
    "# endx = int(np.median (new_locations[:,2]))\n",
    "# endy = int(np.median(new_locations[:,3]))\n",
    "\n",
    "prob_avg = np.array(new_prob).mean()\n",
    "\n",
    "\n",
    "cv2.rectangle(clone, (startx, starty), (endx, endy),  (0,255,0),2)\n",
    "\n",
    "text = f'{cat_types[index_unit]}: {int(prob_avg*100)}'\n",
    "cv2.putText(clone, text, (startx, starty), cv2.FONT_HERSHEY_SIMPLEX, .45, (0,255,0),2)\n",
    "   \n",
    "    \n",
    "cv2.imshow('test', clone)\n",
    "cv2.waitKey(0)"
   ]
  },
  {
   "cell_type": "code",
   "execution_count": null,
   "metadata": {},
   "outputs": [],
   "source": [
    "assert False"
   ]
  },
  {
   "cell_type": "code",
   "execution_count": null,
   "metadata": {},
   "outputs": [],
   "source": [
    "clone = img.copy()\n",
    "  \n",
    "startx, starty, endx, endy = new_loc[boxid]\n",
    "cv2.rectangle(clone, (startx, starty), (endx, endy),  (0,255,0),2)\n",
    "text = f'Weapon: {i*100}'\n",
    "cv2.putText(clone, text, (startx, y), cv2.FONT_HERSHEY_SIMPLEX, .45, (0,255,0),2)\n",
    "cv2.imshow('test', clone)\n",
    "cv2.waitKey(0)"
   ]
  },
  {
   "cell_type": "code",
   "execution_count": null,
   "metadata": {},
   "outputs": [],
   "source": []
  },
  {
   "cell_type": "code",
   "execution_count": null,
   "metadata": {},
   "outputs": [],
   "source": []
  },
  {
   "cell_type": "code",
   "execution_count": null,
   "metadata": {},
   "outputs": [],
   "source": []
  },
  {
   "cell_type": "code",
   "execution_count": null,
   "metadata": {},
   "outputs": [],
   "source": [
    "clone = img.copy()\n",
    "roi = clone[starty:endy, startx:endx]\n",
    "roi = cv2.resize(roi, dsize =var.dimension, interpolation = cv2.INTER_CUBIC)\n",
    "# cv2.imshow('test', roi)\n",
    "# cv2.waitKey(0)\n",
    "explainer = lime_image.LimeImageExplainer()\n",
    "\n",
    "explanation = explainer.explain_instance(roi, normal_model.predict, top_labels = 5, hide_color = 0, \n",
    "                                         num_samples = 1000)\n",
    "\n",
    "\n",
    "temp, mask = explanation.get_image_and_mask(explanation.top_labels[0], positive_only = False,\n",
    "                                           num_features = 10, hide_rest = False)\n",
    "plt.imshow(mark_boundaries(temp/2 + .5, mask))"
   ]
  },
  {
   "cell_type": "code",
   "execution_count": null,
   "metadata": {},
   "outputs": [],
   "source": []
  }
 ],
 "metadata": {
  "kernelspec": {
   "display_name": "Python 3",
   "language": "python",
   "name": "python3"
  },
  "language_info": {
   "codemirror_mode": {
    "name": "ipython",
    "version": 3
   },
   "file_extension": ".py",
   "mimetype": "text/x-python",
   "name": "python",
   "nbconvert_exporter": "python",
   "pygments_lexer": "ipython3",
   "version": "3.7.4"
  }
 },
 "nbformat": 4,
 "nbformat_minor": 4
}
