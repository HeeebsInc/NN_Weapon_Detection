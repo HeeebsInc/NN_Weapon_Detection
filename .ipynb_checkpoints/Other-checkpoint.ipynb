{
 "cells": [
  {
   "cell_type": "code",
   "execution_count": null,
   "metadata": {},
   "outputs": [],
   "source": [
    "def get_image_value(path, dim, edge = False, img_type = 'normal'): \n",
    "    if edge: \n",
    "        img = cv2.imread(path)\n",
    "        clone = img.copy() \n",
    "        clone = cv2.resize(clone, dim, interpolation = cv2.INTER_CUBIC)\n",
    "        clone = cv2.cvtColor(clone, cv2.COLOR_BGR2GRAY)\n",
    "\n",
    "        blurred = cv2.GaussianBlur(img, (3,3), 0)\n",
    "        wide = cv2.Canny(blurred, 10,200)\n",
    "        tight = cv2.Canny(blurred, 225, 250)\n",
    "        auto = auto_canny(blurred)\n",
    "        wide = cv2.resize(wide, dim, interpolation = cv2.INTER_CUBIC)\n",
    "        tight = cv2.resize(tight, dim, interpolation = cv2.INTER_CUBIC)\n",
    "        auto = cv2.resize(auto, dim, interpolation = cv2.INTER_CUBIC)\n",
    "        print(clone.shape, wide.shape)\n",
    "        return np.hstack([clone, tight, wide, auto])\n",
    "    else: \n",
    "        img = image.load_img(path, target_size = dim)\n",
    "        img = image.img_to_array(img)\n",
    "        \n",
    "        if img_type =='grey':\n",
    "            img = cv2.cvtColor(img, cv2.COLOR_BGR2GRAY)\n",
    "            img = img.reshape(img.shape[0], img.shape[1], 1)\n",
    "            return img\n",
    "        else: \n",
    "            return img/255\n",
    "\n",
    "test = get_image_value('../Tests/Photos/Pistol4.jpg', var.norm_dimension, img_type = 'mobilenet', edge = True)\n",
    "cv2.imshow('test', test)\n",
    "cv2.waitKey(0)\n",
    "cv2.destroyAllWindows()"
   ]
  },
  {
   "cell_type": "code",
   "execution_count": null,
   "metadata": {},
   "outputs": [],
   "source": [
    "\n",
    "##SLIDING WINDOW VIZ \n",
    "import time\n",
    "def sliding_window(image, step_size, windowsize): \n",
    "    for y in range(0, image.shape[0], step_size):\n",
    "        for x in range(0, image.shape[1], step_size):\n",
    "#             cv2.rectangle(image, (x, y), (x + windowsize[0], y + windowsize[1]), (255,0,0), 2)\n",
    "#     cv2.imshow('test', image)\n",
    "#     cv2.waitKey(0)\n",
    "    \n",
    "            yield (x,y,image[y:y + windowsize[1], x:x + windowsize[0]])\n",
    "\n",
    "    \n",
    "    \n",
    "    \n",
    "df = pd.read_csv('../Separated/PATHS.csv')\n",
    "img = cv2.imread('Pistol_1097_18.jpg')\n",
    "df = df[df.filename == 'Pistol_1097_18.jpg']\n",
    "origstartx = df.xmin.values[0]\n",
    "origstarty = df.ymin.values[0] \n",
    "origendx = df.xmax.values[0] \n",
    "origendy  = df.ymax.values[0]\n",
    "\n",
    "cv2.rectangle(img, (origstartx, origstarty), (origendx, origendy), (0,0,255), 2) \n",
    "# sliding_window(img, step_size = 30, windowsize = (30,30))\n",
    "\n",
    "# windowsize = (80,80)\n",
    "# for x, y, window in sliding_window(img, step_size = 30, windowsize = windowsize): \n",
    "#     clone = img.copy()\n",
    "#     cv2.rectangle(clone, (x,y), (x+ windowsize[0], y + windowsize[1]), (255, 0, 0), 2)\n",
    "#     cv2.imshow('Window', clone)\n",
    "#     cv2.waitKey(0)\n",
    "#     time.sleep(.025)\n",
    "# cv2.destroyAllWindows()   \n"
   ]
  }
 ],
 "metadata": {
  "kernelspec": {
   "display_name": "Python 3",
   "language": "python",
   "name": "python3"
  },
  "language_info": {
   "codemirror_mode": {
    "name": "ipython",
    "version": 3
   },
   "file_extension": ".py",
   "mimetype": "text/x-python",
   "name": "python",
   "nbconvert_exporter": "python",
   "pygments_lexer": "ipython3",
   "version": "3.7.4"
  }
 },
 "nbformat": 4,
 "nbformat_minor": 2
}
