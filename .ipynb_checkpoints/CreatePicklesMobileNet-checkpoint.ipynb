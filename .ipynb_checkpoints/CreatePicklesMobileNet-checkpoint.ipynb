{
 "cells": [
  {
   "cell_type": "code",
   "execution_count": 1,
   "metadata": {},
   "outputs": [
    {
     "name": "stderr",
     "output_type": "stream",
     "text": [
      "Using plaidml.keras.backend backend.\n"
     ]
    }
   ],
   "source": [
    "import pickle \n",
    "import pandas as pd \n",
    "import os\n",
    "import numpy as np \n",
    "import cv2\n",
    "from keras.preprocessing import image \n",
    "from sklearn.model_selection import train_test_split\n",
    "import matplotlib.pyplot as plt\n",
    "from tqdm import tqdm\n",
    "import Functions as func\n",
    "import var as var"
   ]
  },
  {
   "cell_type": "code",
   "execution_count": null,
   "metadata": {},
   "outputs": [],
   "source": []
  },
  {
   "cell_type": "code",
   "execution_count": 2,
   "metadata": {},
   "outputs": [],
   "source": [
    "#negatives \n",
    "df = pd.DataFrame(columns = ['path', 'label'])\n",
    "negative = [f'../FinalImages/Negative/{i}' for i in os.listdir('../FinalImages/Negative')]\n",
    "neg_labels = [0 for i in range(len(negative))]\n",
    "positive = [f'../FinalImages/Positive/{i}' for i in os.listdir('../FinalImages/Positive')]\n",
    "pos_labels = [1 for i in range(len(positive))]\n",
    "concat_path = negative[:len(positive)+ len(positive)] + positive\n",
    "concat_labels = neg_labels[:len(positive)+ len(positive)] + pos_labels\n",
    "\n",
    "\n",
    "df.path = concat_path \n",
    "df.label = concat_labels \n",
    "\n",
    "X = df\n",
    "y = df[['label']]"
   ]
  },
  {
   "cell_type": "code",
   "execution_count": 3,
   "metadata": {},
   "outputs": [
    {
     "name": "stdout",
     "output_type": "stream",
     "text": [
      "0    144\n",
      "1     72\n",
      "Name: label, dtype: int64\n"
     ]
    }
   ],
   "source": [
    "df.head(2)\n",
    "print(df.label.value_counts())"
   ]
  },
  {
   "cell_type": "code",
   "execution_count": 4,
   "metadata": {},
   "outputs": [
    {
     "name": "stderr",
     "output_type": "stream",
     "text": [
      "C:\\Users\\Heeeb\\Anaconda3\\lib\\site-packages\\pandas\\core\\frame.py:3940: SettingWithCopyWarning: \n",
      "A value is trying to be set on a copy of a slice from a DataFrame\n",
      "\n",
      "See the caveats in the documentation: http://pandas.pydata.org/pandas-docs/stable/indexing.html#indexing-view-versus-copy\n",
      "  errors=errors)\n"
     ]
    }
   ],
   "source": [
    "x_train, x_test, y_train, y_test = train_test_split(X, y, stratify = X.label, train_size = .7, random_state = 10)\n",
    "\n",
    "x_train.drop('label', axis = 1, inplace = True)\n",
    "x_test.drop('label', axis = 1, inplace = True)"
   ]
  },
  {
   "cell_type": "code",
   "execution_count": 5,
   "metadata": {},
   "outputs": [
    {
     "name": "stderr",
     "output_type": "stream",
     "text": [
      "100%|██████████████████████████████████████████████████████████████████████████████████████████████████████████████████████████████████████████████████| 151/151 [00:00<00:00, 647.92it/s]\n",
      "100%|████████████████████████████████████████████████████████████████████████████████████████████████████████████████████████████████████████████████████| 65/65 [00:00<00:00, 714.13it/s]\n"
     ]
    }
   ],
   "source": [
    "def get_img_array(img_paths, dim, img_type): \n",
    "    final_array = []\n",
    "    for path in tqdm(img_paths): \n",
    "        img = func.get_image_value(path, dim, img_type)\n",
    "        final_array.append(img)\n",
    "    if img_type == 'grey':\n",
    "        final_array = np.array(final_array)\n",
    "        return final_array.reshape(final_array.shape[0], var.dimension[0],var.dimension[0],1)\n",
    "    else: \n",
    "        return np.array(final_array)\n",
    "\n",
    "new_x_train = get_img_array(x_train.path.values, var.mobilenet_dimension, img_type = var.img_type)\n",
    "new_x_test = get_img_array(x_test.path.values, var.mobilenet_dimension, img_type = var.img_type)"
   ]
  },
  {
   "cell_type": "code",
   "execution_count": 6,
   "metadata": {},
   "outputs": [
    {
     "data": {
      "text/plain": [
       "(151, 224, 224, 3)"
      ]
     },
     "execution_count": 6,
     "metadata": {},
     "output_type": "execute_result"
    }
   ],
   "source": [
    "new_x_train.shape"
   ]
  },
  {
   "cell_type": "code",
   "execution_count": 7,
   "metadata": {},
   "outputs": [],
   "source": [
    "#save pickles\n",
    "\n",
    "pickle.dump(new_x_train, open('../Pickles/mobile_net_x_train.p', 'wb'))\n",
    "pickle.dump(y_train, open('../Pickles/mobile_net_y_train.p', 'wb'))\n",
    "pickle.dump(new_x_test, open('../Pickles/mobile_net_x_test.p', 'wb'))\n",
    "pickle.dump(y_test, open('../Pickles/mobile_net_y_test.p', 'wb'))"
   ]
  },
  {
   "cell_type": "code",
   "execution_count": 8,
   "metadata": {
    "scrolled": true
   },
   "outputs": [],
   "source": [
    "y_train.values\n",
    "cv2.imshow('test', new_x_train[2])\n",
    "cv2.waitKey(0)\n",
    "cv2.destroyAllWindows()"
   ]
  },
  {
   "cell_type": "code",
   "execution_count": null,
   "metadata": {},
   "outputs": [],
   "source": []
  },
  {
   "cell_type": "code",
   "execution_count": null,
   "metadata": {},
   "outputs": [],
   "source": []
  },
  {
   "cell_type": "code",
   "execution_count": null,
   "metadata": {},
   "outputs": [],
   "source": []
  }
 ],
 "metadata": {
  "kernelspec": {
   "display_name": "Python 3",
   "language": "python",
   "name": "python3"
  },
  "language_info": {
   "codemirror_mode": {
    "name": "ipython",
    "version": 3
   },
   "file_extension": ".py",
   "mimetype": "text/x-python",
   "name": "python",
   "nbconvert_exporter": "python",
   "pygments_lexer": "ipython3",
   "version": "3.7.4"
  }
 },
 "nbformat": 4,
 "nbformat_minor": 4
}
