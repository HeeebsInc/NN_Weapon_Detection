{
 "cells": [
  {
   "cell_type": "code",
   "execution_count": null,
   "metadata": {},
   "outputs": [],
   "source": [
    "from GetPickles import *"
   ]
  },
  {
   "cell_type": "code",
   "execution_count": null,
   "metadata": {},
   "outputs": [],
   "source": [
    "assert False"
   ]
  },
  {
   "cell_type": "code",
   "execution_count": 16,
   "metadata": {},
   "outputs": [],
   "source": [
    "#normal \n",
    "\n",
    "\n",
    "\n",
    "\n",
    "import pickle \n",
    "import pandas as pd \n",
    "import os\n",
    "import numpy as np \n",
    "import cv2\n",
    "from keras.preprocessing import image \n",
    "from sklearn.model_selection import train_test_split\n",
    "import matplotlib.pyplot as plt\n",
    "import var\n",
    "from keras.utils import to_categorical\n",
    "\n",
    "\n",
    "\n",
    "def auto_canny(image, sigma=0.33):\n",
    "    # compute the median of the single channel pixel intensities\n",
    "    v = np.median(image)\n",
    "    # apply automatic Canny edge detection using the computed median\n",
    "    lower = int(max(0, (1.0 - sigma) * v))\n",
    "    upper = int(min(255, (1.0 + sigma) * v))\n",
    "    edged = cv2.Canny(image, lower, upper)\n",
    "    \n",
    "    # return the edged image\n",
    "    return edged\n",
    "\n",
    "\n",
    "def get_image_value(path, dim, edge = False, img_type = 'normal'): \n",
    "    if edge == False: \n",
    "        img = cv2.imread('../TestImages/AR.jpg')\n",
    "        blurred = cv2.GaussianBlur(img, (3,3), 0)\n",
    "        wide = cv2.Canny(blurred, 10,200)\n",
    "        tight = cv2.Canny(blurred, 225, 250)\n",
    "        auto = auto_canny(blurred)\n",
    "        wide = cv2.resize(wide, dim, interpolation = cv2.INTER_CUBIC)\n",
    "        tight = cv2.resize(tight, dim, interpolation = cv2.INTER_CUBIC)\n",
    "        auto = cv2.resize(auto, dim, interpolation = cv2.INTER_CUBIC)\n",
    "        return tight\n",
    "    else: \n",
    "        img = image.load_img(path, target_size = dim)\n",
    "        img = image.img_to_array(img)\n",
    "        if img_type =='grey':\n",
    "            img = cv2.cvtColor(img, cv2.COLOR_BGR2GRAY)\n",
    "            img = img.reshape(img.shape[0], img.shape[1], 1)\n",
    "            return img\n",
    "        else: \n",
    "            return img/255\n",
    "\n",
    "\n",
    "def get_img_array(img_paths, dim, img_type, edge): \n",
    "    from tqdm import tqdm\n",
    "    final_array = []\n",
    "    for path in tqdm(img_paths): \n",
    "        img = get_image_value(path, dim, img_type, edge)\n",
    "        final_array.append(img)\n",
    "    final_array = np.array(final_array)\n",
    "    if edge:\n",
    "        return final_array.reshape(final_array.shape[0], dim[0], dim[1], 1)\n",
    "    else: \n",
    "        return final_array\n",
    "\n",
    "def get_pickles(nn_type, edge = False):\n",
    "    \n",
    "    if nn_type == 'normal': \n",
    "        DIM =  var.norm_dimension \n",
    "    elif nn_type == 'mobilenet': \n",
    "        DIM = var.mobilenet_dimension\n",
    "    \n",
    "    elif nn_type == 'inceptionnet': \n",
    "        DIM = var.inception_dimension\n",
    "        \n",
    "    elif nn_type == 'vgg16': \n",
    "        DIM = var.vgg_dimension\n",
    "        \n",
    "    \n",
    "    pistol_paths = [f'../Separated/FinalImages/Pistol/{i}' for i in os.listdir('../Separated/FinalImages/Pistol')] \n",
    "\n",
    "\n",
    "    pistol_labels = [1 for i in range(len(pistol_paths))]\n",
    "\n",
    "    rifle_paths = [f'../Separated/FinalImages/Rifle/{i}' for i in os.listdir('../Separated/FinalImages/Rifle')] \n",
    "    rifle_labels = [2 for i in range(len(rifle_paths))]\n",
    "\n",
    "    negative = [f'../Separated/FinalImages/NoWeapon/{i}' for i in os.listdir('../Separated/FinalImages/NoWeapon')][:len(pistol_paths)]\n",
    "    neg_labels = [0 for i in range(len(negative))]\n",
    "\n",
    "\n",
    "    paths = pistol_paths + rifle_paths + negative\n",
    "    labels = pistol_labels + rifle_labels + neg_labels\n",
    "\n",
    "\n",
    "    x_train, x_test, y_train, y_test = train_test_split(paths, labels, stratify = labels, train_size = .90)\n",
    "\n",
    "        \n",
    "    new_x_train = get_img_array(x_train, DIM, img_type = var.img_type, edge = edge)\n",
    "    new_x_test = get_img_array(x_test, DIM, img_type = var.img_type, edge = edge)\n",
    "    \n",
    "    print(pd.Series(y_train + y_test).value_counts())\n",
    "    y_train = np.array(y_train)\n",
    "    y_test = np.array(y_test)\n",
    "    \n",
    "    \n",
    "    if edge:\n",
    "        pickle.dump(new_x_train, open(f'../Pickles/edge_{nn_type}_x_train.p', 'wb'), protocol=4)\n",
    "        pickle.dump(y_train, open(f'../Pickles/edge_{nn_type}_y_train.p', 'wb'), protocol=4)\n",
    "        pickle.dump(new_x_test, open(f'../Pickles/edge_{nn_type}_x_test.p', 'wb'), protocol=4)\n",
    "        pickle.dump(y_test, open(f'../Pickles/edge_{nn_type}_y_test.p', 'wb'), protocol=4)\n",
    "    else:\n",
    "        pickle.dump(new_x_train, open(f'../Pickles/{nn_type}_x_train.p', 'wb'), protocol=4)\n",
    "        pickle.dump(y_train, open(f'../Pickles/{nn_type}_y_train.p', 'wb'), protocol=4)\n",
    "        pickle.dump(new_x_test, open(f'../Pickles/{nn_type}_x_test.p', 'wb'), protocol=4)\n",
    "        pickle.dump(y_test, open(f'../Pickles/{nn_type}_y_test.p', 'wb'), protocol=4)\n",
    "        \n",
    "    \n",
    "    \n",
    "    \n",
    "def get_samples(nn_type, edge = False): \n",
    "    if edge: \n",
    "        \n",
    "        x_train = pickle.load(open(f'../Pickles/edge_{nn_type}_x_train.p', 'rb'))\n",
    "        x_test = pickle.load(open(f'../Pickles/edge_{nn_type}_x_test.p', 'rb'))\n",
    "        y_train = pickle.load(open(f'../Pickles/edge_{nn_type}_y_train.p', 'rb'))\n",
    "        y_test = pickle.load(open(f'../Pickles/edge_{nn_type}_y_test.p', 'rb'))\n",
    "    else: \n",
    "        x_train = pickle.load(open(f'../Pickles/{nn_type}_x_train.p', 'rb'))\n",
    "        x_test = pickle.load(open(f'../Pickles/{nn_type}_x_test.p', 'rb'))\n",
    "        y_train = pickle.load(open(f'../Pickles/{nn_type}_y_train.p', 'rb'))\n",
    "        y_test = pickle.load(open(f'../Pickles/{nn_type}_y_test.p', 'rb'))\n",
    "    \n",
    "    y_test = to_categorical(y_test)\n",
    "    y_train = to_categorical(y_train)\n",
    "\n",
    "    return x_train, x_test, y_train, y_test\n",
    "\n",
    "\n",
    "\n"
   ]
  },
  {
   "cell_type": "code",
   "execution_count": 17,
   "metadata": {},
   "outputs": [
    {
     "name": "stderr",
     "output_type": "stream",
     "text": [
      "100%|███████████████████████████████████████████████████████████████████████████████████████████████████████████████████████████████████████████████| 6512/6512 [00:05<00:00, 1162.60it/s]\n",
      "100%|███████████████████████████████████████████████████████████████████████████████████████████████████████████████████████████████████████████████████| 724/724 [00:08<00:00, 90.05it/s]\n"
     ]
    },
    {
     "name": "stdout",
     "output_type": "stream",
     "text": [
      "1    2933\n",
      "0    2933\n",
      "2    1370\n",
      "dtype: int64\n"
     ]
    }
   ],
   "source": [
    "\n",
    "\n",
    "\n",
    "\n",
    "get_pickles('mobilenet')"
   ]
  },
  {
   "cell_type": "code",
   "execution_count": 18,
   "metadata": {},
   "outputs": [
    {
     "name": "stdout",
     "output_type": "stream",
     "text": [
      "(6512, 224, 224, 3) (724, 224, 224, 3)\n",
      "(6512, 3) (724, 3)\n"
     ]
    }
   ],
   "source": [
    "x_train, x_test, y_train, y_test = get_samples('mobilenet')\n",
    "print(x_train.shape, x_test.shape) \n",
    "print(y_train.shape, y_test.shape)"
   ]
  },
  {
   "cell_type": "code",
   "execution_count": null,
   "metadata": {},
   "outputs": [],
   "source": [
    "def get_image_value(path, dim, edge = False, img_type = 'normal'): \n",
    "    if edge: \n",
    "        img = cv2.imread('../TestImages/AR.jpg')\n",
    "        blurred = cv2.GaussianBlur(img, (3,3), 0)\n",
    "        wide = cv2.Canny(blurred, 10,200)\n",
    "        tight = cv2.Canny(blurred, 225, 250)\n",
    "        auto = auto_canny(blurred)\n",
    "        wide = cv2.resize(wide, dim, interpolation = cv2.INTER_CUBIC)\n",
    "        tight = cv2.resize(tight, dim, interpolation = cv2.INTER_CUBIC)\n",
    "        auto = cv2.resize(auto, dim, interpolation = cv2.INTER_CUBIC)\n",
    "        return tight\n",
    "    else: \n",
    "        img = image.load_img(path, target_size = dim)\n",
    "        img = image.img_to_array(img)\n",
    "        \n",
    "        if img_type =='grey':\n",
    "            img = cv2.cvtColor(img, cv2.COLOR_BGR2GRAY)\n",
    "            img = img.reshape(img.shape[0], img.shape[1], 1)\n",
    "            return img\n",
    "        else: \n",
    "            return img/255\n",
    "\n",
    "test = get_image_value('../TestImages/AR.jpg', var.mobilenet_dimension, img_type = 'mobilenet')\n",
    "test.shape"
   ]
  },
  {
   "cell_type": "code",
   "execution_count": null,
   "metadata": {},
   "outputs": [],
   "source": [
    "# get_pickles('inceptionnet')"
   ]
  },
  {
   "cell_type": "code",
   "execution_count": null,
   "metadata": {},
   "outputs": [],
   "source": [
    "get_pickles('vgg16')"
   ]
  },
  {
   "cell_type": "code",
   "execution_count": null,
   "metadata": {},
   "outputs": [],
   "source": []
  }
 ],
 "metadata": {
  "kernelspec": {
   "display_name": "Python 3",
   "language": "python",
   "name": "python3"
  },
  "language_info": {
   "codemirror_mode": {
    "name": "ipython",
    "version": 3
   },
   "file_extension": ".py",
   "mimetype": "text/x-python",
   "name": "python",
   "nbconvert_exporter": "python",
   "pygments_lexer": "ipython3",
   "version": "3.7.4"
  }
 },
 "nbformat": 4,
 "nbformat_minor": 2
}
