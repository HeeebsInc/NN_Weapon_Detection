{
 "cells": [
  {
   "cell_type": "code",
   "execution_count": 1,
   "metadata": {},
   "outputs": [
    {
     "name": "stderr",
     "output_type": "stream",
     "text": [
      "Using plaidml.keras.backend backend.\n"
     ]
    }
   ],
   "source": [
    "import pickle \n",
    "import pandas as pd \n",
    "import os\n",
    "import numpy as np \n",
    "import cv2\n",
    "from keras.preprocessing import image \n",
    "from sklearn.model_selection import train_test_split\n",
    "import matplotlib.pyplot as plt\n",
    "from tqdm import tqdm"
   ]
  },
  {
   "cell_type": "code",
   "execution_count": 2,
   "metadata": {},
   "outputs": [],
   "source": [
    "def get_image_value(path): \n",
    "    img = image.load_img(path, target_size = (224,224,3))\n",
    "    img = image.img_to_array(img)\n",
    "    return img/255"
   ]
  },
  {
   "cell_type": "code",
   "execution_count": 3,
   "metadata": {},
   "outputs": [],
   "source": [
    "#negatives \n",
    "df = pd.DataFrame(columns = ['path', 'label'])\n",
    "negative = [f'../FinalImages/Negative/{i}' for i in os.listdir('../FinalImages/Negative')]\n",
    "neg_labels = [0 for i in range(len(negative))]\n",
    "positive = [f'../FinalImages/Positive/{i}' for i in os.listdir('../FinalImages/Positive')]\n",
    "pos_labels = [1 for i in range(len(positive))]\n",
    "concat_path = negative[:len(positive)+ len(positive)] + positive\n",
    "concat_labels = neg_labels[:len(positive)+ len(positive)] + pos_labels\n",
    "\n",
    "\n",
    "df.path = concat_path \n",
    "df.label = concat_labels \n",
    "\n",
    "X = df\n",
    "y = df[['label']]"
   ]
  },
  {
   "cell_type": "code",
   "execution_count": 4,
   "metadata": {},
   "outputs": [
    {
     "name": "stdout",
     "output_type": "stream",
     "text": [
      "0    144\n",
      "1     72\n",
      "Name: label, dtype: int64\n"
     ]
    }
   ],
   "source": [
    "df.head(2)\n",
    "print(df.label.value_counts())"
   ]
  },
  {
   "cell_type": "code",
   "execution_count": 5,
   "metadata": {},
   "outputs": [
    {
     "name": "stderr",
     "output_type": "stream",
     "text": [
      "C:\\Users\\Heeeb\\Anaconda3\\lib\\site-packages\\pandas\\core\\frame.py:3940: SettingWithCopyWarning: \n",
      "A value is trying to be set on a copy of a slice from a DataFrame\n",
      "\n",
      "See the caveats in the documentation: http://pandas.pydata.org/pandas-docs/stable/indexing.html#indexing-view-versus-copy\n",
      "  errors=errors)\n"
     ]
    }
   ],
   "source": [
    "x_train, x_test, y_train, y_test = train_test_split(X, y, stratify = X.label, train_size = .8)\n",
    "\n",
    "x_train.drop('label', axis = 1, inplace = True)\n",
    "x_test.drop('label', axis = 1, inplace = True)"
   ]
  },
  {
   "cell_type": "code",
   "execution_count": 6,
   "metadata": {},
   "outputs": [
    {
     "name": "stderr",
     "output_type": "stream",
     "text": [
      "100%|██████████████████████████████████████████████████████████████████████████████████████████████████████████████████████████████████████████████████| 172/172 [00:00<00:00, 698.61it/s]\n",
      "100%|████████████████████████████████████████████████████████████████████████████████████████████████████████████████████████████████████████████████████| 44/44 [00:00<00:00, 726.64it/s]\n"
     ]
    }
   ],
   "source": [
    "def get_img_array(img_paths): \n",
    "    final_array = []\n",
    "    for path in tqdm(img_paths): \n",
    "        img = get_image_value(path)\n",
    "        final_array.append(img)\n",
    "    return np.array(final_array)\n",
    "new_x_train = get_img_array(x_train.path.values)\n",
    "new_x_test = get_img_array(x_test.path.values)"
   ]
  },
  {
   "cell_type": "code",
   "execution_count": 7,
   "metadata": {},
   "outputs": [
    {
     "data": {
      "text/plain": [
       "pandas.core.frame.DataFrame"
      ]
     },
     "execution_count": 7,
     "metadata": {},
     "output_type": "execute_result"
    }
   ],
   "source": [
    "type(y_test)"
   ]
  },
  {
   "cell_type": "code",
   "execution_count": 8,
   "metadata": {},
   "outputs": [],
   "source": [
    "#save pickles\n",
    "\n",
    "pickle.dump(new_x_train, open('../Pickles/x_train.p', 'wb'))\n",
    "pickle.dump(y_train, open('../Pickles/y_train.p', 'wb'))\n",
    "pickle.dump(new_x_test, open('../Pickles/x_test.p', 'wb'))\n",
    "pickle.dump(y_test, open('../Pickles/y_test.p', 'wb'))"
   ]
  },
  {
   "cell_type": "code",
   "execution_count": null,
   "metadata": {},
   "outputs": [],
   "source": []
  },
  {
   "cell_type": "code",
   "execution_count": null,
   "metadata": {},
   "outputs": [],
   "source": []
  },
  {
   "cell_type": "code",
   "execution_count": null,
   "metadata": {},
   "outputs": [],
   "source": []
  }
 ],
 "metadata": {
  "kernelspec": {
   "display_name": "Python 3",
   "language": "python",
   "name": "python3"
  },
  "language_info": {
   "codemirror_mode": {
    "name": "ipython",
    "version": 3
   },
   "file_extension": ".py",
   "mimetype": "text/x-python",
   "name": "python",
   "nbconvert_exporter": "python",
   "pygments_lexer": "ipython3",
   "version": "3.7.4"
  }
 },
 "nbformat": 4,
 "nbformat_minor": 4
}
