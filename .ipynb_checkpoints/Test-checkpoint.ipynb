{
 "cells": [
  {
   "cell_type": "code",
   "execution_count": 1,
   "metadata": {},
   "outputs": [],
   "source": [
    "import os \n",
    "import pandas as pd\n",
    "import numpy as np \n",
    "import cv2 \n",
    "import argparse\n",
    "import glob\n",
    "import pandas as pd\n",
    "import xml.etree.ElementTree as ET"
   ]
  },
  {
   "cell_type": "code",
   "execution_count": 3,
   "metadata": {},
   "outputs": [],
   "source": [
    "def xml_to_csv(path):\n",
    "    xml_list = []\n",
    "    for xml_file in glob.glob(path + '/*.xml'):\n",
    "        tree = ET.parse(xml_file)\n",
    "        root = tree.getroot()\n",
    "        for member in root.findall('object'):\n",
    "            value = (root.find('filename').text,\n",
    "                     int(root.find('size')[0].text),\n",
    "                     int(root.find('size')[1].text),\n",
    "                     member[0].text,\n",
    "                     int(member[4][0].text),\n",
    "                     int(member[4][1].text),\n",
    "                     int(member[4][2].text),\n",
    "                     int(member[4][3].text)\n",
    "                     )\n",
    "            xml_list.append(value)\n",
    "    column_name = ['filename', 'width', 'height', 'class', 'x1', 'y2', 'x2', 'y1']\n",
    "    xml_df = pd.DataFrame(xml_list, columns=column_name)\n",
    "    return xml_df\n",
    "\n",
    "\n",
    "def main():\n",
    "    for folder in ['train', 'test']:\n",
    "        image_path = os.path.join(os.getcwd(), ('images/' + folder))\n",
    "        xml_df = xml_to_csv(image_path)\n",
    "        xml_df.to_csv(('images/'+folder+'_labels.csv'), index=None)\n",
    "    print('Successfully converted xml to csv.')\n",
    "\n",
    "\n",
    "df = xml_to_csv('../test')\n",
    "\n",
    "x1 = df['x1'].values[0] #xmin\n",
    "y1 = df['y1'].values[0]\n",
    "\n",
    "x2 = df['x2'].values[0]\n",
    "y2 = df['y2'].values[0]\n",
    "w = df['width'].values[0]\n",
    "h = df['height'].values[0]"
   ]
  },
  {
   "cell_type": "code",
   "execution_count": null,
   "metadata": {},
   "outputs": [],
   "source": []
  },
  {
   "cell_type": "code",
   "execution_count": null,
   "metadata": {},
   "outputs": [],
   "source": [
    "img = cv2.imread('../test/Assault_Rifle_3761_92.jpg', cv2.IMREAD_GRAYSCALE)\n",
    "\n",
    "\n",
    "cv2.rectangle(img, (x1,y1), (x2, y2), (0,255, 0), 6)\n",
    "\n",
    "cv2.imshow('img', img)\n",
    "cv2.waitKey(0)  \n",
    "  \n",
    "#closing all open windows \n",
    "cv2.destroyAllWindows()"
   ]
  },
  {
   "cell_type": "code",
   "execution_count": null,
   "metadata": {},
   "outputs": [],
   "source": [
    "print(df)\n",
    "\n",
    "\n",
    "x1 = df['xmin'].values[0] #xmin\n",
    "y1 = df['ymax'].values[0]\n",
    "\n",
    "x2 = df['xmax'].values[0]\n",
    "y2 = df['ymin'].values[0]\n",
    "w = df['width'].values[0]\n",
    "h = df['height'].values[0]\n",
    "\n",
    "cv2.rectangle(np.array(temp, dtype = np.float32), (x1, y1), (x2, y2), (0,255,0), 6)\n",
    "cv2.imshow('img', np.array(temp, dtype = np.uint8)) \n",
    "# cv2.rectangle(img, (xmin, ymax), (xmin + width, ymin + height), (36,255,12), 2)\n",
    "\n",
    "\n",
    "\n"
   ]
  },
  {
   "cell_type": "code",
   "execution_count": null,
   "metadata": {},
   "outputs": [],
   "source": [
    "frame = cv2.imread('../test/Assault_Rifle_3761_92.jpg', cv2.IMREAD_GRAYSCALE)\n",
    "print(frame)\n",
    "string = ' '.join(map(str,frame.flatten().tolist()))\n",
    "#print(string)\n",
    "frameCopy = frame.copy()\n",
    "\n",
    "x = frame.shape[0]\n",
    "y = frame.shape[1]\n",
    "\n",
    "frame = string.strip()\n",
    "temp = [ int(t) for t in frame.split(' ')]\n",
    "temp = np.array(temp)\n",
    "temp = temp.reshape( (x,y) )\n",
    "print(type(temp), type(frame))\n",
    "# print( np.array_equal(frameCopy , temp) )\n",
    "\n",
    "#cv2.imshow('l' , np.array(temp, dtype = np.uint8) )\n",
    "\n",
    "#gives proper image\n",
    "#cv2.imshow('l' , np.array(frameCopy) )\n",
    "\n",
    "#cv2.waitKey()"
   ]
  },
  {
   "cell_type": "code",
   "execution_count": null,
   "metadata": {},
   "outputs": [],
   "source": [
    "# print(df)\n",
    "\n",
    "\n",
    "# xmin = df['xmin'].values[0]\n",
    "# ymin = df['ymin'].values[0]\n",
    "# xmax = df['xmax'].values[0]\n",
    "# ymax = df['ymax'].values[0]\n",
    "# width = df['width'].values[0]\n",
    "# height = df['height'].values[0]\n",
    "\n",
    "img = cv2.imread('../test/Assault_Rifle_3761_92.jpg')\n",
    "cv2.rectangle(img, (xmin, ymax), (xmin + width, ymin + height), (36,255,12), 2)\n",
    "cv2.imshow('img',img)\n",
    "cv2.waitKey(0)   \n",
    "\n"
   ]
  },
  {
   "cell_type": "code",
   "execution_count": null,
   "metadata": {},
   "outputs": [],
   "source": []
  },
  {
   "cell_type": "code",
   "execution_count": null,
   "metadata": {},
   "outputs": [],
   "source": [
    "im = cv2.imread('../test/Assault_Rifle_3761_92.jpg')\n",
    "gray=cv2.cvtColor(im,cv2.COLOR_BGR2GRAY)\n",
    "contours, hierarchy = cv2.findContours(gray,cv2.RETR_LIST,cv2.CHAIN_APPROX_SIMPLE)[-2:]\n",
    "idx =0 \n",
    "for cnt in contours:\n",
    "    idx += 1\n",
    "    x,y,w,h = cv2.boundingRect(cnt)\n",
    "    roi=im[y:y+h,x:x+w]\n",
    "    cv2.imwrite(str(idx) + '.jpg', roi)\n",
    "    #cv2.rectangle(im,(x,y),(x+w,y+h),(200,0,0),2)\n",
    "cv2.imshow('img',im)\n",
    "cv2.waitKey(0)   "
   ]
  },
  {
   "cell_type": "code",
   "execution_count": null,
   "metadata": {},
   "outputs": [],
   "source": [
    "image = cv2.imread('../test/Assault_Rifle_3761_92.jpg')\n",
    "original = image.copy()\n",
    "gray = cv2.cvtColor(image, cv2.COLOR_BGR2GRAY)\n",
    "thresh = cv2.threshold(gray, 0, 255, cv2.THRESH_BINARY_INV + cv2.THRESH_OTSU)[1]\n",
    "\n",
    "# Find contours, obtain bounding box, extract and save ROI\n",
    "ROI_number = 0\n",
    "cnts = cv2.findContours(thresh, cv2.RETR_EXTERNAL, cv2.CHAIN_APPROX_SIMPLE)\n",
    "cnts = cnts[0] if len(cnts) == 2 else cnts[1]\n",
    "for c in cnts:\n",
    "    x,y,w,h = cv2.boundingRect(c)\n",
    "    cv2.rectangle(image, (x, y), (x + w, y + h), (36,255,12), 2)\n",
    "    ROI = original[y:y+h, x:x+w]\n",
    "    cv2.imwrite('../test/ROI_{}.png'.format(ROI_number), ROI)\n",
    "    ROI_number += 1\n",
    "\n",
    "cv2.imshow('image', image)\n",
    "cv2.waitKey()"
   ]
  },
  {
   "cell_type": "code",
   "execution_count": null,
   "metadata": {},
   "outputs": [],
   "source": []
  }
 ],
 "metadata": {
  "kernelspec": {
   "display_name": "Python 3",
   "language": "python",
   "name": "python3"
  },
  "language_info": {
   "codemirror_mode": {
    "name": "ipython",
    "version": 3
   },
   "file_extension": ".py",
   "mimetype": "text/x-python",
   "name": "python",
   "nbconvert_exporter": "python",
   "pygments_lexer": "ipython3",
   "version": "3.7.6"
  }
 },
 "nbformat": 4,
 "nbformat_minor": 4
}
